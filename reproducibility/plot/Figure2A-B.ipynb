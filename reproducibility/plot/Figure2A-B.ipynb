{
 "cells": [
  {
   "cell_type": "code",
   "execution_count": 1,
   "id": "c68bf5df-3c31-472a-9874-6ce9eb1b60ce",
   "metadata": {},
   "outputs": [],
   "source": [
    "import pandas as pd\n",
    "import scanpy as sc\n",
    "import numpy as np\n",
    "import h5py\n",
    "\n",
    "import matplotlib\n",
    "import matplotlib.pyplot as plt\n",
    "matplotlib.use('Agg')\n",
    "from matplotlib.pyplot import plot,savefig\n",
    "from sklearn import metrics\n",
    "\n",
    "import warnings\n",
    "warnings.filterwarnings(\"ignore\")\n",
    "from read_count import read_data"
   ]
  },
  {
   "cell_type": "markdown",
   "id": "c7071c18-53a7-4a69-8968-bb9ae9f2325d",
   "metadata": {},
   "source": [
    "# Prepare"
   ]
  },
  {
   "cell_type": "code",
   "execution_count": 2,
   "id": "11079d8b-d2f2-45b6-859b-eb0d6708b515",
   "metadata": {},
   "outputs": [],
   "source": [
    "def plot_cluster(df, method_name, y_true, by, n, ax):\n",
    "    \n",
    "    \"\"\"\n",
    "        by: 'pred' or 'true'. If by == 'pred', colored by cluster labels, else colored by true cell types.\n",
    "        n: n-th method in [scScope, scDeepCluster, DESC, graph-sc, SCCAF, ADClust, scAce]\n",
    "    \"\"\"\n",
    "    \n",
    "    if method_name in ['Seurat', 'CIDR']:\n",
    "        y_pred = np.array(df['cluster'])\n",
    "        tsne_1 = np.array(df['tSNE_1']).reshape(len(y_pred), 1)\n",
    "        tsne_2 = np.array(df['tSNE_2']).reshape(len(y_pred), 1)\n",
    "        tsne = np.concatenate((tsne_1, tsne_2), axis=1)\n",
    "    \n",
    "    elif method_name == 'scAce':\n",
    "        tsne = tsne_all[n]\n",
    "        y_pred = df['Clusters'][-1][-1]\n",
    "        \n",
    "    else:\n",
    "        tsne = tsne_all[n]\n",
    "        y_pred = df['Clusters']\n",
    "    \n",
    "    K = len(np.unique(y_pred))\n",
    "    \n",
    "    y_pred = np.asarray(y_pred, dtype='int').squeeze()\n",
    "    ari = np.round(metrics.adjusted_rand_score(y_pred, y_true), 2)\n",
    "    nmi = np.round(metrics.normalized_mutual_info_score(y_pred, y_true), 2)\n",
    "    print('Method: {}, ARI={}, NMI={}, k={}'.format(method_name, ari, nmi, K))\n",
    "        \n",
    "    adata = sc.AnnData(pd.DataFrame(np.random.rand(len(y_pred), 1)))\n",
    "    adata.obs['pred'] = y_pred\n",
    "    adata.obs['pred'] = adata.obs['pred'].astype(str).astype('category')\n",
    "    adata.obs['true'] = y_true\n",
    "    adata.obs['true'] = adata.obs['true'].astype(str).astype('category')\n",
    "\n",
    "    adata.obsm['X_tsne'] = tsne\n",
    "\n",
    "    if by == 'pred':\n",
    "        sc.pl.tsne(adata, color=['pred'], ax=ax, show=False, legend_loc='None', size=20)\n",
    "        ax.set_title('K={} ARI={}'.format(K, ari), fontsize=15, family='Arial')\n",
    "        ax.spines['right'].set_visible(False)\n",
    "        ax.spines['top'].set_visible(False)\n",
    "        \n",
    "    else:\n",
    "        sc.pl.tsne(adata, color=['true'], ax=ax, show=False, legend_loc='None', size=20, palette=col)\n",
    "#         ax.set_title(method_name, fontsize=15, family='Arial')\n",
    "        ax.spines['right'].set_visible(False)\n",
    "        ax.spines['top'].set_visible(False)\n",
    "        ax.set_xticks([])"
   ]
  },
  {
   "cell_type": "code",
   "execution_count": 3,
   "id": "c71dd6fa-1cd7-4366-b9a8-9fc6f16b25c7",
   "metadata": {},
   "outputs": [],
   "source": [
    "fig = plt.figure(figsize=(10, 8))\n",
    "sub_figs = fig.subfigures(3, 1)\n",
    "axs = []\n",
    "\n",
    "for i, sub_fig in enumerate(sub_figs):\n",
    "    axs.append(sub_fig.subplots(1, 3))\n",
    "    \n",
    "axs = np.array(axs)"
   ]
  },
  {
   "cell_type": "code",
   "execution_count": 5,
   "id": "5c01bc54-be7a-467b-babd-e59452893010",
   "metadata": {},
   "outputs": [],
   "source": [
    "seurat = pd.read_csv('results/default/Sim/Seurat_wo_sample.csv', header=0, index_col=0)\n",
    "cidr = pd.read_csv('results/default/Sim/CIDR_wo_sample.csv', header=0, index_col=0)\n",
    "scscope = np.load('results/default/Sim/scScope_wo_sample.npz')\n",
    "scd = np.load('results/default/Sim/scDeepCluster_wo_sample.npz')\n",
    "desc = np.load('results/default/Sim/DESC_wo_sample.npz')\n",
    "graphsc = np.load('results/default/Sim/graphsc_wo_sample.npz')\n",
    "sccaf = np.load('results/default/Sim/SCCAF_wo_sample.npz')\n",
    "adclust = np.load('results/default/Sim/ADClust_wo_sample.npz')\n",
    "scace = np.load('results/default/Sim/scAce_wo_sample.npz')"
   ]
  },
  {
   "cell_type": "markdown",
   "id": "874ec03b-2e80-4ea9-b167-52bf7a2f0de8",
   "metadata": {},
   "source": [
    "# Calculate t-SNE"
   ]
  },
  {
   "cell_type": "code",
   "execution_count": 6,
   "id": "3f3326fb-856d-42a0-875c-4e3ed0f8fbe6",
   "metadata": {},
   "outputs": [],
   "source": [
    "methods = [scscope, scd, desc, graphsc, sccaf, adclust, scace]"
   ]
  },
  {
   "cell_type": "code",
   "execution_count": 7,
   "id": "20876cd0-7765-4a19-9a01-ce138549f489",
   "metadata": {},
   "outputs": [],
   "source": [
    "embedding = []\n",
    "for i, method in enumerate(methods):\n",
    "    \n",
    "    if i == len(methods) - 1:\n",
    "        embedding.append(method['Embedding'][-1])\n",
    "    else:\n",
    "        embedding.append(method['Embedding'])"
   ]
  },
  {
   "cell_type": "code",
   "execution_count": 8,
   "id": "328c9ee0-bace-464a-8db1-7098abee81a4",
   "metadata": {},
   "outputs": [
    {
     "name": "stdout",
     "output_type": "stream",
     "text": [
      "WARNING: You’re trying to run this on 100 dimensions of `.X`, if you really want this, set `use_rep='X'`.\n",
      "         Falling back to preprocessing with `sc.pp.pca` and default params.\n",
      "WARNING: You’re trying to run this on 64 dimensions of `.X`, if you really want this, set `use_rep='X'`.\n",
      "         Falling back to preprocessing with `sc.pp.pca` and default params.\n",
      "WARNING: You’re trying to run this on 300 dimensions of `.X`, if you really want this, set `use_rep='X'`.\n",
      "         Falling back to preprocessing with `sc.pp.pca` and default params.\n",
      "WARNING: You’re trying to run this on 12305 dimensions of `.X`, if you really want this, set `use_rep='X'`.\n",
      "         Falling back to preprocessing with `sc.pp.pca` and default params.\n"
     ]
    }
   ],
   "source": [
    "tsne_all = []\n",
    "for i in range(len(embedding)):\n",
    "    adata = sc.AnnData(embedding[i])\n",
    "    sc.tl.tsne(adata, random_state=0)\n",
    "    tsne_all.append(np.array(adata.obsm['X_tsne']))"
   ]
  },
  {
   "cell_type": "markdown",
   "id": "6741d411-d730-4e8a-acc8-891b9f4250cc",
   "metadata": {},
   "source": [
    "# Plot"
   ]
  },
  {
   "cell_type": "code",
   "execution_count": 9,
   "id": "d3b0f697-abc1-46f9-8c04-9211ab856874",
   "metadata": {},
   "outputs": [],
   "source": [
    "data_mat = h5py.File('dataset/Sim.h5')\n",
    "y_true = np.array(data_mat['Y'], dtype='int')\n",
    "data_mat.close()"
   ]
  },
  {
   "cell_type": "code",
   "execution_count": 10,
   "id": "4fd3b6cb-b5e6-40be-8331-1bfe3b27a25e",
   "metadata": {},
   "outputs": [
    {
     "name": "stdout",
     "output_type": "stream",
     "text": [
      "Method: scScope, ARI=0.27, NMI=0.49, k=8\n",
      "Method: scDeepCluster, ARI=0.67, NMI=0.82, k=5\n",
      "Method: SCCAF, ARI=0.67, NMI=0.88, k=6\n",
      "Method: Seurat, ARI=0.75, NMI=0.89, k=6\n",
      "Method: ADClust, ARI=0.77, NMI=0.8, k=3\n",
      "Method: CIDR, ARI=0.78, NMI=0.84, k=3\n",
      "Method: graph-sc, ARI=0.93, NMI=0.93, k=5\n",
      "Method: DESC, ARI=0.98, NMI=0.96, k=5\n",
      "Method: scAce, ARI=1.0, NMI=1.0, k=5\n"
     ]
    }
   ],
   "source": [
    "plot_cluster(scscope, 'scScope', y_true, 'pred', 0, axs[0][0])\n",
    "plot_cluster(scd, 'scDeepCluster', y_true, 'pred', 1, axs[0][1])\n",
    "plot_cluster(sccaf, 'SCCAF', y_true, 'pred', 4, axs[0][2])\n",
    "plot_cluster(seurat, 'Seurat', y_true, 'pred', None, axs[1][0])\n",
    "plot_cluster(adclust, 'ADClust', y_true, 'pred', 5, axs[1][1])\n",
    "plot_cluster(cidr, 'CIDR', y_true, 'pred', None, axs[1][2])\n",
    "plot_cluster(graphsc, 'graph-sc', y_true, 'pred', 3, axs[2][0])\n",
    "plot_cluster(desc, 'DESC', y_true, 'pred', 2, axs[2][1])\n",
    "plot_cluster(scace, 'scAce', y_true, 'pred', 6, axs[2][2])"
   ]
  },
  {
   "cell_type": "code",
   "execution_count": 11,
   "id": "f2541837-062a-4a86-8d0a-9bca53c587c6",
   "metadata": {},
   "outputs": [
    {
     "data": {
      "text/plain": [
       "<Figure size 1000x800 with 9 Axes>"
      ]
     },
     "execution_count": 11,
     "metadata": {},
     "output_type": "execute_result"
    }
   ],
   "source": [
    "fig"
   ]
  },
  {
   "cell_type": "code",
   "execution_count": 12,
   "id": "3b004c4e-4c42-4b6c-9a2d-e762032c9b35",
   "metadata": {},
   "outputs": [],
   "source": [
    "plt.savefig('Figures/Figure2A.svg', dpi=300, format='svg', bbox_inches='tight')"
   ]
  },
  {
   "cell_type": "code",
   "execution_count": 13,
   "id": "2532b1ed-6306-4894-9fc0-3e61903fd8e4",
   "metadata": {},
   "outputs": [],
   "source": [
    "fig = plt.figure(figsize=(10, 8))\n",
    "sub_figs = fig.subfigures(3, 1)\n",
    "axs = []\n",
    "\n",
    "for i, sub_fig in enumerate(sub_figs):  \n",
    "    axs.append(sub_fig.subplots(1, 3))\n",
    "    \n",
    "axs = np.array(axs)"
   ]
  },
  {
   "cell_type": "code",
   "execution_count": 14,
   "id": "baf13716-6c59-4bfb-8533-18fd3bb05d51",
   "metadata": {},
   "outputs": [],
   "source": [
    "col = [\"#E64B35CC\", \"#0072B5CC\", \"#00A087CC\", \"#3C5488CC\", \"#F39B7FCC\"]"
   ]
  },
  {
   "cell_type": "code",
   "execution_count": 15,
   "id": "ddb90a1f-b998-4512-8f76-391dbef8848c",
   "metadata": {},
   "outputs": [
    {
     "name": "stdout",
     "output_type": "stream",
     "text": [
      "Method: scScope, ARI=0.27, NMI=0.49, k=8\n",
      "Method: scDeepCluster, ARI=0.67, NMI=0.82, k=5\n",
      "Method: SCCAF, ARI=0.67, NMI=0.88, k=6\n",
      "Method: Seurat, ARI=0.75, NMI=0.89, k=6\n",
      "Method: ADClust, ARI=0.77, NMI=0.8, k=3\n",
      "Method: CIDR, ARI=0.78, NMI=0.84, k=3\n",
      "Method: graph-sc, ARI=0.93, NMI=0.93, k=5\n",
      "Method: DESC, ARI=0.98, NMI=0.96, k=5\n",
      "Method: scAce, ARI=1.0, NMI=1.0, k=5\n"
     ]
    }
   ],
   "source": [
    "plot_cluster(scscope, 'scScope', y_true, 'true', 0, axs[0][0])\n",
    "plot_cluster(scd, 'scDeepCluster', y_true, 'true', 1, axs[0][1])\n",
    "plot_cluster(sccaf, 'SCCAF', y_true, 'true', 4, axs[0][2])\n",
    "plot_cluster(seurat, 'Seurat', y_true, 'true', None, axs[1][0])\n",
    "plot_cluster(adclust, 'ADClust', y_true, 'true', 5, axs[1][1])\n",
    "plot_cluster(cidr, 'CIDR', y_true, 'true', None, axs[1][2])\n",
    "plot_cluster(graphsc, 'graph-sc', y_true, 'true', 3, axs[2][0])\n",
    "plot_cluster(desc, 'DESC', y_true, 'true', 2, axs[2][1])\n",
    "plot_cluster(scace, 'scAce', y_true, 'true', 6, axs[2][2])"
   ]
  },
  {
   "cell_type": "code",
   "execution_count": 16,
   "id": "775a339a-b4e4-4927-84b9-586388e3d8e5",
   "metadata": {},
   "outputs": [
    {
     "data": {
      "text/plain": [
       "<Figure size 1000x800 with 9 Axes>"
      ]
     },
     "execution_count": 16,
     "metadata": {},
     "output_type": "execute_result"
    }
   ],
   "source": [
    "fig"
   ]
  },
  {
   "cell_type": "code",
   "execution_count": 17,
   "id": "fda0ae23-22d4-48c1-b0d0-09f1200fb0f7",
   "metadata": {},
   "outputs": [],
   "source": [
    "plt.savefig('Figures/Figure2B.svg', dpi=300, format='svg', bbox_inches='tight')"
   ]
  },
  {
   "cell_type": "code",
   "execution_count": null,
   "id": "1db80495-5233-4ee4-8d59-dd108bbdfa4b",
   "metadata": {},
   "outputs": [],
   "source": []
  }
 ],
 "metadata": {
  "kernelspec": {
   "display_name": "Python 3",
   "language": "python",
   "name": "python3"
  },
  "language_info": {
   "codemirror_mode": {
    "name": "ipython",
    "version": 3
   },
   "file_extension": ".py",
   "mimetype": "text/x-python",
   "name": "python",
   "nbconvert_exporter": "python",
   "pygments_lexer": "ipython3",
   "version": "3.8.8"
  }
 },
 "nbformat": 4,
 "nbformat_minor": 5
}
