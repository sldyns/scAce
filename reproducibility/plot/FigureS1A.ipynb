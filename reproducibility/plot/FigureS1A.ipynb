{
 "cells": [
  {
   "cell_type": "code",
   "execution_count": 1,
   "id": "f9752d09-9c5b-49ab-95be-62f06c7a6774",
   "metadata": {},
   "outputs": [],
   "source": [
    "import pandas as pd\n",
    "import scanpy as sc\n",
    "import numpy as np\n",
    "import h5py\n",
    "\n",
    "import matplotlib\n",
    "import matplotlib.pyplot as plt\n",
    "matplotlib.use('Agg')\n",
    "from matplotlib.pyplot import plot,savefig\n",
    "from sklearn import metrics\n",
    "\n",
    "import warnings\n",
    "warnings.filterwarnings(\"ignore\")\n",
    "from read_count import read_data\n",
    "\n",
    "import seaborn as sns"
   ]
  },
  {
   "cell_type": "code",
   "execution_count": 2,
   "id": "b776aef0-7410-49e4-8a6c-ea4d943f0d65",
   "metadata": {},
   "outputs": [],
   "source": [
    "def plot_cluster(df, method_name, n, y_true, ax):\n",
    "    \n",
    "    \"\"\"\n",
    "        n: n-th method in [scScope, scDeepCluster, DESC, graph-sc, SCCAF, ADClust, scAce]\n",
    "    \"\"\"\n",
    "    \n",
    "    if method_name in ['Seurat', 'CIDR']:  \n",
    "        y_pred = np.array(df['cluster'])\n",
    "        tsne_1 = np.array(df['tSNE_1']).reshape(len(y_pred), 1)\n",
    "        tsne_2 = np.array(df['tSNE_2']).reshape(len(y_pred), 1)\n",
    "        tsne = np.concatenate((tsne_1, tsne_2), axis=1)\n",
    "    \n",
    "    elif method_name == 'scAce':\n",
    "        tsne = tsne_all[n]\n",
    "        y_pred = df['Clusters'][-1][-1]\n",
    "        \n",
    "    elif method_name in ['SCCAF', 'ADClust']:\n",
    "        tsne = tsne_all[n]\n",
    "        y_pred = df['Clusters'][-1]\n",
    "        \n",
    "    else:\n",
    "        tsne = tsne_all[n]\n",
    "        y_pred = df['Clusters']\n",
    "    \n",
    "    \n",
    "    y_pred = np.asarray(y_pred, dtype='int').squeeze()\n",
    "    ari = np.round(metrics.adjusted_rand_score(y_pred, y_true), 2)\n",
    "    nmi = np.round(metrics.normalized_mutual_info_score(y_pred, y_true), 2)\n",
    "    print('Method: {}, ARI={}, NMI={}'.format(method_name, ari, nmi))\n",
    "    \n",
    "        \n",
    "    adata = sc.AnnData(pd.DataFrame(np.random.rand(len(y_pred), 1)))\n",
    "    adata.obs['pred'] = y_pred\n",
    "    adata.obs['pred'] = adata.obs['pred'].astype(str).astype('category')\n",
    "\n",
    "    adata.obsm['X_tsne'] = tsne\n",
    "    \n",
    "    K = len(np.unique(y_pred))\n",
    "\n",
    "    sc.pl.tsne(adata, color=['pred'], ax=ax, show=False, legend_loc='None', size=20)\n",
    "    ax.set_title('K={}, ARI={}'.format(K, ari), fontsize=15, family='Arial')\n",
    "    ax.spines['right'].set_visible(False)\n",
    "    ax.spines['top'].set_visible(False)"
   ]
  },
  {
   "cell_type": "code",
   "execution_count": 3,
   "id": "96a0059d-658f-4f77-84b5-aefd423bd2aa",
   "metadata": {},
   "outputs": [],
   "source": [
    "fig = plt.figure(figsize=(25, 13))\n",
    "sub_figs = fig.subfigures(6, 1)\n",
    "axs = []\n",
    "\n",
    "for i, sub_fig in enumerate(sub_figs):    \n",
    "    axs.append(sub_fig.subplots(1, 9))\n",
    "    \n",
    "axs = np.array(axs)"
   ]
  },
  {
   "cell_type": "markdown",
   "id": "f387ad56-8b1b-4123-baf3-6abed50fbf92",
   "metadata": {},
   "source": [
    "## Human1"
   ]
  },
  {
   "cell_type": "code",
   "execution_count": 4,
   "id": "90c77f93-aa02-44fb-9153-eb1988e5d41b",
   "metadata": {},
   "outputs": [],
   "source": [
    "data_mat = h5py.File('dataset/Human1.h5')\n",
    "y_true = np.array(data_mat['Y'], dtype='int')\n",
    "data_mat.close()"
   ]
  },
  {
   "cell_type": "code",
   "execution_count": 5,
   "id": "49a7725f-ed2a-4943-8f65-4e162cdd605c",
   "metadata": {},
   "outputs": [],
   "source": [
    "seurat = pd.read_csv('results/default/Human1/Seurat_wo_sample.csv', header=0, index_col=0)\n",
    "cidr = pd.read_csv('results/default/Human1/CIDR_wo_sample.csv', header=0, index_col=0)\n",
    "scscope = np.load('results/default/Human1/scScope_wo_sample.npz')\n",
    "scd = np.load('results/default/Human1/scDeepCluster_wo_sample.npz')\n",
    "desc = np.load('results/default/Human1/DESC_wo_sample.npz')\n",
    "graphsc = np.load('results/default/Human1/graphsc_wo_sample.npz')\n",
    "sccaf = np.load('results/default/Human1/SCCAF_wo_sample.npz')\n",
    "adclust = np.load('results/default/Human1/ADClust_wo_sample.npz')\n",
    "scace = np.load('results/default/Human1/scAce_wo_sample.npz')"
   ]
  },
  {
   "cell_type": "code",
   "execution_count": 6,
   "id": "30e2c022-f75c-4eff-a85a-09cc581f6016",
   "metadata": {},
   "outputs": [
    {
     "name": "stdout",
     "output_type": "stream",
     "text": [
      "WARNING: You’re trying to run this on 100 dimensions of `.X`, if you really want this, set `use_rep='X'`.\n",
      "         Falling back to preprocessing with `sc.pp.pca` and default params.\n",
      "WARNING: You’re trying to run this on 64 dimensions of `.X`, if you really want this, set `use_rep='X'`.\n",
      "         Falling back to preprocessing with `sc.pp.pca` and default params.\n",
      "WARNING: You’re trying to run this on 300 dimensions of `.X`, if you really want this, set `use_rep='X'`.\n",
      "         Falling back to preprocessing with `sc.pp.pca` and default params.\n",
      "WARNING: You’re trying to run this on 14884 dimensions of `.X`, if you really want this, set `use_rep='X'`.\n",
      "         Falling back to preprocessing with `sc.pp.pca` and default params.\n"
     ]
    }
   ],
   "source": [
    "methods = [scscope, scd, desc, graphsc, sccaf, adclust, scace]\n",
    "embedding = []\n",
    "for i, method in enumerate(methods):\n",
    "    \n",
    "    if i == len(methods) - 2 or i == len(methods) - 1:\n",
    "        embedding.append(method['Embedding'][-1])\n",
    "    else:\n",
    "        embedding.append(method['Embedding'])\n",
    "        \n",
    "tsne_all = []\n",
    "for i in range(len(embedding)):\n",
    "    adata = sc.AnnData(embedding[i])\n",
    "    sc.tl.tsne(adata, random_state=0)\n",
    "    tsne_all.append(np.array(adata.obsm['X_tsne']))"
   ]
  },
  {
   "cell_type": "code",
   "execution_count": 7,
   "id": "4ae72e85-17b3-4b6b-95ec-56cd0310d611",
   "metadata": {},
   "outputs": [
    {
     "name": "stdout",
     "output_type": "stream",
     "text": [
      "Method: scScope, ARI=0.32, NMI=0.61\n",
      "Method: CIDR, ARI=0.3, NMI=0.44\n",
      "Method: SCCAF, ARI=0.42, NMI=0.73\n",
      "Method: Seurat, ARI=0.62, NMI=0.8\n",
      "Method: scDeepCluster, ARI=0.54, NMI=0.76\n",
      "Method: DESC, ARI=0.94, NMI=0.92\n",
      "Method: ADClust, ARI=0.88, NMI=0.83\n",
      "Method: graph-sc, ARI=0.89, NMI=0.88\n",
      "Method: scAce, ARI=0.88, NMI=0.87\n"
     ]
    }
   ],
   "source": [
    "plot_cluster(scscope, 'scScope', 0, y_true, axs[0][0])\n",
    "plot_cluster(cidr, 'CIDR', None, y_true, axs[0][1])\n",
    "plot_cluster(sccaf, 'SCCAF', 4, y_true, axs[0][2])\n",
    "plot_cluster(seurat, 'Seurat', None, y_true, axs[0][3])\n",
    "plot_cluster(scd, 'scDeepCluster', 1, y_true, axs[0][4])\n",
    "plot_cluster(desc, 'DESC', 2, y_true, axs[0][5])\n",
    "plot_cluster(adclust, 'ADClust', 5, y_true, axs[0][6])\n",
    "plot_cluster(graphsc, 'graph-sc', 3, y_true, axs[0][7])\n",
    "plot_cluster(scace, 'scAce', 6, y_true, axs[0][8])"
   ]
  },
  {
   "cell_type": "code",
   "execution_count": 8,
   "id": "7b1c16de-b5b0-411f-a638-f3dcaf8c1846",
   "metadata": {},
   "outputs": [
    {
     "data": {
      "text/plain": [
       "<Figure size 2500x1300 with 54 Axes>"
      ]
     },
     "execution_count": 8,
     "metadata": {},
     "output_type": "execute_result"
    }
   ],
   "source": [
    "fig"
   ]
  },
  {
   "cell_type": "markdown",
   "id": "5ca5fdf9-4a0c-4ba6-bde9-ed3b050c42a1",
   "metadata": {},
   "source": [
    "## Human2"
   ]
  },
  {
   "cell_type": "code",
   "execution_count": 9,
   "id": "0d0c5742-edc4-4964-8c0f-b744abc7724e",
   "metadata": {},
   "outputs": [],
   "source": [
    "data_mat = h5py.File('dataset/Human2.h5')\n",
    "y_true = np.array(data_mat['Y'], dtype='int')\n",
    "data_mat.close()"
   ]
  },
  {
   "cell_type": "code",
   "execution_count": 10,
   "id": "242fc8ad-f5fd-45d8-8c31-508d8caa04e9",
   "metadata": {},
   "outputs": [],
   "source": [
    "seurat = pd.read_csv('results/default/Human2/Seurat_wo_sample.csv', header=0, index_col=0)\n",
    "cidr = pd.read_csv('results/default/Human2/CIDR_wo_sample.csv', header=0, index_col=0)\n",
    "scscope = np.load('results/default/Human2/scScope_wo_sample.npz')\n",
    "scd = np.load('results/default/Human2/scDeepCluster_wo_sample.npz')\n",
    "desc = np.load('results/default/Human2/DESC_wo_sample.npz')\n",
    "graphsc = np.load('results/default/Human2/graphsc_wo_sample.npz')\n",
    "sccaf = np.load('results/default/Human2/SCCAF_wo_sample.npz')\n",
    "adclust = np.load('results/default/Human2/ADClust_wo_sample.npz')\n",
    "scace = np.load('results/default/Human2/scAce_wo_sample.npz')"
   ]
  },
  {
   "cell_type": "code",
   "execution_count": 11,
   "id": "f0ccaee8-3cd7-4af9-899a-8a6d471acb2e",
   "metadata": {},
   "outputs": [
    {
     "name": "stdout",
     "output_type": "stream",
     "text": [
      "WARNING: You’re trying to run this on 100 dimensions of `.X`, if you really want this, set `use_rep='X'`.\n",
      "         Falling back to preprocessing with `sc.pp.pca` and default params.\n",
      "WARNING: You’re trying to run this on 300 dimensions of `.X`, if you really want this, set `use_rep='X'`.\n",
      "         Falling back to preprocessing with `sc.pp.pca` and default params.\n",
      "WARNING: You’re trying to run this on 15228 dimensions of `.X`, if you really want this, set `use_rep='X'`.\n",
      "         Falling back to preprocessing with `sc.pp.pca` and default params.\n"
     ]
    }
   ],
   "source": [
    "methods = [scscope, scd, desc, graphsc, sccaf, adclust, scace]\n",
    "embedding = []\n",
    "for i, method in enumerate(methods):\n",
    "    \n",
    "    if i == len(methods) - 2 or i == len(methods) - 1:\n",
    "        embedding.append(method['Embedding'][-1])\n",
    "    else:\n",
    "        embedding.append(method['Embedding'])\n",
    "        \n",
    "tsne_all = []\n",
    "for i in range(len(embedding)):\n",
    "    adata = sc.AnnData(embedding[i])\n",
    "    sc.tl.tsne(adata, random_state=0)\n",
    "    tsne_all.append(np.array(adata.obsm['X_tsne']))"
   ]
  },
  {
   "cell_type": "code",
   "execution_count": 12,
   "id": "c19f898e-914c-4699-b4a0-8d0d4f921478",
   "metadata": {},
   "outputs": [
    {
     "name": "stdout",
     "output_type": "stream",
     "text": [
      "Method: scScope, ARI=0.45, NMI=0.7\n",
      "Method: CIDR, ARI=0.56, NMI=0.65\n",
      "Method: SCCAF, ARI=0.54, NMI=0.77\n",
      "Method: Seurat, ARI=0.57, NMI=0.78\n",
      "Method: scDeepCluster, ARI=0.55, NMI=0.77\n",
      "Method: DESC, ARI=0.57, NMI=0.8\n",
      "Method: ADClust, ARI=0.8, NMI=0.78\n",
      "Method: graph-sc, ARI=0.71, NMI=0.82\n",
      "Method: scAce, ARI=0.89, NMI=0.87\n"
     ]
    }
   ],
   "source": [
    "plot_cluster(scscope, 'scScope', 0, y_true, axs[1][0])\n",
    "plot_cluster(cidr, 'CIDR', None, y_true, axs[1][1])\n",
    "plot_cluster(sccaf, 'SCCAF', 4, y_true, axs[1][2])\n",
    "plot_cluster(seurat, 'Seurat', None, y_true, axs[1][3])\n",
    "plot_cluster(scd, 'scDeepCluster', 1, y_true, axs[1][4])\n",
    "plot_cluster(desc, 'DESC', 2, y_true, axs[1][5])\n",
    "plot_cluster(adclust, 'ADClust', 5, y_true, axs[1][6])\n",
    "plot_cluster(graphsc, 'graph-sc', 3, y_true, axs[1][7])\n",
    "plot_cluster(scace, 'scAce', 6, y_true, axs[1][8])"
   ]
  },
  {
   "cell_type": "markdown",
   "id": "48cec319-5084-46b2-8fd6-3533c685d06b",
   "metadata": {},
   "source": [
    "## Human3"
   ]
  },
  {
   "cell_type": "code",
   "execution_count": 13,
   "id": "065d2963-6213-4263-a8a3-c75c18e807f3",
   "metadata": {},
   "outputs": [],
   "source": [
    "data_mat = h5py.File('dataset/Human3.h5')\n",
    "y_true = np.array(data_mat['Y'], dtype='int')\n",
    "data_mat.close()"
   ]
  },
  {
   "cell_type": "code",
   "execution_count": 14,
   "id": "b14ed564-c0f2-4109-8ff6-e3ee4e19a66c",
   "metadata": {},
   "outputs": [],
   "source": [
    "seurat = pd.read_csv('results/default/Human3/Seurat_wo_sample.csv', header=0, index_col=0)\n",
    "cidr = pd.read_csv('results/default/Human3/CIDR_wo_sample.csv', header=0, index_col=0)\n",
    "scscope = np.load('results/default/Human3/scScope_wo_sample.npz')\n",
    "scd = np.load('results/default/Human3/scDeepCluster_wo_sample.npz')\n",
    "desc = np.load('results/default/Human3/DESC_wo_sample.npz')\n",
    "graphsc = np.load('results/default/Human3/graphsc_wo_sample.npz')\n",
    "sccaf = np.load('results/default/Human3/SCCAF_wo_sample.npz')\n",
    "adclust = np.load('results/default/Human3/ADClust_wo_sample.npz')\n",
    "scace = np.load('results/default/Human3/scAce_wo_sample.npz')"
   ]
  },
  {
   "cell_type": "code",
   "execution_count": 15,
   "id": "b52fd7a5-b137-41db-90bb-f99326b1cf5a",
   "metadata": {},
   "outputs": [
    {
     "name": "stdout",
     "output_type": "stream",
     "text": [
      "WARNING: You’re trying to run this on 100 dimensions of `.X`, if you really want this, set `use_rep='X'`.\n",
      "         Falling back to preprocessing with `sc.pp.pca` and default params.\n",
      "WARNING: You’re trying to run this on 64 dimensions of `.X`, if you really want this, set `use_rep='X'`.\n",
      "         Falling back to preprocessing with `sc.pp.pca` and default params.\n",
      "WARNING: You’re trying to run this on 300 dimensions of `.X`, if you really want this, set `use_rep='X'`.\n",
      "         Falling back to preprocessing with `sc.pp.pca` and default params.\n",
      "WARNING: You’re trying to run this on 14487 dimensions of `.X`, if you really want this, set `use_rep='X'`.\n",
      "         Falling back to preprocessing with `sc.pp.pca` and default params.\n"
     ]
    }
   ],
   "source": [
    "methods = [scscope, scd, desc, graphsc, sccaf, adclust, scace]\n",
    "embedding = []\n",
    "for i, method in enumerate(methods):\n",
    "    \n",
    "    if i == len(methods) - 2 or i == len(methods) - 1:\n",
    "        embedding.append(method['Embedding'][-1])\n",
    "    else:\n",
    "        embedding.append(method['Embedding'])\n",
    "        \n",
    "tsne_all = []\n",
    "for i in range(len(embedding)):\n",
    "    adata = sc.AnnData(embedding[i])\n",
    "    sc.tl.tsne(adata, random_state=0)\n",
    "    tsne_all.append(np.array(adata.obsm['X_tsne']))"
   ]
  },
  {
   "cell_type": "code",
   "execution_count": 16,
   "id": "998e0934-d983-4ed5-8293-b538cd8bc44b",
   "metadata": {},
   "outputs": [
    {
     "name": "stdout",
     "output_type": "stream",
     "text": [
      "Method: scScope, ARI=0.3, NMI=0.58\n",
      "Method: CIDR, ARI=0.64, NMI=0.66\n",
      "Method: SCCAF, ARI=0.6, NMI=0.8\n",
      "Method: Seurat, ARI=0.62, NMI=0.8\n",
      "Method: scDeepCluster, ARI=0.48, NMI=0.75\n",
      "Method: DESC, ARI=0.91, NMI=0.9\n",
      "Method: ADClust, ARI=0.85, NMI=0.84\n",
      "Method: graph-sc, ARI=0.85, NMI=0.84\n",
      "Method: scAce, ARI=0.92, NMI=0.91\n"
     ]
    }
   ],
   "source": [
    "plot_cluster(scscope, 'scScope', 0, y_true, axs[2][0])\n",
    "plot_cluster(cidr, 'CIDR', None, y_true, axs[2][1])\n",
    "plot_cluster(sccaf, 'SCCAF', 4, y_true, axs[2][2])\n",
    "plot_cluster(seurat, 'Seurat', None, y_true, axs[2][3])\n",
    "plot_cluster(scd, 'scDeepCluster', 1, y_true, axs[2][4])\n",
    "plot_cluster(desc, 'DESC', 2, y_true, axs[2][5])\n",
    "plot_cluster(adclust, 'ADClust', 5, y_true, axs[2][6])\n",
    "plot_cluster(graphsc, 'graph-sc', 3, y_true, axs[2][7])\n",
    "plot_cluster(scace, 'scAce', 6, y_true, axs[2][8])"
   ]
  },
  {
   "cell_type": "markdown",
   "id": "f8e8f03d-3e1c-48b8-a1bc-aa2e62fa8ac7",
   "metadata": {},
   "source": [
    "## Mouse1"
   ]
  },
  {
   "cell_type": "code",
   "execution_count": 17,
   "id": "e0732efa-dd7a-42dd-b61c-bb1769282416",
   "metadata": {},
   "outputs": [],
   "source": [
    "mat, obs, var, uns = read_data('dataset/Mouse1.h5', sparsify=False, skip_exprs=False)\n",
    "cell_name = np.array(obs[\"cell_type1\"])\n",
    "cell_type, cell_label = np.unique(cell_name, return_inverse=True)\n",
    "y_true = cell_label"
   ]
  },
  {
   "cell_type": "code",
   "execution_count": 18,
   "id": "ad9422a4-d4a2-4112-b841-61390e94f7bf",
   "metadata": {},
   "outputs": [],
   "source": [
    "seurat = pd.read_csv('results/default/Mouse1/Seurat_wo_sample.csv', header=0, index_col=0)\n",
    "cidr = pd.read_csv('results/default/Mouse1/CIDR_wo_sample.csv', header=0, index_col=0)\n",
    "scscope = np.load('results/default/Mouse1/scScope_wo_sample.npz')\n",
    "scd = np.load('results/default/Mouse1/scDeepCluster_wo_sample.npz')\n",
    "desc = np.load('results/default/Mouse1/DESC_wo_sample.npz')\n",
    "graphsc = np.load('results/default/Mouse1/graphsc_wo_sample.npz')\n",
    "sccaf = np.load('results/default/Mouse1/SCCAF_wo_sample.npz')\n",
    "adclust = np.load('results/default/Mouse1/ADClust_wo_sample.npz')\n",
    "scace = np.load('results/default/Mouse1/scAce_wo_sample.npz')"
   ]
  },
  {
   "cell_type": "code",
   "execution_count": 19,
   "id": "feed584c-eb72-4d55-a8a6-1c71a1514e86",
   "metadata": {},
   "outputs": [
    {
     "name": "stdout",
     "output_type": "stream",
     "text": [
      "WARNING: You’re trying to run this on 100 dimensions of `.X`, if you really want this, set `use_rep='X'`.\n",
      "         Falling back to preprocessing with `sc.pp.pca` and default params.\n",
      "WARNING: You’re trying to run this on 300 dimensions of `.X`, if you really want this, set `use_rep='X'`.\n",
      "         Falling back to preprocessing with `sc.pp.pca` and default params.\n",
      "WARNING: You’re trying to run this on 18308 dimensions of `.X`, if you really want this, set `use_rep='X'`.\n",
      "         Falling back to preprocessing with `sc.pp.pca` and default params.\n"
     ]
    }
   ],
   "source": [
    "methods = [scscope, scd, desc, graphsc, sccaf, adclust, scace]\n",
    "embedding = []\n",
    "for i, method in enumerate(methods):\n",
    "    \n",
    "    if i == len(methods) - 2 or i == len(methods) - 1:\n",
    "        embedding.append(method['Embedding'][-1])\n",
    "    else:\n",
    "        embedding.append(method['Embedding'])\n",
    "        \n",
    "tsne_all = []\n",
    "for i in range(len(embedding)):\n",
    "    adata = sc.AnnData(embedding[i])\n",
    "    sc.tl.tsne(adata, random_state=0)\n",
    "    tsne_all.append(np.array(adata.obsm['X_tsne']))"
   ]
  },
  {
   "cell_type": "code",
   "execution_count": 20,
   "id": "13579bfc-8aa7-449f-85f8-3cd8238c8bd9",
   "metadata": {},
   "outputs": [
    {
     "name": "stdout",
     "output_type": "stream",
     "text": [
      "Method: scScope, ARI=0.05, NMI=0.13\n",
      "Method: CIDR, ARI=0.05, NMI=0.12\n",
      "Method: SCCAF, ARI=0.56, NMI=0.74\n",
      "Method: Seurat, ARI=0.64, NMI=0.78\n",
      "Method: scDeepCluster, ARI=0.78, NMI=0.81\n",
      "Method: DESC, ARI=0.64, NMI=0.8\n",
      "Method: ADClust, ARI=0.45, NMI=0.58\n",
      "Method: graph-sc, ARI=0.6, NMI=0.71\n",
      "Method: scAce, ARI=0.92, NMI=0.9\n"
     ]
    }
   ],
   "source": [
    "plot_cluster(scscope, 'scScope', 0, y_true, axs[3][0])\n",
    "plot_cluster(cidr, 'CIDR', None, y_true, axs[3][1])\n",
    "plot_cluster(sccaf, 'SCCAF', 4, y_true, axs[3][2])\n",
    "plot_cluster(seurat, 'Seurat', None, y_true, axs[3][3])\n",
    "plot_cluster(scd, 'scDeepCluster', 1, y_true, axs[3][4])\n",
    "plot_cluster(desc, 'DESC', 2, y_true, axs[3][5])\n",
    "plot_cluster(adclust, 'ADClust', 5, y_true, axs[3][6])\n",
    "plot_cluster(graphsc, 'graph-sc', 3, y_true, axs[3][7])\n",
    "plot_cluster(scace, 'scAce', 6, y_true, axs[3][8])"
   ]
  },
  {
   "cell_type": "markdown",
   "id": "793f84ea-934f-4ab9-900c-dcbdfdbd161a",
   "metadata": {},
   "source": [
    "## Mouse2"
   ]
  },
  {
   "cell_type": "code",
   "execution_count": 21,
   "id": "1e8313cb-b4b1-480d-aa3c-ffa5907023d6",
   "metadata": {},
   "outputs": [],
   "source": [
    "mat, obs, var, uns = read_data('dataset/Mouse2.h5', sparsify=False, skip_exprs=False)\n",
    "cell_name = np.array(obs[\"cell_type1\"])\n",
    "cell_type, cell_label = np.unique(cell_name, return_inverse=True)\n",
    "y_true = cell_label"
   ]
  },
  {
   "cell_type": "code",
   "execution_count": 22,
   "id": "139f4622-c67c-40f7-a499-3ea7baded370",
   "metadata": {},
   "outputs": [],
   "source": [
    "seurat = pd.read_csv('results/default/Mouse2/Seurat_wo_sample.csv', header=0, index_col=0)\n",
    "cidr = pd.read_csv('results/default/Mouse2/CIDR_wo_sample.csv', header=0, index_col=0)\n",
    "scscope = np.load('results/default/Mouse2/scScope_wo_sample.npz')\n",
    "scd = np.load('results/default/Mouse2/scDeepCluster_wo_sample.npz')\n",
    "desc = np.load('results/default/Mouse2/DESC_wo_sample.npz')\n",
    "graphsc = np.load('results/default/Mouse2/graphsc_wo_sample.npz')\n",
    "sccaf = np.load('results/default/Mouse2/SCCAF_wo_sample.npz')\n",
    "adclust = np.load('results/default/Mouse2/ADClust_wo_sample.npz')\n",
    "scace = np.load('results/default/Mouse2/scAce_wo_sample.npz')"
   ]
  },
  {
   "cell_type": "code",
   "execution_count": 23,
   "id": "b1283203-6a59-4e24-87a4-acb8ed4e1e86",
   "metadata": {},
   "outputs": [
    {
     "name": "stdout",
     "output_type": "stream",
     "text": [
      "WARNING: You’re trying to run this on 100 dimensions of `.X`, if you really want this, set `use_rep='X'`.\n",
      "         Falling back to preprocessing with `sc.pp.pca` and default params.\n",
      "WARNING: You’re trying to run this on 300 dimensions of `.X`, if you really want this, set `use_rep='X'`.\n",
      "         Falling back to preprocessing with `sc.pp.pca` and default params.\n",
      "WARNING: You’re trying to run this on 14942 dimensions of `.X`, if you really want this, set `use_rep='X'`.\n",
      "         Falling back to preprocessing with `sc.pp.pca` and default params.\n"
     ]
    }
   ],
   "source": [
    "methods = [scscope, scd, desc, graphsc, sccaf, adclust, scace]\n",
    "embedding = []\n",
    "for i, method in enumerate(methods):\n",
    "    \n",
    "    if i == len(methods) - 2 or i == len(methods) - 1:\n",
    "        embedding.append(method['Embedding'][-1])\n",
    "    else:\n",
    "        embedding.append(method['Embedding'])\n",
    "        \n",
    "tsne_all = []\n",
    "for i in range(len(embedding)):\n",
    "    adata = sc.AnnData(embedding[i])\n",
    "    sc.tl.tsne(adata, random_state=0)\n",
    "    tsne_all.append(np.array(adata.obsm['X_tsne']))"
   ]
  },
  {
   "cell_type": "code",
   "execution_count": 24,
   "id": "428f22a3-588a-4698-b678-b22bc9754757",
   "metadata": {},
   "outputs": [
    {
     "name": "stdout",
     "output_type": "stream",
     "text": [
      "Method: scScope, ARI=0.53, NMI=0.74\n",
      "Method: CIDR, ARI=0.64, NMI=0.67\n",
      "Method: SCCAF, ARI=0.44, NMI=0.73\n",
      "Method: Seurat, ARI=0.51, NMI=0.78\n",
      "Method: scDeepCluster, ARI=0.77, NMI=0.87\n",
      "Method: DESC, ARI=0.44, NMI=0.75\n",
      "Method: ADClust, ARI=0.92, NMI=0.89\n",
      "Method: graph-sc, ARI=0.97, NMI=0.95\n",
      "Method: scAce, ARI=0.99, NMI=0.99\n"
     ]
    }
   ],
   "source": [
    "plot_cluster(scscope, 'scScope', 0, y_true, axs[4][0])\n",
    "plot_cluster(cidr, 'CIDR', None, y_true, axs[4][1])\n",
    "plot_cluster(sccaf, 'SCCAF', 4, y_true, axs[4][2])\n",
    "plot_cluster(seurat, 'Seurat', None, y_true, axs[4][3])\n",
    "plot_cluster(scd, 'scDeepCluster', 1, y_true, axs[4][4])\n",
    "plot_cluster(desc, 'DESC', 2, y_true, axs[4][5])\n",
    "plot_cluster(adclust, 'ADClust', 5, y_true, axs[4][6])\n",
    "plot_cluster(graphsc, 'graph-sc', 3, y_true, axs[4][7])\n",
    "plot_cluster(scace, 'scAce', 6, y_true, axs[4][8])"
   ]
  },
  {
   "cell_type": "markdown",
   "id": "c0458550-8d91-4162-ac4e-c870a67d66b0",
   "metadata": {},
   "source": [
    "## Mouse3"
   ]
  },
  {
   "cell_type": "code",
   "execution_count": 25,
   "id": "cbd2d66a-0093-4784-b55a-5b89fb6863d0",
   "metadata": {},
   "outputs": [],
   "source": [
    "data_mat = h5py.File('dataset/Mouse3.h5')\n",
    "y_true = np.array(data_mat['Y'], dtype='int')\n",
    "data_mat.close()"
   ]
  },
  {
   "cell_type": "code",
   "execution_count": 26,
   "id": "eb9fe6d5-d30e-4272-b42a-d3ccb74537b8",
   "metadata": {},
   "outputs": [],
   "source": [
    "seurat = pd.read_csv('results/default/Mouse3/Seurat_wo_sample.csv', header=0, index_col=0)\n",
    "cidr = pd.read_csv('results/default/Mouse3/CIDR_wo_sample.csv', header=0, index_col=0)\n",
    "scscope = np.load('results/default/Mouse3/scScope_wo_sample.npz')\n",
    "scd = np.load('results/default/Mouse3/scDeepCluster_wo_sample.npz')\n",
    "desc = np.load('results/default/Mouse3/DESC_wo_sample.npz')\n",
    "graphsc = np.load('results/default/Mouse3/graphsc_wo_sample.npz')\n",
    "sccaf = np.load('results/default/Mouse3/SCCAF_wo_sample.npz')\n",
    "adclust = np.load('results/default/Mouse3/ADClust_wo_sample.npz')\n",
    "scace = np.load('results/default/Mouse3/scAce_wo_sample.npz')"
   ]
  },
  {
   "cell_type": "code",
   "execution_count": 27,
   "id": "27eca79e-5d11-4f17-865d-2594f407576e",
   "metadata": {},
   "outputs": [
    {
     "name": "stdout",
     "output_type": "stream",
     "text": [
      "WARNING: You’re trying to run this on 100 dimensions of `.X`, if you really want this, set `use_rep='X'`.\n",
      "         Falling back to preprocessing with `sc.pp.pca` and default params.\n",
      "WARNING: You’re trying to run this on 300 dimensions of `.X`, if you really want this, set `use_rep='X'`.\n",
      "         Falling back to preprocessing with `sc.pp.pca` and default params.\n",
      "WARNING: You’re trying to run this on 24022 dimensions of `.X`, if you really want this, set `use_rep='X'`.\n",
      "         Falling back to preprocessing with `sc.pp.pca` and default params.\n"
     ]
    }
   ],
   "source": [
    "methods = [scscope, scd, desc, graphsc, sccaf, adclust, scace]\n",
    "embedding = []\n",
    "for i, method in enumerate(methods):\n",
    "    \n",
    "    if i == len(methods) - 2 or i == len(methods) - 1:\n",
    "        embedding.append(method['Embedding'][-1])\n",
    "    else:\n",
    "        embedding.append(method['Embedding'])\n",
    "        \n",
    "tsne_all = []\n",
    "for i in range(len(embedding)):\n",
    "    adata = sc.AnnData(embedding[i])\n",
    "    sc.tl.tsne(adata, random_state=0)\n",
    "    tsne_all.append(np.array(adata.obsm['X_tsne']))"
   ]
  },
  {
   "cell_type": "code",
   "execution_count": 28,
   "id": "549e6604-fec0-4419-b351-fb9af6968cf2",
   "metadata": {},
   "outputs": [
    {
     "name": "stdout",
     "output_type": "stream",
     "text": [
      "Method: scScope, ARI=0.14, NMI=0.34\n",
      "Method: CIDR, ARI=0.68, NMI=0.66\n",
      "Method: SCCAF, ARI=0.82, NMI=0.85\n",
      "Method: Seurat, ARI=0.51, NMI=0.72\n",
      "Method: scDeepCluster, ARI=0.47, NMI=0.59\n",
      "Method: DESC, ARI=0.9, NMI=0.9\n",
      "Method: ADClust, ARI=0.72, NMI=0.71\n",
      "Method: graph-sc, ARI=0.78, NMI=0.76\n",
      "Method: scAce, ARI=0.98, NMI=0.97\n"
     ]
    }
   ],
   "source": [
    "plot_cluster(scscope, 'scScope', 0, y_true, axs[5][0])\n",
    "plot_cluster(cidr, 'CIDR', None, y_true, axs[5][1])\n",
    "plot_cluster(sccaf, 'SCCAF', 4, y_true, axs[5][2])\n",
    "plot_cluster(seurat, 'Seurat', None, y_true, axs[5][3])\n",
    "plot_cluster(scd, 'scDeepCluster', 1, y_true, axs[5][4])\n",
    "plot_cluster(desc, 'DESC', 2, y_true, axs[5][5])\n",
    "plot_cluster(adclust, 'ADClust', 5, y_true, axs[5][6])\n",
    "plot_cluster(graphsc, 'graph-sc', 3, y_true, axs[5][7])\n",
    "plot_cluster(scace, 'scAce', 6, y_true, axs[5][8])"
   ]
  },
  {
   "cell_type": "code",
   "execution_count": 29,
   "id": "eff34e09-9b07-43d7-bc3b-7b1bdfaa8d59",
   "metadata": {},
   "outputs": [
    {
     "data": {
      "text/plain": [
       "<Figure size 2500x1300 with 54 Axes>"
      ]
     },
     "execution_count": 29,
     "metadata": {},
     "output_type": "execute_result"
    }
   ],
   "source": [
    "fig"
   ]
  },
  {
   "cell_type": "code",
   "execution_count": 30,
   "id": "cc4074c2-8c59-4226-8abd-91a547292946",
   "metadata": {},
   "outputs": [],
   "source": [
    "plt.savefig('Figures/FigureS1A.svg', dpi=300, format='svg', bbox_inches='tight')"
   ]
  },
  {
   "cell_type": "code",
   "execution_count": null,
   "id": "99016841-7ded-4c69-8fb8-4c51b8d5e9b2",
   "metadata": {},
   "outputs": [],
   "source": []
  }
 ],
 "metadata": {
  "kernelspec": {
   "display_name": "Python 3",
   "language": "python",
   "name": "python3"
  },
  "language_info": {
   "codemirror_mode": {
    "name": "ipython",
    "version": 3
   },
   "file_extension": ".py",
   "mimetype": "text/x-python",
   "name": "python",
   "nbconvert_exporter": "python",
   "pygments_lexer": "ipython3",
   "version": "3.8.8"
  }
 },
 "nbformat": 4,
 "nbformat_minor": 5
}
