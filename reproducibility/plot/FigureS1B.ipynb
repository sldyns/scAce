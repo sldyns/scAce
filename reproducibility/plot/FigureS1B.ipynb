{
 "cells": [
  {
   "cell_type": "code",
   "execution_count": 1,
   "id": "fefbb8ba-d9da-43bc-b389-14eaf4ca0620",
   "metadata": {},
   "outputs": [],
   "source": [
    "import scanpy as sc\n",
    "import pandas as pd\n",
    "import numpy as np\n",
    "import matplotlib\n",
    "import matplotlib.pyplot as plt\n",
    "matplotlib.use('Agg')\n",
    "from matplotlib.pyplot import plot,savefig\n",
    "from sklearn import metrics\n",
    "import seaborn as sns"
   ]
  },
  {
   "cell_type": "code",
   "execution_count": 2,
   "id": "4da3c8db-c168-4272-93b2-41dedec5ded1",
   "metadata": {},
   "outputs": [],
   "source": [
    "seurat = []\n",
    "seurat.append(pd.read_csv('results/default/Human1/Seurat_with_sample.csv', header=0, index_col=0))\n",
    "seurat.append(pd.read_csv('results/default/Human2/Seurat_with_sample.csv', header=0, index_col=0))\n",
    "seurat.append(pd.read_csv('results/default/Human3/Seurat_with_sample.csv', header=0, index_col=0))\n",
    "seurat.append(pd.read_csv('results/default/Mouse1/Seurat_with_sample.csv', header=0, index_col=0))\n",
    "seurat.append(pd.read_csv('results/default/Mouse2/Seurat_with_sample.csv', header=0, index_col=0))\n",
    "seurat.append(pd.read_csv('results/default/Mouse3/Seurat_with_sample.csv', header=0, index_col=0))"
   ]
  },
  {
   "cell_type": "code",
   "execution_count": 3,
   "id": "cb48ff02-13fe-4ac5-89cc-58dc46b1e3d6",
   "metadata": {},
   "outputs": [],
   "source": [
    "cidr = []\n",
    "cidr.append(pd.read_csv('results/default/Human1/CIDR_with_sample.csv', header=0, index_col=0))\n",
    "cidr.append(pd.read_csv('results/default/Human2/CIDR_with_sample.csv', header=0, index_col=0))\n",
    "cidr.append(pd.read_csv('results/default/Human3/CIDR_with_sample.csv', header=0, index_col=0))\n",
    "cidr.append(pd.read_csv('results/default/Mouse1/CIDR_with_sample.csv', header=0, index_col=0))\n",
    "cidr.append(pd.read_csv('results/default/Mouse2/CIDR_with_sample.csv', header=0, index_col=0))\n",
    "cidr.append(pd.read_csv('results/default/Mouse3/CIDR_with_sample.csv', header=0, index_col=0))"
   ]
  },
  {
   "cell_type": "code",
   "execution_count": 4,
   "id": "dbd86d40-7fa1-4a65-aee8-9541572ec01b",
   "metadata": {},
   "outputs": [],
   "source": [
    "scscope = []\n",
    "scscope.append(np.load('results/default/Human1/scScope_with_sample.npz'))\n",
    "scscope.append(np.load('results/default/Human2/scScope_with_sample.npz'))\n",
    "scscope.append(np.load('results/default/Human3/scScope_with_sample.npz'))\n",
    "scscope.append(np.load('results/default/Mouse1/scScope_with_sample.npz'))\n",
    "scscope.append(np.load('results/default/Mouse2/scScope_with_sample.npz'))\n",
    "scscope.append(np.load('results/default/Mouse3/scScope_with_sample.npz'))"
   ]
  },
  {
   "cell_type": "code",
   "execution_count": 5,
   "id": "7ac12176-34c8-4307-82f5-ec2aad6494d7",
   "metadata": {},
   "outputs": [],
   "source": [
    "scd = []\n",
    "scd.append(np.load('results/default/Human1/scDeepCluster_with_sample.npz'))\n",
    "scd.append(np.load('results/default/Human2/scDeepCluster_with_sample.npz'))\n",
    "scd.append(np.load('results/default/Human3/scDeepCluster_with_sample.npz'))\n",
    "scd.append(np.load('results/default/Mouse1/scDeepCluster_with_sample.npz'))\n",
    "scd.append(np.load('results/default/Mouse2/scDeepCluster_with_sample.npz'))\n",
    "scd.append(np.load('results/default/Mouse3/scDeepCluster_with_sample.npz'))"
   ]
  },
  {
   "cell_type": "code",
   "execution_count": 6,
   "id": "10c9c581-deae-4ce4-9c9e-6a0612e41624",
   "metadata": {},
   "outputs": [],
   "source": [
    "desc = []\n",
    "desc.append(np.load('results/default/Human1/DESC_with_sample.npz'))\n",
    "desc.append(np.load('results/default/Human2/DESC_with_sample.npz'))\n",
    "desc.append(np.load('results/default/Human3/DESC_with_sample.npz'))\n",
    "desc.append(np.load('results/default/Mouse1/DESC_with_sample.npz'))\n",
    "desc.append(np.load('results/default/Mouse2/DESC_with_sample.npz'))\n",
    "desc.append(np.load('results/default/Mouse3/DESC_with_sample.npz'))"
   ]
  },
  {
   "cell_type": "code",
   "execution_count": 7,
   "id": "8f1f7f69-0f36-4db1-bc62-5aa3592ecc3f",
   "metadata": {},
   "outputs": [],
   "source": [
    "graphsc = []\n",
    "graphsc.append(np.load('results/default/Human1/graphsc_with_sample.npz'))\n",
    "graphsc.append(np.load('results/default/Human2/graphsc_with_sample.npz'))\n",
    "graphsc.append(np.load('results/default/Human3/graphsc_with_sample.npz'))\n",
    "graphsc.append(np.load('results/default/Mouse1/graphsc_with_sample.npz'))\n",
    "graphsc.append(np.load('results/default/Mouse2/graphsc_with_sample.npz'))\n",
    "graphsc.append(np.load('results/default/Mouse3/graphsc_with_sample.npz'))"
   ]
  },
  {
   "cell_type": "code",
   "execution_count": 8,
   "id": "499db6f5-6b2e-4492-aa44-b00657624552",
   "metadata": {},
   "outputs": [],
   "source": [
    "sccaf = []\n",
    "sccaf.append(np.load('results/default/Human1/SCCAF_with_sample.npz'))\n",
    "sccaf.append(np.load('results/default/Human2/SCCAF_with_sample.npz'))\n",
    "sccaf.append(np.load('results/default/Human3/SCCAF_with_sample.npz'))\n",
    "sccaf.append(np.load('results/default/Mouse1/SCCAF_with_sample.npz'))\n",
    "sccaf.append(np.load('results/default/Mouse2/SCCAF_with_sample.npz'))\n",
    "sccaf.append(np.load('results/default/Mouse3/SCCAF_with_sample.npz'))"
   ]
  },
  {
   "cell_type": "code",
   "execution_count": 9,
   "id": "23bf4606-02fa-4051-99b6-99a53dee426f",
   "metadata": {},
   "outputs": [],
   "source": [
    "adclust = []\n",
    "adclust.append(np.load('results/default/Human1/ADClust_with_sample.npz'))\n",
    "adclust.append(np.load('results/default/Human2/ADClust_with_sample.npz'))\n",
    "adclust.append(np.load('results/default/Human3/ADClust_with_sample.npz'))\n",
    "adclust.append(np.load('results/default/Mouse1/ADClust_with_sample.npz'))\n",
    "adclust.append(np.load('results/default/Mouse2/ADClust_with_sample.npz'))\n",
    "adclust.append(np.load('results/default/Mouse3/ADClust_with_sample.npz'))"
   ]
  },
  {
   "cell_type": "code",
   "execution_count": 10,
   "id": "e68d5951-6c15-4c0e-9a02-3aa8ab343f76",
   "metadata": {},
   "outputs": [],
   "source": [
    "scace = []\n",
    "scace.append(np.load('results/default/Human1/scAce_with_sample.npz'))\n",
    "scace.append(np.load('results/default/Human2/scAce_with_sample.npz'))\n",
    "scace.append(np.load('results/default/Human3/scAce_with_sample.npz'))\n",
    "scace.append(np.load('results/default/Mouse1/scAce_with_sample.npz'))\n",
    "scace.append(np.load('results/default/Mouse2/scAce_with_sample.npz'))\n",
    "scace.append(np.load('results/default/Mouse3/scAce_with_sample.npz'))"
   ]
  },
  {
   "cell_type": "code",
   "execution_count": 11,
   "id": "0d163e5b-074f-4d1f-83d7-94fc97567df8",
   "metadata": {},
   "outputs": [],
   "source": [
    "labels = 'scScope', 'CIDR', 'SCCAF', 'Seurat', 'scDeepCluster', 'DESC', 'ADClust', 'graph-sc', 'scAce'\n",
    "datasets = 'Human1', 'Human2', 'Human3', 'Mouse1', 'Mouse2', 'Mouse3'"
   ]
  },
  {
   "cell_type": "code",
   "execution_count": 12,
   "id": "a302c049-b54c-4173-9372-35c2e8739a3c",
   "metadata": {},
   "outputs": [],
   "source": [
    "def plot_heatmap(metric, ax):\n",
    "    \n",
    "    ax = plt.subplot(ax)\n",
    "    \n",
    "    metric_all = pd.DataFrame()\n",
    "    for i in range(len(datasets)):\n",
    "\n",
    "        metric_seurat = np.mean(seurat[i][metric])\n",
    "        metric_cidr = np.mean(cidr[i][metric])\n",
    "        metric_scscope = np.mean(scscope[i][metric])\n",
    "        metric_scd = np.mean(scd[i][metric])\n",
    "        metric_desc = np.mean(desc[i][metric])\n",
    "        metric_graphsc = np.mean(graphsc[i][metric])\n",
    "        metric_sccaf = np.mean(sccaf[i][metric])\n",
    "        metric_adclust = np.mean(adclust[i][metric])\n",
    "        metric_scace = np.mean(scace[i][metric])\n",
    "\n",
    "        metric_i = [metric_scscope, metric_cidr, metric_sccaf, metric_seurat, metric_scd, metric_desc, metric_adclust, metric_graphsc, metric_scace]\n",
    "        metric_all[datasets[i]] = metric_i\n",
    "\n",
    "    metric_all.index = labels\n",
    "    sns.heatmap(metric_all.T, cmap=\"GnBu\", linewidths=0.5, linecolor=\"white\")\n",
    "    plt.xticks(family='Arial')\n",
    "    plt.yticks(family='Arial')\n",
    "    ax.set_title(metric, fontsize=12, family='Arial')\n",
    "    print(metric, metric_all.T)"
   ]
  },
  {
   "cell_type": "code",
   "execution_count": 13,
   "id": "559ef3dc-5888-43ce-a7cd-c2e493d546be",
   "metadata": {},
   "outputs": [
    {
     "name": "stdout",
     "output_type": "stream",
     "text": [
      "ARI         scScope      CIDR    SCCAF    Seurat  scDeepCluster     DESC  ADClust  \\\n",
      "Human1  0.33418  0.292824  0.50024  0.610200       0.601938  0.90170  0.83227   \n",
      "Human2  0.41587  0.535505  0.53752  0.592554       0.622288  0.63544  0.87011   \n",
      "Human3  0.31557  0.671520  0.58796  0.623459       0.544029  0.80697  0.80667   \n",
      "Mouse1  0.06748  0.035346  0.57266  0.636732       0.732915  0.62533  0.42722   \n",
      "Mouse2  0.52679  0.736041  0.39546  0.515750       0.770846  0.45114  0.95451   \n",
      "Mouse3  0.14929  0.693683  0.80745  0.506895       0.488810  0.78298  0.80909   \n",
      "\n",
      "        graph-sc     scAce  \n",
      "Human1   0.88233  0.903539  \n",
      "Human2   0.71160  0.919609  \n",
      "Human3   0.73886  0.922453  \n",
      "Mouse1   0.62662  0.851889  \n",
      "Mouse2   0.97508  0.975318  \n",
      "Mouse3   0.78513  0.914370  \n"
     ]
    }
   ],
   "source": [
    "plt.figure(figsize=(5, 2))\n",
    "plot_heatmap('ARI', 111)"
   ]
  },
  {
   "cell_type": "code",
   "execution_count": 14,
   "id": "0a2b891f-7c39-4769-b466-257bf1ddd6dc",
   "metadata": {},
   "outputs": [],
   "source": [
    "plt.savefig('Figures/FigureS1B_ARI.svg', dpi=300, format='svg', bbox_inches='tight')"
   ]
  },
  {
   "cell_type": "code",
   "execution_count": 15,
   "id": "a80a30c8-797e-42ec-b603-c6817ecc1553",
   "metadata": {},
   "outputs": [
    {
     "name": "stdout",
     "output_type": "stream",
     "text": [
      "NMI         scScope      CIDR    SCCAF    Seurat  scDeepCluster     DESC  ADClust  \\\n",
      "Human1  0.61501  0.384179  0.74877  0.811226       0.771870  0.90767  0.80324   \n",
      "Human2  0.64522  0.687738  0.76296  0.817765       0.756714  0.81058  0.84195   \n",
      "Human3  0.58580  0.796597  0.79201  0.817316       0.760365  0.87178  0.79879   \n",
      "Mouse1  0.15788  0.204067  0.74767  0.804953       0.798370  0.78525  0.58483   \n",
      "Mouse2  0.69027  0.767222  0.72039  0.782192       0.848860  0.75510  0.93276   \n",
      "Mouse3  0.35087  0.643366  0.84705  0.765529       0.611189  0.83616  0.82755   \n",
      "\n",
      "        graph-sc     scAce  \n",
      "Human1   0.86058  0.891508  \n",
      "Human2   0.82319  0.884759  \n",
      "Human3   0.82466  0.910809  \n",
      "Mouse1   0.74583  0.876921  \n",
      "Mouse2   0.94995  0.977521  \n",
      "Mouse3   0.76905  0.916635  \n"
     ]
    }
   ],
   "source": [
    "plt.figure(figsize=(5, 2))\n",
    "plot_heatmap('NMI', 111)"
   ]
  },
  {
   "cell_type": "code",
   "execution_count": 16,
   "id": "1da2355a-0fff-42a7-b36c-e6b528ebd511",
   "metadata": {},
   "outputs": [],
   "source": [
    "plt.savefig('Figures/FigureS1B_NMI.svg', dpi=300, format='svg', bbox_inches='tight')"
   ]
  },
  {
   "cell_type": "code",
   "execution_count": null,
   "id": "b0bf4466-46bb-4338-8d36-df5518403b72",
   "metadata": {},
   "outputs": [],
   "source": []
  }
 ],
 "metadata": {
  "kernelspec": {
   "display_name": "Python 3",
   "language": "python",
   "name": "python3"
  },
  "language_info": {
   "codemirror_mode": {
    "name": "ipython",
    "version": 3
   },
   "file_extension": ".py",
   "mimetype": "text/x-python",
   "name": "python",
   "nbconvert_exporter": "python",
   "pygments_lexer": "ipython3",
   "version": "3.8.8"
  }
 },
 "nbformat": 4,
 "nbformat_minor": 5
}
