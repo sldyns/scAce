{
 "cells": [
  {
   "cell_type": "code",
   "execution_count": 1,
   "id": "6a5046cd-3bf7-4fed-be59-0ad8cbc76a43",
   "metadata": {
    "tags": []
   },
   "outputs": [],
   "source": [
    "import scanpy as sc\n",
    "import pandas as pd\n",
    "import numpy as np\n",
    "import matplotlib\n",
    "import matplotlib.pyplot as plt\n",
    "matplotlib.use('Agg')\n",
    "from matplotlib.pyplot import plot,savefig\n",
    "from sklearn import metrics"
   ]
  },
  {
   "cell_type": "code",
   "execution_count": 2,
   "id": "3f73a962-e925-4404-a083-4c0765ba5292",
   "metadata": {},
   "outputs": [],
   "source": [
    "seurat = pd.read_csv('results/default/Sim/Seurat_with_sample.csv', header=0, index_col=0)\n",
    "cidr = pd.read_csv('results/default/Sim/CIDR_with_sample.csv', header=0, index_col=0)\n",
    "scscope = np.load('results/default/Sim/scScope_with_sample.npz')\n",
    "scd = np.load('results/default/Sim/scDeepCluster_with_sample.npz')\n",
    "graphsc = np.load('results/default/Sim/graphsc_with_sample.npz')\n",
    "desc = np.load('results/default/Sim/DESC_with_sample.npz')\n",
    "sccaf = np.load('results/default/Sim/SCCAF_with_sample.npz')\n",
    "adclust = np.load('results/default/Sim/ADClust_with_sample.npz')\n",
    "scace = np.load('results/default/Sim/scAce_with_sample.npz')"
   ]
  },
  {
   "cell_type": "code",
   "execution_count": 3,
   "id": "9c9ff10d-1b81-4d26-90e1-182e014c156e",
   "metadata": {},
   "outputs": [],
   "source": [
    "ari_seurat = np.array(seurat['ARI'])\n",
    "nmi_seurat = np.array(seurat['NMI'])\n",
    "\n",
    "ari_cidr = np.array(cidr['ARI'])\n",
    "nmi_cidr = np.array(cidr['NMI'])\n",
    "\n",
    "ari_scscope = np.array(scscope['ARI'])\n",
    "nmi_scscope = np.array(scscope['NMI'])\n",
    "\n",
    "ari_scd = np.array(scd['ARI'])\n",
    "nmi_scd = np.array(scd['NMI'])\n",
    "\n",
    "ari_graphsc = np.array(graphsc['ARI'])\n",
    "nmi_graphsc = np.array(graphsc['NMI'])\n",
    "\n",
    "ari_desc = np.array(desc['ARI'])\n",
    "nmi_desc = np.array(desc['NMI'])\n",
    "\n",
    "ari_sccaf = np.array(sccaf['ARI'])\n",
    "nmi_sccaf = np.array(sccaf['NMI'])\n",
    "\n",
    "ari_adclust = np.array(adclust['ARI'])\n",
    "nmi_adclust = np.array(adclust['NMI'])\n",
    "\n",
    "ari_scace = np.array(scace['ARI'])\n",
    "nmi_scace = np.array(scace['NMI'])"
   ]
  },
  {
   "cell_type": "code",
   "execution_count": 4,
   "id": "b0e48b91-daeb-4427-baa7-adacec29a983",
   "metadata": {},
   "outputs": [],
   "source": [
    "labels = 'scScope', 'scDeepCluster', 'SCCAF', 'Seurat', 'ADClust', 'CIDR', 'graph-sc', 'DESC', 'scAce'\n",
    "\n",
    "c_list = ['red', 'gold', 'gray', 'lightgreen', 'darkorchid', \n",
    "         'green', 'hotpink', 'goldenrod', 'royalblue']"
   ]
  },
  {
   "cell_type": "code",
   "execution_count": 5,
   "id": "e42ca6a6-c0da-4be0-a26e-de66540e34d0",
   "metadata": {},
   "outputs": [],
   "source": [
    "plt.figure(figsize=(10, 5))\n",
    "f = plt.boxplot([ari_scscope, ari_scd, ari_sccaf, ari_seurat, ari_adclust, ari_cidr, ari_graphsc, ari_desc, ari_scace], \n",
    "               labels=labels, showcaps=False, patch_artist=True, flierprops={'marker':\".\", 'color':'black'}, \n",
    "               medianprops = {'color':'black'})\n",
    "    \n",
    "for box, c in zip(f['boxes'], c_list):\n",
    "    box.set(color=c, linewidth=2, alpha=0.7)\n",
    "\n",
    "plt.ylim(0, 1)\n",
    "plt.tick_params(labelsize=18)\n",
    "plt.ylabel(\"ARI\", fontsize=24, family='Arial')\n",
    "plt.xticks(fontsize=22, rotation=45, family='Arial', ha='right')\n",
    "plt.grid(axis=\"y\")"
   ]
  },
  {
   "cell_type": "code",
   "execution_count": 6,
   "id": "68583452-e9c7-41e2-a620-7f9b65968d1e",
   "metadata": {},
   "outputs": [],
   "source": [
    "plt.savefig('Figures/Figure2C_ari.svg', dpi=300, format='svg', bbox_inches='tight')"
   ]
  },
  {
   "cell_type": "code",
   "execution_count": 7,
   "id": "8bd7457c-ea5e-4855-a901-2e29b1f7c0ad",
   "metadata": {},
   "outputs": [],
   "source": [
    "plt.figure(figsize=(10, 5))\n",
    "f = plt.boxplot([nmi_scscope, nmi_scd, nmi_sccaf, nmi_seurat, nmi_adclust, nmi_cidr, nmi_graphsc, nmi_desc, nmi_scace], \n",
    "               labels=labels, showcaps=False, patch_artist=True, flierprops={'marker':\".\", 'color':'black'}, \n",
    "               medianprops = {'color':'black'})\n",
    "    \n",
    "for box, c in zip(f['boxes'], c_list):\n",
    "    box.set(color=c, linewidth=2, alpha=0.7)\n",
    "\n",
    "plt.ylim(0, 1)\n",
    "plt.tick_params(labelsize=18)\n",
    "plt.ylabel(\"NMI\", fontsize=24, family='Arial')\n",
    "plt.xticks(fontsize=22, rotation=45, family='Arial', ha='right')\n",
    "plt.grid(axis=\"y\")"
   ]
  },
  {
   "cell_type": "code",
   "execution_count": 8,
   "id": "3bb213f8-de1f-4d68-a2c1-25575d65afd2",
   "metadata": {},
   "outputs": [],
   "source": [
    "plt.savefig('Figures/Figure2C_nmi.svg', dpi=300, format='svg', bbox_inches='tight')"
   ]
  },
  {
   "cell_type": "code",
   "execution_count": null,
   "id": "c8a74823-fefe-4352-b293-64581d43b2ed",
   "metadata": {},
   "outputs": [],
   "source": []
  }
 ],
 "metadata": {
  "kernelspec": {
   "display_name": "Python 3",
   "language": "python",
   "name": "python3"
  },
  "language_info": {
   "codemirror_mode": {
    "name": "ipython",
    "version": 3
   },
   "file_extension": ".py",
   "mimetype": "text/x-python",
   "name": "python",
   "nbconvert_exporter": "python",
   "pygments_lexer": "ipython3",
   "version": "3.8.8"
  }
 },
 "nbformat": 4,
 "nbformat_minor": 5
}
