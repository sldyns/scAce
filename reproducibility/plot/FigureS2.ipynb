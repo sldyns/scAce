{
 "cells": [
  {
   "cell_type": "code",
   "execution_count": 1,
   "id": "52ba5aef-4b86-4ddd-99af-c0d66195a0c4",
   "metadata": {},
   "outputs": [],
   "source": [
    "import pandas as pd\n",
    "import numpy as np\n",
    "import h5py\n",
    "\n",
    "import matplotlib\n",
    "import matplotlib.pyplot as plt\n",
    "matplotlib.use('Agg')\n",
    "from matplotlib.pyplot import plot,savefig\n",
    "\n",
    "import warnings\n",
    "warnings.filterwarnings(\"ignore\")\n",
    "from read_count import read_data\n",
    "\n",
    "from collections import Counter"
   ]
  },
  {
   "cell_type": "code",
   "execution_count": 19,
   "id": "bb4b8b76-a461-4062-b704-b9c8e0c0cf54",
   "metadata": {},
   "outputs": [],
   "source": [
    "seurat = []\n",
    "seurat.append(pd.read_csv('results/default/Human1/Seurat_with_sample.csv', header=0, index_col=0))\n",
    "seurat.append(pd.read_csv('results/default/Human2/Seurat_with_sample.csv', header=0, index_col=0))\n",
    "seurat.append(pd.read_csv('results/default/Human3/Seurat_with_sample.csv', header=0, index_col=0))\n",
    "seurat.append(pd.read_csv('results/default/Mouse1/Seurat_with_sample.csv', header=0, index_col=0))\n",
    "seurat.append(pd.read_csv('results/default/Mouse2/Seurat_with_sample.csv', header=0, index_col=0))\n",
    "seurat.append(pd.read_csv('results/default/Mouse3/Seurat_with_sample.csv', header=0, index_col=0))"
   ]
  },
  {
   "cell_type": "code",
   "execution_count": 20,
   "id": "d0344ec3-07e5-42fa-8fc6-a6e65339ddd6",
   "metadata": {},
   "outputs": [],
   "source": [
    "cidr = []\n",
    "cidr.append(pd.read_csv('results/default/Human1/CIDR_with_sample.csv', header=0, index_col=0))\n",
    "cidr.append(pd.read_csv('results/default/Human2/CIDR_with_sample.csv', header=0, index_col=0))\n",
    "cidr.append(pd.read_csv('results/default/Human3/CIDR_with_sample.csv', header=0, index_col=0))\n",
    "cidr.append(pd.read_csv('results/default/Mouse1/CIDR_with_sample.csv', header=0, index_col=0))\n",
    "cidr.append(pd.read_csv('results/default/Mouse2/CIDR_with_sample.csv', header=0, index_col=0))\n",
    "cidr.append(pd.read_csv('results/default/Mouse3/CIDR_with_sample.csv', header=0, index_col=0))"
   ]
  },
  {
   "cell_type": "code",
   "execution_count": 4,
   "id": "fdbbfe8e-d752-4f84-a5b4-6b537ded10b6",
   "metadata": {},
   "outputs": [],
   "source": [
    "scscope = []\n",
    "scscope.append(np.load('results/default/Human1/scScope_with_sample.npz'))\n",
    "scscope.append(np.load('results/default/Human2/scScope_with_sample.npz'))\n",
    "scscope.append(np.load('results/default/Human3/scScope_with_sample.npz'))\n",
    "scscope.append(np.load('results/default/Mouse1/scScope_with_sample.npz'))\n",
    "scscope.append(np.load('results/default/Mouse2/scScope_with_sample.npz'))\n",
    "scscope.append(np.load('results/default/Mouse3/scScope_with_sample.npz'))"
   ]
  },
  {
   "cell_type": "code",
   "execution_count": 5,
   "id": "bb66d0cd-aa2c-4edf-9eee-9a1c9422a092",
   "metadata": {},
   "outputs": [],
   "source": [
    "desc = []\n",
    "desc.append(np.load('results/default/Human1/DESC_with_sample.npz'))\n",
    "desc.append(np.load('results/default/Human2/DESC_with_sample.npz'))\n",
    "desc.append(np.load('results/default/Human3/DESC_with_sample.npz'))\n",
    "desc.append(np.load('results/default/Mouse1/DESC_with_sample.npz'))\n",
    "desc.append(np.load('results/default/Mouse2/DESC_with_sample.npz'))\n",
    "desc.append(np.load('results/default/Mouse3/DESC_with_sample.npz'))"
   ]
  },
  {
   "cell_type": "code",
   "execution_count": 6,
   "id": "bf745428-86e2-4aa0-96c0-a7e71fd78cb2",
   "metadata": {},
   "outputs": [],
   "source": [
    "sccaf = []\n",
    "sccaf.append(np.load('results/default/Human1/SCCAF_with_sample.npz'))\n",
    "sccaf.append(np.load('results/default/Human2/SCCAF_with_sample.npz'))\n",
    "sccaf.append(np.load('results/default/Human3/SCCAF_with_sample.npz'))\n",
    "sccaf.append(np.load('results/default/Mouse1/SCCAF_with_sample.npz'))\n",
    "sccaf.append(np.load('results/default/Mouse2/SCCAF_with_sample.npz'))\n",
    "sccaf.append(np.load('results/default/Mouse3/SCCAF_with_sample.npz'))"
   ]
  },
  {
   "cell_type": "code",
   "execution_count": 7,
   "id": "8566f577-944e-41c3-a841-bc77586c83a6",
   "metadata": {},
   "outputs": [],
   "source": [
    "adclust = []\n",
    "adclust.append(np.load('results/default/Human1/ADClust_with_sample.npz'))\n",
    "adclust.append(np.load('results/default/Human2/ADClust_with_sample.npz'))\n",
    "adclust.append(np.load('results/default/Human3/ADClust_with_sample.npz'))\n",
    "adclust.append(np.load('results/default/Mouse1/ADClust_with_sample.npz'))\n",
    "adclust.append(np.load('results/default/Mouse2/ADClust_with_sample.npz'))\n",
    "adclust.append(np.load('results/default/Mouse3/ADClust_with_sample.npz'))"
   ]
  },
  {
   "cell_type": "code",
   "execution_count": 8,
   "id": "0b620381-3f17-4917-9f87-82875c652d60",
   "metadata": {},
   "outputs": [],
   "source": [
    "scace = []\n",
    "scace.append(np.load('results/default/Human1/scAce_with_sample.npz'))\n",
    "scace.append(np.load('results/default/Human2/scAce_with_sample.npz'))\n",
    "scace.append(np.load('results/default/Human3/scAce_with_sample.npz'))\n",
    "scace.append(np.load('results/default/Mouse1/scAce_with_sample.npz'))\n",
    "scace.append(np.load('results/default/Mouse2/scAce_with_sample.npz'))\n",
    "scace.append(np.load('results/default/Mouse3/scAce_with_sample.npz'))"
   ]
  },
  {
   "cell_type": "code",
   "execution_count": 9,
   "id": "5be5a5bb-d4f7-4215-805e-0084b84d17fe",
   "metadata": {},
   "outputs": [],
   "source": [
    "col = ['lightgreen', 'green', 'red', 'goldenrod', 'gray', 'darkorchid', 'royalblue']"
   ]
  },
  {
   "cell_type": "markdown",
   "id": "61d879de-593b-460e-9973-a772d6a9a35e",
   "metadata": {},
   "source": [
    "# Boxplots using all data"
   ]
  },
  {
   "cell_type": "code",
   "execution_count": 10,
   "id": "9847a0d4-b1f4-4204-afe3-33f44b253ea7",
   "metadata": {},
   "outputs": [],
   "source": [
    "labels = 'Seurat', 'CIDR', 'scScope', 'DESC', 'SCCAF', 'ADClust', 'scAce'"
   ]
  },
  {
   "cell_type": "code",
   "execution_count": 13,
   "id": "6d6aa36d-d882-4a12-bfaa-ae57b9e50121",
   "metadata": {},
   "outputs": [],
   "source": [
    "def plot_k1(dataset, n, k_true, ax):\n",
    "    \n",
    "    \"\"\"\n",
    "        n: n-th dataset in [Human1, Human2, Human3, Mouse1, Mouse2, Mouse3]\n",
    "        k_true: the number of true cell types of n-th dataset\n",
    "    \"\"\"\n",
    "    \n",
    "    ax = plt.subplot(ax)\n",
    "    \n",
    "    k_seurat = np.array(seurat[n]['K'][0:10], dtype='int')\n",
    "    k_cidr = np.array(cidr[n]['K'][0:10], dtype='int')\n",
    "    k_scscope = np.array(scscope[n]['K'], dtype='int')\n",
    "    k_desc = np.array(desc[n]['K'], dtype='int')\n",
    "    k_sccaf = np.array(sccaf[n]['K'], dtype='int')\n",
    "    k_adclust = np.array(adclust[n]['K'], dtype='int')\n",
    "    k_scace = np.array(scace[n]['K'], dtype='int')\n",
    "    \n",
    "    k_seurat = [x - k_true for x in k_seurat]\n",
    "    k_cidr = [x - k_true for x in k_cidr]\n",
    "    k_scscope = [x - k_true for x in k_scscope]\n",
    "    k_desc = [x - k_true for x in k_desc]\n",
    "    k_sccaf = [x - k_true for x in k_sccaf]\n",
    "    k_adclust = [x - k_true for x in k_adclust]\n",
    "    k_scace = [x - k_true for x in k_scace]\n",
    "\n",
    "    f = plt.boxplot([k_seurat, k_cidr, k_scscope, k_desc, k_sccaf, k_adclust, k_scace], \n",
    "               labels=labels, showcaps=False, patch_artist=True, flierprops={'marker':\".\", 'color':'black'}, \n",
    "               medianprops = {'color':'black'})\n",
    "    \n",
    "    for box, c in zip(f['boxes'], col):\n",
    "        box.set(color=c, linewidth=2, alpha=0.7)\n",
    "    \n",
    "    ax.grid(axis=\"y\")\n",
    "    plt.xticks([])\n",
    "        \n",
    "    ax.set_title(dataset, fontsize=18, family='Arial')"
   ]
  },
  {
   "cell_type": "code",
   "execution_count": 14,
   "id": "f1aec812-41e0-46c1-90b0-102e7ce960eb",
   "metadata": {},
   "outputs": [],
   "source": [
    "plt.figure(figsize=(25, 2))\n",
    "plot_k1('Human1', 0, 14, 161)\n",
    "plot_k1('Human2', 1, 14, 162)\n",
    "plot_k1('Human3', 2, 14, 163)\n",
    "plot_k1('Mouse1', 3, 8, 164)\n",
    "plot_k1('Mouse2', 4, 6, 165)\n",
    "plot_k1('Mouse3', 5, 4, 166)"
   ]
  },
  {
   "cell_type": "code",
   "execution_count": 15,
   "id": "b96b2c18-2603-4b70-bf7a-1fa632a99274",
   "metadata": {},
   "outputs": [],
   "source": [
    "plt.savefig('Figures/FigureS2A.svg', dpi=300, format='svg', bbox_inches='tight')"
   ]
  },
  {
   "cell_type": "markdown",
   "id": "6ada5688-87fe-4e19-8808-0f7ab771736b",
   "metadata": {},
   "source": [
    "# Delete cell types with fewer than 0.01 of cells"
   ]
  },
  {
   "cell_type": "code",
   "execution_count": 23,
   "id": "5c3fc48d-ef21-4be4-9298-7d533b6b5f73",
   "metadata": {},
   "outputs": [],
   "source": [
    "def compute_k(df, method, data):\n",
    "    \n",
    "    \"\"\"\n",
    "        Parameters:\n",
    "            df: seurat / cidr/ scscope/ desc / sccaf / adclust / scace\n",
    "            methods: 'Seurat' / 'CIDR' / 'scScope' / 'DESC' / 'SCCAF' / 'ADClust' / 'scAce'\n",
    "            data: data-th dataset in [Human1, Human2, Human3, Mouse1, Mouse2, Mouse3]\n",
    "            \n",
    "        Return:\n",
    "            k_true: the number of cell types after deleting cell types with fewer than 0.01 of cells\n",
    "            k_pred: the number of clusters of method after deleting cell types with fewer than 0.01 of cells\n",
    "    \"\"\"\n",
    "\n",
    "    K_true = []\n",
    "    K_pred = []\n",
    "    \n",
    "    if method in ['Seurat', 'CIDR']:\n",
    "        true = np.array([df[data]['labels'], df[data]['labels.1'], df[data]['labels.2'], \n",
    "                         df[data]['labels.3'], df[data]['labels.4'], df[data]['labels.5'], \n",
    "                         df[data]['labels.6'], df[data]['labels.7'], df[data]['labels.8'], \n",
    "                         df[data]['labels.9']])\n",
    "        pred = np.array([df[data]['clusters'], df[data]['clusters.1'], df[data]['clusters.2'], \n",
    "                         df[data]['clusters.3'], df[data]['clusters.4'], df[data]['clusters.5'], \n",
    "                         df[data]['clusters.6'], df[data]['clusters.7'], df[data]['clusters.8'], \n",
    "                         df[data]['clusters.9']])\n",
    "\n",
    "    else:\n",
    "        true = df[data]['Labels']\n",
    "        pred = df[data]['Clusters']\n",
    "\n",
    "    id_f = []\n",
    "    for j in range(10):\n",
    "\n",
    "        type_n = Counter(true[j])\n",
    "        t_n = []\n",
    "        for m in range(len(type_n)):\n",
    "            t_n.append(type_n[m])\n",
    "        t_n = np.array(t_n).squeeze()\n",
    "        c_n = t_n / sum(t_n)\n",
    "        index = np.where(c_n < 0.01)\n",
    "\n",
    "        id = []\n",
    "        for m in range(len(true[j])):\n",
    "            if np.isin(true[j][m], index) == True:\n",
    "                id.append(m)\n",
    "\n",
    "        id_f.append(id)\n",
    "\n",
    "        true_f = np.delete(true[j], id_f[j])\n",
    "        pred_f = np.delete(pred[j], id_f[j])\n",
    "\n",
    "        K_true.append(len(np.unique(true_f)))\n",
    "        K_pred.append(len(np.unique(pred_f)))\n",
    "        \n",
    "    K_true = np.array(K_true)\n",
    "    K_pred = np.array(K_pred)\n",
    "    \n",
    "    return K_true, K_pred"
   ]
  },
  {
   "cell_type": "code",
   "execution_count": 24,
   "id": "54d612ab-261a-4a6c-b482-2ccd44aaea19",
   "metadata": {},
   "outputs": [],
   "source": [
    "def plot_k2(dataset, ax, d):\n",
    "    \n",
    "    \"\"\"\n",
    "        dataset: 'Human1' / 'Human2' / 'Human3' / 'Mouse1' / 'Mouse2' / 'Mouse3'\n",
    "        d: d-th dataset in [Human1, Human2, Human3, Mouse1, Mouse2, Mouse3]\n",
    "    \"\"\"\n",
    "    \n",
    "    \n",
    "    ax = plt.subplot(ax)\n",
    "    \n",
    "    k_true, k_seurat = compute_k(seurat, 'Seurat', d)\n",
    "    k_true, k_cidr = compute_k(cidr, 'CIDR', d)\n",
    "    k_true, k_scscope = compute_k(scscope, 'scScope', d)\n",
    "    k_true, k_desc = compute_k(desc, 'DESC', d)\n",
    "    k_true, k_sccaf = compute_k(sccaf, 'SCCAF', d)\n",
    "    k_true, k_adclust = compute_k(adclust, 'ADClust', d)\n",
    "    k_true, k_scace = compute_k(scace, 'scAce', d)\n",
    "    \n",
    "    k_true = np.unique(k_true).squeeze()\n",
    "    \n",
    "    k_seurat = [x - k_true for x in k_seurat]\n",
    "    k_cidr = [x - k_true for x in k_cidr]\n",
    "    k_scscope = [x - k_true for x in k_scscope]\n",
    "    k_desc = [x - k_true for x in k_desc]\n",
    "    k_sccaf = [x - k_true for x in k_sccaf]\n",
    "    k_adclust = [x - k_true for x in k_adclust]\n",
    "    k_scace = [x - k_true for x in k_scace]\n",
    "\n",
    "    f = plt.boxplot([k_seurat, k_cidr, k_scscope, k_desc, k_sccaf, k_adclust, k_scace], \n",
    "               labels=labels, showcaps=False, patch_artist=True, flierprops={'marker':\".\", 'color':'black'}, \n",
    "               medianprops = {'color':'black'})\n",
    "    \n",
    "    for box, c in zip(f['boxes'], col):\n",
    "        box.set(color=c, linewidth=2, alpha=0.7)\n",
    "    \n",
    "    ax.grid(axis=\"y\")\n",
    "    plt.xticks([])\n",
    "        \n",
    "    ax.set_title(dataset, fontsize=18, family='Arial')"
   ]
  },
  {
   "cell_type": "code",
   "execution_count": 25,
   "id": "1593d756-d55a-4e02-9e53-cdf3d2e09602",
   "metadata": {},
   "outputs": [],
   "source": [
    "plt.figure(figsize=(25, 2))\n",
    "plot_k2('Human1', 161, 0)\n",
    "plot_k2('Human2', 162, 1)\n",
    "plot_k2('Human3', 163, 2)\n",
    "plot_k2('Mouse1', 164, 3)\n",
    "plot_k2('Mouse2', 165, 4)\n",
    "plot_k2('Mouse3', 166, 5)"
   ]
  },
  {
   "cell_type": "code",
   "execution_count": 26,
   "id": "7bd41f05-92ac-412a-b717-77e9af216931",
   "metadata": {},
   "outputs": [],
   "source": [
    "plt.savefig('Figures/FigureS2B.svg', dpi=300, format='svg', bbox_inches='tight')"
   ]
  },
  {
   "cell_type": "code",
   "execution_count": null,
   "id": "c652417b-26bf-48a7-a090-ceca7a9c57a1",
   "metadata": {},
   "outputs": [],
   "source": []
  }
 ],
 "metadata": {
  "kernelspec": {
   "display_name": "Python 3",
   "language": "python",
   "name": "python3"
  },
  "language_info": {
   "codemirror_mode": {
    "name": "ipython",
    "version": 3
   },
   "file_extension": ".py",
   "mimetype": "text/x-python",
   "name": "python",
   "nbconvert_exporter": "python",
   "pygments_lexer": "ipython3",
   "version": "3.8.8"
  }
 },
 "nbformat": 4,
 "nbformat_minor": 5
}
