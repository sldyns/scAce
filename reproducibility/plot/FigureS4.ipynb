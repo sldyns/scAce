{
 "cells": [
  {
   "cell_type": "code",
   "execution_count": 1,
   "id": "e74f9f14-e10d-4b0c-b6e2-e6890ed80300",
   "metadata": {},
   "outputs": [],
   "source": [
    "import pandas as pd\n",
    "import scanpy as sc\n",
    "import numpy as np\n",
    "import h5py\n",
    "\n",
    "import matplotlib\n",
    "import matplotlib.pyplot as plt\n",
    "matplotlib.use('Agg')\n",
    "from matplotlib.pyplot import plot,savefig\n",
    "from sklearn import metrics\n",
    "\n",
    "import warnings\n",
    "warnings.filterwarnings(\"ignore\")\n",
    "from read_count import read_data\n",
    "\n",
    "import seaborn as sns\n",
    "from matplotlib.colors import LinearSegmentedColormap\n",
    "from sklearn import metrics\n",
    "from collections import Counter"
   ]
  },
  {
   "cell_type": "code",
   "execution_count": 2,
   "id": "7eece4d5-8f46-442d-bfa4-f99f96ca2abe",
   "metadata": {},
   "outputs": [],
   "source": [
    "def plot_merge(df, method_name, n, ax):\n",
    "    \n",
    "    '''\n",
    "      n: n-th interation of merging\n",
    "      \n",
    "    '''\n",
    "    \n",
    "    ax = plt.subplot(ax)\n",
    "    \n",
    "    if method_name == 'SCCAF':\n",
    "        if df['Clusters'].shape[0] == 3:\n",
    "            y_pred = np.array(df['Clusters'][1], dtype=int).squeeze()\n",
    "        else:\n",
    "            y_pred = np.array(df['Clusters'][n], dtype=int).squeeze()\n",
    "            \n",
    "    elif method_name == 'ADClust':\n",
    "            y_pred = np.array(df['Clusters_merge'][n], dtype=int).squeeze()\n",
    "            \n",
    "    else:\n",
    "        if n == 0:\n",
    "            y_pred = np.array(df['Clusters'][n], dtype=int).squeeze()\n",
    "        else:\n",
    "            y_pred = np.array(df['Clusters'][n][-1], dtype=int).squeeze()\n",
    "        \n",
    "    \n",
    "    c_mat = []\n",
    "    for i in range(len(np.unique(y_pred))):\n",
    "        idx = np.where(y_pred == i)\n",
    "        x = y_true[idx]\n",
    "        count_t = []\n",
    "        for m in range(len(np.unique(y_true))):\n",
    "            count_t.append(Counter(x)[m])\n",
    "\n",
    "        count_t = np.array(count_t).squeeze()\n",
    "        c_mat.append(count_t)\n",
    "\n",
    "    c_mat = pd.DataFrame(c_mat).T\n",
    "    \n",
    "    c_mat.columns = np.array(list(range(len(np.unique(y_pred))))) + 1\n",
    "    c_mat.index = np.array(list(range(len(np.unique(y_true))))) + 1\n",
    "    \n",
    "    sns.heatmap(c_mat, cmap=\"PuBu\", linewidths=0.5, linecolor=\"white\")\n",
    "    \n",
    "    label_y = ax.get_yticklabels()\n",
    "    plt.setp(label_y, rotation=0, horizontalalignment='right', family='Arial')\n",
    "    label_x = ax.get_xticklabels()\n",
    "    plt.setp(label_x, rotation=0)\n",
    "    ax.set_title('Interation {}'.format(n+1), fontsize=15, family='Arial')"
   ]
  },
  {
   "cell_type": "markdown",
   "id": "87b14bf7-a293-42d1-8dba-371394a0cfe6",
   "metadata": {},
   "source": [
    "# Human1"
   ]
  },
  {
   "cell_type": "code",
   "execution_count": 3,
   "id": "d5d3eaa8-32ed-49c7-a402-e7e9fbfac27c",
   "metadata": {},
   "outputs": [],
   "source": [
    "sccaf = np.load('results/default/Human1/SCCAF_wo_sample.npz')\n",
    "scace = np.load('results/default/Human1/scAce_wo_sample.npz')\n",
    "adclust = np.load('results/default/Human1/ADClust_wo_sample.npz')"
   ]
  },
  {
   "cell_type": "code",
   "execution_count": 4,
   "id": "9e1c79b6-9a4c-4f58-b1be-5402c9dda368",
   "metadata": {},
   "outputs": [],
   "source": [
    "data_mat = h5py.File('dataset/Human1.h5')\n",
    "y_true = np.array(data_mat['Y'], dtype='int')\n",
    "data_mat.close()"
   ]
  },
  {
   "cell_type": "code",
   "execution_count": 5,
   "id": "5ccf4647-6d9e-45a5-a6df-67fa7cf302de",
   "metadata": {},
   "outputs": [
    {
     "data": {
      "text/plain": [
       "(3, 1724)"
      ]
     },
     "execution_count": 5,
     "metadata": {},
     "output_type": "execute_result"
    }
   ],
   "source": [
    "sccaf['Clusters'].shape"
   ]
  },
  {
   "cell_type": "code",
   "execution_count": 6,
   "id": "41d4751b-9a81-41a1-ada6-73f893c1a3af",
   "metadata": {},
   "outputs": [],
   "source": [
    "plt.figure(figsize=(3.6, 2))\n",
    "plot_merge(sccaf, 'SCCAF', 0, 111)"
   ]
  },
  {
   "cell_type": "code",
   "execution_count": 7,
   "id": "16f00050-7201-4961-ad77-b12792d723a2",
   "metadata": {},
   "outputs": [],
   "source": [
    "plt.savefig('Figures/FigureS4A1.svg', dpi=300, format='svg', bbox_inches='tight')"
   ]
  },
  {
   "cell_type": "markdown",
   "id": "46c7d72f-ce03-4279-aa19-86bf08802d18",
   "metadata": {},
   "source": [
    "## ADClust"
   ]
  },
  {
   "cell_type": "code",
   "execution_count": 8,
   "id": "91f79690-75f8-4ce2-a795-4278854778f2",
   "metadata": {},
   "outputs": [
    {
     "data": {
      "text/plain": [
       "(5, 1724)"
      ]
     },
     "execution_count": 8,
     "metadata": {},
     "output_type": "execute_result"
    }
   ],
   "source": [
    "adclust['Clusters_merge'].shape"
   ]
  },
  {
   "cell_type": "code",
   "execution_count": 9,
   "id": "126076d7-32da-49e3-b220-e2840173faa0",
   "metadata": {},
   "outputs": [],
   "source": [
    "plt.figure(figsize=(20, 2))\n",
    "plot_merge(adclust, 'ADClust', 0, 151)\n",
    "plot_merge(adclust, 'ADClust', 1, 152)\n",
    "plot_merge(adclust, 'ADClust', 2, 153)\n",
    "plot_merge(adclust, 'ADClust', 3, 154)\n",
    "plot_merge(adclust, 'ADClust', 4, 155)"
   ]
  },
  {
   "cell_type": "code",
   "execution_count": 10,
   "id": "d408797f-662d-44cd-a37f-d41e0c93252b",
   "metadata": {},
   "outputs": [],
   "source": [
    "plt.savefig('Figures/FigureS4A2.svg', dpi=300, format='svg', bbox_inches='tight')"
   ]
  },
  {
   "cell_type": "markdown",
   "id": "68bb6aa4-4e13-45fa-a8c1-64abebc7f362",
   "metadata": {},
   "source": [
    "## scAce"
   ]
  },
  {
   "cell_type": "code",
   "execution_count": 11,
   "id": "1c36eff4-264f-4e3b-aad7-78cb942a98d3",
   "metadata": {},
   "outputs": [
    {
     "data": {
      "text/plain": [
       "(6,)"
      ]
     },
     "execution_count": 11,
     "metadata": {},
     "output_type": "execute_result"
    }
   ],
   "source": [
    "scace['Clusters'].shape"
   ]
  },
  {
   "cell_type": "code",
   "execution_count": 12,
   "id": "ab1ef4fc-9129-4d31-891e-aff789ab1de6",
   "metadata": {},
   "outputs": [],
   "source": [
    "plt.figure(figsize=(20, 2))\n",
    "plot_merge(scace, 'scAce', 0, 151)\n",
    "plot_merge(scace, 'scAce', 1, 152)\n",
    "plot_merge(scace, 'scAce', 2, 153)\n",
    "plot_merge(scace, 'scAce', 3, 154)\n",
    "plot_merge(scace, 'scAce', 4, 155)"
   ]
  },
  {
   "cell_type": "code",
   "execution_count": 13,
   "id": "5baf600b-7f88-49a0-b887-9f6475e5c92b",
   "metadata": {},
   "outputs": [],
   "source": [
    "plt.savefig('Figures/FigureS4A3.svg', dpi=300, format='svg', bbox_inches='tight')"
   ]
  },
  {
   "cell_type": "markdown",
   "id": "fc90d79b-2059-4ec1-a1b1-86e9435a7257",
   "metadata": {},
   "source": [
    "# Human2"
   ]
  },
  {
   "cell_type": "code",
   "execution_count": 14,
   "id": "adb19174-4eaf-4631-8061-385713269dc3",
   "metadata": {},
   "outputs": [],
   "source": [
    "sccaf = np.load('results/default/Human2/SCCAF_wo_sample.npz')\n",
    "scace = np.load('results/default/Human2/scAce_wo_sample.npz')\n",
    "adclust = np.load('results/default/Human2/ADClust_wo_sample.npz')"
   ]
  },
  {
   "cell_type": "code",
   "execution_count": 15,
   "id": "3f7503df-9fe6-4476-8d32-a20b27180daf",
   "metadata": {},
   "outputs": [],
   "source": [
    "data_mat = h5py.File('dataset/Human2.h5')\n",
    "y_true = np.array(data_mat['Y'], dtype='int')\n",
    "data_mat.close()"
   ]
  },
  {
   "cell_type": "code",
   "execution_count": 16,
   "id": "86381f1a-3fb4-4d95-a4e0-0ed42783973c",
   "metadata": {},
   "outputs": [
    {
     "data": {
      "text/plain": [
       "(3, 3605)"
      ]
     },
     "execution_count": 16,
     "metadata": {},
     "output_type": "execute_result"
    }
   ],
   "source": [
    "sccaf['Clusters'].shape"
   ]
  },
  {
   "cell_type": "code",
   "execution_count": 17,
   "id": "4a171cc5-d220-41d3-a8d2-e2f055bd8586",
   "metadata": {},
   "outputs": [],
   "source": [
    "plt.figure(figsize=(3.6, 2))\n",
    "plot_merge(sccaf, 'SCCAF', 0, 111)"
   ]
  },
  {
   "cell_type": "code",
   "execution_count": 18,
   "id": "348d1d17-2b6e-4f91-8263-e6dbf9d9681a",
   "metadata": {},
   "outputs": [],
   "source": [
    "plt.savefig('Figures/FigureS4B1.svg', dpi=300, format='svg', bbox_inches='tight')"
   ]
  },
  {
   "cell_type": "code",
   "execution_count": 24,
   "id": "5ddaacf0-618f-4162-8ce2-b9989cb63f7f",
   "metadata": {},
   "outputs": [
    {
     "data": {
      "text/plain": [
       "(7, 3605)"
      ]
     },
     "execution_count": 24,
     "metadata": {},
     "output_type": "execute_result"
    }
   ],
   "source": [
    "adclust['Clusters_merge'].shape"
   ]
  },
  {
   "cell_type": "code",
   "execution_count": 25,
   "id": "d6736fac-ca1a-464b-bfe1-9393cf36ee12",
   "metadata": {},
   "outputs": [],
   "source": [
    "plt.figure(figsize=(25, 2))\n",
    "plot_merge(adclust, 'ADClust', 0, 171)\n",
    "plot_merge(adclust, 'ADClust', 1, 172)\n",
    "plot_merge(adclust, 'ADClust', 2, 173)\n",
    "plot_merge(adclust, 'ADClust', 3, 174)\n",
    "plot_merge(adclust, 'ADClust', 4, 175)\n",
    "plot_merge(adclust, 'ADClust', 5, 176)\n",
    "plot_merge(adclust, 'ADClust', 6, 177)"
   ]
  },
  {
   "cell_type": "code",
   "execution_count": 26,
   "id": "a556c95d-bd18-4dc2-964b-da49f74db2fa",
   "metadata": {},
   "outputs": [],
   "source": [
    "plt.savefig('Figures/FigureS4B2.svg', dpi=300, format='svg', bbox_inches='tight')"
   ]
  },
  {
   "cell_type": "code",
   "execution_count": 27,
   "id": "e37e4497-0df4-4184-874d-d17dcdb3d086",
   "metadata": {},
   "outputs": [
    {
     "data": {
      "text/plain": [
       "(5,)"
      ]
     },
     "execution_count": 27,
     "metadata": {},
     "output_type": "execute_result"
    }
   ],
   "source": [
    "scace['Clusters'].shape"
   ]
  },
  {
   "cell_type": "code",
   "execution_count": 28,
   "id": "2e5ca3f5-72cf-4879-b52b-a8b2476b6c16",
   "metadata": {},
   "outputs": [],
   "source": [
    "plt.figure(figsize=(14.3, 2))\n",
    "plot_merge(scace, 'scAce', 0, 141)\n",
    "plot_merge(scace, 'scAce', 1, 142)\n",
    "plot_merge(scace, 'scAce', 2, 143)\n",
    "plot_merge(scace, 'scAce', 3, 144)"
   ]
  },
  {
   "cell_type": "code",
   "execution_count": 29,
   "id": "67e2c13d-fc01-4814-8ab7-58f598baf5b5",
   "metadata": {},
   "outputs": [],
   "source": [
    "plt.savefig('Figures/FigureS4B3.svg', dpi=300, format='svg', bbox_inches='tight')"
   ]
  },
  {
   "cell_type": "markdown",
   "id": "719455cd-2b87-4d5f-94e4-8e64e63457ce",
   "metadata": {},
   "source": [
    "# Human3"
   ]
  },
  {
   "cell_type": "code",
   "execution_count": 30,
   "id": "6093a701-8f11-45b0-bb9d-5b7dabb33479",
   "metadata": {},
   "outputs": [],
   "source": [
    "sccaf = np.load('results/default/Human3/SCCAF_wo_sample.npz')\n",
    "scace = np.load('results/default/Human3/scAce_wo_sample.npz')\n",
    "adclust = np.load('results/default/Human3/ADClust_wo_sample.npz')"
   ]
  },
  {
   "cell_type": "code",
   "execution_count": 31,
   "id": "e6fd2a98-43bf-4d3b-bf46-9476d5c1754c",
   "metadata": {},
   "outputs": [],
   "source": [
    "data_mat = h5py.File('dataset/Human3.h5')\n",
    "y_true = np.array(data_mat['Y'], dtype='int')\n",
    "data_mat.close()"
   ]
  },
  {
   "cell_type": "code",
   "execution_count": 32,
   "id": "3c43d7b7-a0ac-4fa0-b087-6d1b3c59989a",
   "metadata": {},
   "outputs": [
    {
     "data": {
      "text/plain": [
       "(3, 1303)"
      ]
     },
     "execution_count": 32,
     "metadata": {},
     "output_type": "execute_result"
    }
   ],
   "source": [
    "plt.figure(figsize=(3.6, 2))\n",
    "sccaf['Clusters'].shape"
   ]
  },
  {
   "cell_type": "code",
   "execution_count": 33,
   "id": "326be7ec-12f0-4e17-b990-a601c4e04d51",
   "metadata": {},
   "outputs": [],
   "source": [
    "plt.figure(figsize=(3.6, 2))\n",
    "plot_merge(sccaf, 'SCCAF', 0, 111)"
   ]
  },
  {
   "cell_type": "code",
   "execution_count": 34,
   "id": "96145a7e-4fdf-4110-80dc-52d45eaa1298",
   "metadata": {},
   "outputs": [],
   "source": [
    "plt.savefig('Figures/FigureS4C1.svg', dpi=300, format='svg', bbox_inches='tight')"
   ]
  },
  {
   "cell_type": "code",
   "execution_count": 35,
   "id": "455ff324-6340-4c7a-9186-b8cf1df966be",
   "metadata": {},
   "outputs": [
    {
     "data": {
      "text/plain": [
       "(6, 1303)"
      ]
     },
     "execution_count": 35,
     "metadata": {},
     "output_type": "execute_result"
    }
   ],
   "source": [
    "adclust['Clusters_merge'].shape"
   ]
  },
  {
   "cell_type": "code",
   "execution_count": 36,
   "id": "1a645b61-7bd4-4366-a95e-f0ada8df59fb",
   "metadata": {},
   "outputs": [],
   "source": [
    "plt.figure(figsize=(21.4, 2))\n",
    "plot_merge(adclust, 'ADClust', 0, 161)\n",
    "plot_merge(adclust, 'ADClust', 1, 162)\n",
    "plot_merge(adclust, 'ADClust', 2, 163)\n",
    "plot_merge(adclust, 'ADClust', 3, 164)\n",
    "plot_merge(adclust, 'ADClust', 4, 165)\n",
    "plot_merge(adclust, 'ADClust', 5, 166)"
   ]
  },
  {
   "cell_type": "code",
   "execution_count": 37,
   "id": "b6effd8b-df3a-4fab-a38a-eeceea83a9b0",
   "metadata": {},
   "outputs": [],
   "source": [
    "plt.savefig('Figures/FigureS4C2.svg', dpi=300, format='svg', bbox_inches='tight')"
   ]
  },
  {
   "cell_type": "code",
   "execution_count": 38,
   "id": "be175fae-8705-4dbb-84b7-5a614df3d813",
   "metadata": {},
   "outputs": [
    {
     "data": {
      "text/plain": [
       "(5,)"
      ]
     },
     "execution_count": 38,
     "metadata": {},
     "output_type": "execute_result"
    }
   ],
   "source": [
    "scace['Clusters'].shape"
   ]
  },
  {
   "cell_type": "code",
   "execution_count": 39,
   "id": "11dfbacd-3f0c-4e6c-bf76-2dae8de1725c",
   "metadata": {},
   "outputs": [],
   "source": [
    "plt.figure(figsize=(14.3, 2))\n",
    "plot_merge(scace, 'scAce', 0, 141)\n",
    "plot_merge(scace, 'scAce', 1, 142)\n",
    "plot_merge(scace, 'scAce', 2, 143)\n",
    "plot_merge(scace, 'scAce', 3, 144)"
   ]
  },
  {
   "cell_type": "code",
   "execution_count": 40,
   "id": "da708b43-a4e2-4b21-9b9a-c5db112244b8",
   "metadata": {},
   "outputs": [],
   "source": [
    "plt.savefig('Figures/FigureS4C3.svg', dpi=300, format='svg', bbox_inches='tight')"
   ]
  },
  {
   "cell_type": "markdown",
   "id": "180bfa34-c387-4482-a29c-a141f31901a7",
   "metadata": {},
   "source": [
    "# Mouse2"
   ]
  },
  {
   "cell_type": "code",
   "execution_count": 41,
   "id": "4839778f-585d-44ef-b4b5-3b9fb5942cc6",
   "metadata": {},
   "outputs": [],
   "source": [
    "sccaf = np.load('results/default/Mouse2/SCCAF_wo_sample.npz')\n",
    "scace = np.load('results/default/Mouse2/scAce_wo_sample.npz')\n",
    "adclust = np.load('results/default/Mouse2/ADClust_wo_sample.npz')"
   ]
  },
  {
   "cell_type": "code",
   "execution_count": 42,
   "id": "c25ba0bf-77dd-45a4-a3ac-5fbcd978801c",
   "metadata": {},
   "outputs": [],
   "source": [
    "mat, obs, var, uns = read_data('dataset/Mouse2.h5', sparsify=False, skip_exprs=False)\n",
    "cell_name = np.array(obs[\"cell_type1\"])\n",
    "cell_type, cell_label = np.unique(cell_name, return_inverse=True)\n",
    "y_true = cell_label"
   ]
  },
  {
   "cell_type": "code",
   "execution_count": 43,
   "id": "de9515bf-c37f-4224-8c53-2c51658e09b2",
   "metadata": {},
   "outputs": [
    {
     "data": {
      "text/plain": [
       "(3, 3909)"
      ]
     },
     "execution_count": 43,
     "metadata": {},
     "output_type": "execute_result"
    }
   ],
   "source": [
    "sccaf['Clusters'].shape"
   ]
  },
  {
   "cell_type": "code",
   "execution_count": 44,
   "id": "e9f5c3aa-55e9-4610-b9db-28cb0d34fe7f",
   "metadata": {},
   "outputs": [],
   "source": [
    "plt.figure(figsize=(3.6, 2))\n",
    "plot_merge(sccaf, 'SCCAF', 0, 111)"
   ]
  },
  {
   "cell_type": "code",
   "execution_count": 45,
   "id": "35c6ddd0-270f-424f-8fcd-274ed7cfba5d",
   "metadata": {},
   "outputs": [],
   "source": [
    "plt.savefig('Figures/FigureS4D1.svg', dpi=300, format='svg', bbox_inches='tight')"
   ]
  },
  {
   "cell_type": "code",
   "execution_count": 46,
   "id": "0dd57bc9-250d-4525-887c-4ab5efcccd7d",
   "metadata": {},
   "outputs": [
    {
     "data": {
      "text/plain": [
       "(5, 3909)"
      ]
     },
     "execution_count": 46,
     "metadata": {},
     "output_type": "execute_result"
    }
   ],
   "source": [
    "adclust['Clusters_merge'].shape"
   ]
  },
  {
   "cell_type": "code",
   "execution_count": 47,
   "id": "268de19e-1778-4cdc-b84b-c4c2337cd66b",
   "metadata": {},
   "outputs": [],
   "source": [
    "plt.figure(figsize=(17.86, 2))\n",
    "plot_merge(adclust, 'ADClust', 0, 151)\n",
    "plot_merge(adclust, 'ADClust', 1, 152)\n",
    "plot_merge(adclust, 'ADClust', 2, 153)\n",
    "plot_merge(adclust, 'ADClust', 3, 154)\n",
    "plot_merge(adclust, 'ADClust', 4, 155)"
   ]
  },
  {
   "cell_type": "code",
   "execution_count": 48,
   "id": "f70307c4-0ed9-43f5-b6c9-b908704a6efe",
   "metadata": {},
   "outputs": [],
   "source": [
    "plt.savefig('Figures/FigureS4D2.svg', dpi=300, format='svg', bbox_inches='tight')"
   ]
  },
  {
   "cell_type": "code",
   "execution_count": 49,
   "id": "ea030e59-85ad-49ff-a902-5846b857abf8",
   "metadata": {},
   "outputs": [
    {
     "data": {
      "text/plain": [
       "(5,)"
      ]
     },
     "execution_count": 49,
     "metadata": {},
     "output_type": "execute_result"
    }
   ],
   "source": [
    "scace['Clusters'].shape"
   ]
  },
  {
   "cell_type": "code",
   "execution_count": 50,
   "id": "0da3e468-033e-41fc-a692-003550522ff2",
   "metadata": {},
   "outputs": [],
   "source": [
    "plt.figure(figsize=(14.3, 2))\n",
    "plot_merge(scace, 'scAce', 0, 141)\n",
    "plot_merge(scace, 'scAce', 1, 142)\n",
    "plot_merge(scace, 'scAce', 2, 143)\n",
    "plot_merge(scace, 'scAce', 3, 144)"
   ]
  },
  {
   "cell_type": "code",
   "execution_count": 51,
   "id": "0f2046e1-c692-4832-9ba1-feb704e36309",
   "metadata": {},
   "outputs": [],
   "source": [
    "plt.savefig('Figures/FigureS4D3.svg', dpi=300, format='svg', bbox_inches='tight')"
   ]
  },
  {
   "cell_type": "markdown",
   "id": "75fbed67-0596-4704-ab37-58071b297532",
   "metadata": {},
   "source": [
    "# Mouse3"
   ]
  },
  {
   "cell_type": "code",
   "execution_count": 52,
   "id": "4fe3797f-6471-432b-958d-8b1deebd5b66",
   "metadata": {},
   "outputs": [],
   "source": [
    "sccaf = np.load('results/default/Mouse3/SCCAF_wo_sample.npz')\n",
    "scace = np.load('results/default/Mouse3/scAce_wo_sample.npz')\n",
    "adclust = np.load('results/default/Mouse3/ADClust_wo_sample.npz')"
   ]
  },
  {
   "cell_type": "code",
   "execution_count": 53,
   "id": "24b253e2-c55e-4e13-bfc6-9ad199630b5c",
   "metadata": {},
   "outputs": [],
   "source": [
    "data_mat = h5py.File('dataset/Mouse3.h5')\n",
    "y_true = np.array(data_mat['Y'], dtype='int')\n",
    "data_mat.close()"
   ]
  },
  {
   "cell_type": "code",
   "execution_count": 54,
   "id": "34c5fdb7-b149-468a-bab2-9979300b737c",
   "metadata": {},
   "outputs": [],
   "source": [
    "for i in range(len(np.unique(y_true))):\n",
    "    if np.unique(y_true)[i] != i:\n",
    "        y_true[y_true == np.unique(y_true)[i]] = i\n",
    "    else:\n",
    "        continue"
   ]
  },
  {
   "cell_type": "code",
   "execution_count": 55,
   "id": "ef03eab0-66fc-41ec-9dc1-6d181011564d",
   "metadata": {},
   "outputs": [
    {
     "data": {
      "text/plain": [
       "(4, 2717)"
      ]
     },
     "execution_count": 55,
     "metadata": {},
     "output_type": "execute_result"
    }
   ],
   "source": [
    "sccaf['Clusters'].shape"
   ]
  },
  {
   "cell_type": "code",
   "execution_count": null,
   "id": "4af7b3b6-af88-4036-a839-1bd14dee1302",
   "metadata": {},
   "outputs": [],
   "source": []
  },
  {
   "cell_type": "code",
   "execution_count": 56,
   "id": "45ce9dfd-6d63-4c57-b669-782a320f670c",
   "metadata": {},
   "outputs": [],
   "source": [
    "plt.figure(figsize=(7.144, 2))\n",
    "plot_merge(sccaf, 'SCCAF', 1, 121)\n",
    "plot_merge(sccaf, 'SCCAF', 2, 122)"
   ]
  },
  {
   "cell_type": "code",
   "execution_count": 57,
   "id": "187f0d13-a9fb-4a38-b2ae-f4d5758a1942",
   "metadata": {},
   "outputs": [],
   "source": [
    "plt.savefig('Figures/FigureS4E1.svg', dpi=300, format='svg', bbox_inches='tight')"
   ]
  },
  {
   "cell_type": "code",
   "execution_count": 58,
   "id": "ce07842c-7bdd-4740-adc4-016ccb717826",
   "metadata": {},
   "outputs": [
    {
     "data": {
      "text/plain": [
       "(5, 2717)"
      ]
     },
     "execution_count": 58,
     "metadata": {},
     "output_type": "execute_result"
    }
   ],
   "source": [
    "adclust['Clusters_merge'].shape"
   ]
  },
  {
   "cell_type": "code",
   "execution_count": 59,
   "id": "112c3bb1-004a-41c0-8eb3-d1a7ba05e42f",
   "metadata": {},
   "outputs": [],
   "source": [
    "plt.figure(figsize=(17.86, 2))\n",
    "plot_merge(adclust, 'ADClust', 0, 151)\n",
    "plot_merge(adclust, 'ADClust', 1, 152)\n",
    "plot_merge(adclust, 'ADClust', 2, 153)\n",
    "plot_merge(adclust, 'ADClust', 3, 154)\n",
    "plot_merge(adclust, 'ADClust', 4, 155)"
   ]
  },
  {
   "cell_type": "code",
   "execution_count": 60,
   "id": "430b5cca-007b-41ec-a78e-aadde7e63d40",
   "metadata": {},
   "outputs": [],
   "source": [
    "plt.savefig('Figures/FigureS4E2.svg', dpi=300, format='svg', bbox_inches='tight')"
   ]
  },
  {
   "cell_type": "code",
   "execution_count": 61,
   "id": "0c24caf2-44ee-4534-9b5f-0f028f8bdc00",
   "metadata": {},
   "outputs": [
    {
     "data": {
      "text/plain": [
       "(5,)"
      ]
     },
     "execution_count": 61,
     "metadata": {},
     "output_type": "execute_result"
    }
   ],
   "source": [
    "scace['Clusters'].shape"
   ]
  },
  {
   "cell_type": "code",
   "execution_count": 62,
   "id": "49359573-135e-4e4c-8b3b-fb177a1348d4",
   "metadata": {},
   "outputs": [],
   "source": [
    "plt.figure(figsize=(14.3, 2))\n",
    "plot_merge(scace, 'scAce', 0, 141)\n",
    "plot_merge(scace, 'scAce', 1, 142)\n",
    "plot_merge(scace, 'scAce', 2, 143)\n",
    "plot_merge(scace, 'scAce', 3, 144)"
   ]
  },
  {
   "cell_type": "code",
   "execution_count": 63,
   "id": "c1f40b9d-3855-41c6-bc04-1187c8991821",
   "metadata": {},
   "outputs": [],
   "source": [
    "plt.savefig('Figures/FigureS4E3.svg', dpi=300, format='svg', bbox_inches='tight')"
   ]
  },
  {
   "cell_type": "code",
   "execution_count": null,
   "id": "6cb66965-c99c-44e4-b3ac-84f40205b65e",
   "metadata": {},
   "outputs": [],
   "source": []
  }
 ],
 "metadata": {
  "kernelspec": {
   "display_name": "Python 3",
   "language": "python",
   "name": "python3"
  },
  "language_info": {
   "codemirror_mode": {
    "name": "ipython",
    "version": 3
   },
   "file_extension": ".py",
   "mimetype": "text/x-python",
   "name": "python",
   "nbconvert_exporter": "python",
   "pygments_lexer": "ipython3",
   "version": "3.8.8"
  }
 },
 "nbformat": 4,
 "nbformat_minor": 5
}
