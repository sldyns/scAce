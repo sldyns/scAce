{
 "cells": [
  {
   "cell_type": "code",
   "execution_count": 1,
   "id": "a228322a-8e44-4244-82a4-675e2c90a8cf",
   "metadata": {},
   "outputs": [],
   "source": [
    "import pandas as pd\n",
    "import scanpy as sc\n",
    "import numpy as np\n",
    "import h5py\n",
    "\n",
    "import matplotlib\n",
    "import matplotlib.pyplot as plt\n",
    "matplotlib.use('Agg')\n",
    "from matplotlib.pyplot import plot,savefig\n",
    "from sklearn import metrics\n",
    "\n",
    "import warnings\n",
    "warnings.filterwarnings(\"ignore\")\n",
    "from read_count import read_data"
   ]
  },
  {
   "cell_type": "code",
   "execution_count": 2,
   "id": "99d86c2f-7eee-4dfc-a20e-0340d27ed70f",
   "metadata": {},
   "outputs": [],
   "source": [
    "col = [\"#E64B35CC\", \"#0072B5CC\", \"#00A087CC\", \"#3C5488CC\", \"#F39B7FCC\", \"#F7DC05FF\", \"#FD7446E5\",\n",
    "       \"#8491B4CC\", \"#7E6148CC\", \"#B09C85CC\", \"#E18727CC\", \"#FFDC91E5\", \"#6A6599E5\", \"#9467BDB2\"]"
   ]
  },
  {
   "cell_type": "code",
   "execution_count": 3,
   "id": "7ee4b4df-a5ff-424e-a8f4-0f6174c7d55a",
   "metadata": {},
   "outputs": [],
   "source": [
    "def plot_cluster(df, method_name, n, y_true, by, ax):\n",
    "    \n",
    "    \"\"\"\n",
    "        n: n-th dataset in [Mouse1, Mouse2, Mouse3]\n",
    "        by: 'pred' or 'true'. If by == 'pred', colored by cluster labels, else colored by true cell types.\n",
    "    \"\"\"\n",
    "    \n",
    "    y_pred = df['Clusters'][0]\n",
    "    \n",
    "    if method_name == 'SCCAF':\n",
    "        tsne = tsne_sccaf[n]\n",
    "    elif method_name == 'ADClust':\n",
    "        tsne = tsne_adclust[n]\n",
    "    else:\n",
    "        tsne = tsne_scace[n]\n",
    "    \n",
    "    K = len(np.unique(y_pred))\n",
    "    \n",
    "    y_pred = np.asarray(y_pred, dtype='int').squeeze()\n",
    "    ari = np.round(metrics.adjusted_rand_score(y_pred, y_true), 2)\n",
    "    nmi = np.round(metrics.normalized_mutual_info_score(y_pred, y_true), 2)\n",
    "    print('Method: {}, ARI={}, NMI={}, k={}'.format(method_name, ari, nmi, K))\n",
    "        \n",
    "    adata = sc.AnnData(pd.DataFrame(np.random.rand(len(y_pred), 1)))\n",
    "    adata.obs['pred'] = y_pred\n",
    "    adata.obs['pred'] = adata.obs['pred'].astype(str).astype('category')\n",
    "    adata.obs['true'] = y_true\n",
    "    adata.obs['true'] = adata.obs['true'].astype(str).astype('category')\n",
    "\n",
    "    adata.obsm['X_tsne'] = tsne\n",
    "    \n",
    "    if by == 'pred':\n",
    "        sc.pl.tsne(adata, color=['pred'], ax=ax, show=False, legend_loc='None', size=20)\n",
    "        ax.set_title('K={}'.format(K), fontsize=15, family='Arial')\n",
    "        ax.spines['right'].set_visible(False)\n",
    "        ax.spines['top'].set_visible(False)\n",
    "        \n",
    "    else:\n",
    "        sc.pl.tsne(adata, color=['true'], ax=ax, show=False, legend_loc='None', size=20, palette=col)\n",
    "        ax.set_title('({} Cell types)'.format(len(np.unique(y_true))), fontsize=15, family='Arial')\n",
    "        ax.spines['right'].set_visible(False)\n",
    "        ax.spines['top'].set_visible(False)"
   ]
  },
  {
   "cell_type": "code",
   "execution_count": 4,
   "id": "8f5b3c19-0910-4078-92c0-c981af92861e",
   "metadata": {},
   "outputs": [],
   "source": [
    "mat, obs, var, uns = read_data('dataset/Mouse1.h5', sparsify=False, skip_exprs=False)\n",
    "x_mouse1 = np.array(mat.toarray())\n",
    "cell_name = np.array(obs[\"cell_type1\"])\n",
    "cell_type, cell_label = np.unique(cell_name, return_inverse=True)\n",
    "y_true_mouse1 = cell_label\n",
    "\n",
    "mat, obs, var, uns = read_data('dataset/Mouse2.h5', sparsify=False, skip_exprs=False)\n",
    "x_mouse2 = np.array(mat.toarray())\n",
    "cell_name = np.array(obs[\"cell_type1\"])\n",
    "cell_type, cell_label = np.unique(cell_name, return_inverse=True)\n",
    "y_true_mouse2 = cell_label\n",
    "\n",
    "data_mat = h5py.File('dataset/Mouse3.h5')\n",
    "x_mouse3 = data_mat['X']\n",
    "y_true_mouse3 = np.array(data_mat['Y'], dtype='int')\n",
    "data_mat.close()"
   ]
  },
  {
   "cell_type": "code",
   "execution_count": 5,
   "id": "aa48041a-0ab0-4e6d-abdc-20f3f4b4fd36",
   "metadata": {},
   "outputs": [],
   "source": [
    "mouse1_sccaf = np.load('results/default/Mouse1/SCCAF_wo_sample.npz')\n",
    "mouse2_sccaf = np.load('results/default/Mouse2/SCCAF_wo_sample.npz')\n",
    "mouse3_sccaf = np.load('results/default/Mouse3/SCCAF_wo_sample.npz')\n",
    "\n",
    "mouse1_adclust = np.load('results/default/Mouse1/ADClust_wo_sample.npz')\n",
    "mouse2_adclust = np.load('results/default/Mouse2/ADClust_wo_sample.npz')\n",
    "mouse3_adclust = np.load('results/default/Mouse3/ADClust_wo_sample.npz')\n",
    "\n",
    "mouse1_scace = np.load('results/default/Mouse1/scAce_wo_sample.npz')\n",
    "mouse2_scace = np.load('results/default/Mouse2/scAce_wo_sample.npz')\n",
    "mouse3_scace = np.load('results/default/Mouse3/scAce_wo_sample.npz')"
   ]
  },
  {
   "cell_type": "code",
   "execution_count": 8,
   "id": "49535528-d781-46d6-946f-e56383d1901f",
   "metadata": {},
   "outputs": [
    {
     "name": "stdout",
     "output_type": "stream",
     "text": [
      "WARNING: You’re trying to run this on 18308 dimensions of `.X`, if you really want this, set `use_rep='X'`.\n",
      "         Falling back to preprocessing with `sc.pp.pca` and default params.\n",
      "WARNING: You’re trying to run this on 14942 dimensions of `.X`, if you really want this, set `use_rep='X'`.\n",
      "         Falling back to preprocessing with `sc.pp.pca` and default params.\n",
      "WARNING: You’re trying to run this on 24022 dimensions of `.X`, if you really want this, set `use_rep='X'`.\n",
      "         Falling back to preprocessing with `sc.pp.pca` and default params.\n"
     ]
    }
   ],
   "source": [
    "tsne_sccaf, tsne_adclust, tsne_scace = [], [], []\n",
    "sccaf_data = [mouse1_sccaf, mouse2_sccaf, mouse3_sccaf]\n",
    "adclust_data = [mouse1_adclust, mouse2_adclust, mouse3_adclust]\n",
    "scace_data = [mouse1_scace, mouse2_scace, mouse3_scace]\n",
    "\n",
    "for data in sccaf_data:\n",
    "    adata = sc.AnnData(data['Embedding'])\n",
    "    sc.tl.tsne(adata, random_state=0)\n",
    "    tsne_sccaf.append(np.array(adata.obsm['X_tsne']))\n",
    "    \n",
    "for data in adclust_data:\n",
    "    adata = sc.AnnData(data['Embedding'][0])\n",
    "    sc.tl.tsne(adata, random_state=0)\n",
    "    tsne_adclust.append(np.array(adata.obsm['X_tsne']))\n",
    "    \n",
    "for data in scace_data:\n",
    "    adata = sc.AnnData(data['Embedding'][0])\n",
    "    sc.tl.tsne(adata, random_state=0)\n",
    "    tsne_scace.append(np.array(adata.obsm['X_tsne']))"
   ]
  },
  {
   "cell_type": "code",
   "execution_count": 9,
   "id": "0187cf77-6d71-4fde-814b-5219fe3d244e",
   "metadata": {},
   "outputs": [],
   "source": [
    "fig = plt.figure(figsize=(10, 8))\n",
    "methods = ['SCCAF', 'ADClust', 'scAce']\n",
    "\n",
    "sub_figs = fig.subfigures(3, 1)\n",
    "\n",
    "axs = []\n",
    "\n",
    "for i, sub_fig in enumerate(sub_figs):\n",
    "        \n",
    "    axs.append(sub_fig.subplots(1, 3))\n",
    "#     sub_fig.supylabel(methods[i], x=0.07, fontsize=15, family='Arial')\n",
    "    \n",
    "axs = np.array(axs)"
   ]
  },
  {
   "cell_type": "code",
   "execution_count": 10,
   "id": "2e0e0225-80ee-4294-be0f-99c7c59054e9",
   "metadata": {},
   "outputs": [
    {
     "name": "stdout",
     "output_type": "stream",
     "text": [
      "Method: SCCAF, ARI=0.56, NMI=0.74, k=17\n",
      "Method: SCCAF, ARI=0.44, NMI=0.73, k=19\n",
      "Method: SCCAF, ARI=0.64, NMI=0.79, k=9\n",
      "Method: ADClust, ARI=0.27, NMI=0.65, k=42\n",
      "Method: ADClust, ARI=0.21, NMI=0.62, k=36\n",
      "Method: ADClust, ARI=0.19, NMI=0.54, k=27\n",
      "Method: scAce, ARI=0.47, NMI=0.73, k=24\n",
      "Method: scAce, ARI=0.32, NMI=0.68, k=26\n",
      "Method: scAce, ARI=0.38, NMI=0.66, k=18\n"
     ]
    }
   ],
   "source": [
    "plot_cluster(mouse1_sccaf, 'SCCAF', 0, y_true_mouse1, 'pred', axs[0][0])\n",
    "plot_cluster(mouse2_sccaf, 'SCCAF', 1, y_true_mouse2, 'pred', axs[0][1])\n",
    "plot_cluster(mouse3_sccaf, 'SCCAF', 2, y_true_mouse3, 'pred', axs[0][2])\n",
    "\n",
    "plot_cluster(mouse1_adclust, 'ADClust', 0, y_true_mouse1, 'pred', axs[1][0])\n",
    "plot_cluster(mouse2_adclust, 'ADClust', 1, y_true_mouse2, 'pred', axs[1][1])\n",
    "plot_cluster(mouse3_adclust, 'ADClust', 2, y_true_mouse3, 'pred', axs[1][2])\n",
    "\n",
    "plot_cluster(mouse1_scace, 'scAce', 0, y_true_mouse1, 'pred', axs[2][0])\n",
    "plot_cluster(mouse2_scace, 'scAce', 1, y_true_mouse2, 'pred', axs[2][1])\n",
    "plot_cluster(mouse3_scace, 'scAce', 2, y_true_mouse3, 'pred', axs[2][2])"
   ]
  },
  {
   "cell_type": "code",
   "execution_count": 11,
   "id": "43b51233-9846-46bf-8798-6035b6afcced",
   "metadata": {},
   "outputs": [
    {
     "data": {
      "text/plain": [
       "<Figure size 1000x800 with 9 Axes>"
      ]
     },
     "execution_count": 11,
     "metadata": {},
     "output_type": "execute_result"
    }
   ],
   "source": [
    "fig"
   ]
  },
  {
   "cell_type": "code",
   "execution_count": 12,
   "id": "bc223fda-a8ea-47b0-afc0-107a9bc78bd7",
   "metadata": {},
   "outputs": [],
   "source": [
    "plt.savefig('Figures/Figure4A.svg', dpi=300, format='svg', bbox_inches='tight')"
   ]
  },
  {
   "cell_type": "code",
   "execution_count": 13,
   "id": "40ff1572-8072-46f9-86f2-859c48ed26e2",
   "metadata": {},
   "outputs": [],
   "source": [
    "fig = plt.figure(figsize=(10, 8))\n",
    "methods = ['SCCAF', 'ADClust', 'scAce']\n",
    "\n",
    "sub_figs = fig.subfigures(3, 1)\n",
    "\n",
    "axs = []\n",
    "\n",
    "for i, sub_fig in enumerate(sub_figs):\n",
    "    axs.append(sub_fig.subplots(1, 3))\n",
    "    \n",
    "axs = np.array(axs)"
   ]
  },
  {
   "cell_type": "code",
   "execution_count": 14,
   "id": "d5a830c9-ef43-45fa-94e5-12c9cdd65605",
   "metadata": {},
   "outputs": [],
   "source": [
    "col = [\"#E64B35CC\", \"#0072B5CC\", \"#00A087CC\", \"#3C5488CC\", \"#F39B7FCC\", \"#F7DC05FF\", \"#FD7446E5\",\n",
    "       \"#8491B4CC\", \"#7E6148CC\", \"#B09C85CC\", \"#E18727CC\", \"#FFDC91E5\", \"#6A6599E5\", \"#9467BDB2\"]"
   ]
  },
  {
   "cell_type": "code",
   "execution_count": 15,
   "id": "202dc8c6-69d2-44db-9fac-1a718454af88",
   "metadata": {},
   "outputs": [
    {
     "name": "stdout",
     "output_type": "stream",
     "text": [
      "Method: SCCAF, ARI=0.56, NMI=0.74, k=17\n",
      "Method: SCCAF, ARI=0.44, NMI=0.73, k=19\n",
      "Method: SCCAF, ARI=0.64, NMI=0.79, k=9\n",
      "Method: ADClust, ARI=0.27, NMI=0.65, k=42\n",
      "Method: ADClust, ARI=0.21, NMI=0.62, k=36\n",
      "Method: ADClust, ARI=0.19, NMI=0.54, k=27\n",
      "Method: scAce, ARI=0.47, NMI=0.73, k=24\n",
      "Method: scAce, ARI=0.32, NMI=0.68, k=26\n",
      "Method: scAce, ARI=0.38, NMI=0.66, k=18\n"
     ]
    }
   ],
   "source": [
    "plot_cluster(mouse1_sccaf, 'SCCAF', 0, y_true_mouse1, 'true', axs[0][0])\n",
    "plot_cluster(mouse2_sccaf, 'SCCAF', 1, y_true_mouse2, 'true', axs[0][1])\n",
    "plot_cluster(mouse3_sccaf, 'SCCAF', 2, y_true_mouse3, 'true', axs[0][2])\n",
    "\n",
    "plot_cluster(mouse1_adclust, 'ADClust', 0, y_true_mouse1, 'true', axs[1][0])\n",
    "plot_cluster(mouse2_adclust, 'ADClust', 1, y_true_mouse2, 'true', axs[1][1])\n",
    "plot_cluster(mouse3_adclust, 'ADClust', 2, y_true_mouse3, 'true', axs[1][2])\n",
    "\n",
    "plot_cluster(mouse1_scace, 'scAce', 0, y_true_mouse1, 'true', axs[2][0])\n",
    "plot_cluster(mouse2_scace, 'scAce', 1, y_true_mouse2, 'true', axs[2][1])\n",
    "plot_cluster(mouse3_scace, 'scAce', 2, y_true_mouse3, 'true', axs[2][2])"
   ]
  },
  {
   "cell_type": "code",
   "execution_count": 16,
   "id": "b49c8f84-e563-475e-81bc-53db35169cc0",
   "metadata": {},
   "outputs": [
    {
     "data": {
      "text/plain": [
       "<Figure size 1000x800 with 9 Axes>"
      ]
     },
     "execution_count": 16,
     "metadata": {},
     "output_type": "execute_result"
    }
   ],
   "source": [
    "fig"
   ]
  },
  {
   "cell_type": "code",
   "execution_count": 17,
   "id": "59ee221b-b30f-470d-8386-2e4da57aaff0",
   "metadata": {},
   "outputs": [],
   "source": [
    "plt.savefig('Figures/Figure4B.svg', dpi=300, format='svg', bbox_inches='tight')"
   ]
  },
  {
   "cell_type": "code",
   "execution_count": null,
   "id": "d839951d-3e6b-4d82-a3fe-ccc7c4fb4a1d",
   "metadata": {},
   "outputs": [],
   "source": []
  }
 ],
 "metadata": {
  "kernelspec": {
   "display_name": "Python 3",
   "language": "python",
   "name": "python3"
  },
  "language_info": {
   "codemirror_mode": {
    "name": "ipython",
    "version": 3
   },
   "file_extension": ".py",
   "mimetype": "text/x-python",
   "name": "python",
   "nbconvert_exporter": "python",
   "pygments_lexer": "ipython3",
   "version": "3.8.8"
  }
 },
 "nbformat": 4,
 "nbformat_minor": 5
}
