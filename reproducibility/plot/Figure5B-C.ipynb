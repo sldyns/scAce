{
 "cells": [
  {
   "cell_type": "code",
   "execution_count": 1,
   "id": "f9d1f285-d851-4f52-bd62-b4d4192853b6",
   "metadata": {},
   "outputs": [],
   "source": [
    "import pandas as pd\n",
    "import scanpy as sc\n",
    "import numpy as np\n",
    "import h5py\n",
    "\n",
    "import matplotlib\n",
    "import matplotlib.pyplot as plt\n",
    "matplotlib.use('Agg')\n",
    "from matplotlib.pyplot import plot,savefig\n",
    "from sklearn import metrics\n",
    "\n",
    "import warnings\n",
    "warnings.filterwarnings(\"ignore\")\n",
    "from read_count import read_data"
   ]
  },
  {
   "cell_type": "code",
   "execution_count": 2,
   "id": "3df7c0d0-b7fe-4b99-8367-21b76f423c8e",
   "metadata": {},
   "outputs": [],
   "source": [
    "col = [\"#E64B35CC\", \"#0072B5CC\", \"#00A087CC\", \"#3C5488CC\", \"#F39B7FCC\", \"#F7DC05FF\", \"#FD7446E5\",\n",
    "       \"#8491B4CC\", \"#7E6148CC\", \"#B09C85CC\", \"#E18727CC\", \"#FFDC91E5\", \"#6A6599E5\", \"#9467BDB2\"]"
   ]
  },
  {
   "cell_type": "code",
   "execution_count": 3,
   "id": "263f05ab-b2fc-4a8c-a740-fbb5a291021a",
   "metadata": {},
   "outputs": [],
   "source": [
    "def plot_cluster(df, data_name, phase, by, y_true, n, ax):\n",
    "    \n",
    "    \"\"\"\n",
    "        phase: 'split' or 'enhance'. If phase == 'split', using the results after splitting, else using the results after enhancement.\n",
    "        by: 'clusters' or 'true'. If by == 'clusters', colored by cluster labels, else colored by true cell types.\n",
    "        n: n-th dataset in [Human1, Human2, Human3, Mouse1, Mouse2, Mouse3]\n",
    "    \"\"\"\n",
    "    \n",
    "    if phase == 'split':\n",
    "        tsne = tsne_init_all[n]\n",
    "        y_pred = df['Clusters'][0]\n",
    "    \n",
    "    else :\n",
    "        tsne = tsne_last_all[n]\n",
    "        y_pred = df['Clusters'][1]\n",
    "    \n",
    "    y_pred = np.asarray(y_pred, dtype='int').squeeze()\n",
    "    K_pred = len(np.unique(y_pred))\n",
    "    \n",
    "    ari_pred = np.round(metrics.adjusted_rand_score(y_pred, y_true), 2)\n",
    "    nmi_pred = np.round(metrics.normalized_mutual_info_score(y_pred, y_true), 2)\n",
    "    \n",
    "    if by == 'clusters':\n",
    "        print('Datasets: {}_{}, ARI={}, NMI={}, k={}'.format(data_name, phase, ari_pred, nmi_pred, K_pred))\n",
    "        \n",
    "    adata = sc.AnnData(pd.DataFrame(np.random.rand(len(y_pred), 1)))\n",
    "    adata.obs['pred'] = y_pred\n",
    "    adata.obs['pred'] = adata.obs['pred'].astype(str).astype('category')\n",
    "    adata.obs['true'] = y_true\n",
    "    adata.obs['true'] = adata.obs['true'].astype(str).astype('category')\n",
    "\n",
    "    adata.obsm['X_tsne'] = tsne\n",
    "    \n",
    "    if by == 'clusters':\n",
    "        sc.pl.tsne(adata, color=['pred'], ax=ax, show=False, legend_loc='None', size=20)\n",
    "        if phase == 'split':\n",
    "            ax.set_title('K={}'.format(K_pred), fontsize=14, family='Arial')\n",
    "        else:\n",
    "            ax.set_title('K={} ARI={}'.format(K_pred, ari_pred), fontsize=14, family='Arial')\n",
    "        ax.spines['right'].set_visible(False)\n",
    "        ax.spines['top'].set_visible(False)\n",
    "        \n",
    "    else:\n",
    "        sc.pl.tsne(adata, color=['true'], ax=ax, show=False, legend_loc='None', palette=col, size=20)\n",
    "        ax.spines['right'].set_visible(False)\n",
    "        ax.spines['top'].set_visible(False)"
   ]
  },
  {
   "cell_type": "code",
   "execution_count": 4,
   "id": "d7704f69-f4dd-4273-b17e-177bf21e84e2",
   "metadata": {},
   "outputs": [],
   "source": [
    "data_mat = h5py.File('dataset/Human1.h5')\n",
    "y_true_human1 = np.array(data_mat['Y'], dtype='int')\n",
    "data_mat.close()\n",
    "\n",
    "data_mat = h5py.File('dataset/Human2.h5')\n",
    "y_true_human2 = np.array(data_mat['Y'], dtype='int')\n",
    "data_mat.close()\n",
    "\n",
    "data_mat = h5py.File('dataset/Human3.h5')\n",
    "y_true_human3 = np.array(data_mat['Y'], dtype='int')\n",
    "data_mat.close()\n",
    "\n",
    "mat, obs, var, uns = read_data('dataset/Mouse1.h5', sparsify=False, skip_exprs=False)\n",
    "cell_name = np.array(obs[\"cell_type1\"])\n",
    "cell_type, cell_label = np.unique(cell_name, return_inverse=True)\n",
    "y_true_mouse1 = cell_label\n",
    "\n",
    "mat, obs, var, uns = read_data('dataset/Mouse2.h5', sparsify=False, skip_exprs=False)\n",
    "cell_name = np.array(obs[\"cell_type1\"])\n",
    "cell_type, cell_label = np.unique(cell_name, return_inverse=True)\n",
    "y_true_mouse2 = cell_label\n",
    "\n",
    "data_mat = h5py.File('dataset/Mouse3.h5')\n",
    "y_true_mouse3 = np.array(data_mat['Y'], dtype='int')\n",
    "data_mat.close()"
   ]
  },
  {
   "cell_type": "code",
   "execution_count": 5,
   "id": "86f906be-0216-4de1-8336-6970a275ab4c",
   "metadata": {},
   "outputs": [],
   "source": [
    "fig = plt.figure(figsize=(20, 5))\n",
    "sub_figs = fig.subfigures(2, 1)\n",
    "axs = []\n",
    "\n",
    "for i, sub_fig in enumerate(sub_figs):\n",
    "    axs.append(sub_fig.subplots(1, 6))\n",
    "    \n",
    "axs = np.array(axs)"
   ]
  },
  {
   "cell_type": "markdown",
   "id": "48b06f8d-83d3-4e90-8ab1-11992a52fdb9",
   "metadata": {},
   "source": [
    "# Split"
   ]
  },
  {
   "cell_type": "code",
   "execution_count": 6,
   "id": "b6044f7c-cabf-4ecb-ba05-c017ac065688",
   "metadata": {},
   "outputs": [],
   "source": [
    "human1_s = np.load('results/enhancement/scAce_enhance_Seurat_human1.npz')\n",
    "human2_s = np.load('results/enhancement/scAce_enhance_Seurat_human2.npz')\n",
    "human3_s = np.load('results/enhancement/scAce_enhance_Seurat_human3.npz')\n",
    "mouse1_s = np.load('results/enhancement/scAce_enhance_Seurat_mouse1.npz')\n",
    "mouse2_s = np.load('results/enhancement/scAce_enhance_Seurat_mouse2.npz')\n",
    "mouse3_s = np.load('results/enhancement/scAce_enhance_Seurat_mouse3.npz')"
   ]
  },
  {
   "cell_type": "code",
   "execution_count": 7,
   "id": "5e543229-71f7-4471-bf4a-130a79edb983",
   "metadata": {},
   "outputs": [],
   "source": [
    "datasets = [human1_s, human2_s, human3_s, mouse1_s, mouse2_s, mouse3_s]"
   ]
  },
  {
   "cell_type": "code",
   "execution_count": 8,
   "id": "ea5b158d-183b-4aa6-a995-cf3afddf9875",
   "metadata": {},
   "outputs": [],
   "source": [
    "tsne_init_all, tsne_last_all = [], []\n",
    "for data in datasets:\n",
    "    adata_init = sc.AnnData(data['Embedding'][0])\n",
    "    sc.tl.tsne(adata_init, random_state=0)\n",
    "    tsne_init_all.append(np.array(adata_init.obsm['X_tsne']))\n",
    "    adata_last = sc.AnnData(data['Embedding'][1])\n",
    "    sc.tl.tsne(adata_last, random_state=0)\n",
    "    tsne_last_all.append(np.array(adata_last.obsm['X_tsne']))"
   ]
  },
  {
   "cell_type": "code",
   "execution_count": 9,
   "id": "bf27373a-715e-4381-9968-a3e85473a8d4",
   "metadata": {},
   "outputs": [
    {
     "name": "stdout",
     "output_type": "stream",
     "text": [
      "Datasets: Human1_split, ARI=0.62, NMI=0.8, k=17\n",
      "Datasets: Human2_split, ARI=0.57, NMI=0.79, k=18\n",
      "Datasets: Human3_split, ARI=0.62, NMI=0.81, k=13\n",
      "Datasets: Mouse1_split, ARI=0.64, NMI=0.78, k=18\n",
      "Datasets: Mouse2_split, ARI=0.51, NMI=0.78, k=14\n",
      "Datasets: Mouse3_split, ARI=0.51, NMI=0.72, k=13\n"
     ]
    }
   ],
   "source": [
    "plot_cluster(human1_s, 'Human1', 'split', 'clusters', y_true_human1, 0, axs[0][0])\n",
    "plot_cluster(human2_s, 'Human2', 'split', 'clusters', y_true_human2, 1, axs[0][1])\n",
    "plot_cluster(human3_s, 'Human3', 'split', 'clusters', y_true_human3, 2, axs[0][2])\n",
    "plot_cluster(mouse1_s, 'Mouse1', 'split', 'clusters', y_true_mouse1, 3, axs[0][3])\n",
    "plot_cluster(mouse2_s, 'Mouse2', 'split', 'clusters', y_true_mouse2, 4, axs[0][4])\n",
    "plot_cluster(mouse3_s, 'Mouse3', 'split', 'clusters', y_true_mouse3, 5, axs[0][5])"
   ]
  },
  {
   "cell_type": "code",
   "execution_count": 10,
   "id": "5ed82d38-4565-48eb-bfe2-a87a9a5e8203",
   "metadata": {},
   "outputs": [
    {
     "data": {
      "text/plain": [
       "<Figure size 2000x500 with 12 Axes>"
      ]
     },
     "execution_count": 10,
     "metadata": {},
     "output_type": "execute_result"
    }
   ],
   "source": [
    "fig"
   ]
  },
  {
   "cell_type": "code",
   "execution_count": 11,
   "id": "9c50f03b-2f06-44fb-8998-a35df0363097",
   "metadata": {},
   "outputs": [],
   "source": [
    "plot_cluster(human1_s, 'Human1', 'split', 'labels', y_true_human1, 0, axs[1][0])\n",
    "plot_cluster(human2_s, 'Human2', 'split', 'labels', y_true_human2, 1, axs[1][1])\n",
    "plot_cluster(human3_s, 'Human3', 'split', 'labels', y_true_human3, 2, axs[1][2])\n",
    "plot_cluster(mouse1_s, 'Mouse1', 'split', 'labels', y_true_mouse1, 3, axs[1][3])\n",
    "plot_cluster(mouse2_s, 'Mouse2', 'split', 'labels', y_true_mouse2, 4, axs[1][4])\n",
    "plot_cluster(mouse3_s, 'Mouse3', 'split', 'labels', y_true_mouse3, 5, axs[1][5])"
   ]
  },
  {
   "cell_type": "code",
   "execution_count": 12,
   "id": "9365d09f-c2d5-43cc-8e0d-2da9db9c1a8a",
   "metadata": {},
   "outputs": [
    {
     "data": {
      "text/plain": [
       "<Figure size 2000x500 with 12 Axes>"
      ]
     },
     "execution_count": 12,
     "metadata": {},
     "output_type": "execute_result"
    }
   ],
   "source": [
    "fig"
   ]
  },
  {
   "cell_type": "code",
   "execution_count": 13,
   "id": "3544149c-2106-4aa6-b4fc-65addbde3b0c",
   "metadata": {},
   "outputs": [],
   "source": [
    "plt.savefig('Figures/Figure5B.svg', dpi=300, format='svg', bbox_inches='tight')"
   ]
  },
  {
   "cell_type": "markdown",
   "id": "c723f2ce-65ef-4957-a5ca-26b60549b4d9",
   "metadata": {},
   "source": [
    "# Enhance"
   ]
  },
  {
   "cell_type": "code",
   "execution_count": 14,
   "id": "321ecc28-cd98-43b1-8a92-d23603a5de52",
   "metadata": {},
   "outputs": [],
   "source": [
    "fig = plt.figure(figsize=(20, 5))\n",
    "sub_figs = fig.subfigures(2, 1)\n",
    "axs = []\n",
    "\n",
    "for i, sub_fig in enumerate(sub_figs):\n",
    "    axs.append(sub_fig.subplots(1, 6))\n",
    "\n",
    "axs = np.array(axs)"
   ]
  },
  {
   "cell_type": "code",
   "execution_count": 15,
   "id": "3ae08ec7-82b0-49a2-ab2f-a86c32059a6f",
   "metadata": {},
   "outputs": [
    {
     "name": "stdout",
     "output_type": "stream",
     "text": [
      "Datasets: Human1_enhance, ARI=0.59, NMI=0.77, k=12\n",
      "Datasets: Human2_enhance, ARI=0.95, NMI=0.91, k=6\n",
      "Datasets: Human3_enhance, ARI=0.92, NMI=0.9, k=7\n",
      "Datasets: Mouse1_enhance, ARI=0.82, NMI=0.86, k=7\n",
      "Datasets: Mouse2_enhance, ARI=0.99, NMI=0.99, k=6\n",
      "Datasets: Mouse3_enhance, ARI=0.99, NMI=0.98, k=4\n"
     ]
    }
   ],
   "source": [
    "plot_cluster(human1_s, 'Human1', 'enhance', 'clusters', y_true_human1, 0, axs[0][0])\n",
    "plot_cluster(human2_s, 'Human2', 'enhance', 'clusters', y_true_human2, 1, axs[0][1])\n",
    "plot_cluster(human3_s, 'Human3', 'enhance', 'clusters', y_true_human3, 2, axs[0][2])\n",
    "plot_cluster(mouse1_s, 'Mouse1', 'enhance', 'clusters', y_true_mouse1, 3, axs[0][3])\n",
    "plot_cluster(mouse2_s, 'Mouse2', 'enhance', 'clusters', y_true_mouse2, 4, axs[0][4])\n",
    "plot_cluster(mouse3_s, 'Mouse3', 'enhance', 'clusters', y_true_mouse3, 5, axs[0][5])"
   ]
  },
  {
   "cell_type": "code",
   "execution_count": 16,
   "id": "86f3e239-ac51-453e-b2ad-70c36696a0f8",
   "metadata": {},
   "outputs": [],
   "source": [
    "plot_cluster(human1_s, 'Human1', 'enhance', 'labels', y_true_human1, 0, axs[1][0])\n",
    "plot_cluster(human2_s, 'Human2', 'enhance', 'labels', y_true_human2, 1, axs[1][1])\n",
    "plot_cluster(human3_s, 'Human3', 'enhance', 'labels', y_true_human3, 2, axs[1][2])\n",
    "plot_cluster(mouse1_s, 'Mouse1', 'enhance', 'labels', y_true_mouse1, 3, axs[1][3])\n",
    "plot_cluster(mouse2_s, 'Mouse2', 'enhance', 'labels', y_true_mouse2, 4, axs[1][4])\n",
    "plot_cluster(mouse3_s, 'Mouse3', 'enhance', 'labels', y_true_mouse3, 5, axs[1][5])"
   ]
  },
  {
   "cell_type": "code",
   "execution_count": 17,
   "id": "42797add-0511-496a-9d10-acf381aeed96",
   "metadata": {},
   "outputs": [
    {
     "data": {
      "text/plain": [
       "<Figure size 2000x500 with 12 Axes>"
      ]
     },
     "execution_count": 17,
     "metadata": {},
     "output_type": "execute_result"
    }
   ],
   "source": [
    "fig"
   ]
  },
  {
   "cell_type": "code",
   "execution_count": 18,
   "id": "7cd48f3a-ee8e-4627-99af-d4fbaf1ae19b",
   "metadata": {},
   "outputs": [],
   "source": [
    "plt.savefig('Figures/Figure5C.svg', dpi=300, format='svg', bbox_inches='tight')"
   ]
  },
  {
   "cell_type": "code",
   "execution_count": null,
   "id": "80eb2bc2-d25f-4e5d-9acb-5860e8835f28",
   "metadata": {},
   "outputs": [],
   "source": []
  }
 ],
 "metadata": {
  "kernelspec": {
   "display_name": "Python 3",
   "language": "python",
   "name": "python3"
  },
  "language_info": {
   "codemirror_mode": {
    "name": "ipython",
    "version": 3
   },
   "file_extension": ".py",
   "mimetype": "text/x-python",
   "name": "python",
   "nbconvert_exporter": "python",
   "pygments_lexer": "ipython3",
   "version": "3.8.8"
  }
 },
 "nbformat": 4,
 "nbformat_minor": 5
}
