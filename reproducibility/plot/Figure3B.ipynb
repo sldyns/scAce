{
 "cells": [
  {
   "cell_type": "code",
   "execution_count": 1,
   "id": "fefbb8ba-d9da-43bc-b389-14eaf4ca0620",
   "metadata": {},
   "outputs": [],
   "source": [
    "import scanpy as sc\n",
    "import pandas as pd\n",
    "import numpy as np\n",
    "import matplotlib\n",
    "import matplotlib.pyplot as plt\n",
    "matplotlib.use('Agg')\n",
    "from matplotlib.pyplot import plot,savefig, MultipleLocator\n",
    "from sklearn import metrics"
   ]
  },
  {
   "cell_type": "code",
   "execution_count": 2,
   "id": "4da3c8db-c168-4272-93b2-41dedec5ded1",
   "metadata": {},
   "outputs": [],
   "source": [
    "seurat = []\n",
    "seurat.append(pd.read_csv('results/default/Human1/Seurat_with_sample.csv', header=0, index_col=0))\n",
    "seurat.append(pd.read_csv('results/default/Human2/Seurat_with_sample.csv', header=0, index_col=0))\n",
    "seurat.append(pd.read_csv('results/default/Human3/Seurat_with_sample.csv', header=0, index_col=0))\n",
    "seurat.append(pd.read_csv('results/default/Mouse1/Seurat_with_sample.csv', header=0, index_col=0))\n",
    "seurat.append(pd.read_csv('results/default/Mouse2/Seurat_with_sample.csv', header=0, index_col=0))\n",
    "seurat.append(pd.read_csv('results/default/Mouse3/Seurat_with_sample.csv', header=0, index_col=0))"
   ]
  },
  {
   "cell_type": "code",
   "execution_count": 3,
   "id": "cb48ff02-13fe-4ac5-89cc-58dc46b1e3d6",
   "metadata": {},
   "outputs": [],
   "source": [
    "cidr = []\n",
    "cidr.append(pd.read_csv('results/default/Human1/CIDR_with_sample.csv', header=0, index_col=0))\n",
    "cidr.append(pd.read_csv('results/default/Human2/CIDR_with_sample.csv', header=0, index_col=0))\n",
    "cidr.append(pd.read_csv('results/default/Human3/CIDR_with_sample.csv', header=0, index_col=0))\n",
    "cidr.append(pd.read_csv('results/default/Mouse1/CIDR_with_sample.csv', header=0, index_col=0))\n",
    "cidr.append(pd.read_csv('results/default/Mouse2/CIDR_with_sample.csv', header=0, index_col=0))\n",
    "cidr.append(pd.read_csv('results/default/Mouse3/CIDR_with_sample.csv', header=0, index_col=0))"
   ]
  },
  {
   "cell_type": "code",
   "execution_count": 4,
   "id": "dbd86d40-7fa1-4a65-aee8-9541572ec01b",
   "metadata": {},
   "outputs": [],
   "source": [
    "scscope = []\n",
    "scscope.append(np.load('results/default/Human1/scScope_with_sample.npz'))\n",
    "scscope.append(np.load('results/default/Human2/scScope_with_sample.npz'))\n",
    "scscope.append(np.load('results/default/Human3/scScope_with_sample.npz'))\n",
    "scscope.append(np.load('results/default/Mouse1/scScope_with_sample.npz'))\n",
    "scscope.append(np.load('results/default/Mouse2/scScope_with_sample.npz'))\n",
    "scscope.append(np.load('results/default/Mouse3/scScope_with_sample.npz'))"
   ]
  },
  {
   "cell_type": "code",
   "execution_count": 5,
   "id": "7ac12176-34c8-4307-82f5-ec2aad6494d7",
   "metadata": {},
   "outputs": [],
   "source": [
    "scd = []\n",
    "scd.append(np.load('results/default/Human1/scDeepCluster_with_sample.npz'))\n",
    "scd.append(np.load('results/default/Human2/scDeepCluster_with_sample.npz'))\n",
    "scd.append(np.load('results/default/Human3/scDeepCluster_with_sample.npz'))\n",
    "scd.append(np.load('results/default/Mouse1/scDeepCluster_with_sample.npz'))\n",
    "scd.append(np.load('results/default/Mouse2/scDeepCluster_with_sample.npz'))\n",
    "scd.append(np.load('results/default/Mouse3/scDeepCluster_with_sample.npz'))"
   ]
  },
  {
   "cell_type": "code",
   "execution_count": 6,
   "id": "10c9c581-deae-4ce4-9c9e-6a0612e41624",
   "metadata": {},
   "outputs": [],
   "source": [
    "desc = []\n",
    "desc.append(np.load('results/default/Human1/DESC_with_sample.npz'))\n",
    "desc.append(np.load('results/default/Human2/DESC_with_sample.npz'))\n",
    "desc.append(np.load('results/default/Human3/DESC_with_sample.npz'))\n",
    "desc.append(np.load('results/default/Mouse1/DESC_with_sample.npz'))\n",
    "desc.append(np.load('results/default/Mouse2/DESC_with_sample.npz'))\n",
    "desc.append(np.load('results/default/Mouse3/DESC_with_sample.npz'))"
   ]
  },
  {
   "cell_type": "code",
   "execution_count": 7,
   "id": "8f1f7f69-0f36-4db1-bc62-5aa3592ecc3f",
   "metadata": {},
   "outputs": [],
   "source": [
    "graphsc = []\n",
    "graphsc.append(np.load('results/default/Human1/graphsc_with_sample.npz'))\n",
    "graphsc.append(np.load('results/default/Human2/graphsc_with_sample.npz'))\n",
    "graphsc.append(np.load('results/default/Human3/graphsc_with_sample.npz'))\n",
    "graphsc.append(np.load('results/default/Mouse1/graphsc_with_sample.npz'))\n",
    "graphsc.append(np.load('results/default/Mouse2/graphsc_with_sample.npz'))\n",
    "graphsc.append(np.load('results/default/Mouse3/graphsc_with_sample.npz'))"
   ]
  },
  {
   "cell_type": "code",
   "execution_count": 8,
   "id": "499db6f5-6b2e-4492-aa44-b00657624552",
   "metadata": {},
   "outputs": [],
   "source": [
    "sccaf = []\n",
    "sccaf.append(np.load('results/default/Human1/SCCAF_with_sample.npz'))\n",
    "sccaf.append(np.load('results/default/Human2/SCCAF_with_sample.npz'))\n",
    "sccaf.append(np.load('results/default/Human3/SCCAF_with_sample.npz'))\n",
    "sccaf.append(np.load('results/default/Mouse1/SCCAF_with_sample.npz'))\n",
    "sccaf.append(np.load('results/default/Mouse2/SCCAF_with_sample.npz'))\n",
    "sccaf.append(np.load('results/default/Mouse3/SCCAF_with_sample.npz'))"
   ]
  },
  {
   "cell_type": "code",
   "execution_count": 9,
   "id": "23bf4606-02fa-4051-99b6-99a53dee426f",
   "metadata": {},
   "outputs": [],
   "source": [
    "adclust = []\n",
    "adclust.append(np.load('results/default/Human1/ADClust_with_sample.npz'))\n",
    "adclust.append(np.load('results/default/Human2/ADClust_with_sample.npz'))\n",
    "adclust.append(np.load('results/default/Human3/ADClust_with_sample.npz'))\n",
    "adclust.append(np.load('results/default/Mouse1/ADClust_with_sample.npz'))\n",
    "adclust.append(np.load('results/default/Mouse2/ADClust_with_sample.npz'))\n",
    "adclust.append(np.load('results/default/Mouse3/ADClust_with_sample.npz'))"
   ]
  },
  {
   "cell_type": "code",
   "execution_count": 10,
   "id": "e68d5951-6c15-4c0e-9a02-3aa8ab343f76",
   "metadata": {},
   "outputs": [],
   "source": [
    "scace = []\n",
    "scace.append(np.load('results/default/Human1/scAce_with_sample.npz'))\n",
    "scace.append(np.load('results/default/Human2/scAce_with_sample.npz'))\n",
    "scace.append(np.load('results/default/Human3/scAce_with_sample.npz'))\n",
    "scace.append(np.load('results/default/Mouse1/scAce_with_sample.npz'))\n",
    "scace.append(np.load('results/default/Mouse2/scAce_with_sample.npz'))\n",
    "scace.append(np.load('results/default/Mouse3/scAce_with_sample.npz'))"
   ]
  },
  {
   "cell_type": "code",
   "execution_count": 11,
   "id": "0d163e5b-074f-4d1f-83d7-94fc97567df8",
   "metadata": {},
   "outputs": [],
   "source": [
    "labels = 'scScope', 'CIDR', 'SCCAF', 'Seurat', 'scDeepCluster', 'DESC', 'ADClust', 'graph-sc', 'scAce'\n",
    "\n",
    "c_list = ['red', 'green', 'gray', 'lightgreen', 'gold', \n",
    "         'goldenrod', 'hotpink', 'darkorchid', 'royalblue']"
   ]
  },
  {
   "cell_type": "code",
   "execution_count": 12,
   "id": "a302c049-b54c-4173-9372-35c2e8739a3c",
   "metadata": {},
   "outputs": [],
   "source": [
    "def plot_boxplot(metric, n, ax):\n",
    "    \n",
    "    \"\"\"\n",
    "        metric: 'ARI' or 'NMI'\n",
    "        n: n-th dataset in [Human1, Human2, Human3, Mouse1, Mouse2, Mouse3]\n",
    "    \"\"\"\n",
    "    \n",
    "    ax = plt.subplot(ax)\n",
    "    \n",
    "    m_seurat = np.array(seurat[n][metric][0:10])\n",
    "    m_cidr = np.array(cidr[n][metric][0:10])\n",
    "    m_scscope = np.array(scscope[n][metric])\n",
    "    m_scd = np.array(scd[n][metric])\n",
    "    m_desc = np.array(desc[n][metric])\n",
    "    m_graphsc = np.array(graphsc[n][metric])\n",
    "    m_sccaf = np.array(sccaf[n][metric])\n",
    "    m_adclust = np.array(adclust[n][metric])\n",
    "    m_scace = np.array(scace[n][metric])\n",
    "    \n",
    "    f = plt.boxplot([m_scscope, m_cidr, m_sccaf, m_seurat, m_scd, m_desc, m_adclust, m_graphsc, m_scace], \n",
    "               labels=labels, showcaps=False, patch_artist=True, flierprops={'marker':\".\", 'color':'black'}, \n",
    "               medianprops = {'color':'black'})\n",
    "    \n",
    "    for box, c in zip(f['boxes'], c_list):\n",
    "        box.set(color=c, linewidth=2, alpha=0.7)\n",
    "        \n",
    "    y = MultipleLocator(0.2)\n",
    "    ax.yaxis.set_major_locator(y)\n",
    "    plt.ylim(0, 1)\n",
    "    plt.xticks(fontsize=15, rotation=70, family='Arial', ha='right')\n",
    "    plt.tick_params(labelsize=15)\n",
    "    plt.grid(axis=\"y\")"
   ]
  },
  {
   "cell_type": "code",
   "execution_count": 13,
   "id": "44599f42-4e48-4a84-8567-c1144fac35ce",
   "metadata": {},
   "outputs": [],
   "source": [
    "plt.figure(figsize=(25, 2))\n",
    "plot_boxplot('ARI', 0, 161)\n",
    "plot_boxplot('ARI', 1, 162)\n",
    "plot_boxplot('ARI', 2, 163)\n",
    "plot_boxplot('ARI', 3, 164)\n",
    "plot_boxplot('ARI', 4, 165)\n",
    "plot_boxplot('ARI', 5, 166)"
   ]
  },
  {
   "cell_type": "code",
   "execution_count": 14,
   "id": "29384e55-43b0-4e09-9e6c-a8a68a4b804e",
   "metadata": {},
   "outputs": [],
   "source": [
    "plt.savefig('Figures/Figure3B_ARI.svg', dpi=300, format='svg', bbox_inches='tight')"
   ]
  },
  {
   "cell_type": "code",
   "execution_count": 15,
   "id": "4f7fe8f0-74c2-407e-bf4f-d1a7fcdfaf4d",
   "metadata": {},
   "outputs": [],
   "source": [
    "plt.figure(figsize=(25, 2))\n",
    "plot_boxplot('NMI', 0, 161)\n",
    "plot_boxplot('NMI', 1, 162)\n",
    "plot_boxplot('NMI', 2, 163)\n",
    "plot_boxplot('NMI', 3, 164)\n",
    "plot_boxplot('NMI', 4, 165)\n",
    "plot_boxplot('NMI', 5, 166)"
   ]
  },
  {
   "cell_type": "code",
   "execution_count": 16,
   "id": "57ef438a-1403-469b-94a1-62c9d16d4600",
   "metadata": {},
   "outputs": [],
   "source": [
    "plt.savefig('Figures/Figure3B_NMI.svg', dpi=300, format='svg', bbox_inches='tight')"
   ]
  },
  {
   "cell_type": "code",
   "execution_count": null,
   "id": "83571195-af9f-41ed-b8f7-445dc9136c13",
   "metadata": {},
   "outputs": [],
   "source": []
  }
 ],
 "metadata": {
  "kernelspec": {
   "display_name": "Python 3",
   "language": "python",
   "name": "python3"
  },
  "language_info": {
   "codemirror_mode": {
    "name": "ipython",
    "version": 3
   },
   "file_extension": ".py",
   "mimetype": "text/x-python",
   "name": "python",
   "nbconvert_exporter": "python",
   "pygments_lexer": "ipython3",
   "version": "3.8.8"
  }
 },
 "nbformat": 4,
 "nbformat_minor": 5
}
