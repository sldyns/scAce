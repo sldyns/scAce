{
 "cells": [
  {
   "cell_type": "code",
   "execution_count": 1,
   "id": "a228322a-8e44-4244-82a4-675e2c90a8cf",
   "metadata": {},
   "outputs": [],
   "source": [
    "import pandas as pd\n",
    "import scanpy as sc\n",
    "import numpy as np\n",
    "import h5py\n",
    "\n",
    "import matplotlib\n",
    "import matplotlib.pyplot as plt\n",
    "matplotlib.use('Agg')\n",
    "from matplotlib.pyplot import plot,savefig\n",
    "from sklearn import metrics\n",
    "\n",
    "import warnings\n",
    "warnings.filterwarnings(\"ignore\")\n",
    "from read_count import read_data"
   ]
  },
  {
   "cell_type": "code",
   "execution_count": 2,
   "id": "4b29af1d-8e2b-46a4-84c2-0903a68f9742",
   "metadata": {},
   "outputs": [],
   "source": [
    "col = [\"#E64B35CC\", \"#0072B5CC\", \"#00A087CC\", \"#3C5488CC\", \"#F39B7FCC\", \"#F7DC05FF\", \"#FD7446E5\",\n",
    "       \"#8491B4CC\", \"#7E6148CC\", \"#B09C85CC\", \"#E18727CC\", \"#FFDC91E5\", \"#6A6599E5\", \"#9467BDB2\"]"
   ]
  },
  {
   "cell_type": "code",
   "execution_count": 3,
   "id": "7ee4b4df-a5ff-424e-a8f4-0f6174c7d55a",
   "metadata": {},
   "outputs": [],
   "source": [
    "def plot_cluster(df, method_name, n, y_true, by, ax):\n",
    "    \n",
    "    \"\"\"\n",
    "        n: n-th dataset in [Mouse1, Mouse2, Mouse3]\n",
    "        by: 'pred' or 'true'. If by == 'pred', colored by cluster labels, else colored by true cell types.\n",
    "    \"\"\"\n",
    "    \n",
    "    y_pred = df['Clusters'][0]\n",
    "    \n",
    "    if method_name == 'SCCAF':\n",
    "        tsne = tsne_sccaf[n]\n",
    "    elif method_name == 'ADClust':\n",
    "        tsne = tsne_adclust[n]\n",
    "    else:\n",
    "        tsne = tsne_scace[n]\n",
    "    \n",
    "    K = len(np.unique(y_pred))\n",
    "    \n",
    "    y_pred = np.asarray(y_pred, dtype='int').squeeze()\n",
    "    ari = np.round(metrics.adjusted_rand_score(y_pred, y_true), 2)\n",
    "    nmi = np.round(metrics.normalized_mutual_info_score(y_pred, y_true), 2)\n",
    "    print('Method: {}, ARI={}, NMI={}, k={}'.format(method_name, ari, nmi, K))\n",
    "        \n",
    "    adata = sc.AnnData(pd.DataFrame(np.random.rand(len(y_pred), 1)))\n",
    "    adata.obs['pred'] = y_pred\n",
    "    adata.obs['pred'] = adata.obs['pred'].astype(str).astype('category')\n",
    "    adata.obs['true'] = y_true\n",
    "    adata.obs['true'] = adata.obs['true'].astype(str).astype('category')\n",
    "\n",
    "    adata.obsm['X_tsne'] = tsne\n",
    "    \n",
    "    if by == 'pred':\n",
    "        sc.pl.tsne(adata, color=['pred'], ax=ax, show=False, legend_loc='None', size=30)\n",
    "        ax.set_title('K={}'.format(K), fontsize=15, family='Arial')\n",
    "        ax.spines['right'].set_visible(False)\n",
    "        ax.spines['top'].set_visible(False)\n",
    "        \n",
    "    else:\n",
    "        sc.pl.tsne(adata, color=['true'], ax=ax, show=False, legend_loc='None', size=30, palette=col)\n",
    "        ax.set_title('({} Cell types)'.format(len(np.unique(y_true))), fontsize=15, family='Arial')\n",
    "        ax.spines['right'].set_visible(False)\n",
    "        ax.spines['top'].set_visible(False)"
   ]
  },
  {
   "cell_type": "code",
   "execution_count": 4,
   "id": "8f5b3c19-0910-4078-92c0-c981af92861e",
   "metadata": {},
   "outputs": [],
   "source": [
    "data_mat = h5py.File('dataset/Human1.h5')\n",
    "y_true_human1 = np.array(data_mat['Y'], dtype='int')\n",
    "data_mat.close()\n",
    "\n",
    "data_mat = h5py.File('dataset/Human2.h5')\n",
    "y_true_human2 = np.array(data_mat['Y'], dtype='int')\n",
    "data_mat.close()\n",
    "\n",
    "data_mat = h5py.File('dataset/Human3.h5')\n",
    "y_true_human3 = np.array(data_mat['Y'], dtype='int')\n",
    "data_mat.close()"
   ]
  },
  {
   "cell_type": "code",
   "execution_count": 5,
   "id": "aa48041a-0ab0-4e6d-abdc-20f3f4b4fd36",
   "metadata": {},
   "outputs": [],
   "source": [
    "human1_sccaf = np.load('results/default/Human1/SCCAF_wo_sample.npz')\n",
    "human2_sccaf = np.load('results/default/Human2/SCCAF_wo_sample.npz')\n",
    "human3_sccaf = np.load('results/default/Human3/SCCAF_wo_sample.npz')\n",
    "\n",
    "human1_adclust = np.load('results/default/Human1/ADClust_wo_sample.npz')\n",
    "human2_adclust = np.load('results/default/Human2/ADClust_wo_sample.npz')\n",
    "human3_adclust = np.load('results/default/Human3/ADClust_wo_sample.npz')\n",
    "\n",
    "human1_scace = np.load('results/default/Human1/scAce_wo_sample.npz')\n",
    "human2_scace = np.load('results/default/Human2/scAce_wo_sample.npz')\n",
    "human3_scace = np.load('results/default/Human3/scAce_wo_sample.npz')"
   ]
  },
  {
   "cell_type": "code",
   "execution_count": 6,
   "id": "5f7f629c-32e8-4dfe-858a-fe128ef09608",
   "metadata": {},
   "outputs": [
    {
     "name": "stdout",
     "output_type": "stream",
     "text": [
      "WARNING: You’re trying to run this on 14884 dimensions of `.X`, if you really want this, set `use_rep='X'`.\n",
      "         Falling back to preprocessing with `sc.pp.pca` and default params.\n",
      "WARNING: You’re trying to run this on 15228 dimensions of `.X`, if you really want this, set `use_rep='X'`.\n",
      "         Falling back to preprocessing with `sc.pp.pca` and default params.\n",
      "WARNING: You’re trying to run this on 14487 dimensions of `.X`, if you really want this, set `use_rep='X'`.\n",
      "         Falling back to preprocessing with `sc.pp.pca` and default params.\n"
     ]
    }
   ],
   "source": [
    "tsne_sccaf, tsne_adclust, tsne_scace = [], [], []\n",
    "sccaf_data = [human1_sccaf, human2_sccaf, human3_sccaf]\n",
    "adclust_data = [human1_adclust, human2_adclust, human3_adclust]\n",
    "scace_data = [human1_scace, human2_scace, human3_scace]\n",
    "\n",
    "for data in sccaf_data:\n",
    "    adata = sc.AnnData(data['Embedding'])\n",
    "    # adata = data_preprocess(adata)\n",
    "    sc.tl.tsne(adata, random_state=0)\n",
    "    tsne_sccaf.append(np.array(adata.obsm['X_tsne']))\n",
    "    \n",
    "for data in adclust_data:\n",
    "    adata = sc.AnnData(data['Embedding'][0])\n",
    "    sc.tl.tsne(adata, random_state=0)\n",
    "    tsne_adclust.append(np.array(adata.obsm['X_tsne']))\n",
    "    \n",
    "for data in scace_data:\n",
    "    adata = sc.AnnData(data['Embedding'][0])\n",
    "    sc.tl.tsne(adata, random_state=0)\n",
    "    tsne_scace.append(np.array(adata.obsm['X_tsne']))"
   ]
  },
  {
   "cell_type": "code",
   "execution_count": 7,
   "id": "0187cf77-6d71-4fde-814b-5219fe3d244e",
   "metadata": {},
   "outputs": [],
   "source": [
    "fig = plt.figure(figsize=(10, 8))\n",
    "sub_figs = fig.subfigures(3, 1)\n",
    "axs = []\n",
    "\n",
    "for i, sub_fig in enumerate(sub_figs):   \n",
    "    axs.append(sub_fig.subplots(1, 3))\n",
    "    \n",
    "axs = np.array(axs)"
   ]
  },
  {
   "cell_type": "code",
   "execution_count": 8,
   "id": "2e0e0225-80ee-4294-be0f-99c7c59054e9",
   "metadata": {},
   "outputs": [
    {
     "name": "stdout",
     "output_type": "stream",
     "text": [
      "Method: SCCAF, ARI=0.42, NMI=0.73, k=17\n",
      "Method: SCCAF, ARI=0.54, NMI=0.77, k=16\n",
      "Method: SCCAF, ARI=0.6, NMI=0.8, k=11\n",
      "Method: ADClust, ARI=0.21, NMI=0.65, k=30\n",
      "Method: ADClust, ARI=0.22, NMI=0.64, k=34\n",
      "Method: ADClust, ARI=0.23, NMI=0.64, k=26\n",
      "Method: scAce, ARI=0.3, NMI=0.68, k=22\n",
      "Method: scAce, ARI=0.32, NMI=0.68, k=26\n",
      "Method: scAce, ARI=0.34, NMI=0.69, k=18\n"
     ]
    }
   ],
   "source": [
    "plot_cluster(human1_sccaf, 'SCCAF', 0, y_true_human1, 'pred', axs[0][0])\n",
    "plot_cluster(human2_sccaf, 'SCCAF', 1, y_true_human2, 'pred', axs[0][1])\n",
    "plot_cluster(human3_sccaf, 'SCCAF', 2, y_true_human3, 'pred', axs[0][2])\n",
    "\n",
    "plot_cluster(human1_adclust, 'ADClust', 0, y_true_human1, 'pred', axs[1][0])\n",
    "plot_cluster(human2_adclust, 'ADClust', 1, y_true_human2, 'pred', axs[1][1])\n",
    "plot_cluster(human3_adclust, 'ADClust', 2, y_true_human3, 'pred', axs[1][2])\n",
    "\n",
    "plot_cluster(human1_scace, 'scAce', 0, y_true_human1, 'pred', axs[2][0])\n",
    "plot_cluster(human2_scace, 'scAce', 1, y_true_human2, 'pred', axs[2][1])\n",
    "plot_cluster(human3_scace, 'scAce', 2, y_true_human3, 'pred', axs[2][2])"
   ]
  },
  {
   "cell_type": "code",
   "execution_count": 9,
   "id": "43b51233-9846-46bf-8798-6035b6afcced",
   "metadata": {},
   "outputs": [
    {
     "data": {
      "text/plain": [
       "<Figure size 1000x800 with 9 Axes>"
      ]
     },
     "execution_count": 9,
     "metadata": {},
     "output_type": "execute_result"
    }
   ],
   "source": [
    "fig"
   ]
  },
  {
   "cell_type": "code",
   "execution_count": 10,
   "id": "bc223fda-a8ea-47b0-afc0-107a9bc78bd7",
   "metadata": {},
   "outputs": [],
   "source": [
    "plt.savefig('Figures/FigureS3A.svg', dpi=300, format='svg', bbox_inches='tight')"
   ]
  },
  {
   "cell_type": "code",
   "execution_count": 11,
   "id": "40ff1572-8072-46f9-86f2-859c48ed26e2",
   "metadata": {},
   "outputs": [],
   "source": [
    "fig = plt.figure(figsize=(10, 8))\n",
    "methods = ['SCCAF', 'ADClust', 'scAce']\n",
    "\n",
    "sub_figs = fig.subfigures(3, 1)\n",
    "\n",
    "axs = []\n",
    "\n",
    "for i, sub_fig in enumerate(sub_figs):\n",
    "        \n",
    "    axs.append(sub_fig.subplots(1, 3))\n",
    "#     sub_fig.supylabel(methods[i], x=0.07, fontsize=15, family='Arial')\n",
    "    \n",
    "axs = np.array(axs)"
   ]
  },
  {
   "cell_type": "code",
   "execution_count": 12,
   "id": "202dc8c6-69d2-44db-9fac-1a718454af88",
   "metadata": {},
   "outputs": [
    {
     "name": "stdout",
     "output_type": "stream",
     "text": [
      "Method: SCCAF, ARI=0.42, NMI=0.73, k=17\n",
      "Method: SCCAF, ARI=0.54, NMI=0.77, k=16\n",
      "Method: SCCAF, ARI=0.6, NMI=0.8, k=11\n",
      "Method: ADClust, ARI=0.21, NMI=0.65, k=30\n",
      "Method: ADClust, ARI=0.22, NMI=0.64, k=34\n",
      "Method: ADClust, ARI=0.23, NMI=0.64, k=26\n",
      "Method: scAce, ARI=0.3, NMI=0.68, k=22\n",
      "Method: scAce, ARI=0.32, NMI=0.68, k=26\n",
      "Method: scAce, ARI=0.34, NMI=0.69, k=18\n"
     ]
    }
   ],
   "source": [
    "plot_cluster(human1_sccaf, 'SCCAF', 0, y_true_human1, 'true', axs[0][0])\n",
    "plot_cluster(human2_sccaf, 'SCCAF', 1, y_true_human2, 'true', axs[0][1])\n",
    "plot_cluster(human3_sccaf, 'SCCAF', 2, y_true_human3, 'true', axs[0][2])\n",
    "\n",
    "plot_cluster(human1_adclust, 'ADClust', 0, y_true_human1, 'true', axs[1][0])\n",
    "plot_cluster(human2_adclust, 'ADClust', 1, y_true_human2, 'true', axs[1][1])\n",
    "plot_cluster(human3_adclust, 'ADClust', 2, y_true_human3, 'true', axs[1][2])\n",
    "\n",
    "plot_cluster(human1_scace, 'scAce', 0, y_true_human1, 'true', axs[2][0])\n",
    "plot_cluster(human2_scace, 'scAce', 1, y_true_human2, 'true', axs[2][1])\n",
    "plot_cluster(human3_scace, 'scAce', 2, y_true_human3, 'true', axs[2][2])"
   ]
  },
  {
   "cell_type": "code",
   "execution_count": 13,
   "id": "b49c8f84-e563-475e-81bc-53db35169cc0",
   "metadata": {},
   "outputs": [
    {
     "data": {
      "text/plain": [
       "<Figure size 1000x800 with 9 Axes>"
      ]
     },
     "execution_count": 13,
     "metadata": {},
     "output_type": "execute_result"
    }
   ],
   "source": [
    "fig"
   ]
  },
  {
   "cell_type": "code",
   "execution_count": 14,
   "id": "59ee221b-b30f-470d-8386-2e4da57aaff0",
   "metadata": {},
   "outputs": [],
   "source": [
    "plt.savefig('Figures/FigureS3B.svg', dpi=300, format='svg', bbox_inches='tight')"
   ]
  },
  {
   "cell_type": "code",
   "execution_count": null,
   "id": "d839951d-3e6b-4d82-a3fe-ccc7c4fb4a1d",
   "metadata": {},
   "outputs": [],
   "source": []
  }
 ],
 "metadata": {
  "kernelspec": {
   "display_name": "Python 3",
   "language": "python",
   "name": "python3"
  },
  "language_info": {
   "codemirror_mode": {
    "name": "ipython",
    "version": 3
   },
   "file_extension": ".py",
   "mimetype": "text/x-python",
   "name": "python",
   "nbconvert_exporter": "python",
   "pygments_lexer": "ipython3",
   "version": "3.8.8"
  }
 },
 "nbformat": 4,
 "nbformat_minor": 5
}
