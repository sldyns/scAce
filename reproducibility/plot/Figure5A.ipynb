{
 "cells": [
  {
   "cell_type": "code",
   "execution_count": 1,
   "id": "5fe2af5b-0066-44cd-98d3-28eb5d195bc2",
   "metadata": {},
   "outputs": [],
   "source": [
    "import pandas as pd\n",
    "import scanpy as sc\n",
    "import numpy as np\n",
    "import h5py\n",
    "\n",
    "import matplotlib\n",
    "import matplotlib.pyplot as plt\n",
    "matplotlib.use('Agg')\n",
    "from matplotlib.pyplot import plot,savefig\n",
    "from sklearn import metrics\n",
    "\n",
    "import warnings\n",
    "warnings.filterwarnings(\"ignore\")\n",
    "from read_count import read_data\n",
    "\n",
    "import seaborn as sns\n",
    "from matplotlib.colors import LinearSegmentedColormap\n",
    "from sklearn import metrics"
   ]
  },
  {
   "cell_type": "code",
   "execution_count": 2,
   "id": "160aa813-e6ac-4a0e-8bf0-635a45c3fe76",
   "metadata": {},
   "outputs": [],
   "source": [
    "human1_s = np.load('results/enhancement/scAce_enhance_Seurat_human1.npz')\n",
    "human2_s = np.load('results/enhancement/scAce_enhance_Seurat_human2.npz')\n",
    "human3_s = np.load('results/enhancement/scAce_enhance_Seurat_human3.npz')\n",
    "mouse1_s = np.load('results/enhancement/scAce_enhance_Seurat_mouse1.npz')\n",
    "mouse2_s = np.load('results/enhancement/scAce_enhance_Seurat_mouse2.npz')\n",
    "mouse3_s = np.load('results/enhancement/scAce_enhance_Seurat_mouse3.npz')\n",
    "\n",
    "human1_before_s = pd.read_csv('results/default/Human1/Seurat_wo_sample.csv', header=0, index_col=0)\n",
    "human2_before_s = pd.read_csv('results/default/Human2/Seurat_wo_sample.csv', header=0, index_col=0)\n",
    "human3_before_s = pd.read_csv('results/default/Human3/Seurat_wo_sample.csv', header=0, index_col=0)\n",
    "mouse1_before_s = pd.read_csv('results/default/Mouse1/Seurat_wo_sample.csv', header=0, index_col=0)\n",
    "mouse2_before_s = pd.read_csv('results/default/Mouse2/Seurat_wo_sample.csv', header=0, index_col=0)\n",
    "mouse3_before_s = pd.read_csv('results/default/Mouse3/Seurat_wo_sample.csv', header=0, index_col=0)"
   ]
  },
  {
   "cell_type": "code",
   "execution_count": 3,
   "id": "d28ff36d-c091-4997-b174-5e4cc003fff0",
   "metadata": {},
   "outputs": [],
   "source": [
    "human1_c = np.load('results/enhancement/scAce_enhance_CIDR_human1.npz')\n",
    "human2_c = np.load('results/enhancement/scAce_enhance_CIDR_human2.npz')\n",
    "human3_c = np.load('results/enhancement/scAce_enhance_CIDR_human3.npz')\n",
    "mouse1_c = np.load('results/enhancement/scAce_enhance_CIDR_mouse1.npz')\n",
    "mouse2_c = np.load('results/enhancement/scAce_enhance_CIDR_mouse2.npz')\n",
    "mosue3_c = np.load('results/enhancement/scAce_enhance_CIDR_mouse3.npz')\n",
    "\n",
    "human1_before_c = pd.read_csv('results/default/Human1/CIDR_wo_sample.csv', header=0, index_col=0)\n",
    "human2_before_c = pd.read_csv('results/default/Human2/CIDR_wo_sample.csv', header=0, index_col=0)\n",
    "human3_before_c = pd.read_csv('results/default/Human3/CIDR_wo_sample.csv', header=0, index_col=0)\n",
    "mouse1_before_c = pd.read_csv('results/default/Mouse1/CIDR_wo_sample.csv', header=0, index_col=0)\n",
    "mouse2_before_c = pd.read_csv('results/default/Mouse2/CIDR_wo_sample.csv', header=0, index_col=0)\n",
    "mouse3_before_c = pd.read_csv('results/default/Mouse3/CIDR_wo_sample.csv', header=0, index_col=0)"
   ]
  },
  {
   "cell_type": "code",
   "execution_count": 4,
   "id": "f4d7e5c1-7c97-4f65-b3d1-33b3a70a46fd",
   "metadata": {},
   "outputs": [],
   "source": [
    "def plot_enhance(metric, method, ax):\n",
    "    \n",
    "    \"\"\"\n",
    "        metric: 'ARI' or 'NMI'\n",
    "        method: 'Seurat' or 'CIDR'\n",
    "    \"\"\"\n",
    "    \n",
    "    ax = plt.subplot(ax)\n",
    "    \n",
    "    if method == 'Seurat':\n",
    "        before = [human1_before_s[metric][1], human2_before_s[metric][1], human3_before_s[metric][1], \n",
    "                  mouse1_before_s[metric][1], mouse2_before_s[metric][1], mouse3_before_s[metric][1]]\n",
    "        after = [human1_s[metric], human2_s[metric], human3_s[metric], \n",
    "                 mouse1_s[metric], mouse2_s[metric], mouse3_s[metric]]\n",
    "    \n",
    "    else:\n",
    "        before = [human1_before_c[metric][1], human2_before_c[metric][1], human3_before_c[metric][1], \n",
    "                  mouse1_before_c[metric][1], mouse2_before_c[metric][1], mouse3_before_c[metric][1]]\n",
    "        after = [human1_c[metric], human2_c[metric], human3_c[metric], \n",
    "                 mouse1_c[metric], mouse2_c[metric], mouse3_s[metric]]\n",
    "    \n",
    "    plt.ylim(0, 1)\n",
    "    plt.xticks(fontsize=7, rotation=30)\n",
    "    plt.tick_params(labelsize=9)\n",
    "    \n",
    "    bar_width = 0.35\n",
    "    index = np.arange(6)\n",
    "\n",
    "    plt.bar(index, before, bar_width, alpha=1, color='#FB8930')\n",
    "    plt.bar(index+bar_width, after, bar_width, alpha=1, color='#5C89A0')\n",
    "    x_labels = ['Human1', 'Human2', 'Human3', 'Mouse1', 'Mouse2', 'Mouse3']\n",
    "    plt.xticks(index+bar_width/2, x_labels, fontsize=14, family='Arial') # index+bar_width/2 to centre the label\n",
    "    plt.ylim(0, 1)\n",
    "    plt.ylabel(metric, fontsize=18, family='Arial')"
   ]
  },
  {
   "cell_type": "code",
   "execution_count": 5,
   "id": "fa192b9d-627a-486c-b827-991a56325872",
   "metadata": {},
   "outputs": [],
   "source": [
    "plt.figure(figsize=(20, 3))\n",
    "plot_enhance('ARI', 'Seurat', 141)\n",
    "plot_enhance('NMI', 'Seurat', 142)\n",
    "plot_enhance('ARI', 'CIDR', 143)\n",
    "plot_enhance('NMI', 'CIDR', 144)"
   ]
  },
  {
   "cell_type": "code",
   "execution_count": 6,
   "id": "e2cfa999-4750-4858-8230-5dc407d3002e",
   "metadata": {},
   "outputs": [],
   "source": [
    "plt.savefig('Figures/Figure5A.svg', dpi=300, format='svg', bbox_inches='tight')"
   ]
  },
  {
   "cell_type": "code",
   "execution_count": 7,
   "id": "46f64a67-9541-4e5e-80c2-c254bfe65493",
   "metadata": {},
   "outputs": [],
   "source": [
    "plt.figure(figsize=(20, 3))\n",
    "plot_enhance('ARI', 'Seurat', 141)\n",
    "plt.savefig('Figures/Figure5A_h.jpg', dpi=300, format='jpg', bbox_inches='tight')"
   ]
  },
  {
   "cell_type": "code",
   "execution_count": null,
   "id": "cca833b9-4f45-4240-8c89-95a0ebdd17cf",
   "metadata": {},
   "outputs": [],
   "source": []
  }
 ],
 "metadata": {
  "kernelspec": {
   "display_name": "Python 3",
   "language": "python",
   "name": "python3"
  },
  "language_info": {
   "codemirror_mode": {
    "name": "ipython",
    "version": 3
   },
   "file_extension": ".py",
   "mimetype": "text/x-python",
   "name": "python",
   "nbconvert_exporter": "python",
   "pygments_lexer": "ipython3",
   "version": "3.8.8"
  }
 },
 "nbformat": 4,
 "nbformat_minor": 5
}
