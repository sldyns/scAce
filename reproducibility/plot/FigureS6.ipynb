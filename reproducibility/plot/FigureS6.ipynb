{
 "cells": [
  {
   "cell_type": "code",
   "execution_count": 1,
   "id": "f9d1f285-d851-4f52-bd62-b4d4192853b6",
   "metadata": {},
   "outputs": [],
   "source": [
    "import pandas as pd\n",
    "import scanpy as sc\n",
    "import numpy as np\n",
    "import h5py\n",
    "\n",
    "import matplotlib\n",
    "import matplotlib.pyplot as plt\n",
    "matplotlib.use('Agg')\n",
    "from matplotlib.pyplot import plot,savefig\n",
    "from sklearn import metrics\n",
    "\n",
    "import warnings\n",
    "warnings.filterwarnings(\"ignore\")\n",
    "from read_count import read_data"
   ]
  },
  {
   "cell_type": "code",
   "execution_count": 2,
   "id": "8bc3549f-5255-49d8-b973-6a685046c441",
   "metadata": {},
   "outputs": [],
   "source": [
    "col = [\"#E64B35CC\", \"#0072B5CC\", \"#00A087CC\", \"#3C5488CC\", \"#F39B7FCC\", \"#F7DC05FF\", \"#FD7446E5\",\n",
    "       \"#8491B4CC\", \"#7E6148CC\", \"#B09C85CC\", \"#E18727CC\", \"#FFDC91E5\", \"#6A6599E5\", \"#9467BDB2\"]"
   ]
  },
  {
   "cell_type": "code",
   "execution_count": 3,
   "id": "263f05ab-b2fc-4a8c-a740-fbb5a291021a",
   "metadata": {},
   "outputs": [],
   "source": [
    "def plot_cluster(df, data_name, phase, by, y_true, n, ax):\n",
    "    \n",
    "    \"\"\"\n",
    "        phase: 'split' or 'enhance'. If phase == 'split', using the results after splitting, else using the results after enhancement.\n",
    "        by: 'clusters' or 'true'. If by == 'clusters', colored by cluster labels, else colored by true cell types.\n",
    "        n: n-th dataset in [Human1, Human2, Human3, Mouse1, Mouse2, Mouse3]\n",
    "    \"\"\"\n",
    "    \n",
    "    if phase == 'split':\n",
    "        tsne = tsne_init_all[n]\n",
    "        y_pred = df['Clusters'][0]\n",
    "    \n",
    "    else :\n",
    "        tsne = tsne_last_all[n]\n",
    "        y_pred = df['Clusters'][1]\n",
    "    \n",
    "    y_pred = np.asarray(y_pred, dtype='int').squeeze()\n",
    "    K_pred = len(np.unique(y_pred))\n",
    "    \n",
    "    ari_pred = np.round(metrics.adjusted_rand_score(y_pred, y_true), 2)\n",
    "    nmi_pred = np.round(metrics.normalized_mutual_info_score(y_pred, y_true), 2)\n",
    "    \n",
    "    if by == 'clusters':\n",
    "        print('Datasets: {}_{}, ARI={}, NMI={}, k={}'.format(data_name, phase, ari_pred, nmi_pred, K_pred))\n",
    "        \n",
    "    adata = sc.AnnData(pd.DataFrame(np.random.rand(len(y_pred), 1)))\n",
    "    adata.obs['pred'] = y_pred\n",
    "    adata.obs['pred'] = adata.obs['pred'].astype(str).astype('category')\n",
    "    adata.obs['true'] = y_true\n",
    "    adata.obs['true'] = adata.obs['true'].astype(str).astype('category')\n",
    "\n",
    "    adata.obsm['X_tsne'] = tsne\n",
    "    \n",
    "    if by == 'clusters':\n",
    "        sc.pl.tsne(adata, color=['pred'], ax=ax, show=False, legend_loc='None', size=20)\n",
    "        if phase == 'split':\n",
    "            ax.set_title('K={}'.format(K_pred), fontsize=14, family='Arial')\n",
    "        else:\n",
    "            ax.set_title('K={} ARI={}'.format(K_pred, ari_pred), fontsize=14, family='Arial')\n",
    "        ax.spines['right'].set_visible(False)\n",
    "        ax.spines['top'].set_visible(False)\n",
    "        \n",
    "    else:\n",
    "        sc.pl.tsne(adata, color=['true'], ax=ax, show=False, legend_loc='None', palette=col, size=20)\n",
    "        ax.spines['right'].set_visible(False)\n",
    "        ax.spines['top'].set_visible(False)"
   ]
  },
  {
   "cell_type": "code",
   "execution_count": 4,
   "id": "d7704f69-f4dd-4273-b17e-177bf21e84e2",
   "metadata": {},
   "outputs": [],
   "source": [
    "data_mat = h5py.File('dataset/Human1.h5')\n",
    "y_true_human1 = np.array(data_mat['Y'], dtype='int')\n",
    "data_mat.close()\n",
    "\n",
    "data_mat = h5py.File('dataset/Human2.h5')\n",
    "y_true_human2 = np.array(data_mat['Y'], dtype='int')\n",
    "data_mat.close()\n",
    "\n",
    "data_mat = h5py.File('dataset/Human3.h5')\n",
    "y_true_human3 = np.array(data_mat['Y'], dtype='int')\n",
    "data_mat.close()\n",
    "\n",
    "mat, obs, var, uns = read_data('dataset/Mouse1.h5', sparsify=False, skip_exprs=False)\n",
    "cell_name = np.array(obs[\"cell_type1\"])\n",
    "cell_type, cell_label = np.unique(cell_name, return_inverse=True)\n",
    "y_true_mouse1 = cell_label\n",
    "\n",
    "mat, obs, var, uns = read_data('dataset/Mouse2.h5', sparsify=False, skip_exprs=False)\n",
    "cell_name = np.array(obs[\"cell_type1\"])\n",
    "cell_type, cell_label = np.unique(cell_name, return_inverse=True)\n",
    "y_true_mouse2 = cell_label\n",
    "\n",
    "data_mat = h5py.File('dataset/Mouse3.h5')\n",
    "y_true_mouse3 = np.array(data_mat['Y'], dtype='int')\n",
    "data_mat.close()"
   ]
  },
  {
   "cell_type": "code",
   "execution_count": 5,
   "id": "86f906be-0216-4de1-8336-6970a275ab4c",
   "metadata": {},
   "outputs": [],
   "source": [
    "fig = plt.figure(figsize=(20, 5))\n",
    "methods = ['by splitting clusters', 'by CIDR clusters', 'by labels']\n",
    "\n",
    "sub_figs = fig.subfigures(2, 1)\n",
    "\n",
    "axs = []\n",
    "\n",
    "for i, sub_fig in enumerate(sub_figs):\n",
    "        \n",
    "    axs.append(sub_fig.subplots(1, 6))\n",
    "#     sub_fig.supylabel(methods[i], x=0.08, fontsize=17)\n",
    "    \n",
    "axs = np.array(axs)"
   ]
  },
  {
   "cell_type": "markdown",
   "id": "48b06f8d-83d3-4e90-8ab1-11992a52fdb9",
   "metadata": {},
   "source": [
    "# Split"
   ]
  },
  {
   "cell_type": "code",
   "execution_count": 6,
   "id": "baa65223-89d9-46a9-bee5-402cdc31433f",
   "metadata": {},
   "outputs": [],
   "source": [
    "human1_c = np.load('results/enhancement/scAce_enhance_CIDR_human1.npz')\n",
    "human2_c = np.load('results/enhancement/scAce_enhance_CIDR_human2.npz')\n",
    "human3_c = np.load('results/enhancement/scAce_enhance_CIDR_human3.npz')\n",
    "mouse1_c = np.load('results/enhancement/scAce_enhance_CIDR_mouse1.npz')\n",
    "mouse2_c = np.load('results/enhancement/scAce_enhance_CIDR_mouse2.npz')\n",
    "mouse3_c = np.load('results/enhancement/scAce_enhance_CIDR_mouse3.npz')"
   ]
  },
  {
   "cell_type": "code",
   "execution_count": 7,
   "id": "7d5f0c3b-c030-457c-87ab-4d923b77e94d",
   "metadata": {},
   "outputs": [],
   "source": [
    "datasets = [human1_c, human2_c, human3_c, mouse1_c, mouse2_c, mouse3_c]\n",
    "\n",
    "tsne_init_all, tsne_last_all = [], []\n",
    "for data in datasets:\n",
    "    adata_init = sc.AnnData(data['Embedding'][0])\n",
    "    sc.tl.tsne(adata_init, random_state=0)\n",
    "    tsne_init_all.append(np.array(adata_init.obsm['X_tsne']))\n",
    "    adata_last = sc.AnnData(data['Embedding'][1])\n",
    "    sc.tl.tsne(adata_last, random_state=0)\n",
    "    tsne_last_all.append(np.array(adata_last.obsm['X_tsne']))"
   ]
  },
  {
   "cell_type": "code",
   "execution_count": 8,
   "id": "bf27373a-715e-4381-9968-a3e85473a8d4",
   "metadata": {},
   "outputs": [
    {
     "name": "stdout",
     "output_type": "stream",
     "text": [
      "Datasets: Human1_split, ARI=0.3, NMI=0.45, k=14\n",
      "Datasets: Human2_split, ARI=0.56, NMI=0.65, k=5\n",
      "Datasets: Human3_split, ARI=0.64, NMI=0.66, k=3\n",
      "Datasets: Mouse1_split, ARI=0.05, NMI=0.12, k=12\n",
      "Datasets: Mouse2_split, ARI=0.64, NMI=0.67, k=3\n",
      "Datasets: Mouse3_split, ARI=0.68, NMI=0.66, k=10\n"
     ]
    }
   ],
   "source": [
    "plot_cluster(human1_c, 'Human1', 'split', 'clusters', y_true_human1, 0, axs[0][0])\n",
    "plot_cluster(human2_c, 'Human2', 'split', 'clusters', y_true_human2, 1, axs[0][1])\n",
    "plot_cluster(human3_c, 'Human3', 'split', 'clusters', y_true_human3, 2, axs[0][2])\n",
    "plot_cluster(mouse1_c, 'Mouse1', 'split', 'clusters', y_true_mouse1, 3, axs[0][3])\n",
    "plot_cluster(mouse2_c, 'Mouse2', 'split', 'clusters', y_true_mouse2, 4, axs[0][4])\n",
    "plot_cluster(mouse3_c, 'Mouse3', 'split', 'clusters', y_true_mouse3, 5, axs[0][5])"
   ]
  },
  {
   "cell_type": "code",
   "execution_count": 9,
   "id": "3be8dcee-c63b-4732-977d-bb084db41095",
   "metadata": {},
   "outputs": [],
   "source": [
    "plot_cluster(human1_c, 'Human1', 'split', 'labels', y_true_human1, 0, axs[1][0])\n",
    "plot_cluster(human2_c, 'Human2', 'split', 'labels', y_true_human2, 1, axs[1][1])\n",
    "plot_cluster(human3_c, 'Human3', 'split', 'labels', y_true_human3, 2, axs[1][2])\n",
    "plot_cluster(mouse1_c, 'Mouse1', 'split', 'labels', y_true_mouse1, 3, axs[1][3])\n",
    "plot_cluster(mouse2_c, 'Mouse2', 'split', 'labels', y_true_mouse2, 4, axs[1][4])\n",
    "plot_cluster(mouse3_c, 'Mouse3', 'split', 'labels', y_true_mouse3, 5, axs[1][5])"
   ]
  },
  {
   "cell_type": "code",
   "execution_count": 10,
   "id": "b2d2d473-c3dd-4163-bb1e-41f72a7d3b0e",
   "metadata": {},
   "outputs": [
    {
     "data": {
      "text/plain": [
       "<Figure size 2000x500 with 12 Axes>"
      ]
     },
     "execution_count": 10,
     "metadata": {},
     "output_type": "execute_result"
    }
   ],
   "source": [
    "fig"
   ]
  },
  {
   "cell_type": "code",
   "execution_count": 11,
   "id": "3544149c-2106-4aa6-b4fc-65addbde3b0c",
   "metadata": {},
   "outputs": [],
   "source": [
    "plt.savefig('Figures/FigureS6A.svg', dpi=300, format='svg', bbox_inches='tight')"
   ]
  },
  {
   "cell_type": "markdown",
   "id": "c723f2ce-65ef-4957-a5ca-26b60549b4d9",
   "metadata": {},
   "source": [
    "# Enhance"
   ]
  },
  {
   "cell_type": "code",
   "execution_count": 12,
   "id": "321ecc28-cd98-43b1-8a92-d23603a5de52",
   "metadata": {},
   "outputs": [],
   "source": [
    "fig = plt.figure(figsize=(20, 5))\n",
    "methods = ['by inferred clusters', 'by labels']\n",
    "\n",
    "sub_figs = fig.subfigures(2, 1)\n",
    "\n",
    "axs = []\n",
    "\n",
    "for i, sub_fig in enumerate(sub_figs):\n",
    "        \n",
    "    axs.append(sub_fig.subplots(1, 6))\n",
    "#     sub_fig.supylabel(methods[i], x=0.08, fontsize=17)\n",
    "\n",
    "axs = np.array(axs)"
   ]
  },
  {
   "cell_type": "code",
   "execution_count": 13,
   "id": "bb4f251a-9f67-4b7d-ac59-d4b03d521928",
   "metadata": {},
   "outputs": [
    {
     "name": "stdout",
     "output_type": "stream",
     "text": [
      "Datasets: Human1_enhance, ARI=0.96, NMI=0.92, k=6\n",
      "Datasets: Human2_enhance, ARI=0.91, NMI=0.87, k=5\n",
      "Datasets: Human3_enhance, ARI=0.73, NMI=0.74, k=3\n",
      "Datasets: Mouse1_enhance, ARI=0.34, NMI=0.52, k=4\n",
      "Datasets: Mouse2_enhance, ARI=0.74, NMI=0.78, k=3\n",
      "Datasets: Mouse3_enhance, ARI=0.98, NMI=0.97, k=4\n"
     ]
    }
   ],
   "source": [
    "plot_cluster(human1_c, 'Human1', 'enhance', 'clusters', y_true_human1, 0, axs[0][0])\n",
    "plot_cluster(human2_c, 'Human2', 'enhance', 'clusters', y_true_human2, 1, axs[0][1])\n",
    "plot_cluster(human3_c, 'Human3', 'enhance', 'clusters', y_true_human3, 2, axs[0][2])\n",
    "plot_cluster(mouse1_c, 'Mouse1', 'enhance', 'clusters', y_true_mouse1, 3, axs[0][3])\n",
    "plot_cluster(mouse2_c, 'Mouse2', 'enhance', 'clusters', y_true_mouse2, 4, axs[0][4])\n",
    "plot_cluster(mouse3_c, 'Mouse3', 'enhance', 'clusters', y_true_mouse3, 5, axs[0][5])"
   ]
  },
  {
   "cell_type": "code",
   "execution_count": 14,
   "id": "3ae08ec7-82b0-49a2-ab2f-a86c32059a6f",
   "metadata": {},
   "outputs": [],
   "source": [
    "plot_cluster(human1_c, 'Human1', 'enhance', 'labels', y_true_human1, None, 0, axs[1][0])\n",
    "plot_cluster(human2_c, 'Human2', 'enhance', 'labels', y_true_human2, None, 1, axs[1][1])\n",
    "plot_cluster(human3_c, 'Human3', 'enhance', 'labels', y_true_human3, None, 2, axs[1][2])\n",
    "plot_cluster(mouse1_c, 'Mouse1', 'enhance', 'labels', y_true_mouse1, None, 3, axs[1][3])\n",
    "plot_cluster(mouse2_c, 'Mouse2', 'enhance', 'labels', y_true_mouse2, None, 4, axs[1][4])\n",
    "plot_cluster(mouse3_c, 'Mouse3', 'enhance', 'labels', y_true_mouse3, None, 5, axs[1][5])"
   ]
  },
  {
   "cell_type": "code",
   "execution_count": 15,
   "id": "42797add-0511-496a-9d10-acf381aeed96",
   "metadata": {},
   "outputs": [
    {
     "data": {
      "text/plain": [
       "<Figure size 2000x500 with 12 Axes>"
      ]
     },
     "execution_count": 15,
     "metadata": {},
     "output_type": "execute_result"
    }
   ],
   "source": [
    "fig"
   ]
  },
  {
   "cell_type": "code",
   "execution_count": 16,
   "id": "7cd48f3a-ee8e-4627-99af-d4fbaf1ae19b",
   "metadata": {},
   "outputs": [],
   "source": [
    "plt.savefig('Figures/FigureS6B.svg', dpi=300, format='svg', bbox_inches='tight')"
   ]
  },
  {
   "cell_type": "code",
   "execution_count": null,
   "id": "80eb2bc2-d25f-4e5d-9acb-5860e8835f28",
   "metadata": {},
   "outputs": [],
   "source": []
  }
 ],
 "metadata": {
  "kernelspec": {
   "display_name": "Python 3",
   "language": "python",
   "name": "python3"
  },
  "language_info": {
   "codemirror_mode": {
    "name": "ipython",
    "version": 3
   },
   "file_extension": ".py",
   "mimetype": "text/x-python",
   "name": "python",
   "nbconvert_exporter": "python",
   "pygments_lexer": "ipython3",
   "version": "3.8.8"
  }
 },
 "nbformat": 4,
 "nbformat_minor": 5
}
