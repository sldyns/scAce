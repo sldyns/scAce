{
 "cells": [
  {
   "cell_type": "code",
   "execution_count": 1,
   "id": "177ac828-5024-4388-99a7-6426f2e5cd23",
   "metadata": {},
   "outputs": [],
   "source": [
    "import pandas as pd\n",
    "import scanpy as sc\n",
    "import numpy as np\n",
    "import h5py\n",
    "\n",
    "import matplotlib\n",
    "import matplotlib.pyplot as plt\n",
    "matplotlib.use('Agg')\n",
    "from matplotlib.pyplot import plot,savefig\n",
    "from sklearn import metrics\n",
    "\n",
    "import warnings\n",
    "warnings.filterwarnings(\"ignore\")\n",
    "from read_count import read_data\n",
    "\n",
    "import seaborn as sns\n",
    "from matplotlib.colors import LinearSegmentedColormap\n",
    "from sklearn import metrics"
   ]
  },
  {
   "cell_type": "code",
   "execution_count": 2,
   "id": "efc356e1-6bd8-4170-ade3-967e57a5cae1",
   "metadata": {},
   "outputs": [],
   "source": [
    "scace = []\n",
    "scace.append(np.load('results/default/Human/scAce_wo_sample.npz'))\n",
    "scace.append(np.load('results/default/PBMC/scAce_wo_sample.npz'))\n",
    "scace.append(np.load('results/default/Kidney/scAce_wo_sample.npz'))\n",
    "scace.append(np.load('results/default/Klein/scAce_wo_sample.npz'))\n",
    "scace.append(np.load('results/default/Chen/scAce_wo_sample.npz'))\n",
    "scace.append(np.load('results/default/Adam/scAce_wo_sample.npz'))\n",
    "scace.append(np.load('results/default/Turtle/scAce_wo_sample.npz'))\n",
    "\n",
    "scd = []\n",
    "scd.append(np.load('results/merge/scDeepCluster_merge/scDeepCluster_merge_human.npz'))\n",
    "scd.append(np.load('results/merge/scDeepCluster_merge/scDeepCluster_merge_pbmc.npz'))\n",
    "scd.append(np.load('results/merge/scDeepCluster_merge/scDeepCluster_merge_kidney.npz'))\n",
    "scd.append(np.load('results/merge/scDeepCluster_merge/scDeepCluster_merge_klein.npz'))\n",
    "scd.append(np.load('results/merge/scDeepCluster_merge/scDeepCluster_merge_chen.npz'))\n",
    "scd.append(np.load('results/merge/scDeepCluster_merge/scDeepCluster_merge_adam.npz'))\n",
    "scd.append(np.load('results/merge/scDeepCluster_merge/scDeepCluster_merge_turtle.npz'))\n",
    "\n",
    "desc = []\n",
    "desc.append(np.load('results/merge/DESC_merge/DESC_merge_human.npz'))\n",
    "desc.append(np.load('results/merge/DESC_merge/DESC_merge_pbmc.npz'))\n",
    "desc.append(np.load('results/merge/DESC_merge/DESC_merge_kidney.npz'))\n",
    "desc.append(np.load('results/merge/DESC_merge/DESC_merge_klein.npz'))\n",
    "desc.append(np.load('results/merge/DESC_merge/DESC_merge_chen.npz'))\n",
    "desc.append(np.load('results/merge/DESC_merge/DESC_merge_adam.npz'))\n",
    "desc.append(np.load('results/merge/DESC_merge/DESC_merge_turtle.npz'))\n",
    "\n",
    "sccaf = []\n",
    "sccaf.append(np.load('results/merge/SCCAF_merge/SCCAF_merge_human.npz'))\n",
    "sccaf.append(np.load('results/merge/SCCAF_merge/SCCAF_merge_pbmc.npz'))\n",
    "sccaf.append(np.load('results/merge/SCCAF_merge/SCCAF_merge_kidney.npz'))\n",
    "sccaf.append(np.load('results/merge/SCCAF_merge/SCCAF_merge_klein.npz'))\n",
    "sccaf.append(np.load('results/merge/SCCAF_merge/SCCAF_merge_chen.npz'))\n",
    "sccaf.append(np.load('results/merge/SCCAF_merge/SCCAF_merge_adam.npz'))\n",
    "sccaf.append(np.load('results/merge/SCCAF_merge/SCCAF_merge_turtle.npz'))\n",
    "\n",
    "adclust = []\n",
    "adclust.append(np.load('results/merge/ADClust_merge/ADClust_merge_human.npz'))\n",
    "adclust.append(np.load('results/merge/ADClust_merge/ADClust_merge_pbmc.npz'))\n",
    "adclust.append(np.load('results/merge/ADClust_merge/ADClust_merge_kidney.npz'))\n",
    "adclust.append(np.load('results/merge/ADClust_merge/ADClust_merge_klein.npz'))\n",
    "adclust.append(np.load('results/merge/ADClust_merge/ADClust_merge_chen.npz'))\n",
    "adclust.append(np.load('results/merge/ADClust_merge/ADClust_merge_adam.npz'))\n",
    "adclust.append(np.load('results/merge/ADClust_merge/ADClust_merge_turtle.npz'))"
   ]
  },
  {
   "cell_type": "markdown",
   "id": "6e0a9f19-94ef-47ea-b6bb-f3e5d61ce304",
   "metadata": {},
   "source": [
    "# Metric"
   ]
  },
  {
   "cell_type": "code",
   "execution_count": 3,
   "id": "d7be0f6e-f287-4b7f-a9ae-2b79c5c339dc",
   "metadata": {},
   "outputs": [],
   "source": [
    "ari_scace = []\n",
    "nmi_scace = []\n",
    "for i in range(len(scace)):\n",
    "    ari_scace.append(scace[i]['ARI'])\n",
    "    nmi_scace.append(scace[i]['NMI'])\n",
    "    \n",
    "ari_scd = []\n",
    "nmi_scd = []\n",
    "for i in range(len(scd)):\n",
    "    ari_scd.append(scd[i]['ARI'][-1])\n",
    "    nmi_scd.append(scd[i]['NMI'][-1])\n",
    "    \n",
    "ari_desc = []\n",
    "nmi_desc = []\n",
    "for i in range(len(desc)):\n",
    "    ari_desc.append(desc[i]['ARI'][-1])\n",
    "    nmi_desc.append(desc[i]['NMI'][-1])   \n",
    "    \n",
    "ari_sccaf = []\n",
    "nmi_sccaf = []\n",
    "for i in range(len(sccaf)):\n",
    "    ari_sccaf.append(sccaf[i]['ARI'][-1])\n",
    "    nmi_sccaf.append(sccaf[i]['NMI'][-1])\n",
    "    \n",
    "ari_adclust = []\n",
    "nmi_adclust = []\n",
    "for i in range(len(adclust)):\n",
    "    ari_adclust.append(adclust[i]['ARI'][-1])\n",
    "    nmi_adclust.append(adclust[i]['NMI'][-1])"
   ]
  },
  {
   "cell_type": "code",
   "execution_count": 4,
   "id": "ec0597b8-fa8e-49ad-83ed-6c8e4c8ecef3",
   "metadata": {},
   "outputs": [],
   "source": [
    "def plot_metric_merge(metric, ax):\n",
    "    \n",
    "    \"\"\"\n",
    "        metric: 'ARI' or 'NMI'\n",
    "    \"\"\"\n",
    "    \n",
    "    ax = plt.subplot(ax)\n",
    "    \n",
    "    plt.ylim(0, 1)\n",
    "    \n",
    "    bar_width = 0.7\n",
    "    index = np.arange(0, 35, 5)\n",
    "    \n",
    "#     col = ['goldenrod', 'lightpink', 'salmon', 'silver', 'c']\n",
    "    col = ['#481952', '#28828E', '#B7DBB2', '#ABCC45', '#FCE420']\n",
    "\n",
    "    if metric == 'ARI':\n",
    "#         plt.bar(index-2*bar_width, ari_scace, bar_width, alpha=0.6, color='goldenrod')\n",
    "        plt.bar(index-2*bar_width, ari_scace, bar_width, alpha=0.8, color=col[0])\n",
    "        plt.bar(index-bar_width, ari_scd, bar_width, alpha=0.8, color=col[1])\n",
    "        plt.bar(index, ari_desc, bar_width, color=col[3])\n",
    "        plt.bar(index+bar_width, ari_sccaf, bar_width, color=col[2])\n",
    "        plt.bar(index+2*bar_width, ari_adclust, bar_width, color=col[4])\n",
    "        plt.xticks([])\n",
    "        plt.ylabel(metric, fontsize=25, family='Arial')\n",
    "        \n",
    "    else:\n",
    "        plt.bar(index-2*bar_width, nmi_scace, bar_width, alpha=0.8, color=col[0])\n",
    "        plt.bar(index-bar_width, nmi_scd, bar_width, alpha=0.8, color=col[1])\n",
    "        plt.bar(index, nmi_desc, bar_width, color=col[3])\n",
    "        plt.bar(index+bar_width, nmi_sccaf, bar_width, color=col[2])\n",
    "        plt.bar(index+2*bar_width, nmi_adclust, bar_width, color=col[4])\n",
    "        \n",
    "        x_labels = ['Human pancreas', 'Human PBMC', 'Human kidney', 'Mouse ES', \n",
    "                    'Mouse hypothalamus', 'Mouse kidney', 'Turtle brain']\n",
    "        plt.xticks(index, x_labels, fontsize=20, rotation=20, family='Arial')\n",
    "        plt.ylabel(metric, fontsize=25, family='Arial')\n",
    "#     plt.grid(axis=\"y\")"
   ]
  },
  {
   "cell_type": "code",
   "execution_count": 5,
   "id": "368a9af2-92ae-416b-8287-5182132a225e",
   "metadata": {},
   "outputs": [],
   "source": [
    "plt.figure(figsize=(18, 8))\n",
    "plot_metric_merge('ARI', 211)\n",
    "plot_metric_merge('NMI', 212)"
   ]
  },
  {
   "cell_type": "code",
   "execution_count": 6,
   "id": "3f6704f2-5646-4e4e-8c1e-bc3147b07ab8",
   "metadata": {},
   "outputs": [],
   "source": [
    "plt.savefig('Figures/Figure5A.svg', dpi=300, format='svg', bbox_inches='tight')"
   ]
  },
  {
   "cell_type": "markdown",
   "id": "342779d2-b8e4-42ac-9cfb-758d7094d304",
   "metadata": {},
   "source": [
    "# UMAP (Mouse kidney)"
   ]
  },
  {
   "cell_type": "code",
   "execution_count": 8,
   "id": "69be7b70-a931-4816-8336-d15902d83035",
   "metadata": {},
   "outputs": [],
   "source": [
    "col = [\"#E64B35CC\", \"#0072B5CC\", \"#00A087CC\", \"#3C5488CC\", \"#F39B7FCC\", \"#F7DC05FF\", \"#FD7446E5\", \"#8491B4CC\"]"
   ]
  },
  {
   "cell_type": "code",
   "execution_count": null,
   "id": "576717fb-245b-4ec6-8e68-f7ccb30cc9ba",
   "metadata": {},
   "outputs": [],
   "source": [
    "methods = [scace, scd, desc, sccaf, adclust]\n",
    "embedding = []\n",
    "for i, method in enumerate(methods):\n",
    "    if i == 0:\n",
    "        embedding.append(method[5]['Embedding'][-1])\n",
    "    elif i == 1:\n",
    "        embedding.append(method[5]['Embedded'][-1])\n",
    "    elif i == 4 :\n",
    "        embedding.append(method[5]['Embedding'][-1])\n",
    "    else:\n",
    "        embedding.append(method[5]['Embedding'])\n",
    "        \n",
    "umap_all = []\n",
    "for i in range(len(embedding)):\n",
    "    print(i)\n",
    "    adata = sc.AnnData(embedding[i])\n",
    "    sc.pp.neighbors(adata)\n",
    "    sc.tl.umap(adata, random_state=0)\n",
    "    umap_all.append(np.array(adata.obsm['X_umap']))   "
   ]
  },
  {
   "cell_type": "code",
   "execution_count": 10,
   "id": "7c314e11-345c-4328-94a2-a220e18fcade",
   "metadata": {},
   "outputs": [],
   "source": [
    "umap_all = np.load(\"umap/umap_4merge.npz\")['UMAP']\n",
    "# np.savez(\"umap/umap_4merge.npz\", UMAP=umap_all)"
   ]
  },
  {
   "cell_type": "code",
   "execution_count": 11,
   "id": "54b4305a-5d08-49dc-bbc9-6cb85861c0c1",
   "metadata": {},
   "outputs": [],
   "source": [
    "def plot_cluster(df, n, method_name, y_true, by, ax):\n",
    "    \n",
    "    \"\"\"\n",
    "        n :  n-th method in [scAce, scDeepCluster, DESC, SCCAF, ADClust]\n",
    "        by: 'pred' or 'true'. If by == 'pred', colored by cluster labels, else colored by true cell types.\n",
    "    \"\"\"\n",
    "    \n",
    "#     ax = plt.subplot(ax)\n",
    "    \n",
    "    umap = umap_all[n]\n",
    "    \n",
    "    if method_name == 'scAce':\n",
    "         y_pred = df[5]['Clusters'][-1][-1]\n",
    "            \n",
    "    else:\n",
    "         y_pred = df[5]['Clusters'][-1]\n",
    "    \n",
    "    K = len(np.unique(y_pred))\n",
    "    \n",
    "    y_pred = np.asarray(y_pred, dtype='int').squeeze()\n",
    "    \n",
    "    if by == 'pred':\n",
    "        ari = np.round(metrics.adjusted_rand_score(y_pred, y_true), 2)\n",
    "        nmi = np.round(metrics.normalized_mutual_info_score(y_pred, y_true), 2)\n",
    "        print('{}:  ARI={}, NMI={}, k={}'.format(method_name, ari, nmi, K))\n",
    "        \n",
    "    adata = sc.AnnData(pd.DataFrame(np.random.rand(len(y_pred), 1)))\n",
    "    adata.obs['pred'] = y_pred\n",
    "    adata.obs['pred'] = adata.obs['pred'].astype(str).astype('category')\n",
    "    adata.obs['true'] = y_true\n",
    "    adata.obs['true'] = adata.obs['true'].astype(str).astype('category')\n",
    "\n",
    "    adata.obsm['X_umap'] = umap\n",
    "\n",
    "    if by == 'pred':\n",
    "        sc.pl.umap(adata, color=['pred'], ax=ax, show=False, legend_loc='None', size=8)\n",
    "#         ax.set_title('K={} ARI={}'.format(K, ari), fontsize=10, family='Arial')\n",
    "        ax.spines['right'].set_visible(False)\n",
    "        ax.spines['top'].set_visible(False)\n",
    "        \n",
    "    else:\n",
    "        sc.pl.umap(adata, color=['true'], ax=ax, show=False, legend_loc='None', size=8, palette=col)\n",
    "#         ax.set_title('K={}'.format(len(np.unique(y_true))), fontsize=17, family='Arial')\n",
    "        ax.spines['right'].set_visible(False)\n",
    "        ax.spines['top'].set_visible(False)\n",
    "        ax.set_xticks([])"
   ]
  },
  {
   "cell_type": "code",
   "execution_count": 12,
   "id": "5f2ae60f-5d50-4276-966e-b992c2e01668",
   "metadata": {},
   "outputs": [],
   "source": [
    "mat, obs, var, uns = read_data('dataset/Mouse_k.h5', sparsify=False, skip_exprs=False)\n",
    "x = np.array(mat.toarray())\n",
    "cell_name = np.array(obs[\"cell_type1\"])\n",
    "cell_type, y_true = np.unique(cell_name, return_inverse=True)"
   ]
  },
  {
   "cell_type": "code",
   "execution_count": 13,
   "id": "f8862ab0-a50c-42c3-903b-aebc5cab67e1",
   "metadata": {},
   "outputs": [],
   "source": [
    "fig = plt.figure(figsize=(15, 5))\n",
    "sub_figs = fig.subfigures(2, 1)\n",
    "axs = []\n",
    "\n",
    "for i, sub_fig in enumerate(sub_figs):     \n",
    "    axs.append(sub_fig.subplots(1, 5))\n",
    "    \n",
    "axs = np.array(axs)"
   ]
  },
  {
   "cell_type": "code",
   "execution_count": 14,
   "id": "8bd979cc-672b-43c1-98fa-00d05864f0c5",
   "metadata": {},
   "outputs": [
    {
     "name": "stdout",
     "output_type": "stream",
     "text": [
      "scAce:  ARI=0.93, NMI=0.91, k=8\n",
      "scDeepCluster:  ARI=0.67, NMI=0.76, k=12\n",
      "DESC:  ARI=0.65, NMI=0.79, k=13\n",
      "SCCAF:  ARI=0.06, NMI=0.1, k=2\n",
      "ADClust:  ARI=0.46, NMI=0.62, k=5\n"
     ]
    }
   ],
   "source": [
    "plot_cluster(scace, 0, 'scAce', y_true, 'pred', axs[0][0])\n",
    "plot_cluster(scace, 0, 'scAce', y_true, 'true', axs[1][0])\n",
    "\n",
    "plot_cluster(scd, 1, 'scDeepCluster', y_true, 'pred', axs[0][1])\n",
    "plot_cluster(scd, 1, 'scDeepCluster', y_true, 'true', axs[1][1])\n",
    "\n",
    "plot_cluster(desc, 2, 'DESC', y_true, 'pred', axs[0][2])\n",
    "plot_cluster(desc, 2, 'DESC', y_true, 'true', axs[1][2])\n",
    "\n",
    "plot_cluster(sccaf, 3, 'SCCAF', y_true, 'pred', axs[0][3])\n",
    "plot_cluster(sccaf, 3, 'SCCAF', y_true, 'true', axs[1][3])\n",
    "\n",
    "plot_cluster(adclust, 4, 'ADClust', y_true, 'pred', axs[0][4])\n",
    "plot_cluster(adclust, 4, 'ADClust', y_true, 'true', axs[1][4])"
   ]
  },
  {
   "cell_type": "code",
   "execution_count": 15,
   "id": "18786edc-0070-4384-b906-3e9545410c0a",
   "metadata": {},
   "outputs": [
    {
     "data": {
      "text/plain": [
       "<Figure size 1500x500 with 10 Axes>"
      ]
     },
     "execution_count": 15,
     "metadata": {},
     "output_type": "execute_result"
    }
   ],
   "source": [
    "fig"
   ]
  },
  {
   "cell_type": "code",
   "execution_count": 16,
   "id": "f26b3708-3ad2-4177-a7a2-84bdf6153bb9",
   "metadata": {},
   "outputs": [],
   "source": [
    "plt.savefig('Figures/Figure5B.svg', dpi=300, format='svg', bbox_inches='tight')"
   ]
  },
  {
   "cell_type": "markdown",
   "id": "a2845d4b-e0be-49c4-96c3-beb231cbb2cf",
   "metadata": {},
   "source": [
    "# UMAP (other five datasets)"
   ]
  },
  {
   "cell_type": "code",
   "execution_count": 17,
   "id": "568975fa-b41b-4ecb-a4b8-d494b728c609",
   "metadata": {},
   "outputs": [],
   "source": [
    "methods = [scace, scd, desc, sccaf, adclust]\n",
    "embedding = []\n",
    "\n",
    "for i, method in enumerate(methods):\n",
    "    for j in range(len(method)):\n",
    "        if i == 0:\n",
    "            embedding.append(method[j]['Embedding'][-1])\n",
    "        elif i == 1:\n",
    "            embedding.append(method[j]['Embedded'][-1])\n",
    "        elif i == 4:\n",
    "            embedding.append(method[j]['Embedding'][-1])\n",
    "        else:\n",
    "            embedding.append(method[j]['Embedding'])"
   ]
  },
  {
   "cell_type": "code",
   "execution_count": 85,
   "id": "f592c52f-a449-40da-b7e1-e70c26c17417",
   "metadata": {},
   "outputs": [
    {
     "name": "stdout",
     "output_type": "stream",
     "text": [
      "0\n",
      "1\n",
      "2\n",
      "3\n",
      "4\n",
      "5\n",
      "6\n",
      "7\n",
      "8\n",
      "9\n",
      "10\n",
      "11\n",
      "12\n",
      "13\n",
      "14\n",
      "15\n",
      "16\n",
      "17\n",
      "18\n",
      "19\n",
      "20\n",
      "21\n",
      "22\n",
      "23\n",
      "24\n",
      "25\n",
      "26\n",
      "27\n",
      "28\n",
      "29\n",
      "30\n",
      "31\n",
      "32\n",
      "33\n",
      "34\n"
     ]
    }
   ],
   "source": [
    "umap_all = []\n",
    "for i in range(len(embedding)):\n",
    "    print(i)\n",
    "    adata = sc.AnnData(embedding[i])\n",
    "    sc.pp.neighbors(adata)\n",
    "    sc.tl.umap(adata, random_state=0)\n",
    "    umap_all.append(np.array(adata.obsm['X_umap']))   "
   ]
  },
  {
   "cell_type": "code",
   "execution_count": 18,
   "id": "7a722a19-f739-4119-bd9a-4e11ee3e10ae",
   "metadata": {},
   "outputs": [],
   "source": [
    "umap_all = np.load(\"umap/umap_4merge_others.npz\")['UMAP']\n",
    "# np.savez(\"umap/umap_4merge_others.npz\", UMAP=umap_all)"
   ]
  },
  {
   "cell_type": "code",
   "execution_count": 19,
   "id": "1ff7e0e0-606b-43bb-a8a7-d34fd28800a2",
   "metadata": {},
   "outputs": [],
   "source": [
    "fig = plt.figure(figsize=(27, 13))\n",
    "sub_figs = fig.subfigures(6, 1)\n",
    "axs = []\n",
    "\n",
    "for i, sub_fig in enumerate(sub_figs):     \n",
    "    axs.append(sub_fig.subplots(1, 10))\n",
    "    \n",
    "axs = np.array(axs)"
   ]
  },
  {
   "cell_type": "code",
   "execution_count": 20,
   "id": "2434814d-0e59-4ee3-b6b3-daf963e4dc87",
   "metadata": {},
   "outputs": [],
   "source": [
    "col = [\"#E64B35CC\", \"#0072B5CC\", \"#00A087CC\", \"#3C5488CC\", \"#F39B7FCC\", \"#F7DC05FF\", \"#FD7446E5\",\n",
    "       \"#8491B4CC\", \"#7E6148CC\", \"#B09C85CC\", \"#E18727CC\", \"#FFDC91E5\", \"#6A6599E5\", \"#9467BDB2\",\n",
    "       \"#FFFFFFFF\", \"#0000FFFF\", \"#FF0000FF\", \"#00FF00FF\", \"#000033FF\", \"#FF00B6FF\", \"#005300FF\", \"#FFD300FF\",\n",
    "       \"#009FFFFF\", \"#9A4D42FF\", \"#00FFBEFF\", \"#783FC1FF\", \"#1F9698FF\", \"#FFACFDFF\", \"#B1CC71FF\", \"#F1085CFF\",\n",
    "       \"#FE8F42FF\", \"#DD00FFFF\", \"#201A01FF\", \"#720055FF\", \"#766C95FF\", \"#02AD24FF\", \"#C8FF00FF\", \"#886C00FF\",\n",
    "       \"#FFB79FFF\", \"#858567FF\", \"#A10300FF\", \"#14F9FFFF\", \"#00479EFF\", \"#DC5E93FF\", \"#93D4FFFF\", \"#004CFFFF\"]"
   ]
  },
  {
   "cell_type": "code",
   "execution_count": 21,
   "id": "72c0a48a-5255-49b4-9264-9e870f239fc8",
   "metadata": {},
   "outputs": [],
   "source": [
    "def plot_cluster(df, n1, n2, method_name, data_name, y_true, by, ax):\n",
    "    \n",
    "    umap = umap_all[n1]\n",
    "    \n",
    "    if method_name == 'scAce':\n",
    "        y_pred = df[n2]['Clusters'][-1][-1]\n",
    "    else:\n",
    "        y_pred = df[n2]['Clusters'][-1]\n",
    "    \n",
    "    K = len(np.unique(y_pred))\n",
    "    \n",
    "    y_pred = np.asarray(y_pred, dtype='int').squeeze()\n",
    "    \n",
    "    ari = np.round(metrics.adjusted_rand_score(y_pred, y_true), 2)\n",
    "    nmi = np.round(metrics.normalized_mutual_info_score(y_pred, y_true), 2)\n",
    "    if by == 'pred':\n",
    "        print('{}_{}:  ARI={}, NMI={}, k={}'.format(method_name, data_name, ari, nmi, K))\n",
    "        \n",
    "    adata = sc.AnnData(pd.DataFrame(np.random.rand(len(y_pred), 1)))\n",
    "    adata.obs['pred'] = y_pred\n",
    "    adata.obs['pred'] = adata.obs['pred'].astype(str).astype('category')\n",
    "    adata.obs['true'] = y_true\n",
    "    adata.obs['true'] = adata.obs['true'].astype(str).astype('category')\n",
    "\n",
    "    adata.obsm['X_umap'] = umap\n",
    "\n",
    "    if by == 'pred':\n",
    "        sc.pl.umap(adata, color=['pred'], ax=ax, show=False, legend_loc='None', size=8)\n",
    "        ax.set_title('K={}'.format(K), fontsize=16, family='Arial')\n",
    "        ax.spines['right'].set_visible(False)\n",
    "        ax.spines['top'].set_visible(False)\n",
    "        \n",
    "    else:\n",
    "        sc.pl.umap(adata, color=['true'], ax=ax, show=False, legend_loc='None', size=8, palette=col)\n",
    "        ax.set_title('ARI={}'.format(ari), fontsize=16, family='Arial')\n",
    "        ax.spines['right'].set_visible(False)\n",
    "        ax.spines['top'].set_visible(False)\n",
    "        ax.set_xticks([])"
   ]
  },
  {
   "cell_type": "code",
   "execution_count": 22,
   "id": "f4a80374-ed0e-459b-9f75-2c512738677e",
   "metadata": {},
   "outputs": [],
   "source": [
    "data_mat = h5py.File('dataset/Human_p.h5')\n",
    "y_true = np.array(data_mat['Y'], dtype='int')\n",
    "data_mat.close()"
   ]
  },
  {
   "cell_type": "code",
   "execution_count": 23,
   "id": "3a6d5079-8a8e-485e-b9f3-ffadc89ec7da",
   "metadata": {},
   "outputs": [
    {
     "name": "stdout",
     "output_type": "stream",
     "text": [
      "scAce_Human pancreas:  ARI=0.9, NMI=0.88, k=5\n",
      "scDeepCluster_Human pancreas:  ARI=0.79, NMI=0.82, k=9\n",
      "DESC_Human pancreas:  ARI=0.94, NMI=0.91, k=9\n",
      "SCCAF_Human pancreas:  ARI=0.03, NMI=0.13, k=2\n",
      "ADClust_Human pancreas:  ARI=0.8, NMI=0.77, k=4\n"
     ]
    }
   ],
   "source": [
    "plot_cluster(scace, 0, 0, 'scAce', 'Human pancreas', y_true, 'pred', axs[0][0])\n",
    "plot_cluster(scace, 0, 0, 'scAce', None, y_true, 'true', axs[0][5])\n",
    "plot_cluster(scd, 7, 0, 'scDeepCluster', 'Human pancreas', y_true, 'pred', axs[0][1])\n",
    "plot_cluster(scd, 7, 0, 'scDeepCluster', None, y_true, 'true', axs[0][6])\n",
    "plot_cluster(desc, 14, 0, 'DESC', 'Human pancreas', y_true, 'pred', axs[0][2])\n",
    "plot_cluster(desc, 14, 0, 'DESC', None, y_true, 'true', axs[0][7])\n",
    "plot_cluster(sccaf, 21, 0, 'SCCAF', 'Human pancreas', y_true, 'pred', axs[0][3])\n",
    "plot_cluster(sccaf, 21, 0, 'SCCAF', None, y_true, 'true', axs[0][8])\n",
    "plot_cluster(adclust, 28, 0, 'ADClust', 'Human pancreas', y_true, 'pred', axs[0][4])\n",
    "plot_cluster(adclust, 28, 0, 'ADClust', None, y_true, 'true', axs[0][9])"
   ]
  },
  {
   "cell_type": "code",
   "execution_count": 24,
   "id": "36aa72f4-b361-479e-b4ec-504dcc1bc979",
   "metadata": {},
   "outputs": [],
   "source": [
    "data_mat = h5py.File('dataset/Human_PBMC.h5')\n",
    "y_true = np.array(data_mat['Y'], dtype='int')\n",
    "data_mat.close()"
   ]
  },
  {
   "cell_type": "code",
   "execution_count": 25,
   "id": "75d2af3d-89fb-495b-8a7b-497322be9f28",
   "metadata": {},
   "outputs": [
    {
     "name": "stdout",
     "output_type": "stream",
     "text": [
      "scAce_Human PBMC:  ARI=0.81, NMI=0.82, k=8\n",
      "scDeepCluster_Human PBMC:  ARI=0.75, NMI=0.77, k=8\n",
      "DESC_Human PBMC:  ARI=0.53, NMI=0.7, k=7\n",
      "SCCAF_Human PBMC:  ARI=0.02, NMI=0.11, k=2\n",
      "ADClust_Human PBMC:  ARI=0.41, NMI=0.61, k=3\n"
     ]
    }
   ],
   "source": [
    "plot_cluster(scace, 1, 1, 'scAce', 'Human PBMC', y_true, 'pred', axs[1][0])\n",
    "plot_cluster(scace, 1, 1, 'scAce', None, y_true, 'true', axs[1][5])\n",
    "plot_cluster(scd, 8, 1, 'scDeepCluster', 'Human PBMC', y_true, 'pred', axs[1][1])\n",
    "plot_cluster(scd, 8, 1, 'scDeepCluster', None, y_true, 'true', axs[1][6])\n",
    "plot_cluster(desc, 15, 1, 'DESC', 'Human PBMC', y_true, 'pred', axs[1][2])\n",
    "plot_cluster(desc, 15, 1, 'DESC', None, y_true, 'true', axs[1][7])\n",
    "plot_cluster(sccaf, 22, 1, 'SCCAF', 'Human PBMC', y_true, 'pred', axs[1][3])\n",
    "plot_cluster(sccaf, 22, 1, 'SCCAF', None, y_true, 'true', axs[1][8])\n",
    "plot_cluster(adclust, 29, 1, 'ADClust', 'Human PBMC', y_true, 'pred', axs[1][4])\n",
    "plot_cluster(adclust, 29, 1, 'ADClust', None, y_true, 'true', axs[1][9])"
   ]
  },
  {
   "cell_type": "code",
   "execution_count": 26,
   "id": "37d64068-5911-4507-b3f6-62ac38d072e9",
   "metadata": {},
   "outputs": [],
   "source": [
    "data_mat = h5py.File('dataset/Human_k.h5')\n",
    "y_true = np.array(data_mat['Y'], dtype='int')\n",
    "data_mat.close()"
   ]
  },
  {
   "cell_type": "code",
   "execution_count": 27,
   "id": "3d56bfc3-63e9-4f6b-9e64-83c138df9ac6",
   "metadata": {},
   "outputs": [
    {
     "name": "stdout",
     "output_type": "stream",
     "text": [
      "scAce_Human kidney:  ARI=0.65, NMI=0.76, k=16\n",
      "scDeepCluster_Human kidney:  ARI=0.38, NMI=0.61, k=11\n",
      "DESC_Human kidney:  ARI=0.05, NMI=0.19, k=4\n",
      "SCCAF_Human kidney:  ARI=0.38, NMI=0.68, k=20\n",
      "ADClust_Human kidney:  ARI=0.63, NMI=0.73, k=6\n"
     ]
    }
   ],
   "source": [
    "plot_cluster(scace, 2, 2, 'scAce', 'Human kidney', y_true, 'pred', axs[2][0])\n",
    "plot_cluster(scace, 2, 2, 'scAce', None, y_true, 'true', axs[2][5])\n",
    "plot_cluster(scd, 9, 2, 'scDeepCluster', 'Human kidney', y_true, 'pred', axs[2][1])\n",
    "plot_cluster(scd, 9, 2, 'scDeepCluster', None, y_true, 'true', axs[2][6])\n",
    "plot_cluster(desc, 16, 2, 'DESC', 'Human kidney', y_true, 'pred', axs[2][2])\n",
    "plot_cluster(desc, 16, 2, 'DESC', None, y_true, 'true', axs[2][7])\n",
    "plot_cluster(sccaf, 23, 2, 'SCCAF', 'Human kidney', y_true, 'pred', axs[2][3])\n",
    "plot_cluster(sccaf, 23, 2, 'SCCAF', None, y_true, 'true', axs[2][8])\n",
    "plot_cluster(adclust, 30, 2, 'ADClust', 'Human kidney', y_true, 'pred', axs[2][4])\n",
    "plot_cluster(adclust, 30, 2, 'ADClust', None, y_true, 'true', axs[2][9])"
   ]
  },
  {
   "cell_type": "code",
   "execution_count": 28,
   "id": "aa71c883-6fe1-4083-9be6-c5e3d4628f73",
   "metadata": {},
   "outputs": [],
   "source": [
    "mat, obs, var, uns = read_data('dataset/Mouse_E.h5', sparsify=False, skip_exprs=False)\n",
    "x = np.array(mat.toarray())\n",
    "cell_name = np.array(obs[\"cell_type1\"])\n",
    "cell_type, y_true = np.unique(cell_name, return_inverse=True)"
   ]
  },
  {
   "cell_type": "code",
   "execution_count": 29,
   "id": "4e07ac3b-3b61-4f5e-ac22-e5a105658f92",
   "metadata": {},
   "outputs": [
    {
     "name": "stdout",
     "output_type": "stream",
     "text": [
      "scAce_Mouse ES:  ARI=0.9, NMI=0.9, k=5\n",
      "scDeepCluster_Mouse ES:  ARI=0.77, NMI=0.78, k=4\n",
      "DESC_Mouse ES:  ARI=0.49, NMI=0.68, k=5\n",
      "SCCAF_Mouse ES:  ARI=0.0, NMI=0.0, k=1\n",
      "ADClust_Mouse ES:  ARI=0.71, NMI=0.69, k=3\n"
     ]
    }
   ],
   "source": [
    "plot_cluster(scace, 3, 3, 'scAce', 'Mouse ES', y_true, 'pred', axs[3][0])\n",
    "plot_cluster(scace, 3, 3, 'scAce', None, y_true, 'true', axs[3][5])\n",
    "plot_cluster(scd, 10, 3, 'scDeepCluster', 'Mouse ES', y_true, 'pred', axs[3][1])\n",
    "plot_cluster(scd, 10, 3, 'scDeepCluster', None, y_true, 'true', axs[3][6])\n",
    "plot_cluster(desc, 17, 3, 'DESC', 'Mouse ES', y_true, 'pred', axs[3][2])\n",
    "plot_cluster(desc, 17, 3, 'DESC', None, y_true, 'true', axs[3][7])\n",
    "plot_cluster(sccaf, 24, 3, 'SCCAF', 'Mouse ES', y_true, 'pred', axs[3][3])\n",
    "plot_cluster(sccaf, 24, 3, 'SCCAF', None, y_true, 'true', axs[3][8])\n",
    "plot_cluster(adclust, 31, 3, 'ADClust', 'Mouse ES', y_true, 'pred', axs[3][4])\n",
    "plot_cluster(adclust, 31, 3, 'ADClust', None, y_true, 'true', axs[3][9])"
   ]
  },
  {
   "cell_type": "code",
   "execution_count": 30,
   "id": "160468b9-090d-4a00-b8cf-352f4461a533",
   "metadata": {},
   "outputs": [],
   "source": [
    "mat, obs, var, uns = read_data('dataset/Mouse_h.h5', sparsify=False, skip_exprs=False)\n",
    "x = np.array(mat.toarray())\n",
    "cell_name = np.array(obs[\"cell_type1\"])\n",
    "cell_type, y_true_1 = np.unique(cell_name, return_inverse=True)\n",
    "\n",
    "adata = sc.AnnData(x)\n",
    "adata.obs['celltype'] = y_true_1\n",
    "sc.pp.filter_genes(adata, min_cells=3)\n",
    "sc.pp.filter_cells(adata, min_genes=200)\n",
    "\n",
    "y_true_2 = np.array(adata.obs['celltype']).squeeze()"
   ]
  },
  {
   "cell_type": "code",
   "execution_count": 31,
   "id": "e2f915a7-acfd-42b9-949f-71badece1362",
   "metadata": {},
   "outputs": [
    {
     "name": "stdout",
     "output_type": "stream",
     "text": [
      "scAce_Mouse hypothalamus:  ARI=0.84, NMI=0.79, k=9\n",
      "scDeepCluster_Mouse hypothalamus:  ARI=0.78, NMI=0.78, k=10\n",
      "DESC_Mouse hypothalamus:  ARI=0.04, NMI=0.16, k=2\n",
      "SCCAF_Mouse hypothalamus:  ARI=0.0, NMI=0.01, k=2\n",
      "ADClust_Mouse hypothalamus:  ARI=0.7, NMI=0.72, k=6\n"
     ]
    }
   ],
   "source": [
    "plot_cluster(scace, 4, 4, 'scAce', 'Mouse hypothalamus', y_true_2, 'pred', axs[4][0])\n",
    "plot_cluster(scace, 4, 4, 'scAce', None, y_true_2, 'true', axs[4][5])\n",
    "plot_cluster(scd, 11, 4, 'scDeepCluster', 'Mouse hypothalamus', y_true_1, 'pred', axs[4][1])\n",
    "plot_cluster(scd, 11, 4, 'scDeepCluster', None, y_true_1, 'true', axs[4][6])\n",
    "plot_cluster(desc, 18, 4, 'DESC', 'Mouse hypothalamus', y_true_2, 'pred', axs[4][2])\n",
    "plot_cluster(desc, 18, 4, 'DESC', None, y_true_2, 'true', axs[4][7])\n",
    "plot_cluster(sccaf, 25, 4, 'SCCAF', 'Mouse hypothalamus', y_true_2, 'pred', axs[4][3])\n",
    "plot_cluster(sccaf, 25, 4, 'SCCAF', None, y_true_2, 'true', axs[4][8])\n",
    "plot_cluster(adclust, 32, 4, 'ADClust', 'Mouse hypothalamus', y_true_1, 'pred', axs[4][4])\n",
    "plot_cluster(adclust, 32, 4, 'ADClust', None, y_true_1, 'true', axs[4][9])"
   ]
  },
  {
   "cell_type": "code",
   "execution_count": 32,
   "id": "b737a8ce-fd8b-43c8-b245-da874bbcde29",
   "metadata": {},
   "outputs": [],
   "source": [
    "mat, obs, var, uns = read_data('dataset/Turtle_b.h5', sparsify=False, skip_exprs=False)\n",
    "x = np.array(mat.toarray())\n",
    "cell_name = np.array(obs[\"cell_type1\"])\n",
    "cell_type, y_true = np.unique(cell_name, return_inverse=True)"
   ]
  },
  {
   "cell_type": "code",
   "execution_count": 33,
   "id": "2ef19090-c560-4078-9c7d-1d4707a68661",
   "metadata": {},
   "outputs": [
    {
     "name": "stdout",
     "output_type": "stream",
     "text": [
      "scAce_Turtle brain:  ARI=0.71, NMI=0.71, k=7\n",
      "scDeepCluster_Turtle brain:  ARI=0.88, NMI=0.83, k=14\n",
      "DESC_Turtle brain:  ARI=0.08, NMI=0.23, k=2\n",
      "SCCAF_Turtle brain:  ARI=0.8, NMI=0.81, k=15\n",
      "ADClust_Turtle brain:  ARI=0.55, NMI=0.63, k=3\n"
     ]
    }
   ],
   "source": [
    "plot_cluster(scace, 6, 6, 'scAce', 'Turtle brain', y_true, 'pred', axs[5][0])\n",
    "plot_cluster(scace, 6, 6, 'scAce', None, y_true, 'true', axs[5][5])\n",
    "plot_cluster(scd, 13, 6, 'scDeepCluster', 'Turtle brain', y_true, 'pred', axs[5][1])\n",
    "plot_cluster(scd, 13, 6, 'scDeepCluster', None, y_true, 'true', axs[5][6])\n",
    "plot_cluster(desc, 20, 6, 'DESC', 'Turtle brain', y_true, 'pred', axs[5][2])\n",
    "plot_cluster(desc, 20, 6, 'DESC', None, y_true, 'true', axs[5][7])\n",
    "plot_cluster(sccaf, 27, 6, 'SCCAF', 'Turtle brain', y_true, 'pred', axs[5][3])\n",
    "plot_cluster(sccaf, 27, 6, 'SCCAF', None, y_true, 'true', axs[5][8])\n",
    "plot_cluster(adclust, 34, 6, 'ADClust', 'Turtle brain', y_true, 'pred', axs[5][4])\n",
    "plot_cluster(adclust, 34, 6, 'ADClust', None, y_true, 'true', axs[5][9])"
   ]
  },
  {
   "cell_type": "code",
   "execution_count": 34,
   "id": "b9495ae4-7773-4812-9bbd-e8e7be0d7c7b",
   "metadata": {},
   "outputs": [
    {
     "data": {
      "text/plain": [
       "<Figure size 2700x1300 with 60 Axes>"
      ]
     },
     "execution_count": 34,
     "metadata": {},
     "output_type": "execute_result"
    }
   ],
   "source": [
    "fig"
   ]
  },
  {
   "cell_type": "code",
   "execution_count": 35,
   "id": "a8aac929-eacf-464c-ba32-c0fe588febd8",
   "metadata": {},
   "outputs": [],
   "source": [
    "plt.savefig('Figures/FigureS9.png', dpi=800, format='png', bbox_inches='tight')"
   ]
  },
  {
   "cell_type": "code",
   "execution_count": null,
   "id": "2d7a058c-92ab-4ba2-b33a-7b890017ddf6",
   "metadata": {},
   "outputs": [],
   "source": []
  }
 ],
 "metadata": {
  "kernelspec": {
   "display_name": "Python 3",
   "language": "python",
   "name": "python3"
  },
  "language_info": {
   "codemirror_mode": {
    "name": "ipython",
    "version": 3
   },
   "file_extension": ".py",
   "mimetype": "text/x-python",
   "name": "python",
   "nbconvert_exporter": "python",
   "pygments_lexer": "ipython3",
   "version": "3.8.8"
  }
 },
 "nbformat": 4,
 "nbformat_minor": 5
}