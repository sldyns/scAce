{
 "cells": [
  {
   "cell_type": "code",
   "execution_count": 1,
   "id": "5fe2af5b-0066-44cd-98d3-28eb5d195bc2",
   "metadata": {},
   "outputs": [],
   "source": [
    "import pandas as pd\n",
    "import scanpy as sc\n",
    "import numpy as np\n",
    "import h5py\n",
    "\n",
    "import matplotlib\n",
    "import matplotlib.pyplot as plt\n",
    "matplotlib.use('Agg')\n",
    "from matplotlib.pyplot import plot,savefig\n",
    "from sklearn import metrics\n",
    "\n",
    "import warnings\n",
    "warnings.filterwarnings(\"ignore\")\n",
    "from read_count import read_data\n",
    "\n",
    "import seaborn as sns\n",
    "from matplotlib.colors import LinearSegmentedColormap\n",
    "from sklearn import metrics"
   ]
  },
  {
   "cell_type": "code",
   "execution_count": 2,
   "id": "160aa813-e6ac-4a0e-8bf0-635a45c3fe76",
   "metadata": {},
   "outputs": [],
   "source": [
    "human_s = np.load('results/enhancement/scAce_enhance_Seurat_human.npz')\n",
    "pbmc_s = np.load('results/enhancement/scAce_enhance_Seurat_pbmc.npz')\n",
    "kidney_s = np.load('results/enhancement/scAce_enhance_Seurat_kidney.npz')\n",
    "klein_s = np.load('results/enhancement/scAce_enhance_Seurat_klein.npz')\n",
    "chen_s = np.load('results/enhancement/scAce_enhance_Seurat_chen.npz')\n",
    "adam_s = np.load('results/enhancement/scAce_enhance_Seurat_adam.npz')\n",
    "turtle_s = np.load('results/enhancement/scAce_enhance_Seurat_turtle.npz')\n",
    "\n",
    "human_before_s = pd.read_csv('results/default/Human/Seurat_wo_sample.csv', header=0, index_col=0)\n",
    "pbmc_before_s = pd.read_csv('results/default/PBMC/Seurat_wo_sample.csv', header=0, index_col=0)\n",
    "kidney_before_s = pd.read_csv('results/default/Kidney/Seurat_wo_sample.csv', header=0, index_col=0)\n",
    "klein_before_s = pd.read_csv('results/default/Klein/Seurat_wo_sample.csv', header=0, index_col=0)\n",
    "chen_before_s = pd.read_csv('results/default/Chen/Seurat_wo_sample.csv', header=0, index_col=0)\n",
    "adam_before_s = pd.read_csv('results/default/Adam/Seurat_wo_sample.csv', header=0, index_col=0)\n",
    "turtle_before_s = pd.read_csv('results/default/Turtle/Seurat_wo_sample.csv', header=0, index_col=0)"
   ]
  },
  {
   "cell_type": "code",
   "execution_count": 3,
   "id": "4a622223-7e12-4aa7-b603-3ff4584b65d8",
   "metadata": {},
   "outputs": [],
   "source": [
    "human_c = np.load('results/enhancement/scAce_enhance_CIDR_human.npz')\n",
    "pbmc_c = np.load('results/enhancement/scAce_enhance_CIDR_pbmc.npz')\n",
    "kidney_c = np.load('results/enhancement/scAce_enhance_CIDR_kidney.npz')\n",
    "klein_c = np.load('results/enhancement/scAce_enhance_CIDR_klein.npz')\n",
    "chen_c = np.load('results/enhancement/scAce_enhance_CIDR_chen.npz')\n",
    "adam_c = np.load('results/enhancement/scAce_enhance_CIDR_adam.npz')\n",
    "turtle_c = np.load('results/enhancement/scAce_enhance_CIDR_turtle.npz')\n",
    "\n",
    "human_before_c = pd.read_csv('results/default/Human/CIDR_wo_sample.csv', header=0, index_col=0)\n",
    "pbmc_before_c = pd.read_csv('results/default/PBMC/CIDR_wo_sample.csv', header=0, index_col=0)\n",
    "kidney_before_c = pd.read_csv('results/default/Kidney/CIDR_wo_sample.csv', header=0, index_col=0)\n",
    "klein_before_c = pd.read_csv('results/default/Klein/CIDR_wo_sample.csv', header=0, index_col=0)\n",
    "chen_before_c = pd.read_csv('results/default/Chen/CIDR_wo_sample.csv', header=0, index_col=0)\n",
    "adam_before_c = pd.read_csv('results/default/Adam/CIDR_wo_sample.csv', header=0, index_col=0)\n",
    "turtle_before_c = pd.read_csv('results/default/Turtle/CIDR_wo_sample.csv', header=0, index_col=0)"
   ]
  },
  {
   "cell_type": "code",
   "execution_count": 4,
   "id": "f4d7e5c1-7c97-4f65-b3d1-33b3a70a46fd",
   "metadata": {},
   "outputs": [],
   "source": [
    "def plot_enhance(metric, method, ax):\n",
    "    \n",
    "    \"\"\"\n",
    "        metric: 'ARI' or 'NMI'\n",
    "        method: 'Seurat' or 'CIDR'\n",
    "    \"\"\"\n",
    "    \n",
    "    ax = plt.subplot(ax)\n",
    "    \n",
    "    if method == 'Seurat':\n",
    "        before = [human_before_s[metric][1], pbmc_before_s[metric][1], kidney_before_s[metric][1], \n",
    "                  klein_before_s[metric][1], chen_before_s[metric][1], adam_before_s[metric][1], turtle_before_s[metric][1]]\n",
    "        after = [human_s[metric], pbmc_s[metric], kidney_s[metric], \n",
    "                 klein_s[metric], chen_s[metric], adam_s[metric], turtle_s[metric]]\n",
    "    \n",
    "    else:\n",
    "        before = [human_before_c[metric][1], pbmc_before_c[metric][1], kidney_before_c[metric][1], \n",
    "                  klein_before_c[metric][1], chen_before_c[metric][1], adam_before_c[metric][1], turtle_before_c[metric][1]]\n",
    "        after = [human_c[metric], pbmc_c[metric], kidney_c[metric], \n",
    "                 klein_c[metric], chen_c[metric], adam_c[metric], turtle_c[metric]]\n",
    "    \n",
    "    plt.ylim(0, 1)\n",
    "    plt.xticks(fontsize=7, rotation=30)\n",
    "    plt.tick_params(labelsize=9)\n",
    "    \n",
    "    bar_width = 0.35\n",
    "    index = np.arange(7)\n",
    "\n",
    "    plt.bar(index, before, bar_width, alpha=1, color='#FB8930')\n",
    "    plt.bar(index+bar_width, after, bar_width, alpha=1, color='#5C89A0')\n",
    "    x_labels = ['Human pancreas', 'Human pbmc', 'Human kidney', 'Mouse ES', \n",
    "                'Mouse hypothalamus', 'Mouse kidney', 'Turtle brain']\n",
    "    plt.xticks(index+bar_width/2, x_labels, fontsize=14, family='Arial', ha='right') # index+bar_width/2 to centre the label\n",
    "    plt.ylim(0, 1)\n",
    "    plt.ylabel(metric, fontsize=18, family='Arial')"
   ]
  },
  {
   "cell_type": "code",
   "execution_count": 5,
   "id": "fa192b9d-627a-486c-b827-991a56325872",
   "metadata": {},
   "outputs": [],
   "source": [
    "plt.figure(figsize=(20, 3))\n",
    "plot_enhance('ARI', 'Seurat', 141)\n",
    "plot_enhance('NMI', 'Seurat', 142)\n",
    "plot_enhance('ARI', 'CIDR', 143)\n",
    "plot_enhance('NMI', 'CIDR', 144)"
   ]
  },
  {
   "cell_type": "code",
   "execution_count": 6,
   "id": "e2cfa999-4750-4858-8230-5dc407d3002e",
   "metadata": {},
   "outputs": [],
   "source": [
    "plt.savefig('Figures/Figure7A.svg', dpi=300, format='svg', bbox_inches='tight')"
   ]
  },
  {
   "cell_type": "code",
   "execution_count": null,
   "id": "cca833b9-4f45-4240-8c89-95a0ebdd17cf",
   "metadata": {},
   "outputs": [],
   "source": []
  }
 ],
 "metadata": {
  "kernelspec": {
   "display_name": "Python 3",
   "language": "python",
   "name": "python3"
  },
  "language_info": {
   "codemirror_mode": {
    "name": "ipython",
    "version": 3
   },
   "file_extension": ".py",
   "mimetype": "text/x-python",
   "name": "python",
   "nbconvert_exporter": "python",
   "pygments_lexer": "ipython3",
   "version": "3.8.8"
  }
 },
 "nbformat": 4,
 "nbformat_minor": 5
}
