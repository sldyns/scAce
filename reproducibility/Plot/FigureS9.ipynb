{
 "cells": [
  {
   "cell_type": "code",
   "execution_count": 1,
   "id": "9088d3ca-ab03-4fa8-a896-2a31b2d8a45e",
   "metadata": {},
   "outputs": [],
   "source": [
    "import pandas as pd\n",
    "import scanpy as sc\n",
    "import numpy as np\n",
    "import h5py\n",
    "\n",
    "import matplotlib\n",
    "import matplotlib.pyplot as plt\n",
    "matplotlib.use('Agg')\n",
    "from matplotlib.pyplot import plot,savefig\n",
    "from sklearn import metrics\n",
    "\n",
    "import warnings\n",
    "warnings.filterwarnings(\"ignore\")\n",
    "from read_count import read_data\n",
    "\n",
    "import seaborn as sns\n",
    "from matplotlib.colors import LinearSegmentedColormap\n",
    "from sklearn import metrics"
   ]
  },
  {
   "cell_type": "code",
   "execution_count": 2,
   "id": "83d2081e-9959-4874-a355-1cf17e971224",
   "metadata": {},
   "outputs": [],
   "source": [
    "leiden = []\n",
    "leiden.append(np.load('results/default/Human/scAce_wo_sample.npz'))\n",
    "leiden.append(np.load('results/default/PBMC/scAce_wo_sample.npz'))\n",
    "leiden.append(np.load('results/default/Kidney/scAce_wo_sample.npz'))\n",
    "leiden.append(np.load('results/default/Klein/scAce_wo_sample.npz'))\n",
    "leiden.append(np.load('results/default/Chen/scAce_wo_sample.npz'))\n",
    "leiden.append(np.load('results/default/Adam/scAce_wo_sample.npz'))\n",
    "leiden.append(np.load('results/default/Turtle/scAce_wo_sample.npz'))"
   ]
  },
  {
   "cell_type": "code",
   "execution_count": 3,
   "id": "05fec65d-4ce1-41e1-9821-1d0f7fa4c14f",
   "metadata": {},
   "outputs": [],
   "source": [
    "louvain = []\n",
    "louvain.append(np.load('results/scace_init_l+k/scAce_louvain_human.npz'))\n",
    "louvain.append(np.load('results/scace_init_l+k/scAce_louvain_pbmc.npz'))\n",
    "louvain.append(np.load('results/scace_init_l+k/scAce_louvain_kidney.npz'))\n",
    "louvain.append(np.load('results/scace_init_l+k/scAce_louvain_klein.npz'))\n",
    "louvain.append(np.load('results/scace_init_l+k/scAce_louvain_chen.npz'))\n",
    "louvain.append(np.load('results/scace_init_l+k/scAce_louvain_adam.npz'))\n",
    "louvain.append(np.load('results/scace_init_l+k/scAce_louvain_turtle.npz'))"
   ]
  },
  {
   "cell_type": "code",
   "execution_count": 4,
   "id": "86170c8d-6c7f-40cd-a32c-0350d87d9a68",
   "metadata": {},
   "outputs": [],
   "source": [
    "kmeans = []\n",
    "kmeans.append(np.load('results/scace_init_l+k/scAce_kmeans_human.npz'))\n",
    "kmeans.append(np.load('results/scace_init_l+k/scAce_kmeans_pbmc.npz'))\n",
    "kmeans.append(np.load('results/scace_init_l+k/scAce_kmeans_kidney.npz'))\n",
    "kmeans.append(np.load('results/scace_init_l+k/scAce_kmeans_klein.npz'))\n",
    "kmeans.append(np.load('results/scace_init_l+k/scAce_kmeans_chen.npz'))\n",
    "kmeans.append(np.load('results/scace_init_l+k/scAce_kmeans_adam.npz'))\n",
    "kmeans.append(np.load('results/scace_init_l+k/scAce_kmeans_turtle.npz'))"
   ]
  },
  {
   "cell_type": "code",
   "execution_count": 5,
   "id": "a7df2a02-6a11-442f-8623-ce7ab5b067f8",
   "metadata": {},
   "outputs": [],
   "source": [
    "ari_leiden = []\n",
    "nmi_leiden = []\n",
    "for i in range(len(leiden)):\n",
    "    ari_leiden.append(leiden[i]['ARI'])\n",
    "    nmi_leiden.append(leiden[i]['NMI'])\n",
    "    \n",
    "ari_louvain = []\n",
    "nmi_louvain = []\n",
    "for i in range(len(louvain)):\n",
    "    ari_louvain.append(louvain[i]['ARI'])\n",
    "    nmi_louvain.append(louvain[i]['NMI'])\n",
    "    \n",
    "ari_kmeans = []\n",
    "nmi_kmeans = []\n",
    "for i in range(len(kmeans)):\n",
    "    ari_kmeans.append(kmeans[i]['ARI'])\n",
    "    nmi_kmeans.append(kmeans[i]['NMI']) "
   ]
  },
  {
   "cell_type": "code",
   "execution_count": 6,
   "id": "36d9ff8e-e292-474d-9686-e894422ad932",
   "metadata": {},
   "outputs": [],
   "source": [
    "def plot_metric_merge(metric, ax):\n",
    "    \n",
    "    \"\"\"\n",
    "        metric: 'ARI' or 'NMI'\n",
    "    \"\"\"\n",
    "    \n",
    "    ax = plt.subplot(ax)\n",
    "    \n",
    "    plt.ylim(0, 1)\n",
    "    \n",
    "    bar_width = 0.6\n",
    "    index = np.arange(0, 28, 4)\n",
    "\n",
    "    if metric == 'ARI':\n",
    "        plt.bar(index-bar_width, ari_leiden, bar_width, alpha=0.8, color='#0172B8')\n",
    "        plt.bar(index, ari_louvain, bar_width, alpha=0.8, color='#D75315')\n",
    "        plt.bar(index+bar_width, ari_kmeans, bar_width, alpha=0.8, color='#EBB121')\n",
    "        \n",
    "    else:\n",
    "        plt.bar(index-bar_width, nmi_leiden, bar_width, alpha=0.8, color='#0172B8')\n",
    "        plt.bar(index, nmi_louvain, bar_width, alpha=0.8, color='#D75315')\n",
    "        plt.bar(index+bar_width, nmi_kmeans, bar_width, alpha=0.8, color='#EBB121')\n",
    "        \n",
    "    x_labels = ['Human pancreas', 'Human PBMC', 'Human kidney', 'Mouse ES', \n",
    "                'Mouse hypothalamus', 'Mouse kidney', 'Turtle brain']\n",
    "    plt.xticks(index, x_labels, fontsize=13, rotation=40, family='Arial', ha='right')\n",
    "    plt.ylabel(metric, fontsize=17, family='Arial')\n",
    "#     plt.grid(axis=\"y\")"
   ]
  },
  {
   "cell_type": "code",
   "execution_count": 7,
   "id": "57601c4d-d511-4898-981e-69c696fe53a0",
   "metadata": {},
   "outputs": [],
   "source": [
    "plt.figure(figsize=(15, 3))\n",
    "plot_metric_merge('ARI', 121)\n",
    "plot_metric_merge('NMI', 122)"
   ]
  },
  {
   "cell_type": "code",
   "execution_count": 8,
   "id": "4ac6b99c-4342-498f-ba59-e0245403cdc4",
   "metadata": {},
   "outputs": [],
   "source": [
    "plt.savefig('Figures/Figure6.svg', dpi=300, format='svg', bbox_inches='tight')"
   ]
  },
  {
   "cell_type": "code",
   "execution_count": null,
   "id": "4ea0edf0-92f4-493b-99c4-79e2b7c81681",
   "metadata": {},
   "outputs": [],
   "source": []
  }
 ],
 "metadata": {
  "kernelspec": {
   "display_name": "Python 3",
   "language": "python",
   "name": "python3"
  },
  "language_info": {
   "codemirror_mode": {
    "name": "ipython",
    "version": 3
   },
   "file_extension": ".py",
   "mimetype": "text/x-python",
   "name": "python",
   "nbconvert_exporter": "python",
   "pygments_lexer": "ipython3",
   "version": "3.8.8"
  }
 },
 "nbformat": 4,
 "nbformat_minor": 5
}
