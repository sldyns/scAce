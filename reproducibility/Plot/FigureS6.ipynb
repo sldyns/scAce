{
 "cells": [
  {
   "cell_type": "code",
   "execution_count": 1,
   "id": "4623df51-c3b3-4cbf-9296-64a3a8e8e6d3",
   "metadata": {},
   "outputs": [],
   "source": [
    "import pandas as pd\n",
    "import numpy as np\n",
    "import h5py\n",
    "import scanpy as sc\n",
    "\n",
    "import matplotlib\n",
    "import matplotlib.pyplot as plt\n",
    "matplotlib.use('Agg')\n",
    "from matplotlib.pyplot import plot,savefig\n",
    "\n",
    "import warnings\n",
    "warnings.filterwarnings(\"ignore\")\n",
    "from read_count import read_data"
   ]
  },
  {
   "cell_type": "code",
   "execution_count": 2,
   "id": "2608b1d1-8ca6-42ae-85d0-61842c6531f7",
   "metadata": {},
   "outputs": [],
   "source": [
    "from collections import Counter"
   ]
  },
  {
   "cell_type": "code",
   "execution_count": 3,
   "id": "91f48ed5-4cf9-43a8-8bca-e8c4f58f439f",
   "metadata": {},
   "outputs": [],
   "source": [
    "col_2 = [\"#E64B35CC\", \"#0072B5CC\", \"#00A087CC\", \"#3C5488CC\", \n",
    "         \"#F39B7FCC\", \"#F7DC05FF\", \"#FD7446E5\", \"#8491B4CC\"]"
   ]
  },
  {
   "cell_type": "code",
   "execution_count": 4,
   "id": "0aca643f-4a75-4eb4-91db-daf04905675f",
   "metadata": {},
   "outputs": [],
   "source": [
    "col_1 = [\"#2175B1\", \"#FC7E10\", \"#2A9E30\", \"#D82725\", \"#9466BE\", \n",
    "         \"#8C5749\", \"#DF7BBB\", \"#808081\", \"#BDBC23\", \"#28B5C8\",\n",
    "         \"#AEC7E8\", \"#FFBB78\", \"#98DF8A\", \"#FF9896\", \"#C5B0D5\", \n",
    "         \"#C49C94\", \"#F7B6D2\", \"#DBDB8D\", \"#9EDAE5\", \"#AD494A\",\n",
    "         \"#4FC601\", \"#006FA6\", \"#E31C1F\", \"#0000A6\", \"#B79761\", \n",
    "         \"#5A0007\", \"#3B5DFF\", \"#BA0900\", \"#07C4A2\"]"
   ]
  },
  {
   "cell_type": "code",
   "execution_count": 5,
   "id": "24ce9c3f-e7af-4d4a-a5f5-f163a3c0d88c",
   "metadata": {},
   "outputs": [],
   "source": [
    "scace = np.load('results/default/Adam/scAce_wo_sample.npz')"
   ]
  },
  {
   "cell_type": "code",
   "execution_count": 6,
   "id": "a1f55f30-9e95-4386-a2d8-094eacbf7db3",
   "metadata": {
    "tags": []
   },
   "outputs": [],
   "source": [
    "clusters_merge = scace['Clusters'][1:5]\n",
    "embedded_merge = scace['Embedding'][1:5]"
   ]
  },
  {
   "cell_type": "code",
   "execution_count": 7,
   "id": "e704191e-c38c-4afe-9926-0e49dae5242b",
   "metadata": {},
   "outputs": [],
   "source": [
    "for t in range(4):\n",
    "    after = {}\n",
    "    final = {}\n",
    "    n_clusters_before = len(np.unique(clusters_merge[t][0]))\n",
    "    \n",
    "    for i, label in enumerate(clusters_merge[t][-1]):\n",
    "        if label not in after.keys():\n",
    "            after[label] = clusters_merge[t][0][i]\n",
    "    \n",
    "    clusters_merge[t][-1] = np.array(list(map(after.get, clusters_merge[t][-1])))\n",
    "    final = dict(zip(list(after.values()) + list(set(range(n_clusters_before)) - set(after.values())), list(range(n_clusters_before))))\n",
    "    \n",
    "    clusters_merge[t][0] = np.array(list(map(final.get, clusters_merge[t][0])))\n",
    "    clusters_merge[t][-1] = np.array(list(map(final.get, clusters_merge[t][-1])))"
   ]
  },
  {
   "cell_type": "code",
   "execution_count": 8,
   "id": "7890831e-2d45-4642-a0e6-cc18e8fa6b1b",
   "metadata": {
    "tags": []
   },
   "outputs": [],
   "source": [
    "umap_f = []\n",
    "for i in range(4):\n",
    "    adata = sc.AnnData(embedded_merge[i])\n",
    "    sc.pp.neighbors(adata)\n",
    "    sc.tl.umap(adata, random_state=0)\n",
    "    umap_f.append(np.array(adata.obsm['X_umap']))"
   ]
  },
  {
   "cell_type": "code",
   "execution_count": 9,
   "id": "0569051c-2929-4f2a-8bb4-b58b1071ee52",
   "metadata": {},
   "outputs": [],
   "source": [
    "def plot_merge(t, phase, ax):\n",
    "    \n",
    "    \"\"\"\n",
    "        t: t-interation of merging\n",
    "        phase: 'pred_before' or 'pred_after' or 'true',\n",
    "                if phase == 'pred_before', using clusters before t-interation of merging,\n",
    "                else if phase == 'pred_after', using clusters after t-interation of merging,\n",
    "                else if phase == 'true', using true cell types.\n",
    "    \"\"\"\n",
    "    \n",
    "    pred_before = clusters_merge[t][0]\n",
    "    pred_after = clusters_merge[t][-1]\n",
    "    k_before = len(np.unique(pred_before))\n",
    "    k_after = len(np.unique(pred_after))\n",
    "    umap = umap_f[t]\n",
    "    \n",
    "    adata = sc.AnnData(pd.DataFrame(np.random.rand(len(pred_before), 1)))\n",
    "    adata.obs['pred_before'] = pred_before\n",
    "    adata.obs['pred_before'] = adata.obs['pred_before'].astype(int).astype('category')\n",
    "    adata.obs['pred_after'] = pred_after\n",
    "    adata.obs['pred_after'] = adata.obs['pred_after'].astype(int).astype('category')\n",
    "    adata.obs['true'] = y_true\n",
    "    adata.obs['true'] = adata.obs['true'].astype(int).astype('category')\n",
    "    adata.obsm['X_umap'] = umap\n",
    "    \n",
    "    if phase == 'pred_before':\n",
    "        sc.pl.umap(adata, color=[phase], ax=ax, show=False, legend_loc='None', size=12, palette=col_1)\n",
    "        ax.set_title('Before Iteration {}'.format(t+1), fontsize=16, family='Arial')\n",
    "    elif phase == 'pred_after':\n",
    "        sc.pl.umap(adata, color=[phase], ax=ax, show=False, legend_loc='None', size=12, palette=col_1)\n",
    "        ax.set_title('After Iteration {}'.format(t+1), fontsize=16, family='Arial')\n",
    "    else:\n",
    "        sc.pl.umap(adata, color=[phase], ax=ax, show=False, legend_loc='None', size=12, palette=col_2)\n",
    "        ax.set_title('Ground Truth', fontsize=16, family='Arial')\n",
    "    ax.spines['right'].set_visible(False)\n",
    "    ax.spines['top'].set_visible(False)"
   ]
  },
  {
   "cell_type": "code",
   "execution_count": 10,
   "id": "fb993532-c60d-4cb2-92eb-95b4a8d92dc4",
   "metadata": {},
   "outputs": [],
   "source": [
    "fig = plt.figure(figsize=(20, 5))\n",
    "\n",
    "sub_figs = fig.subfigures(2, 1)\n",
    "\n",
    "axs = []\n",
    "for i, sub_fig in enumerate(sub_figs):\n",
    "    axs.append(sub_fig.subplots(1, 6))\n",
    "    \n",
    "axs = np.array(axs)"
   ]
  },
  {
   "cell_type": "code",
   "execution_count": 11,
   "id": "62577c91-a081-4b37-867b-dedb5594bd67",
   "metadata": {},
   "outputs": [],
   "source": [
    "mat, obs, var, uns = read_data('dataset/Mouse_k.h5', sparsify=False, skip_exprs=False)\n",
    "cell_name = np.array(obs[\"cell_type1\"])\n",
    "cell_type, cell_label = np.unique(cell_name, return_inverse=True)\n",
    "y_true = cell_label"
   ]
  },
  {
   "cell_type": "code",
   "execution_count": 12,
   "id": "7fe48f9d-d0fe-44f4-a55c-6dd31968b788",
   "metadata": {},
   "outputs": [
    {
     "data": {
      "text/plain": [
       "<Figure size 2000x500 with 12 Axes>"
      ]
     },
     "execution_count": 12,
     "metadata": {},
     "output_type": "execute_result"
    }
   ],
   "source": [
    "plot_merge(0, 'pred_before', axs[0][0])\n",
    "plot_merge(0, 'pred_after', axs[0][1])\n",
    "plot_merge(0, 'true', axs[0][2])\n",
    "plot_merge(1, 'pred_before', axs[0][3])\n",
    "plot_merge(1, 'pred_after', axs[0][4])\n",
    "plot_merge(1, 'true', axs[0][5])\n",
    "plot_merge(2, 'pred_before', axs[1][0])\n",
    "plot_merge(2, 'pred_after', axs[1][1])\n",
    "plot_merge(2, 'true', axs[1][2])\n",
    "plot_merge(3, 'pred_before', axs[1][3])\n",
    "plot_merge(3, 'pred_after', axs[1][4])\n",
    "plot_merge(3, 'true', axs[1][5])\n",
    "fig"
   ]
  },
  {
   "cell_type": "code",
   "execution_count": 13,
   "id": "bbf78c0c-744a-48ef-8c49-588139b96c0a",
   "metadata": {},
   "outputs": [],
   "source": [
    "plt.savefig('Figures/FigureS6.svg', dpi=300, format='svg', bbox_inches='tight')"
   ]
  },
  {
   "cell_type": "code",
   "execution_count": null,
   "id": "b8025a7d-038e-4e8b-9d23-2733fbf3a6cb",
   "metadata": {},
   "outputs": [],
   "source": []
  }
 ],
 "metadata": {
  "kernelspec": {
   "display_name": "Python 3",
   "language": "python",
   "name": "python3"
  },
  "language_info": {
   "codemirror_mode": {
    "name": "ipython",
    "version": 3
   },
   "file_extension": ".py",
   "mimetype": "text/x-python",
   "name": "python",
   "nbconvert_exporter": "python",
   "pygments_lexer": "ipython3",
   "version": "3.8.8"
  }
 },
 "nbformat": 4,
 "nbformat_minor": 5
}