{
 "cells": [
  {
   "cell_type": "code",
   "execution_count": 1,
   "id": "a163611c-a939-46ac-9f4d-5ea373cfff9b",
   "metadata": {},
   "outputs": [],
   "source": [
    "import pandas as pd\n",
    "import scanpy as sc\n",
    "import numpy as np\n",
    "import h5py\n",
    "\n",
    "import matplotlib\n",
    "import matplotlib.pyplot as plt\n",
    "matplotlib.use('Agg')\n",
    "from matplotlib.pyplot import plot,savefig\n",
    "from sklearn import metrics\n",
    "\n",
    "import warnings\n",
    "warnings.filterwarnings(\"ignore\")\n",
    "from read_count import read_data\n",
    "\n",
    "import seaborn as sns"
   ]
  },
  {
   "cell_type": "code",
   "execution_count": 2,
   "id": "dac7acce-e8df-4a56-ba98-50e03413b4b4",
   "metadata": {},
   "outputs": [],
   "source": [
    "col = [\"#E64B35CC\", \"#0072B5CC\", \"#00A087CC\", \"#3C5488CC\", \"#F39B7FCC\", \"#F7DC05FF\", \"#FD7446E5\",\n",
    "       \"#8491B4CC\", \"#7E6148CC\", \"#B09C85CC\", \"#E18727CC\", \"#FFDC91E5\", \"#6A6599E5\", \"#9467BDB2\",\n",
    "       \"#FFFFFFFF\", \"#0000FFFF\", \"#FF0000FF\", \"#00FF00FF\", \"#000033FF\", \"#FF00B6FF\", \"#005300FF\", \"#FFD300FF\",\n",
    "       \"#009FFFFF\", \"#9A4D42FF\", \"#00FFBEFF\", \"#783FC1FF\", \"#1F9698FF\", \"#FFACFDFF\", \"#B1CC71FF\", \"#F1085CFF\",\n",
    "       \"#FE8F42FF\", \"#DD00FFFF\", \"#201A01FF\", \"#720055FF\", \"#766C95FF\", \"#02AD24FF\", \"#C8FF00FF\", \"#886C00FF\",\n",
    "       \"#FFB79FFF\", \"#858567FF\", \"#A10300FF\", \"#14F9FFFF\", \"#00479EFF\", \"#DC5E93FF\", \"#93D4FFFF\", \"#004CFFFF\"]"
   ]
  },
  {
   "cell_type": "code",
   "execution_count": 3,
   "id": "a84d72eb-c481-4e34-a48e-7b5c3ce9b79b",
   "metadata": {},
   "outputs": [],
   "source": [
    "def plot_cluster(df, method_name, n, y_true, ax):\n",
    "    \n",
    "    \"\"\"\n",
    "        n: n-th method in [CIDR, scDeepCluster, DESC, graph-sc, scGMAE, scVI, SCCAF, ADClust, scAce]\n",
    "    \"\"\"\n",
    "    \n",
    "    if method_name == 'Seurat':  \n",
    "        y_pred = np.array(df['Cluster'])\n",
    "        umap_1 = np.array(df['UMAP_1']).reshape(len(y_pred), 1)\n",
    "        umap_2 = np.array(df['UMAP_2']).reshape(len(y_pred), 1)\n",
    "        umap = np.concatenate((umap_1, umap_2), axis=1)\n",
    "        \n",
    "    elif method_name == 'CIDR':\n",
    "        umap = umap_all[n]\n",
    "        y_pred = np.array(df['Cluster'])\n",
    "    \n",
    "    elif method_name == 'scAce':\n",
    "        umap = umap_all[n]\n",
    "        y_pred = df['Clusters'][-1][-1]\n",
    "        \n",
    "    elif method_name in ['SCCAF', 'ADClust']:\n",
    "        umap = umap_all[n]\n",
    "        y_pred = df['Clusters'][-1]\n",
    "        \n",
    "    else:\n",
    "        umap = umap_all[n]\n",
    "        y_pred = df['Clusters']\n",
    "    \n",
    "    \n",
    "    y_pred = np.asarray(y_pred, dtype='int').squeeze()\n",
    "    \n",
    "    if method_name == 'scGMAAE':\n",
    "        ari = np.round(df['ARI'], 2)\n",
    "        nmi = np.round(df['NMI'], 2)\n",
    "    else: \n",
    "        ari = np.round(metrics.adjusted_rand_score(y_pred, y_true), 2)\n",
    "        nmi = np.round(metrics.normalized_mutual_info_score(y_pred, y_true), 2)\n",
    "    print('Method: {}, ARI={}, NMI={}'.format(method_name, ari, nmi))\n",
    "    \n",
    "        \n",
    "    adata = sc.AnnData(pd.DataFrame(np.random.rand(len(y_pred), 1)))\n",
    "    adata.obs['pred'] = y_pred\n",
    "    adata.obs['pred'] = adata.obs['pred'].astype(str).astype('category')\n",
    "    adata.obs['true'] = y_true\n",
    "    adata.obs['true'] = adata.obs['true'].astype(str).astype('category')\n",
    "\n",
    "    adata.obsm['X_umap'] = umap\n",
    "    \n",
    "    K = len(np.unique(y_pred))\n",
    "    \n",
    "    sc.pl.umap(adata, color=['true'], ax=ax, show=False, legend_loc='None', size=8, palette=col)\n",
    "    ax.set_title('ARI={}'.format(ari), fontsize=16.5, family='Arial')\n",
    "    ax.spines['right'].set_visible(False)\n",
    "    ax.spines['top'].set_visible(False)"
   ]
  },
  {
   "cell_type": "code",
   "execution_count": 4,
   "id": "b88a90a1-ea79-49e1-b78b-9d60f534ca67",
   "metadata": {},
   "outputs": [],
   "source": [
    "fig = plt.figure(figsize=(15, 9))\n",
    "sub_figs = fig.subfigures(3, 1)\n",
    "axs = []\n",
    "\n",
    "for i, sub_fig in enumerate(sub_figs):     \n",
    "    axs.append(sub_fig.subplots(1, 4))\n",
    "    \n",
    "axs = np.array(axs)"
   ]
  },
  {
   "cell_type": "markdown",
   "id": "b4c5cc12-56d6-419a-b1c0-1933eeb35b42",
   "metadata": {},
   "source": [
    "# Article"
   ]
  },
  {
   "cell_type": "markdown",
   "id": "2819407c-1648-4d9a-98c9-1f153774b289",
   "metadata": {},
   "source": [
    "## Human pancreas"
   ]
  },
  {
   "cell_type": "code",
   "execution_count": 5,
   "id": "caada44c-dda8-4ff9-8f0c-c24b81ad8ee3",
   "metadata": {},
   "outputs": [],
   "source": [
    "data_mat = h5py.File('dataset/Human_p.h5')\n",
    "y_true = np.array(data_mat['Y'], dtype='int')\n",
    "data_mat.close()"
   ]
  },
  {
   "cell_type": "code",
   "execution_count": 6,
   "id": "9dcecaa7-7ca9-469b-bd69-32b68d83b08f",
   "metadata": {},
   "outputs": [],
   "source": [
    "seurat = pd.read_csv('results/default/human/Seurat_wo_sample.csv', header=0, index_col=0)\n",
    "cidr = pd.read_csv('results/default/human/CIDR_wo_sample.csv', header=0, index_col=0)\n",
    "scd = np.load('results/default/human/scDeepCluster_wo_sample.npz')\n",
    "desc = np.load('results/default/human/DESC_wo_sample.npz')\n",
    "graphsc = np.load('results/default/human/graphsc_wo_sample.npz')\n",
    "scgmaae = np.load('results/default/human/scGMAAE_wo_sample.npz')\n",
    "scvi = np.load('results/default/human/scVI_wo_sample.npz')\n",
    "sccaf = np.load('results/default/human/SCCAF_wo_sample.npz')\n",
    "adclust = np.load('results/default/human/ADClust_wo_sample.npz')\n",
    "scace = np.load('results/default/human/scAce_wo_sample.npz')"
   ]
  },
  {
   "cell_type": "code",
   "execution_count": 7,
   "id": "73589c04-31a3-4ae3-831e-d9f9937cf138",
   "metadata": {},
   "outputs": [],
   "source": [
    "y_true_scgmaae = scgmaae['Labels']\n",
    "umap_all = np.load(\"umap/umap_f3_human.npz\")['UMAP']"
   ]
  },
  {
   "cell_type": "code",
   "execution_count": 8,
   "id": "2eeea1e4-426f-45c6-a493-e2d382c8f154",
   "metadata": {},
   "outputs": [
    {
     "name": "stdout",
     "output_type": "stream",
     "text": [
      "Method: scDeepCluster, ARI=0.57, NMI=0.74\n",
      "Method: graph-sc, ARI=0.71, NMI=0.82\n",
      "Method: DESC, ARI=0.57, NMI=0.8\n",
      "Method: scAce, ARI=0.9, NMI=0.88\n"
     ]
    }
   ],
   "source": [
    "plot_cluster(scd, 'scDeepCluster', 1, y_true, axs[0][0])\n",
    "plot_cluster(graphsc, 'graph-sc', 3, y_true, axs[0][1])\n",
    "plot_cluster(desc, 'DESC', 2, y_true, axs[0][2])\n",
    "plot_cluster(scace, 'scAce', 8, y_true, axs[0][3])"
   ]
  },
  {
   "cell_type": "markdown",
   "id": "370934db-6ce9-43e1-b18b-d6e2384b5d1b",
   "metadata": {},
   "source": [
    "## Human PBMC"
   ]
  },
  {
   "cell_type": "code",
   "execution_count": 9,
   "id": "2b115e00-5057-4cc5-a1e0-1ddafbdcb7f0",
   "metadata": {},
   "outputs": [],
   "source": [
    "data_mat = h5py.File('dataset/Human_PBMC.h5')\n",
    "y_true = np.array(data_mat['Y'], dtype='int')\n",
    "data_mat.close()"
   ]
  },
  {
   "cell_type": "code",
   "execution_count": 10,
   "id": "9ab5dc6b-0399-4882-a106-d19265427cd3",
   "metadata": {},
   "outputs": [],
   "source": [
    "seurat = pd.read_csv('results/default/pbmc/Seurat_wo_sample.csv', header=0, index_col=0)\n",
    "cidr = pd.read_csv('results/default/pbmc/CIDR_wo_sample.csv', header=0, index_col=0)\n",
    "scd = np.load('results/default/pbmc/scDeepCluster_wo_sample.npz')\n",
    "desc = np.load('results/default/pbmc/DESC_wo_sample.npz')\n",
    "graphsc = np.load('results/default/pbmc/graphsc_wo_sample.npz')\n",
    "scgmaae = np.load('results/default/pbmc/scGMAAE_wo_sample.npz')\n",
    "scvi = np.load('results/default/pbmc/scVI_wo_sample.npz')\n",
    "sccaf = np.load('results/default/pbmc/SCCAF_wo_sample.npz')\n",
    "adclust = np.load('results/default/pbmc/ADClust_wo_sample.npz')\n",
    "scace = np.load('results/default/pbmc/scAce_wo_sample.npz')"
   ]
  },
  {
   "cell_type": "code",
   "execution_count": 11,
   "id": "45cb0a1d-5c2c-4b07-bb38-44cb89d65b8b",
   "metadata": {},
   "outputs": [],
   "source": [
    "y_true_scgmaae = scgmaae['Labels']\n",
    "umap_all = np.load(\"umap/umap_f3_pbmc.npz\")['UMAP']"
   ]
  },
  {
   "cell_type": "code",
   "execution_count": 12,
   "id": "5da26917-8559-4b2f-8aac-2ef2ef45c98c",
   "metadata": {},
   "outputs": [
    {
     "name": "stdout",
     "output_type": "stream",
     "text": [
      "Method: scDeepCluster, ARI=0.79, NMI=0.79\n",
      "Method: graph-sc, ARI=0.67, NMI=0.74\n",
      "Method: DESC, ARI=0.63, NMI=0.74\n",
      "Method: scAce, ARI=0.81, NMI=0.82\n"
     ]
    }
   ],
   "source": [
    "plot_cluster(scd, 'scDeepCluster', 1, y_true, axs[1][0])\n",
    "plot_cluster(graphsc, 'graph-sc', 3, y_true, axs[1][1])\n",
    "plot_cluster(desc, 'DESC', 2, y_true, axs[1][2])\n",
    "plot_cluster(scace, 'scAce', 8, y_true, axs[1][3])"
   ]
  },
  {
   "cell_type": "markdown",
   "id": "be6e8291-e5e9-4cec-9083-c444974c0b4f",
   "metadata": {},
   "source": [
    "## Human kidney"
   ]
  },
  {
   "cell_type": "code",
   "execution_count": 13,
   "id": "f24a15ed-d181-4733-bc52-4eb255578444",
   "metadata": {},
   "outputs": [],
   "source": [
    "data_mat = h5py.File('dataset/Human_k.h5')\n",
    "y_true = np.array(data_mat['Y'], dtype='int')\n",
    "data_mat.close()"
   ]
  },
  {
   "cell_type": "code",
   "execution_count": 14,
   "id": "d4b00288-d13d-4217-929f-43360c743b37",
   "metadata": {},
   "outputs": [],
   "source": [
    "seurat = pd.read_csv('results/default/kidney/Seurat_wo_sample.csv', header=0, index_col=0)\n",
    "cidr = pd.read_csv('results/default/kidney/CIDR_wo_sample.csv', header=0, index_col=0)\n",
    "scd = np.load('results/default/kidney/scDeepCluster_wo_sample.npz')\n",
    "desc = np.load('results/default/kidney/DESC_wo_sample.npz')\n",
    "graphsc = np.load('results/default/kidney/graphsc_wo_sample.npz')\n",
    "scgmaae = np.load('results/default/kidney/scGMAAE_wo_sample.npz')\n",
    "scvi = np.load('results/default/kidney/scVI_wo_sample.npz')\n",
    "sccaf = np.load('results/default/kidney/SCCAF_wo_sample.npz')\n",
    "adclust = np.load('results/default/kidney/ADClust_wo_sample.npz')\n",
    "scace = np.load('results/default/kidney/scAce_wo_sample.npz')"
   ]
  },
  {
   "cell_type": "code",
   "execution_count": 15,
   "id": "0daece88-ac31-4e68-9bb6-850896562b50",
   "metadata": {},
   "outputs": [],
   "source": [
    "y_true_scgmaae = scgmaae['Labels']"
   ]
  },
  {
   "cell_type": "code",
   "execution_count": 16,
   "id": "e9b13b3d-e444-47fe-be31-46e057bfc0da",
   "metadata": {},
   "outputs": [],
   "source": [
    "umap_all = np.load(\"umap/umap_f3_kidney.npz\")['UMAP']\n",
    "# np.savez(\"umap/umap_f3_kidney.npz\", UMAP=umap_all)"
   ]
  },
  {
   "cell_type": "code",
   "execution_count": 17,
   "id": "68e9b5ee-471e-49b9-8c7a-38f407cdadc5",
   "metadata": {},
   "outputs": [
    {
     "name": "stdout",
     "output_type": "stream",
     "text": [
      "Method: scDeepCluster, ARI=0.48, NMI=0.66\n",
      "Method: graph-sc, ARI=0.68, NMI=0.79\n",
      "Method: DESC, ARI=0.55, NMI=0.76\n",
      "Method: scAce, ARI=0.65, NMI=0.76\n"
     ]
    }
   ],
   "source": [
    "plot_cluster(scd, 'scDeepCluster', 1, y_true, axs[2][0])\n",
    "plot_cluster(graphsc, 'graph-sc', 3, y_true, axs[2][1])\n",
    "plot_cluster(desc, 'DESC', 2, y_true, axs[2][2])\n",
    "plot_cluster(scace, 'scAce', 8, y_true, axs[2][3])"
   ]
  },
  {
   "cell_type": "code",
   "execution_count": 18,
   "id": "e82c4518-b8d1-4d86-bd94-2edf7c95fdc4",
   "metadata": {},
   "outputs": [
    {
     "data": {
      "text/plain": [
       "<Figure size 1500x900 with 12 Axes>"
      ]
     },
     "execution_count": 18,
     "metadata": {},
     "output_type": "execute_result"
    }
   ],
   "source": [
    "fig"
   ]
  },
  {
   "cell_type": "code",
   "execution_count": 19,
   "id": "305154cc-434c-45cf-9c01-9d14d2150c5a",
   "metadata": {},
   "outputs": [],
   "source": [
    "plt.savefig('Figures/Figure3C.svg', dpi=300, format='svg', bbox_inches='tight')"
   ]
  },
  {
   "cell_type": "markdown",
   "id": "25d1ca1d-9331-45d7-b283-9d42f5043ebe",
   "metadata": {},
   "source": [
    "# Supplementary"
   ]
  },
  {
   "cell_type": "code",
   "execution_count": 23,
   "id": "001bb305-cda9-4a7f-8c87-82a40d22374f",
   "metadata": {},
   "outputs": [],
   "source": [
    "fig = plt.figure(figsize=(24, 10))\n",
    "sub_figs = fig.subfigures(3, 1)\n",
    "axs = []\n",
    "\n",
    "for i, sub_fig in enumerate(sub_figs):     \n",
    "    axs.append(sub_fig.subplots(1, 6))\n",
    "    \n",
    "axs = np.array(axs)"
   ]
  },
  {
   "cell_type": "markdown",
   "id": "e6c24162-b940-4c05-b425-416229325c35",
   "metadata": {},
   "source": [
    "## Human pancreas"
   ]
  },
  {
   "cell_type": "code",
   "execution_count": 24,
   "id": "a2c71ee8-aab2-48c6-b636-2f02daf5d4ab",
   "metadata": {},
   "outputs": [],
   "source": [
    "data_mat = h5py.File('dataset/Human_p.h5')\n",
    "y_true = np.array(data_mat['Y'], dtype='int')\n",
    "data_mat.close()\n",
    "\n",
    "seurat = pd.read_csv('results/default/human/Seurat_wo_sample.csv', header=0, index_col=0)\n",
    "cidr = pd.read_csv('results/default/human/CIDR_wo_sample.csv', header=0, index_col=0)\n",
    "scd = np.load('results/default/human/scDeepCluster_wo_sample.npz')\n",
    "desc = np.load('results/default/human/DESC_wo_sample.npz')\n",
    "graphsc = np.load('results/default/human/graphsc_wo_sample.npz')\n",
    "scgmaae = np.load('results/default/human/scGMAAE_wo_sample.npz')\n",
    "scvi = np.load('results/default/human/scVI_wo_sample.npz')\n",
    "sccaf = np.load('results/default/human/SCCAF_wo_sample.npz')\n",
    "adclust = np.load('results/default/human/ADClust_wo_sample.npz')\n",
    "scace = np.load('results/default/human/scAce_wo_sample.npz')\n",
    "\n",
    "y_true_scgmaae = scgmaae['Labels']\n",
    "umap_all = np.load(\"umap/umap_f3_human.npz\")['UMAP']"
   ]
  },
  {
   "cell_type": "code",
   "execution_count": 25,
   "id": "764b6770-4ca2-4ae7-8fb6-bfd32f7b3801",
   "metadata": {},
   "outputs": [
    {
     "name": "stdout",
     "output_type": "stream",
     "text": [
      "Method: CIDR, ARI=0.56, NMI=0.65\n",
      "Method: SCCAF, ARI=0.54, NMI=0.77\n",
      "Method: scGMAAE, ARI=0.47, NMI=0.58\n",
      "Method: scVI, ARI=0.7, NMI=0.83\n",
      "Method: Seurat, ARI=0.57, NMI=0.79\n",
      "Method: ADClust, ARI=0.79, NMI=0.76\n"
     ]
    }
   ],
   "source": [
    "plot_cluster(cidr, 'CIDR', 0, y_true, axs[0][0])\n",
    "plot_cluster(sccaf, 'SCCAF', 6, y_true, axs[0][1])\n",
    "plot_cluster(scgmaae, 'scGMAAE', 4, y_true_scgmaae, axs[0][2])\n",
    "plot_cluster(scvi, 'scVI', 5, y_true, axs[0][3])\n",
    "plot_cluster(seurat, 'Seurat', None, y_true, axs[0][4])\n",
    "plot_cluster(adclust, 'ADClust', 7, y_true, axs[0][5])"
   ]
  },
  {
   "cell_type": "markdown",
   "id": "008a6f04-40ae-41b2-8b42-d20ff5ea6c9a",
   "metadata": {},
   "source": [
    "## Human PBMC"
   ]
  },
  {
   "cell_type": "code",
   "execution_count": 26,
   "id": "659c2edd-226f-482c-a8d9-f2bb647bfa03",
   "metadata": {},
   "outputs": [],
   "source": [
    "data_mat = h5py.File('dataset/Human_PBMC.h5')\n",
    "y_true = np.array(data_mat['Y'], dtype='int')\n",
    "data_mat.close()\n",
    "\n",
    "seurat = pd.read_csv('results/default/pbmc/Seurat_wo_sample.csv', header=0, index_col=0)\n",
    "cidr = pd.read_csv('results/default/pbmc/CIDR_wo_sample.csv', header=0, index_col=0)\n",
    "scd = np.load('results/default/pbmc/scDeepCluster_wo_sample.npz')\n",
    "desc = np.load('results/default/pbmc/DESC_wo_sample.npz')\n",
    "graphsc = np.load('results/default/pbmc/graphsc_wo_sample.npz')\n",
    "scgmaae = np.load('results/default/pbmc/scGMAAE_wo_sample.npz')\n",
    "scvi = np.load('results/default/pbmc/scVI_wo_sample.npz')\n",
    "sccaf = np.load('results/default/pbmc/SCCAF_wo_sample.npz')\n",
    "adclust = np.load('results/default/pbmc/ADClust_wo_sample.npz')\n",
    "scace = np.load('results/default/pbmc/scAce_wo_sample.npz')\n",
    "\n",
    "y_true_scgmaae = scgmaae['Labels']\n",
    "umap_all = np.load(\"umap/umap_f3_pbmc.npz\")['UMAP']"
   ]
  },
  {
   "cell_type": "code",
   "execution_count": 27,
   "id": "4ae1e168-3daf-4d48-9183-081ef1de3e1c",
   "metadata": {},
   "outputs": [
    {
     "name": "stdout",
     "output_type": "stream",
     "text": [
      "Method: CIDR, ARI=0.64, NMI=0.72\n",
      "Method: SCCAF, ARI=0.64, NMI=0.73\n",
      "Method: scGMAAE, ARI=0.6, NMI=0.67\n",
      "Method: scVI, ARI=0.52, NMI=0.67\n",
      "Method: Seurat, ARI=0.59, NMI=0.72\n",
      "Method: ADClust, ARI=0.41, NMI=0.63\n"
     ]
    }
   ],
   "source": [
    "plot_cluster(cidr, 'CIDR', 0, y_true, axs[1][0])\n",
    "plot_cluster(sccaf, 'SCCAF', 6, y_true, axs[1][1])\n",
    "plot_cluster(scgmaae, 'scGMAAE', 4, y_true_scgmaae, axs[1][2])\n",
    "plot_cluster(scvi, 'scVI', 5, y_true, axs[1][3])\n",
    "plot_cluster(seurat, 'Seurat', None, y_true, axs[1][4])\n",
    "plot_cluster(adclust, 'ADClust', 7, y_true, axs[1][5])"
   ]
  },
  {
   "cell_type": "markdown",
   "id": "9f5ced06-f68b-4d2c-8046-42899e70e051",
   "metadata": {},
   "source": [
    "## Human kidney"
   ]
  },
  {
   "cell_type": "code",
   "execution_count": 28,
   "id": "4a15c837-6079-4c92-ab39-063aa4e6f8e2",
   "metadata": {},
   "outputs": [],
   "source": [
    "data_mat = h5py.File('dataset/Human_k.h5')\n",
    "y_true = np.array(data_mat['Y'], dtype='int')\n",
    "data_mat.close()\n",
    "\n",
    "seurat = pd.read_csv('results/default/kidney/Seurat_wo_sample.csv', header=0, index_col=0)\n",
    "cidr = pd.read_csv('results/default/kidney/CIDR_wo_sample.csv', header=0, index_col=0)\n",
    "scd = np.load('results/default/kidney/scDeepCluster_wo_sample.npz')\n",
    "desc = np.load('results/default/kidney/DESC_wo_sample.npz')\n",
    "graphsc = np.load('results/default/kidney/graphsc_wo_sample.npz')\n",
    "scgmaae = np.load('results/default/kidney/scGMAAE_wo_sample.npz')\n",
    "scvi = np.load('results/default/kidney/scVI_wo_sample.npz')\n",
    "sccaf = np.load('results/default/kidney/SCCAF_wo_sample.npz')\n",
    "adclust = np.load('results/default/kidney/ADClust_wo_sample.npz')\n",
    "scace = np.load('results/default/kidney/scAce_wo_sample.npz')\n",
    "\n",
    "y_true_scgmaae = scgmaae['Labels']\n",
    "umap_all = np.load(\"umap/umap_f3_kidney.npz\")['UMAP']"
   ]
  },
  {
   "cell_type": "code",
   "execution_count": 29,
   "id": "67946431-bb9b-4be8-9618-5a46b37cab55",
   "metadata": {},
   "outputs": [
    {
     "name": "stdout",
     "output_type": "stream",
     "text": [
      "Method: CIDR, ARI=0.26, NMI=0.45\n",
      "Method: SCCAF, ARI=0.37, NMI=0.7\n",
      "Method: scGMAAE, ARI=0.57, NMI=0.65\n",
      "Method: scVI, ARI=0.51, NMI=0.72\n",
      "Method: Seurat, ARI=0.4, NMI=0.66\n",
      "Method: ADClust, ARI=0.46, NMI=0.64\n"
     ]
    }
   ],
   "source": [
    "plot_cluster(cidr, 'CIDR', 0, y_true, axs[2][0])\n",
    "plot_cluster(sccaf, 'SCCAF', 6, y_true, axs[2][1])\n",
    "plot_cluster(scgmaae, 'scGMAAE', 4, y_true_scgmaae, axs[2][2])\n",
    "plot_cluster(scvi, 'scVI', 5, y_true, axs[2][3])\n",
    "plot_cluster(seurat, 'Seurat', None, y_true, axs[2][4])\n",
    "plot_cluster(adclust, 'ADClust', 7, y_true, axs[2][5])"
   ]
  },
  {
   "cell_type": "code",
   "execution_count": 30,
   "id": "17d22834-cbd2-46e2-b5c4-a91680c56616",
   "metadata": {},
   "outputs": [
    {
     "data": {
      "text/plain": [
       "<Figure size 2400x1000 with 18 Axes>"
      ]
     },
     "execution_count": 30,
     "metadata": {},
     "output_type": "execute_result"
    }
   ],
   "source": [
    "fig"
   ]
  },
  {
   "cell_type": "code",
   "execution_count": 31,
   "id": "d7707231-7dc4-462e-a71f-edeb95884903",
   "metadata": {},
   "outputs": [],
   "source": [
    "plt.savefig('Figures/FigureS1B.png', dpi=800, format='png', bbox_inches='tight')"
   ]
  },
  {
   "cell_type": "code",
   "execution_count": null,
   "id": "36d7d453-3118-4ec1-b026-f49d27a591fd",
   "metadata": {},
   "outputs": [],
   "source": []
  },
  {
   "cell_type": "code",
   "execution_count": 32,
   "id": "58a2f643-fe2d-456f-b0e7-fa3a8bbb2fc5",
   "metadata": {},
   "outputs": [],
   "source": [
    "fig = plt.figure(figsize=(25, 8))\n",
    "sub_figs = fig.subfigures(4, 1)\n",
    "axs = []\n",
    "\n",
    "for i, sub_fig in enumerate(sub_figs):     \n",
    "    axs.append(sub_fig.subplots(1, 10))\n",
    "    \n",
    "axs = np.array(axs)"
   ]
  },
  {
   "cell_type": "markdown",
   "id": "1f121015-95b4-4135-bd6f-c03a4ee8cb95",
   "metadata": {},
   "source": [
    "## Mouse ES"
   ]
  },
  {
   "cell_type": "code",
   "execution_count": 33,
   "id": "0a9c64b2-2807-4564-8de3-722eeb701a07",
   "metadata": {},
   "outputs": [],
   "source": [
    "mat, obs, var, uns = read_data('dataset/Mouse_E.h5', sparsify=False, skip_exprs=False)\n",
    "x = np.array(mat.toarray())\n",
    "cell_name = np.array(obs[\"cell_type1\"])\n",
    "cell_type, y_true = np.unique(cell_name, return_inverse=True)"
   ]
  },
  {
   "cell_type": "code",
   "execution_count": 34,
   "id": "06697163-a8b2-4d92-b024-eda55d23f104",
   "metadata": {},
   "outputs": [],
   "source": [
    "seurat = pd.read_csv('results/default/Klein/Seurat_wo_sample.csv', header=0, index_col=0)\n",
    "cidr = pd.read_csv('results/default/Klein/CIDR_wo_sample.csv', header=0, index_col=0)\n",
    "scd = np.load('results/default/Klein/scDeepCluster_wo_sample.npz')\n",
    "desc = np.load('results/default/Klein/DESC_wo_sample.npz')\n",
    "graphsc = np.load('results/default/Klein/graphsc_wo_sample.npz')\n",
    "scgmaae = np.load('results/default/Klein/scGMAAE_wo_sample.npz')\n",
    "scvi = np.load('results/default/Klein/scVI_wo_sample.npz')\n",
    "sccaf = np.load('results/default/Klein/SCCAF_wo_sample.npz')\n",
    "adclust = np.load('results/default/Klein/ADClust_wo_sample.npz')\n",
    "scace = np.load('results/default/Klein/scAce_wo_sample.npz')\n",
    "\n",
    "y_true_scgmaae = scgmaae['Labels']\n",
    "umap_all = np.load(\"umap/umap_f3_klein.npz\")['UMAP']"
   ]
  },
  {
   "cell_type": "code",
   "execution_count": 35,
   "id": "220152d7-8ce0-44ee-a6c2-888845083ddb",
   "metadata": {},
   "outputs": [
    {
     "name": "stdout",
     "output_type": "stream",
     "text": [
      "Method: CIDR, ARI=0.68, NMI=0.66\n",
      "Method: SCCAF, ARI=0.82, NMI=0.86\n",
      "Method: scGMAAE, ARI=0.78, NMI=0.73\n",
      "Method: scVI, ARI=0.62, NMI=0.74\n",
      "Method: Seurat, ARI=0.52, NMI=0.73\n",
      "Method: ADClust, ARI=0.73, NMI=0.69\n",
      "Method: scDeepCluster, ARI=0.49, NMI=0.63\n",
      "Method: graph-sc, ARI=0.78, NMI=0.76\n",
      "Method: DESC, ARI=0.9, NMI=0.9\n",
      "Method: scAce, ARI=0.9, NMI=0.9\n"
     ]
    }
   ],
   "source": [
    "plot_cluster(cidr, 'CIDR', 0, y_true, axs[0][0])\n",
    "plot_cluster(sccaf, 'SCCAF', 6, y_true, axs[0][1])\n",
    "plot_cluster(scgmaae, 'scGMAAE', 4, y_true_scgmaae, axs[0][2])\n",
    "plot_cluster(scvi, 'scVI', 5, y_true, axs[0][3])\n",
    "plot_cluster(seurat, 'Seurat', None, y_true, axs[0][4])\n",
    "plot_cluster(adclust, 'ADClust', 7, y_true, axs[0][5])\n",
    "plot_cluster(scd, 'scDeepCluster', 1, y_true, axs[0][6])\n",
    "plot_cluster(graphsc, 'graph-sc', 3, y_true, axs[0][7])\n",
    "plot_cluster(desc, 'DESC', 2, y_true, axs[0][8])\n",
    "plot_cluster(scace, 'scAce', 8, y_true, axs[0][9])"
   ]
  },
  {
   "cell_type": "markdown",
   "id": "33c29271-0d80-423b-981e-2914c4bacee9",
   "metadata": {},
   "source": [
    "## Mouse hypothalamus"
   ]
  },
  {
   "cell_type": "code",
   "execution_count": 36,
   "id": "6ac92aab-84bb-419a-998b-b4c4def55404",
   "metadata": {},
   "outputs": [],
   "source": [
    "mat, obs, var, uns = read_data('dataset/Mouse_h.h5', sparsify=False, skip_exprs=False)\n",
    "x = np.array(mat.toarray())\n",
    "cell_name = np.array(obs[\"cell_type1\"])\n",
    "cell_type, y_true_1 = np.unique(cell_name, return_inverse=True)"
   ]
  },
  {
   "cell_type": "code",
   "execution_count": 37,
   "id": "bdb33037-783c-4b90-9021-247c1739cc86",
   "metadata": {},
   "outputs": [],
   "source": [
    "adata = sc.AnnData(x)\n",
    "adata.obs['celltype'] = y_true_1\n",
    "sc.pp.filter_genes(adata, min_cells=3)\n",
    "sc.pp.filter_cells(adata, min_genes=200)\n",
    "y_true_2 = np.array(adata.obs['celltype']).squeeze()"
   ]
  },
  {
   "cell_type": "code",
   "execution_count": 38,
   "id": "5876f4e3-9f15-4d9e-b9a0-6dabaf18f4cc",
   "metadata": {},
   "outputs": [],
   "source": [
    "seurat = pd.read_csv('results/default/chen/Seurat_wo_sample.csv', header=0, index_col=0)\n",
    "cidr = pd.read_csv('results/default/chen/CIDR_wo_sample.csv', header=0, index_col=0)\n",
    "scd = np.load('results/default/chen/scDeepCluster_wo_sample.npz')\n",
    "desc = np.load('results/default/chen/DESC_wo_sample.npz')\n",
    "graphsc = np.load('results/default/chen/graphsc_wo_sample.npz')\n",
    "scgmaae = np.load('results/default/chen/scGMAAE_wo_sample.npz')\n",
    "scvi = np.load('results/default/chen/scVI_wo_sample.npz')\n",
    "sccaf = np.load('results/default/chen/SCCAF_wo_sample.npz')\n",
    "adclust = np.load('results/default/chen/ADClust_wo_sample.npz')\n",
    "scace = np.load('results/default/chen/scAce_wo_sample.npz')"
   ]
  },
  {
   "cell_type": "code",
   "execution_count": 39,
   "id": "571b465f-f739-4edf-8cd7-3791a6136d7e",
   "metadata": {},
   "outputs": [],
   "source": [
    "y_true_scgmaae = scgmaae['Labels']\n",
    "umap_all = np.load(\"umap/umap_f3_chen.npz\")['UMAP']"
   ]
  },
  {
   "cell_type": "code",
   "execution_count": 40,
   "id": "cc0bbf63-5791-41d0-9f52-307e37c287d3",
   "metadata": {},
   "outputs": [
    {
     "name": "stdout",
     "output_type": "stream",
     "text": [
      "Method: CIDR, ARI=0.36, NMI=0.42\n",
      "Method: SCCAF, ARI=0.6, NMI=0.77\n",
      "Method: scGMAAE, ARI=0.49, NMI=0.69\n",
      "Method: scVI, ARI=0.57, NMI=0.75\n",
      "Method: Seurat, ARI=0.88, NMI=0.8\n",
      "Method: ADClust, ARI=0.78, NMI=0.78\n",
      "Method: scDeepCluster, ARI=0.61, NMI=0.74\n",
      "Method: graph-sc, ARI=0.4, NMI=0.73\n",
      "Method: DESC, ARI=0.66, NMI=0.8\n",
      "Method: scAce, ARI=0.84, NMI=0.79\n"
     ]
    }
   ],
   "source": [
    "plot_cluster(cidr, 'CIDR', 0, y_true_1, axs[1][0])\n",
    "plot_cluster(sccaf, 'SCCAF', 6, y_true_2, axs[1][1])\n",
    "plot_cluster(scgmaae, 'scGMAAE', 4, y_true_scgmaae, axs[1][2])\n",
    "plot_cluster(scvi, 'scVI', 5, y_true_1, axs[1][3])\n",
    "plot_cluster(seurat, 'Seurat', None, y_true_2, axs[1][4])\n",
    "plot_cluster(adclust, 'ADClust', 7, y_true_1, axs[1][5])\n",
    "plot_cluster(scd, 'scDeepCluster', 1, y_true_1, axs[1][6])\n",
    "plot_cluster(graphsc, 'graph-sc', 3, y_true_1, axs[1][7])\n",
    "plot_cluster(desc, 'DESC', 2, y_true_2, axs[1][8])\n",
    "plot_cluster(scace, 'scAce', 8, y_true_2, axs[1][9])"
   ]
  },
  {
   "cell_type": "markdown",
   "id": "665a7d1b-3c85-44bf-ad7c-ffde6fcc3ad2",
   "metadata": {},
   "source": [
    "## Mouse kidney"
   ]
  },
  {
   "cell_type": "code",
   "execution_count": 41,
   "id": "a699febb-58a1-4f21-8e17-5a4c9582dfa7",
   "metadata": {},
   "outputs": [],
   "source": [
    "mat, obs, var, uns = read_data('dataset/Mouse_k.h5', sparsify=False, skip_exprs=False)\n",
    "x = np.array(mat.toarray())\n",
    "cell_name = np.array(obs[\"cell_type1\"])\n",
    "cell_type, y_true = np.unique(cell_name, return_inverse=True)\n",
    "\n",
    "seurat = pd.read_csv('results/default/Adam/Seurat_wo_sample.csv', header=0, index_col=0)\n",
    "cidr = pd.read_csv('results/default/Adam/CIDR_wo_sample.csv', header=0, index_col=0)\n",
    "scd = np.load('results/default/Adam/scDeepCluster_wo_sample.npz')\n",
    "desc = np.load('results/default/Adam/DESC_wo_sample.npz')\n",
    "graphsc = np.load('results/default/Adam/graphsc_wo_sample.npz')\n",
    "scgmaae = np.load('results/default/Adam/scGMAAE_wo_sample.npz')\n",
    "scvi = np.load('results/default/Adam/scVI_wo_sample.npz')\n",
    "sccaf = np.load('results/default/Adam/SCCAF_wo_sample.npz')\n",
    "adclust = np.load('results/default/Adam/ADClust_wo_sample.npz')\n",
    "scace = np.load('results/default/Adam/scAce_wo_sample.npz')\n",
    "\n",
    "y_true_scgmaae = scgmaae['Labels']\n",
    "umap_all = np.load(\"umap/umap_f3_adam.npz\")['UMAP']"
   ]
  },
  {
   "cell_type": "code",
   "execution_count": 42,
   "id": "600bfd96-bc8f-4cd7-96c4-d24c092e28df",
   "metadata": {},
   "outputs": [
    {
     "name": "stdout",
     "output_type": "stream",
     "text": [
      "Method: CIDR, ARI=0.05, NMI=0.12\n",
      "Method: SCCAF, ARI=0.56, NMI=0.74\n",
      "Method: scGMAAE, ARI=0.68, NMI=0.75\n",
      "Method: scVI, ARI=0.67, NMI=0.8\n",
      "Method: Seurat, ARI=0.64, NMI=0.78\n",
      "Method: ADClust, ARI=0.47, NMI=0.6\n",
      "Method: scDeepCluster, ARI=0.63, NMI=0.73\n",
      "Method: graph-sc, ARI=0.6, NMI=0.71\n",
      "Method: DESC, ARI=0.64, NMI=0.8\n",
      "Method: scAce, ARI=0.93, NMI=0.91\n"
     ]
    }
   ],
   "source": [
    "plot_cluster(cidr, 'CIDR', 0, y_true, axs[2][0])\n",
    "plot_cluster(sccaf, 'SCCAF', 6, y_true, axs[2][1])\n",
    "plot_cluster(scgmaae, 'scGMAAE', 4, y_true_scgmaae, axs[2][2])\n",
    "plot_cluster(scvi, 'scVI', 5, y_true, axs[2][3])\n",
    "plot_cluster(seurat, 'Seurat', None, y_true, axs[2][4])\n",
    "plot_cluster(adclust, 'ADClust', 7, y_true, axs[2][5])\n",
    "plot_cluster(scd, 'scDeepCluster', 1, y_true, axs[2][6])\n",
    "plot_cluster(graphsc, 'graph-sc', 3, y_true, axs[2][7])\n",
    "plot_cluster(desc, 'DESC', 2, y_true, axs[2][8])\n",
    "plot_cluster(scace, 'scAce', 8, y_true, axs[2][9])"
   ]
  },
  {
   "cell_type": "markdown",
   "id": "1037ca1f-6ce6-42ce-82ae-da0ddb2097a6",
   "metadata": {},
   "source": [
    "## Turtle brain"
   ]
  },
  {
   "cell_type": "code",
   "execution_count": 43,
   "id": "2edf8e16-a8b7-4eee-9cd1-1445bbf1db32",
   "metadata": {},
   "outputs": [],
   "source": [
    "mat, obs, var, uns = read_data('dataset/Turtle_b.h5', sparsify=False, skip_exprs=False)\n",
    "x = np.array(mat.toarray())\n",
    "cell_name = np.array(obs[\"cell_type1\"])\n",
    "cell_type, y_true = np.unique(cell_name, return_inverse=True)\n",
    "\n",
    "seurat = pd.read_csv('results/default/turtle/Seurat_wo_sample.csv', header=0, index_col=0)\n",
    "cidr = pd.read_csv('results/default/turtle/CIDR_wo_sample.csv', header=0, index_col=0)\n",
    "scd = np.load('results/default/turtle/scDeepCluster_wo_sample.npz')\n",
    "desc = np.load('results/default/turtle/DESC_wo_sample.npz')\n",
    "graphsc = np.load('results/default/turtle/graphsc_wo_sample.npz')\n",
    "scgmaae = np.load('results/default/turtle/scGMAAE_wo_sample.npz')\n",
    "scvi = np.load('results/default/turtle/scVI_wo_sample.npz')\n",
    "sccaf = np.load('results/default/turtle/SCCAF_wo_sample.npz')\n",
    "adclust = np.load('results/default/turtle/ADClust_wo_sample.npz')\n",
    "scace = np.load('results/default/turtle/scAce_wo_sample.npz')\n",
    "\n",
    "y_true_scgmaae = scgmaae['Labels']\n",
    "umap_all = np.load(\"umap/umap_f3_turtle.npz\")['UMAP']"
   ]
  },
  {
   "cell_type": "code",
   "execution_count": 44,
   "id": "aa20db40-276e-496b-a3fe-251eac9f53b0",
   "metadata": {},
   "outputs": [
    {
     "name": "stdout",
     "output_type": "stream",
     "text": [
      "Method: CIDR, ARI=0.48, NMI=0.63\n",
      "Method: SCCAF, ARI=0.39, NMI=0.74\n",
      "Method: scGMAAE, ARI=0.48, NMI=0.68\n",
      "Method: scVI, ARI=0.5, NMI=0.75\n",
      "Method: Seurat, ARI=0.56, NMI=0.74\n",
      "Method: ADClust, ARI=0.62, NMI=0.73\n",
      "Method: scDeepCluster, ARI=0.7, NMI=0.76\n",
      "Method: graph-sc, ARI=0.51, NMI=0.72\n",
      "Method: DESC, ARI=0.68, NMI=0.84\n",
      "Method: scAce, ARI=0.71, NMI=0.71\n"
     ]
    }
   ],
   "source": [
    "plot_cluster(cidr, 'CIDR', 0, y_true, axs[3][0])\n",
    "plot_cluster(sccaf, 'SCCAF', 6, y_true, axs[3][1])\n",
    "plot_cluster(scgmaae, 'scGMAAE', 4, y_true_scgmaae, axs[3][2])\n",
    "plot_cluster(scvi, 'scVI', 5, y_true, axs[3][3])\n",
    "plot_cluster(seurat, 'Seurat', None, y_true, axs[3][4])\n",
    "plot_cluster(adclust, 'ADClust', 7, y_true, axs[3][5])\n",
    "plot_cluster(scd, 'scDeepCluster', 1, y_true, axs[3][6])\n",
    "plot_cluster(graphsc, 'graph-sc', 3, y_true, axs[3][7])\n",
    "plot_cluster(desc, 'DESC', 2, y_true, axs[3][8])\n",
    "plot_cluster(scace, 'scAce', 8, y_true, axs[3][9])"
   ]
  },
  {
   "cell_type": "code",
   "execution_count": 45,
   "id": "339bbca1-c415-4c2f-a4b1-5f2e2ab2adcc",
   "metadata": {},
   "outputs": [
    {
     "data": {
      "text/plain": [
       "<Figure size 2500x800 with 40 Axes>"
      ]
     },
     "execution_count": 45,
     "metadata": {},
     "output_type": "execute_result"
    }
   ],
   "source": [
    "fig"
   ]
  },
  {
   "cell_type": "code",
   "execution_count": 46,
   "id": "b15c4cca-d756-49d5-8027-690ef13ec803",
   "metadata": {},
   "outputs": [],
   "source": [
    "plt.savefig('Figures/FigureS2B.png', dpi=800, format='png', bbox_inches='tight')"
   ]
  },
  {
   "cell_type": "code",
   "execution_count": null,
   "id": "9cc7177c-39c8-4585-b896-32e136ee2295",
   "metadata": {},
   "outputs": [],
   "source": []
  }
 ],
 "metadata": {
  "kernelspec": {
   "display_name": "Python 3",
   "language": "python",
   "name": "python3"
  },
  "language_info": {
   "codemirror_mode": {
    "name": "ipython",
    "version": 3
   },
   "file_extension": ".py",
   "mimetype": "text/x-python",
   "name": "python",
   "nbconvert_exporter": "python",
   "pygments_lexer": "ipython3",
   "version": "3.8.8"
  }
 },
 "nbformat": 4,
 "nbformat_minor": 5
}