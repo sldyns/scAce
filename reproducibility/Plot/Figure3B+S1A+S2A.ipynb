{
 "cells": [
  {
   "cell_type": "code",
   "execution_count": 1,
   "id": "a163611c-a939-46ac-9f4d-5ea373cfff9b",
   "metadata": {},
   "outputs": [],
   "source": [
    "import pandas as pd\n",
    "import scanpy as sc\n",
    "import numpy as np\n",
    "import h5py\n",
    "\n",
    "import matplotlib\n",
    "import matplotlib.pyplot as plt\n",
    "matplotlib.use('Agg')\n",
    "from matplotlib.pyplot import plot,savefig\n",
    "from sklearn import metrics\n",
    "\n",
    "import warnings\n",
    "warnings.filterwarnings(\"ignore\")\n",
    "from read_count import read_data\n",
    "\n",
    "import seaborn as sns"
   ]
  },
  {
   "cell_type": "code",
   "execution_count": 2,
   "id": "a84d72eb-c481-4e34-a48e-7b5c3ce9b79b",
   "metadata": {},
   "outputs": [],
   "source": [
    "def plot_cluster(df, method_name, n, y_true, ax):\n",
    "    \n",
    "    \"\"\"\n",
    "        n: n-th method in [CIDR, scDeepCluster, DESC, graph-sc, scGMAAE, scVI, SCCAF, ADClust, scAce]\n",
    "    \"\"\"\n",
    "   \n",
    "    if method_name == 'Seurat':  \n",
    "        y_pred = np.array(df['Cluster'])\n",
    "        umap_1 = np.array(df['UMAP_1']).reshape(len(y_pred), 1)\n",
    "        umap_2 = np.array(df['UMAP_2']).reshape(len(y_pred), 1)\n",
    "        umap = np.concatenate((umap_1, umap_2), axis=1)\n",
    "        \n",
    "    elif method_name == 'CIDR':\n",
    "        umap = umap_all[n]\n",
    "        y_pred = np.array(df['Cluster'])\n",
    "    \n",
    "    elif method_name == 'scAce':\n",
    "        umap = umap_all[n]\n",
    "        y_pred = df['Clusters'][-1][-1]\n",
    "        \n",
    "    elif method_name in ['SCCAF', 'ADClust']:\n",
    "        umap = umap_all[n]\n",
    "        y_pred = df['Clusters'][-1]\n",
    "        \n",
    "    else:\n",
    "        umap = umap_all[n]\n",
    "        y_pred = df['Clusters']\n",
    "    \n",
    "    \n",
    "    y_pred = np.asarray(y_pred, dtype='int').squeeze()\n",
    "    \n",
    "    if method_name == 'scGMAAE':\n",
    "        ari = np.round(df['ARI'], 2)\n",
    "        nmi = np.round(df['NMI'], 2)\n",
    "    else: \n",
    "        ari = np.round(metrics.adjusted_rand_score(y_pred, y_true), 2)\n",
    "        nmi = np.round(metrics.normalized_mutual_info_score(y_pred, y_true), 2)\n",
    "    print('Method: {}, ARI={}, NMI={}'.format(method_name, ari, nmi))\n",
    "    \n",
    "        \n",
    "    adata = sc.AnnData(pd.DataFrame(np.random.rand(len(y_pred), 1)))\n",
    "    adata.obs['pred'] = y_pred\n",
    "    adata.obs['pred'] = adata.obs['pred'].astype(str).astype('category')\n",
    "    adata.obs['true'] = y_true\n",
    "    adata.obs['true'] = adata.obs['true'].astype(str).astype('category')\n",
    "\n",
    "    adata.obsm['X_umap'] = umap\n",
    "    \n",
    "    K = len(np.unique(y_pred))\n",
    "    \n",
    "    sc.pl.umap(adata, color=['pred'], ax=ax, show=False, legend_loc='None', size=8)\n",
    "    ax.set_title('K={}'.format(K), fontsize=16.5, family='Arial')\n",
    "    ax.spines['right'].set_visible(False)\n",
    "    ax.spines['top'].set_visible(False)"
   ]
  },
  {
   "cell_type": "code",
   "execution_count": 3,
   "id": "b88a90a1-ea79-49e1-b78b-9d60f534ca67",
   "metadata": {},
   "outputs": [],
   "source": [
    "fig = plt.figure(figsize=(15, 9))\n",
    "sub_figs = fig.subfigures(3, 1)\n",
    "axs = []\n",
    "\n",
    "for i, sub_fig in enumerate(sub_figs):     \n",
    "    axs.append(sub_fig.subplots(1, 4))\n",
    "    \n",
    "axs = np.array(axs)"
   ]
  },
  {
   "cell_type": "markdown",
   "id": "0e9b4ff9-4919-492d-af37-bbebe14a923e",
   "metadata": {},
   "source": [
    "# Article"
   ]
  },
  {
   "cell_type": "markdown",
   "id": "2819407c-1648-4d9a-98c9-1f153774b289",
   "metadata": {},
   "source": [
    "## Human pancreas"
   ]
  },
  {
   "cell_type": "code",
   "execution_count": 4,
   "id": "caada44c-dda8-4ff9-8f0c-c24b81ad8ee3",
   "metadata": {},
   "outputs": [],
   "source": [
    "data_mat = h5py.File('dataset/Human_p.h5')\n",
    "y_true = np.array(data_mat['Y'], dtype='int')\n",
    "data_mat.close()"
   ]
  },
  {
   "cell_type": "code",
   "execution_count": 5,
   "id": "9dcecaa7-7ca9-469b-bd69-32b68d83b08f",
   "metadata": {},
   "outputs": [],
   "source": [
    "seurat = pd.read_csv('results/default/human/Seurat_wo_sample.csv', header=0, index_col=0)\n",
    "cidr = pd.read_csv('results/default/human/CIDR_wo_sample.csv', header=0, index_col=0)\n",
    "scd = np.load('results/default/human/scDeepCluster_wo_sample.npz')\n",
    "desc = np.load('results/default/human/DESC_wo_sample.npz')\n",
    "graphsc = np.load('results/default/human/graphsc_wo_sample.npz')\n",
    "scgmaae = np.load('results/default/human/scGMAAE_wo_sample.npz')\n",
    "scvi = np.load('results/default/human/scVI_wo_sample.npz')\n",
    "sccaf = np.load('results/default/human/SCCAF_wo_sample.npz')\n",
    "adclust = np.load('results/default/human/ADClust_wo_sample.npz')\n",
    "scace = np.load('results/default/human/scAce_wo_sample.npz')"
   ]
  },
  {
   "cell_type": "code",
   "execution_count": 6,
   "id": "73589c04-31a3-4ae3-831e-d9f9937cf138",
   "metadata": {},
   "outputs": [],
   "source": [
    "y_true_scgmaae = scgmaae['Labels']"
   ]
  },
  {
   "cell_type": "code",
   "execution_count": null,
   "id": "79cf729f-1ef8-405f-ab62-10f29eeb1a7e",
   "metadata": {},
   "outputs": [],
   "source": [
    "methods = [cidr, scd, desc, graphsc, scgmaae, scvi, sccaf, adclust, scace]\n",
    "embedding = []\n",
    "for i, method in enumerate(methods):\n",
    "    \n",
    "    if i == 0:\n",
    "        embedding.append(method[['Axis.1', 'Axis.2', 'Axis.3', 'Axis.4']])\n",
    "        \n",
    "    elif i == 1:\n",
    "        embedding.append(method['Embedded'])\n",
    "    \n",
    "    elif i == len(methods) - 2 or i == len(methods) - 1:\n",
    "        embedding.append(method['Embedding'][-1])\n",
    "    else:\n",
    "        embedding.append(method['Embedding'])\n",
    "        \n",
    "\n",
    "umap_all = []\n",
    "for i in range(len(embedding)):\n",
    "    print(i)\n",
    "    adata = sc.AnnData(embedding[i])\n",
    "    sc.pp.neighbors(adata)\n",
    "    sc.tl.umap(adata, random_state=0)\n",
    "    umap_all.append(np.array(adata.obsm['X_umap']))   "
   ]
  },
  {
   "cell_type": "code",
   "execution_count": 7,
   "id": "c3459333-72bc-4062-ac78-aef1f6049200",
   "metadata": {},
   "outputs": [],
   "source": [
    "umap_all = np.load(\"umap/umap_f3_human.npz\")['UMAP']\n",
    "# np.savez(\"umap/umap_f3_human.npz\", UMAP=umap_all)"
   ]
  },
  {
   "cell_type": "code",
   "execution_count": 8,
   "id": "cdf766c9-c5b2-4bb2-b791-47a5b54c6314",
   "metadata": {},
   "outputs": [
    {
     "name": "stdout",
     "output_type": "stream",
     "text": [
      "Method: scDeepCluster, ARI=0.57, NMI=0.74\n",
      "Method: graph-sc, ARI=0.71, NMI=0.82\n",
      "Method: DESC, ARI=0.57, NMI=0.8\n",
      "Method: scAce, ARI=0.9, NMI=0.88\n"
     ]
    }
   ],
   "source": [
    "plot_cluster(scd, 'scDeepCluster', 1, y_true, axs[0][0])\n",
    "plot_cluster(graphsc, 'graph-sc', 3, y_true, axs[0][1])\n",
    "plot_cluster(desc, 'DESC', 2, y_true, axs[0][2])\n",
    "plot_cluster(scace, 'scAce', 8, y_true, axs[0][3])"
   ]
  },
  {
   "cell_type": "markdown",
   "id": "370934db-6ce9-43e1-b18b-d6e2384b5d1b",
   "metadata": {},
   "source": [
    "## Human PBMC"
   ]
  },
  {
   "cell_type": "code",
   "execution_count": 9,
   "id": "2b115e00-5057-4cc5-a1e0-1ddafbdcb7f0",
   "metadata": {},
   "outputs": [],
   "source": [
    "data_mat = h5py.File('dataset/Human_PBMC.h5')\n",
    "y_true = np.array(data_mat['Y'], dtype='int')\n",
    "data_mat.close()"
   ]
  },
  {
   "cell_type": "code",
   "execution_count": 10,
   "id": "9ab5dc6b-0399-4882-a106-d19265427cd3",
   "metadata": {},
   "outputs": [],
   "source": [
    "seurat = pd.read_csv('results/default/pbmc/Seurat_wo_sample.csv', header=0, index_col=0)\n",
    "cidr = pd.read_csv('results/default/pbmc/CIDR_wo_sample.csv', header=0, index_col=0)\n",
    "scd = np.load('results/default/pbmc/scDeepCluster_wo_sample.npz')\n",
    "desc = np.load('results/default/pbmc/DESC_wo_sample.npz')\n",
    "graphsc = np.load('results/default/pbmc/graphsc_wo_sample.npz')\n",
    "scgmaae = np.load('results/default/pbmc/scGMAAE_wo_sample.npz')\n",
    "scvi = np.load('results/default/pbmc/scVI_wo_sample.npz')\n",
    "sccaf = np.load('results/default/pbmc/SCCAF_wo_sample.npz')\n",
    "adclust = np.load('results/default/pbmc/ADClust_wo_sample.npz')\n",
    "scace = np.load('results/default/pbmc/scAce_wo_sample.npz')"
   ]
  },
  {
   "cell_type": "code",
   "execution_count": 11,
   "id": "45cb0a1d-5c2c-4b07-bb38-44cb89d65b8b",
   "metadata": {},
   "outputs": [],
   "source": [
    "y_true_scgmaae = scgmaae['Labels']"
   ]
  },
  {
   "cell_type": "code",
   "execution_count": null,
   "id": "18c73b96-09b5-4d58-8c9d-750af1b6ca6d",
   "metadata": {},
   "outputs": [],
   "source": [
    "methods = [cidr, scd, desc, graphsc, scgmaae, scvi, sccaf, adclust, scace]\n",
    "embedding = []\n",
    "for i, method in enumerate(methods):\n",
    "    \n",
    "    if i == 0:\n",
    "        embedding.append(method[['Axis.1', 'Axis.2', 'Axis.3', 'Axis.4']])\n",
    "        \n",
    "    elif i == 1:\n",
    "        embedding.append(method['Embedded'])\n",
    "    \n",
    "    elif i == len(methods) - 2 or i == len(methods) - 1:\n",
    "        embedding.append(method['Embedding'][-1])\n",
    "    else:\n",
    "        embedding.append(method['Embedding'])\n",
    "        \n",
    "\n",
    "umap_all = []\n",
    "for i in range(len(embedding)):\n",
    "    print(i)\n",
    "    adata = sc.AnnData(embedding[i])\n",
    "    sc.pp.neighbors(adata)\n",
    "    sc.tl.umap(adata, random_state=0)\n",
    "    umap_all.append(np.array(adata.obsm['X_umap']))   "
   ]
  },
  {
   "cell_type": "code",
   "execution_count": 12,
   "id": "eb3fe8ec-e8bf-4dbd-ba08-4aab50e2a0fc",
   "metadata": {},
   "outputs": [],
   "source": [
    "umap_all = np.load(\"umap/umap_f3_pbmc.npz\")['UMAP']\n",
    "# np.savez(\"umap/umap_f3_pbmc.npz\", UMAP=umap_all)"
   ]
  },
  {
   "cell_type": "code",
   "execution_count": 13,
   "id": "2bc5611b-7162-46d3-be5b-e066b3e15618",
   "metadata": {},
   "outputs": [
    {
     "name": "stdout",
     "output_type": "stream",
     "text": [
      "Method: scDeepCluster, ARI=0.79, NMI=0.79\n",
      "Method: graph-sc, ARI=0.67, NMI=0.74\n",
      "Method: DESC, ARI=0.63, NMI=0.74\n",
      "Method: scAce, ARI=0.81, NMI=0.82\n"
     ]
    }
   ],
   "source": [
    "plot_cluster(scd, 'scDeepCluster', 1, y_true, axs[1][0])\n",
    "plot_cluster(graphsc, 'graph-sc', 3, y_true, axs[1][1])\n",
    "plot_cluster(desc, 'DESC', 2, y_true, axs[1][2])\n",
    "plot_cluster(scace, 'scAce', 8, y_true, axs[1][3])"
   ]
  },
  {
   "cell_type": "markdown",
   "id": "be6e8291-e5e9-4cec-9083-c444974c0b4f",
   "metadata": {},
   "source": [
    "## Human kidney"
   ]
  },
  {
   "cell_type": "code",
   "execution_count": 14,
   "id": "f24a15ed-d181-4733-bc52-4eb255578444",
   "metadata": {},
   "outputs": [],
   "source": [
    "data_mat = h5py.File('dataset/Human_k.h5')\n",
    "y_true = np.array(data_mat['Y'], dtype='int')\n",
    "data_mat.close()"
   ]
  },
  {
   "cell_type": "code",
   "execution_count": 15,
   "id": "d4b00288-d13d-4217-929f-43360c743b37",
   "metadata": {},
   "outputs": [],
   "source": [
    "seurat = pd.read_csv('results/default/kidney/Seurat_wo_sample.csv', header=0, index_col=0)\n",
    "cidr = pd.read_csv('results/default/kidney/CIDR_wo_sample.csv', header=0, index_col=0)\n",
    "scd = np.load('results/default/kidney/scDeepCluster_wo_sample.npz')\n",
    "desc = np.load('results/default/kidney/DESC_wo_sample.npz')\n",
    "graphsc = np.load('results/default/kidney/graphsc_wo_sample.npz')\n",
    "scgmaae = np.load('results/default/kidney/scGMAAE_wo_sample.npz')\n",
    "scvi = np.load('results/default/kidney/scVI_wo_sample.npz')\n",
    "sccaf = np.load('results/default/kidney/SCCAF_wo_sample.npz')\n",
    "adclust = np.load('results/default/kidney/ADClust_wo_sample.npz')\n",
    "scace = np.load('results/default/kidney/scAce_wo_sample.npz')"
   ]
  },
  {
   "cell_type": "code",
   "execution_count": 16,
   "id": "0daece88-ac31-4e68-9bb6-850896562b50",
   "metadata": {},
   "outputs": [],
   "source": [
    "y_true_scgmaae = scgmaae['Labels']"
   ]
  },
  {
   "cell_type": "code",
   "execution_count": null,
   "id": "11363d84-b10b-407e-9f8f-7944a75d7694",
   "metadata": {},
   "outputs": [],
   "source": [
    "methods = [cidr, scd, desc, graphsc, scgmaae, scvi, sccaf, adclust, scace]\n",
    "embedding = []\n",
    "for i, method in enumerate(methods):\n",
    "    \n",
    "    if i == 0:\n",
    "        embedding.append(method[['Axis.1', 'Axis.2', 'Axis.3', 'Axis.4']])\n",
    "        \n",
    "    elif i == 1:\n",
    "        embedding.append(method['Embedded'])\n",
    "    \n",
    "    elif i == len(methods) - 2 or i == len(methods) - 1:\n",
    "        embedding.append(method['Embedding'][-1])\n",
    "    else:\n",
    "        embedding.append(method['Embedding'])\n",
    "        \n",
    "\n",
    "umap_all = []\n",
    "for i in range(len(embedding)):\n",
    "    print(i)\n",
    "    adata = sc.AnnData(embedding[i])\n",
    "    sc.pp.neighbors(adata)\n",
    "    sc.tl.umap(adata, random_state=0)\n",
    "    umap_all.append(np.array(adata.obsm['X_umap']))   "
   ]
  },
  {
   "cell_type": "code",
   "execution_count": 17,
   "id": "e9b13b3d-e444-47fe-be31-46e057bfc0da",
   "metadata": {},
   "outputs": [],
   "source": [
    "umap_all = np.load(\"umap/umap_f3_kidney.npz\")['UMAP']\n",
    "# np.savez(\"umap/umap_f3_kidney.npz\", UMAP=umap_all)"
   ]
  },
  {
   "cell_type": "code",
   "execution_count": 18,
   "id": "9791f775-14e1-48f4-a2c4-b56f2c4f9293",
   "metadata": {},
   "outputs": [
    {
     "name": "stdout",
     "output_type": "stream",
     "text": [
      "Method: scDeepCluster, ARI=0.48, NMI=0.66\n",
      "Method: graph-sc, ARI=0.68, NMI=0.79\n",
      "Method: DESC, ARI=0.55, NMI=0.76\n",
      "Method: scAce, ARI=0.65, NMI=0.76\n"
     ]
    }
   ],
   "source": [
    "plot_cluster(scd, 'scDeepCluster', 1, y_true, axs[2][0])\n",
    "plot_cluster(graphsc, 'graph-sc', 3, y_true, axs[2][1])\n",
    "plot_cluster(desc, 'DESC', 2, y_true, axs[2][2])\n",
    "plot_cluster(scace, 'scAce', 8, y_true, axs[2][3])"
   ]
  },
  {
   "cell_type": "code",
   "execution_count": 19,
   "id": "79ee3647-43b4-4100-9c03-d214f016f981",
   "metadata": {},
   "outputs": [
    {
     "data": {
      "text/plain": [
       "<Figure size 1500x900 with 12 Axes>"
      ]
     },
     "execution_count": 19,
     "metadata": {},
     "output_type": "execute_result"
    }
   ],
   "source": [
    "fig"
   ]
  },
  {
   "cell_type": "code",
   "execution_count": 20,
   "id": "70d48d3d-2a3f-4e23-9a92-37d77fcdcba2",
   "metadata": {},
   "outputs": [],
   "source": [
    "plt.savefig('Figures0418/Figure3B.svg', dpi=300, format='svg', bbox_inches='tight')"
   ]
  },
  {
   "cell_type": "markdown",
   "id": "ba9a8ee9-d982-4405-87d6-04832a50793e",
   "metadata": {},
   "source": [
    "# Supplementary"
   ]
  },
  {
   "cell_type": "code",
   "execution_count": 21,
   "id": "9fbe7ed9-7e54-4882-90df-8d78f2c181d1",
   "metadata": {},
   "outputs": [],
   "source": [
    "fig = plt.figure(figsize=(24, 10))\n",
    "sub_figs = fig.subfigures(3, 1)\n",
    "axs = []\n",
    "\n",
    "for i, sub_fig in enumerate(sub_figs):     \n",
    "    axs.append(sub_fig.subplots(1, 6))\n",
    "    \n",
    "axs = np.array(axs)"
   ]
  },
  {
   "cell_type": "markdown",
   "id": "c290a827-c1ba-4b8f-9245-db0f8e126af4",
   "metadata": {},
   "source": [
    "## Human pancreas"
   ]
  },
  {
   "cell_type": "code",
   "execution_count": 22,
   "id": "8169fe12-11f5-4862-b000-622f8e861ac1",
   "metadata": {},
   "outputs": [],
   "source": [
    "data_mat = h5py.File('dataset/Human_p.h5')\n",
    "y_true = np.array(data_mat['Y'], dtype='int')\n",
    "data_mat.close()\n",
    "\n",
    "seurat = pd.read_csv('results/default/human/Seurat_wo_sample.csv', header=0, index_col=0)\n",
    "cidr = pd.read_csv('results/default/human/CIDR_wo_sample.csv', header=0, index_col=0)\n",
    "scd = np.load('results/default/human/scDeepCluster_wo_sample.npz')\n",
    "desc = np.load('results/default/human/DESC_wo_sample.npz')\n",
    "graphsc = np.load('results/default/human/graphsc_wo_sample.npz')\n",
    "scgmaae = np.load('results/default/human/scGMAAE_wo_sample.npz')\n",
    "scvi = np.load('results/default/human/scVI_wo_sample.npz')\n",
    "sccaf = np.load('results/default/human/SCCAF_wo_sample.npz')\n",
    "adclust = np.load('results/default/human/ADClust_wo_sample.npz')\n",
    "scace = np.load('results/default/human/scAce_wo_sample.npz')\n",
    "\n",
    "y_true_scgmaae = scgmaae['Labels']\n",
    "umap_all = np.load(\"umap/umap_f3_human.npz\")['UMAP']"
   ]
  },
  {
   "cell_type": "code",
   "execution_count": 23,
   "id": "8e21b1e4-303a-487c-a6f1-3fad4f075e4c",
   "metadata": {},
   "outputs": [
    {
     "name": "stdout",
     "output_type": "stream",
     "text": [
      "Method: CIDR, ARI=0.56, NMI=0.65\n",
      "Method: SCCAF, ARI=0.54, NMI=0.77\n",
      "Method: scGMAAE, ARI=0.47, NMI=0.58\n",
      "Method: scVI, ARI=0.7, NMI=0.83\n",
      "Method: Seurat, ARI=0.57, NMI=0.79\n",
      "Method: ADClust, ARI=0.79, NMI=0.76\n"
     ]
    }
   ],
   "source": [
    "plot_cluster(cidr, 'CIDR', 0, y_true, axs[0][0])\n",
    "plot_cluster(sccaf, 'SCCAF', 6, y_true, axs[0][1])\n",
    "plot_cluster(scgmaae, 'scGMAAE', 4, y_true_scgmaae, axs[0][2])\n",
    "plot_cluster(scvi, 'scVI', 5, y_true, axs[0][3])\n",
    "plot_cluster(seurat, 'Seurat', None, y_true, axs[0][4])\n",
    "plot_cluster(adclust, 'ADClust', 7, y_true, axs[0][5])"
   ]
  },
  {
   "cell_type": "markdown",
   "id": "71159696-69fb-4932-bdab-f63f1cf78661",
   "metadata": {},
   "source": [
    "## Human PBMC"
   ]
  },
  {
   "cell_type": "code",
   "execution_count": 24,
   "id": "c2d71d96-3b47-45c1-9726-80f14652cef5",
   "metadata": {},
   "outputs": [],
   "source": [
    "data_mat = h5py.File('dataset/Human_PBMC.h5')\n",
    "y_true = np.array(data_mat['Y'], dtype='int')\n",
    "data_mat.close()\n",
    "\n",
    "seurat = pd.read_csv('results/default/pbmc/Seurat_wo_sample.csv', header=0, index_col=0)\n",
    "cidr = pd.read_csv('results/default/pbmc/CIDR_wo_sample.csv', header=0, index_col=0)\n",
    "scd = np.load('results/default/pbmc/scDeepCluster_wo_sample.npz')\n",
    "desc = np.load('results/default/pbmc/DESC_wo_sample.npz')\n",
    "graphsc = np.load('results/default/pbmc/graphsc_wo_sample.npz')\n",
    "scgmaae = np.load('results/default/pbmc/scGMAAE_wo_sample.npz')\n",
    "scvi = np.load('results/default/pbmc/scVI_wo_sample.npz')\n",
    "sccaf = np.load('results/default/pbmc/SCCAF_wo_sample.npz')\n",
    "adclust = np.load('results/default/pbmc/ADClust_wo_sample.npz')\n",
    "scace = np.load('results/default/pbmc/scAce_wo_sample.npz')\n",
    "\n",
    "y_true_scgmaae = scgmaae['Labels']\n",
    "umap_all = np.load(\"umap/umap_f3_pbmc.npz\")['UMAP']"
   ]
  },
  {
   "cell_type": "code",
   "execution_count": 25,
   "id": "bb0325d9-56ea-4d83-bbdb-e1abd998c4f3",
   "metadata": {},
   "outputs": [
    {
     "name": "stdout",
     "output_type": "stream",
     "text": [
      "Method: CIDR, ARI=0.64, NMI=0.72\n",
      "Method: SCCAF, ARI=0.64, NMI=0.73\n",
      "Method: scGMAAE, ARI=0.6, NMI=0.67\n",
      "Method: scVI, ARI=0.52, NMI=0.67\n",
      "Method: Seurat, ARI=0.59, NMI=0.72\n",
      "Method: ADClust, ARI=0.41, NMI=0.63\n"
     ]
    }
   ],
   "source": [
    "plot_cluster(cidr, 'CIDR', 0, y_true, axs[1][0])\n",
    "plot_cluster(sccaf, 'SCCAF', 6, y_true, axs[1][1])\n",
    "plot_cluster(scgmaae, 'scGMAAE', 4, y_true_scgmaae, axs[1][2])\n",
    "plot_cluster(scvi, 'scVI', 5, y_true, axs[1][3])\n",
    "plot_cluster(seurat, 'Seurat', None, y_true, axs[1][4])\n",
    "plot_cluster(adclust, 'ADClust', 7, y_true, axs[1][5])"
   ]
  },
  {
   "cell_type": "markdown",
   "id": "66499fdc-e76d-4a95-93e3-be276c22e76b",
   "metadata": {},
   "source": [
    "## Human kidney"
   ]
  },
  {
   "cell_type": "code",
   "execution_count": 26,
   "id": "a30f26ba-e595-4fcd-b589-9a870344a863",
   "metadata": {},
   "outputs": [],
   "source": [
    "data_mat = h5py.File('dataset/Human_k.h5')\n",
    "y_true = np.array(data_mat['Y'], dtype='int')\n",
    "data_mat.close()\n",
    "\n",
    "seurat = pd.read_csv('results/default/kidney/Seurat_wo_sample.csv', header=0, index_col=0)\n",
    "cidr = pd.read_csv('results/default/kidney/CIDR_wo_sample.csv', header=0, index_col=0)\n",
    "scd = np.load('results/default/kidney/scDeepCluster_wo_sample.npz')\n",
    "desc = np.load('results/default/kidney/DESC_wo_sample.npz')\n",
    "graphsc = np.load('results/default/kidney/graphsc_wo_sample.npz')\n",
    "scgmaae = np.load('results/default/kidney/scGMAAE_wo_sample.npz')\n",
    "scvi = np.load('results/default/kidney/scVI_wo_sample.npz')\n",
    "sccaf = np.load('results/default/kidney/SCCAF_wo_sample.npz')\n",
    "adclust = np.load('results/default/kidney/ADClust_wo_sample.npz')\n",
    "scace = np.load('results/default/kidney/scAce_wo_sample.npz')\n",
    "\n",
    "y_true_scgmaae = scgmaae['Labels']\n",
    "umap_all = np.load(\"umap/umap_f3_kidney.npz\")['UMAP']"
   ]
  },
  {
   "cell_type": "code",
   "execution_count": 27,
   "id": "89ae4ef8-f101-4480-9b48-eed969d8df2e",
   "metadata": {},
   "outputs": [
    {
     "name": "stdout",
     "output_type": "stream",
     "text": [
      "Method: CIDR, ARI=0.26, NMI=0.45\n",
      "Method: SCCAF, ARI=0.37, NMI=0.7\n",
      "Method: scGMAAE, ARI=0.57, NMI=0.65\n",
      "Method: scVI, ARI=0.51, NMI=0.72\n",
      "Method: Seurat, ARI=0.4, NMI=0.66\n",
      "Method: ADClust, ARI=0.46, NMI=0.64\n"
     ]
    }
   ],
   "source": [
    "plot_cluster(cidr, 'CIDR', 0, y_true, axs[2][0])\n",
    "plot_cluster(sccaf, 'SCCAF', 6, y_true, axs[2][1])\n",
    "plot_cluster(scgmaae, 'scGMAAE', 4, y_true_scgmaae, axs[2][2])\n",
    "plot_cluster(scvi, 'scVI', 5, y_true, axs[2][3])\n",
    "plot_cluster(seurat, 'Seurat', None, y_true, axs[2][4])\n",
    "plot_cluster(adclust, 'ADClust', 7, y_true, axs[2][5])"
   ]
  },
  {
   "cell_type": "code",
   "execution_count": 28,
   "id": "4af18eb4-3755-4f57-bab0-b83eacded797",
   "metadata": {},
   "outputs": [
    {
     "data": {
      "text/plain": [
       "<Figure size 2400x1000 with 18 Axes>"
      ]
     },
     "execution_count": 28,
     "metadata": {},
     "output_type": "execute_result"
    }
   ],
   "source": [
    "fig"
   ]
  },
  {
   "cell_type": "code",
   "execution_count": 29,
   "id": "f19f68cb-166f-4ddb-b4ef-c513a27a6e17",
   "metadata": {},
   "outputs": [],
   "source": [
    "plt.savefig('Figures0418/FigureS1A.png', dpi=800, format='png', bbox_inches='tight')"
   ]
  },
  {
   "cell_type": "code",
   "execution_count": null,
   "id": "c3219c64-0416-42be-a2ae-b17a795f7a5e",
   "metadata": {},
   "outputs": [],
   "source": []
  },
  {
   "cell_type": "code",
   "execution_count": 30,
   "id": "20ba6561-3a50-46a2-bb13-aef41fefa67a",
   "metadata": {},
   "outputs": [],
   "source": [
    "fig = plt.figure(figsize=(25, 8))\n",
    "sub_figs = fig.subfigures(4, 1)\n",
    "axs = []\n",
    "\n",
    "for i, sub_fig in enumerate(sub_figs):     \n",
    "    axs.append(sub_fig.subplots(1, 10))\n",
    "    \n",
    "axs = np.array(axs)"
   ]
  },
  {
   "cell_type": "markdown",
   "id": "b7e736a4-2b61-41ab-b963-0281acc38885",
   "metadata": {},
   "source": [
    "## Mouse ES"
   ]
  },
  {
   "cell_type": "code",
   "execution_count": 31,
   "id": "e340bfcc-5d69-4e71-8947-553e7d33ac98",
   "metadata": {},
   "outputs": [],
   "source": [
    "mat, obs, var, uns = read_data('dataset/Mouse_E.h5', sparsify=False, skip_exprs=False)\n",
    "x = np.array(mat.toarray())\n",
    "cell_name = np.array(obs[\"cell_type1\"])\n",
    "cell_type, y_true = np.unique(cell_name, return_inverse=True)"
   ]
  },
  {
   "cell_type": "code",
   "execution_count": 32,
   "id": "40d7c768-697a-45ac-bbed-afb40e05ca1c",
   "metadata": {},
   "outputs": [],
   "source": [
    "seurat = pd.read_csv('results/default/Klein/Seurat_wo_sample.csv', header=0, index_col=0)\n",
    "cidr = pd.read_csv('results/default/Klein/CIDR_wo_sample.csv', header=0, index_col=0)\n",
    "scd = np.load('results/default/Klein/scDeepCluster_wo_sample.npz')\n",
    "desc = np.load('results/default/Klein/DESC_wo_sample.npz')\n",
    "graphsc = np.load('results/default/Klein/graphsc_wo_sample.npz')\n",
    "scgmaae = np.load('results/default/Klein/scGMAAE_wo_sample.npz')\n",
    "scvi = np.load('results/default/Klein/scVI_wo_sample.npz')\n",
    "sccaf = np.load('results/default/Klein/SCCAF_wo_sample.npz')\n",
    "adclust = np.load('results/default/Klein/ADClust_wo_sample.npz')\n",
    "scace = np.load('results/default/Klein/scAce_wo_sample.npz')"
   ]
  },
  {
   "cell_type": "code",
   "execution_count": 33,
   "id": "a7c75063-eb00-4545-ac01-d3fc5917e290",
   "metadata": {},
   "outputs": [],
   "source": [
    "y_true_scgmaae = scgmaae['Labels']"
   ]
  },
  {
   "cell_type": "code",
   "execution_count": null,
   "id": "4bea3c0e-b18c-4f1c-8c5e-38cdfc668a0b",
   "metadata": {},
   "outputs": [],
   "source": [
    "methods = [cidr, scd, desc, graphsc, scgmaae, scvi, sccaf, adclust, scace]\n",
    "embedding = []\n",
    "for i, method in enumerate(methods):\n",
    "    \n",
    "    if i == 0:\n",
    "        embedding.append(method[['Axis.1', 'Axis.2', 'Axis.3', 'Axis.4']])\n",
    "        \n",
    "    elif i == 1:\n",
    "        embedding.append(method['Embedded'])\n",
    "    \n",
    "    elif i == len(methods) - 2 or i == len(methods) - 1:\n",
    "        embedding.append(method['Embedding'][-1])\n",
    "    else:\n",
    "        embedding.append(method['Embedding'])\n",
    "        \n",
    "\n",
    "umap_all = []\n",
    "for i in range(len(embedding)):\n",
    "    print(i)\n",
    "    adata = sc.AnnData(embedding[i])\n",
    "    sc.pp.neighbors(adata)\n",
    "    sc.tl.umap(adata, random_state=0)\n",
    "    umap_all.append(np.array(adata.obsm['X_umap']))   "
   ]
  },
  {
   "cell_type": "code",
   "execution_count": 34,
   "id": "c47cf380-e045-4f28-9da4-a851d77451db",
   "metadata": {},
   "outputs": [],
   "source": [
    "umap_all = np.load(\"umap/umap_f3_klein.npz\")['UMAP']\n",
    "# np.savez(\"umap/umap_f3_klein.npz\", UMAP=umap_all)"
   ]
  },
  {
   "cell_type": "code",
   "execution_count": 35,
   "id": "69514b5f-ba3b-483c-a58b-9240917cf210",
   "metadata": {},
   "outputs": [
    {
     "name": "stdout",
     "output_type": "stream",
     "text": [
      "Method: CIDR, ARI=0.68, NMI=0.66\n",
      "Method: SCCAF, ARI=0.82, NMI=0.86\n",
      "Method: scGMAAE, ARI=0.78, NMI=0.73\n",
      "Method: scVI, ARI=0.62, NMI=0.74\n",
      "Method: Seurat, ARI=0.52, NMI=0.73\n",
      "Method: ADClust, ARI=0.73, NMI=0.69\n",
      "Method: scDeepCluster, ARI=0.49, NMI=0.63\n",
      "Method: graph-sc, ARI=0.78, NMI=0.76\n",
      "Method: DESC, ARI=0.9, NMI=0.9\n",
      "Method: scAce, ARI=0.9, NMI=0.9\n"
     ]
    }
   ],
   "source": [
    "plot_cluster(cidr, 'CIDR', 0, y_true, axs[0][0])\n",
    "plot_cluster(sccaf, 'SCCAF', 6, y_true, axs[0][1])\n",
    "plot_cluster(scgmaae, 'scGMAAE', 4, y_true_scgmaae, axs[0][2])\n",
    "plot_cluster(scvi, 'scVI', 5, y_true, axs[0][3])\n",
    "plot_cluster(seurat, 'Seurat', None, y_true, axs[0][4])\n",
    "plot_cluster(adclust, 'ADClust', 7, y_true, axs[0][5])\n",
    "plot_cluster(scd, 'scDeepCluster', 1, y_true, axs[0][6])\n",
    "plot_cluster(graphsc, 'graph-sc', 3, y_true, axs[0][7])\n",
    "plot_cluster(desc, 'DESC', 2, y_true, axs[0][8])\n",
    "plot_cluster(scace, 'scAce', 8, y_true, axs[0][9])"
   ]
  },
  {
   "cell_type": "markdown",
   "id": "5d535777-f41b-4a8f-92c8-cf0905b81e3d",
   "metadata": {},
   "source": [
    "## Mouse hypothalamus"
   ]
  },
  {
   "cell_type": "code",
   "execution_count": 36,
   "id": "5fc90def-8f95-4139-9601-7ec0ae37bce4",
   "metadata": {},
   "outputs": [],
   "source": [
    "mat, obs, var, uns = read_data('dataset/Mouse_h.h5', sparsify=False, skip_exprs=False)\n",
    "x = np.array(mat.toarray())\n",
    "cell_name = np.array(obs[\"cell_type1\"])\n",
    "cell_type, y_true_1 = np.unique(cell_name, return_inverse=True)"
   ]
  },
  {
   "cell_type": "code",
   "execution_count": 37,
   "id": "9feb5542-ead3-4d91-a20d-fa1d016d8693",
   "metadata": {},
   "outputs": [],
   "source": [
    "adata = sc.AnnData(x)\n",
    "adata.obs['celltype'] = y_true_1\n",
    "sc.pp.filter_genes(adata, min_cells=3)\n",
    "sc.pp.filter_cells(adata, min_genes=200)\n",
    "\n",
    "y_true_2 = np.array(adata.obs['celltype']).squeeze()"
   ]
  },
  {
   "cell_type": "code",
   "execution_count": 38,
   "id": "40024db3-93c9-4761-ab04-aa3a7c497ae3",
   "metadata": {},
   "outputs": [],
   "source": [
    "seurat = pd.read_csv('results/default/chen/Seurat_wo_sample.csv', header=0, index_col=0)\n",
    "cidr = pd.read_csv('results/default/chen/CIDR_wo_sample.csv', header=0, index_col=0)\n",
    "scd = np.load('results/default/chen/scDeepCluster_wo_sample.npz')\n",
    "desc = np.load('results/default/chen/DESC_wo_sample.npz')\n",
    "graphsc = np.load('results/default/chen/graphsc_wo_sample.npz')\n",
    "scgmaae = np.load('results/default/chen/scGMAAE_wo_sample.npz')\n",
    "scvi = np.load('results/default/chen/scVI_wo_sample.npz')\n",
    "sccaf = np.load('results/default/chen/SCCAF_wo_sample.npz')\n",
    "adclust = np.load('results/default/chen/ADClust_wo_sample.npz')\n",
    "scace = np.load('results/default/chen/scAce_wo_sample.npz')"
   ]
  },
  {
   "cell_type": "code",
   "execution_count": 39,
   "id": "e2a4b1c6-09bb-41dd-bba1-dc5f86eeb40e",
   "metadata": {},
   "outputs": [],
   "source": [
    "y_true_scgmaae = scgmaae['Labels']"
   ]
  },
  {
   "cell_type": "code",
   "execution_count": null,
   "id": "17f8f6a0-7aa5-45d9-8471-a3689662e8f2",
   "metadata": {},
   "outputs": [],
   "source": [
    "methods = [cidr, scd, desc, graphsc, scgmaae, scvi, sccaf, adclust, scace]\n",
    "embedding = []\n",
    "for i, method in enumerate(methods):\n",
    "    \n",
    "    if i == 0:\n",
    "        embedding.append(method[['Axis.1', 'Axis.2', 'Axis.3', 'Axis.4']])\n",
    "        \n",
    "    elif i == 1:\n",
    "        embedding.append(method['Embedded'])\n",
    "    \n",
    "    elif i == len(methods) - 2 or i == len(methods) - 1:\n",
    "        embedding.append(method['Embedding'][-1])\n",
    "    else:\n",
    "        embedding.append(method['Embedding'])\n",
    "        \n",
    "\n",
    "umap_all = []\n",
    "for i in range(len(embedding)):\n",
    "    print(i)\n",
    "    adata = sc.AnnData(embedding[i])\n",
    "    sc.pp.neighbors(adata)\n",
    "    sc.tl.umap(adata, random_state=0)\n",
    "    umap_all.append(np.array(adata.obsm['X_umap']))   "
   ]
  },
  {
   "cell_type": "code",
   "execution_count": 40,
   "id": "23fda813-7967-487b-b080-a0372eb4c95e",
   "metadata": {},
   "outputs": [],
   "source": [
    "umap_all = np.load(\"umap/umap_f3_chen.npz\")['UMAP']\n",
    "# np.savez(\"umap/umap_f3_chen.npz\", UMAP=umap_all)"
   ]
  },
  {
   "cell_type": "code",
   "execution_count": 41,
   "id": "ed6a38b2-84f9-454c-a6ec-f7a51d35c432",
   "metadata": {},
   "outputs": [
    {
     "name": "stdout",
     "output_type": "stream",
     "text": [
      "Method: CIDR, ARI=0.36, NMI=0.42\n",
      "Method: SCCAF, ARI=0.6, NMI=0.77\n",
      "Method: scGMAAE, ARI=0.49, NMI=0.69\n",
      "Method: scVI, ARI=0.57, NMI=0.75\n",
      "Method: Seurat, ARI=0.88, NMI=0.8\n",
      "Method: ADClust, ARI=0.78, NMI=0.78\n",
      "Method: scDeepCluster, ARI=0.61, NMI=0.74\n",
      "Method: graph-sc, ARI=0.4, NMI=0.73\n",
      "Method: DESC, ARI=0.66, NMI=0.8\n",
      "Method: scAce, ARI=0.84, NMI=0.79\n"
     ]
    }
   ],
   "source": [
    "plot_cluster(cidr, 'CIDR', 0, y_true_1, axs[1][0])\n",
    "plot_cluster(sccaf, 'SCCAF', 6, y_true_2, axs[1][1])\n",
    "plot_cluster(scgmaae, 'scGMAAE', 4, y_true_scgmaae, axs[1][2])\n",
    "plot_cluster(scvi, 'scVI', 5, y_true_1, axs[1][3])\n",
    "plot_cluster(seurat, 'Seurat', None, y_true_2, axs[1][4])\n",
    "plot_cluster(adclust, 'ADClust', 7, y_true_1, axs[1][5])\n",
    "plot_cluster(scd, 'scDeepCluster', 1, y_true_1, axs[1][6])\n",
    "plot_cluster(graphsc, 'graph-sc', 3, y_true_1, axs[1][7])\n",
    "plot_cluster(desc, 'DESC', 2, y_true_2, axs[1][8])\n",
    "plot_cluster(scace, 'scAce', 8, y_true_2, axs[1][9])"
   ]
  },
  {
   "cell_type": "markdown",
   "id": "6e171a19-2979-4315-b735-35d72bb0f7f2",
   "metadata": {},
   "source": [
    "## Mouse kidney"
   ]
  },
  {
   "cell_type": "code",
   "execution_count": 42,
   "id": "7965e943-5084-44df-8150-e801e6f51491",
   "metadata": {},
   "outputs": [],
   "source": [
    "mat, obs, var, uns = read_data('dataset/Mouse_k.h5', sparsify=False, skip_exprs=False)\n",
    "x = np.array(mat.toarray())\n",
    "cell_name = np.array(obs[\"cell_type1\"])\n",
    "cell_type, y_true = np.unique(cell_name, return_inverse=True)"
   ]
  },
  {
   "cell_type": "code",
   "execution_count": 43,
   "id": "813a6c27-a46b-42d0-a7e0-a4ee472c658e",
   "metadata": {},
   "outputs": [],
   "source": [
    "seurat = pd.read_csv('results/default/Adam/Seurat_wo_sample.csv', header=0, index_col=0)\n",
    "cidr = pd.read_csv('results/default/Adam/CIDR_wo_sample.csv', header=0, index_col=0)\n",
    "scd = np.load('results/default/Adam/scDeepCluster_wo_sample.npz')\n",
    "desc = np.load('results/default/Adam/DESC_wo_sample.npz')\n",
    "graphsc = np.load('results/default/Adam/graphsc_wo_sample.npz')\n",
    "scgmaae = np.load('results/default/Adam/scGMAAE_wo_sample.npz')\n",
    "scvi = np.load('results/default/Adam/scVI_wo_sample.npz')\n",
    "sccaf = np.load('results/default/Adam/SCCAF_wo_sample.npz')\n",
    "adclust = np.load('results/default/Adam/ADClust_wo_sample.npz')\n",
    "scace = np.load('results/default/Adam/scAce_wo_sample.npz')"
   ]
  },
  {
   "cell_type": "code",
   "execution_count": 44,
   "id": "d5049a23-fa8c-401e-8e73-3ad91fa06c6c",
   "metadata": {},
   "outputs": [],
   "source": [
    "y_true_scgmaae = scgmaae['Labels']"
   ]
  },
  {
   "cell_type": "code",
   "execution_count": null,
   "id": "845d01b5-96d0-4f9c-a148-f9824cf0eb08",
   "metadata": {},
   "outputs": [],
   "source": [
    "methods = [cidr, scd, desc, graphsc, scgmaae, scvi, sccaf, adclust, scace]\n",
    "embedding = []\n",
    "for i, method in enumerate(methods):\n",
    "    \n",
    "    if i == 0:\n",
    "        embedding.append(method[['Axis.1', 'Axis.2', 'Axis.3', 'Axis.4']])\n",
    "        \n",
    "    elif i == 1:\n",
    "        embedding.append(method['Embedded'])\n",
    "    \n",
    "    elif i == len(methods) - 2 or i == len(methods) - 1:\n",
    "        embedding.append(method['Embedding'][-1])\n",
    "    else:\n",
    "        embedding.append(method['Embedding'])"
   ]
  },
  {
   "cell_type": "code",
   "execution_count": 45,
   "id": "85ad28f6-6070-4682-a231-32036db635d5",
   "metadata": {},
   "outputs": [],
   "source": [
    "umap_all = np.load(\"umap/umap_f3_adam.npz\")['UMAP']\n",
    "# np.savez(\"umap/umap_f3_adam.npz\", UMAP=umap_all)"
   ]
  },
  {
   "cell_type": "code",
   "execution_count": 46,
   "id": "33db2049-9055-439e-ae18-1b8196b6957e",
   "metadata": {},
   "outputs": [
    {
     "name": "stdout",
     "output_type": "stream",
     "text": [
      "Method: CIDR, ARI=0.05, NMI=0.12\n",
      "Method: SCCAF, ARI=0.56, NMI=0.74\n",
      "Method: scGMAAE, ARI=0.68, NMI=0.75\n",
      "Method: scVI, ARI=0.67, NMI=0.8\n",
      "Method: Seurat, ARI=0.64, NMI=0.78\n",
      "Method: ADClust, ARI=0.47, NMI=0.6\n",
      "Method: scDeepCluster, ARI=0.63, NMI=0.73\n",
      "Method: graph-sc, ARI=0.6, NMI=0.71\n",
      "Method: DESC, ARI=0.64, NMI=0.8\n",
      "Method: scAce, ARI=0.93, NMI=0.91\n"
     ]
    }
   ],
   "source": [
    "plot_cluster(cidr, 'CIDR', 0, y_true, axs[2][0])\n",
    "plot_cluster(sccaf, 'SCCAF', 6, y_true, axs[2][1])\n",
    "plot_cluster(scgmaae, 'scGMAAE', 4, y_true_scgmaae, axs[2][2])\n",
    "plot_cluster(scvi, 'scVI', 5, y_true, axs[2][3])\n",
    "plot_cluster(seurat, 'Seurat', None, y_true, axs[2][4])\n",
    "plot_cluster(adclust, 'ADClust', 7, y_true, axs[2][5])\n",
    "plot_cluster(scd, 'scDeepCluster', 1, y_true, axs[2][6])\n",
    "plot_cluster(graphsc, 'graph-sc', 3, y_true, axs[2][7])\n",
    "plot_cluster(desc, 'DESC', 2, y_true, axs[2][8])\n",
    "plot_cluster(scace, 'scAce', 8, y_true, axs[2][9])"
   ]
  },
  {
   "cell_type": "markdown",
   "id": "9c09c68e-0dbe-4370-86e2-e34c47282836",
   "metadata": {},
   "source": [
    "## Turtle brain"
   ]
  },
  {
   "cell_type": "code",
   "execution_count": 47,
   "id": "77eafb9c-7a44-4e59-8a0d-148f0e4d3576",
   "metadata": {},
   "outputs": [],
   "source": [
    "mat, obs, var, uns = read_data('dataset/Turtle_b.h5', sparsify=False, skip_exprs=False)\n",
    "x = np.array(mat.toarray())\n",
    "cell_name = np.array(obs[\"cell_type1\"])\n",
    "cell_type, y_true = np.unique(cell_name, return_inverse=True)"
   ]
  },
  {
   "cell_type": "code",
   "execution_count": 48,
   "id": "ac89f92b-730e-438f-8b1b-5eba2f45bea1",
   "metadata": {},
   "outputs": [],
   "source": [
    "seurat = pd.read_csv('results/default/turtle/Seurat_wo_sample.csv', header=0, index_col=0)\n",
    "cidr = pd.read_csv('results/default/turtle/CIDR_wo_sample.csv', header=0, index_col=0)\n",
    "scd = np.load('results/default/turtle/scDeepCluster_wo_sample.npz')\n",
    "desc = np.load('results/default/turtle/DESC_wo_sample.npz')\n",
    "graphsc = np.load('results/default/turtle/graphsc_wo_sample.npz')\n",
    "scgmaae = np.load('results/default/turtle/scGMAAE_wo_sample.npz')\n",
    "scvi = np.load('results/default/turtle/scVI_wo_sample.npz')\n",
    "sccaf = np.load('results/default/turtle/SCCAF_wo_sample.npz')\n",
    "adclust = np.load('results/default/turtle/ADClust_wo_sample.npz')\n",
    "scace = np.load('results/default/turtle/scAce_wo_sample.npz')"
   ]
  },
  {
   "cell_type": "code",
   "execution_count": 49,
   "id": "34111177-1e27-4335-bcf9-9a57df97d295",
   "metadata": {},
   "outputs": [],
   "source": [
    "y_true_scgmaae = scgmaae['Labels']"
   ]
  },
  {
   "cell_type": "code",
   "execution_count": null,
   "id": "16d57300-36b9-424d-9137-5aac0d632860",
   "metadata": {},
   "outputs": [],
   "source": [
    "methods = [cidr, scd, desc, graphsc, scgmaae, scvi, sccaf, adclust, scace]\n",
    "embedding = []\n",
    "for i, method in enumerate(methods):\n",
    "    \n",
    "    if i == 0:\n",
    "        embedding.append(method[['Axis.1', 'Axis.2', 'Axis.3', 'Axis.4']])\n",
    "        \n",
    "    elif i == 1:\n",
    "        embedding.append(method['Embedded'])\n",
    "    \n",
    "    elif i == len(methods) - 2 or i == len(methods) - 1:\n",
    "        embedding.append(method['Embedding'][-1])\n",
    "    else:\n",
    "        embedding.append(method['Embedding'])"
   ]
  },
  {
   "cell_type": "code",
   "execution_count": 50,
   "id": "3e2abbe7-dd9c-4810-8006-141875ecb4de",
   "metadata": {},
   "outputs": [],
   "source": [
    "umap_all = np.load(\"umap/umap_f3_turtle.npz\")['UMAP']\n",
    "# np.savez(\"umap/umap_f3_turtle.npz\", UMAP=umap_all)"
   ]
  },
  {
   "cell_type": "code",
   "execution_count": 51,
   "id": "9e0116da-5603-4967-acb5-bd9139d806aa",
   "metadata": {},
   "outputs": [
    {
     "name": "stdout",
     "output_type": "stream",
     "text": [
      "Method: CIDR, ARI=0.48, NMI=0.63\n",
      "Method: SCCAF, ARI=0.39, NMI=0.74\n",
      "Method: scGMAAE, ARI=0.48, NMI=0.68\n",
      "Method: scVI, ARI=0.5, NMI=0.75\n",
      "Method: Seurat, ARI=0.56, NMI=0.74\n",
      "Method: ADClust, ARI=0.62, NMI=0.73\n",
      "Method: scDeepCluster, ARI=0.7, NMI=0.76\n",
      "Method: graph-sc, ARI=0.51, NMI=0.72\n",
      "Method: DESC, ARI=0.68, NMI=0.84\n",
      "Method: scAce, ARI=0.71, NMI=0.71\n"
     ]
    }
   ],
   "source": [
    "plot_cluster(cidr, 'CIDR', 0, y_true, axs[3][0])\n",
    "plot_cluster(sccaf, 'SCCAF', 6, y_true, axs[3][1])\n",
    "plot_cluster(scgmaae, 'scGMAAE', 4, y_true_scgmaae, axs[3][2])\n",
    "plot_cluster(scvi, 'scVI', 5, y_true, axs[3][3])\n",
    "plot_cluster(seurat, 'Seurat', None, y_true, axs[3][4])\n",
    "plot_cluster(adclust, 'ADClust', 7, y_true, axs[3][5])\n",
    "plot_cluster(scd, 'scDeepCluster', 1, y_true, axs[3][6])\n",
    "plot_cluster(graphsc, 'graph-sc', 3, y_true, axs[3][7])\n",
    "plot_cluster(desc, 'DESC', 2, y_true, axs[3][8])\n",
    "plot_cluster(scace, 'scAce', 8, y_true, axs[3][9])"
   ]
  },
  {
   "cell_type": "code",
   "execution_count": 52,
   "id": "30593791-000b-4611-ad2d-cca84a567fa2",
   "metadata": {},
   "outputs": [
    {
     "data": {
      "text/plain": [
       "<Figure size 2500x800 with 40 Axes>"
      ]
     },
     "execution_count": 52,
     "metadata": {},
     "output_type": "execute_result"
    }
   ],
   "source": [
    "fig"
   ]
  },
  {
   "cell_type": "code",
   "execution_count": 53,
   "id": "6ec6ca68-31b8-4f1d-932b-809a3953f98b",
   "metadata": {},
   "outputs": [],
   "source": [
    "plt.savefig('Figures0418/FigureS2A.png', dpi=800, format='png', bbox_inches='tight')"
   ]
  },
  {
   "cell_type": "code",
   "execution_count": null,
   "id": "73a4c930-ee2c-43e8-b51d-28bf70eed1e9",
   "metadata": {},
   "outputs": [],
   "source": []
  }
 ],
 "metadata": {
  "kernelspec": {
   "display_name": "Python 3",
   "language": "python",
   "name": "python3"
  },
  "language_info": {
   "codemirror_mode": {
    "name": "ipython",
    "version": 3
   },
   "file_extension": ".py",
   "mimetype": "text/x-python",
   "name": "python",
   "nbconvert_exporter": "python",
   "pygments_lexer": "ipython3",
   "version": "3.8.8"
  }
 },
 "nbformat": 4,
 "nbformat_minor": 5
}