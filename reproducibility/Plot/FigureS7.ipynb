{
 "cells": [
  {
   "cell_type": "code",
   "execution_count": 3,
   "id": "a228322a-8e44-4244-82a4-675e2c90a8cf",
   "metadata": {},
   "outputs": [],
   "source": [
    "import pandas as pd\n",
    "import scanpy as sc\n",
    "import numpy as np\n",
    "import h5py\n",
    "\n",
    "import matplotlib\n",
    "import matplotlib.pyplot as plt\n",
    "matplotlib.use('Agg')\n",
    "from matplotlib.pyplot import plot,savefig\n",
    "from sklearn import metrics\n",
    "\n",
    "import warnings\n",
    "warnings.filterwarnings(\"ignore\")\n",
    "from read_count import read_data"
   ]
  },
  {
   "cell_type": "code",
   "execution_count": 4,
   "id": "4b29af1d-8e2b-46a4-84c2-0903a68f9742",
   "metadata": {},
   "outputs": [],
   "source": [
    "col = [\"#E64B35CC\", \"#0072B5CC\", \"#00A087CC\", \"#3C5488CC\", \"#F39B7FCC\", \"#F7DC05FF\", \"#FD7446E5\",\n",
    "       \"#8491B4CC\", \"#7E6148CC\", \"#B09C85CC\", \"#E18727CC\", \"#FFDC91E5\", \"#6A6599E5\", \"#9467BDB2\",\n",
    "       \"#FFFFFFFF\", \"#0000FFFF\", \"#FF0000FF\", \"#00FF00FF\", \"#000033FF\", \"#FF00B6FF\", \"#005300FF\", \"#FFD300FF\",\n",
    "       \"#009FFFFF\", \"#9A4D42FF\", \"#00FFBEFF\", \"#783FC1FF\", \"#1F9698FF\", \"#FFACFDFF\", \"#B1CC71FF\", \"#F1085CFF\",\n",
    "       \"#FE8F42FF\", \"#DD00FFFF\", \"#201A01FF\", \"#720055FF\", \"#766C95FF\", \"#02AD24FF\", \"#C8FF00FF\", \"#886C00FF\",\n",
    "       \"#FFB79FFF\", \"#858567FF\", \"#A10300FF\", \"#14F9FFFF\", \"#00479EFF\", \"#DC5E93FF\", \"#93D4FFFF\", \"#004CFFFF\"]"
   ]
  },
  {
   "cell_type": "code",
   "execution_count": 5,
   "id": "7ee4b4df-a5ff-424e-a8f4-0f6174c7d55a",
   "metadata": {},
   "outputs": [],
   "source": [
    "def plot_cluster(df, method_name, n, y_true, by, ax):\n",
    "    \n",
    "    \"\"\"\n",
    "        n: n-th dataset in [Human pancreas, Human kidney, Human hypothalamus, Turtle brain]\n",
    "        by: 'pred' or 'true'. If by == 'pred', colored by cluster labels, else colored by true cell types.\n",
    "    \"\"\"\n",
    "    \n",
    "    y_pred = df['Clusters'][0]\n",
    "    \n",
    "    if method_name == 'SCCAF':\n",
    "        umap = umap_sccaf[n]\n",
    "    elif method_name == 'ADClust':\n",
    "        umap = umap_adclust[n]\n",
    "    else:\n",
    "        umap = umap_scace[n]\n",
    "    \n",
    "    K = len(np.unique(y_pred))\n",
    "    \n",
    "    y_pred = np.asarray(y_pred, dtype='int').squeeze()\n",
    "    ari = np.round(metrics.adjusted_rand_score(y_pred, y_true), 2)\n",
    "    nmi = np.round(metrics.normalized_mutual_info_score(y_pred, y_true), 2)\n",
    "    print('Method: {}, ARI={}, NMI={}, k={}'.format(method_name, ari, nmi, K))\n",
    "        \n",
    "    adata = sc.AnnData(pd.DataFrame(np.random.rand(len(y_pred), 1)))\n",
    "    adata.obs['pred'] = y_pred\n",
    "    adata.obs['pred'] = adata.obs['pred'].astype(str).astype('category')\n",
    "    adata.obs['true'] = y_true\n",
    "    adata.obs['true'] = adata.obs['true'].astype(str).astype('category')\n",
    "\n",
    "    adata.obsm['X_umap'] = umap\n",
    "    \n",
    "    if by == 'pred':\n",
    "        sc.pl.umap(adata, color=['pred'], ax=ax, show=False, legend_loc='None', size=8)\n",
    "        ax.set_title('K={}'.format(K), fontsize=15, family='Arial')\n",
    "        ax.spines['right'].set_visible(False)\n",
    "        ax.spines['top'].set_visible(False)\n",
    "        \n",
    "    else:\n",
    "        sc.pl.umap(adata, color=['true'], ax=ax, show=False, legend_loc='None', size=8, palette=col)\n",
    "        ax.set_title('({} Cell types)'.format(len(np.unique(y_true))), fontsize=15, family='Arial')\n",
    "        ax.spines['right'].set_visible(False)\n",
    "        ax.spines['top'].set_visible(False)"
   ]
  },
  {
   "cell_type": "code",
   "execution_count": 6,
   "id": "8f5b3c19-0910-4078-92c0-c981af92861e",
   "metadata": {},
   "outputs": [],
   "source": [
    "data_mat = h5py.File('dataset/Human_p.h5')\n",
    "y_true_human = np.array(data_mat['Y'], dtype='int')\n",
    "data_mat.close()\n",
    "\n",
    "data_mat = h5py.File('dataset/Human_k.h5')\n",
    "y_true_kidney = np.array(data_mat['Y'], dtype='int')\n",
    "data_mat.close()\n",
    "\n",
    "mat, obs, var, uns = read_data('dataset/Mouse_h.h5', sparsify=False, skip_exprs=False)\n",
    "x_chen = np.array(mat.toarray())\n",
    "cell_name = np.array(obs[\"cell_type1\"])\n",
    "cell_type, y_true_chen = np.unique(cell_name, return_inverse=True)\n",
    "\n",
    "mat, obs, var, uns = read_data('dataset/Turtle_b.h5', sparsify=False, skip_exprs=False)\n",
    "x = np.array(mat.toarray())\n",
    "cell_name = np.array(obs[\"cell_type1\"])\n",
    "cell_type, y_true_turtle = np.unique(cell_name, return_inverse=True)"
   ]
  },
  {
   "cell_type": "code",
   "execution_count": 7,
   "id": "25196551-edb0-4148-bd5c-c7582b53ca9f",
   "metadata": {},
   "outputs": [],
   "source": [
    "adata = sc.AnnData(x_chen)\n",
    "adata.obs['celltype'] = y_true_chen\n",
    "sc.pp.filter_genes(adata, min_cells=3)\n",
    "sc.pp.filter_cells(adata, min_genes=200)"
   ]
  },
  {
   "cell_type": "code",
   "execution_count": 8,
   "id": "b330ea2a-9195-4d64-8faf-7272a3a54f7b",
   "metadata": {},
   "outputs": [],
   "source": [
    "y_true_2 = np.array(adata.obs['celltype']).squeeze()"
   ]
  },
  {
   "cell_type": "code",
   "execution_count": 9,
   "id": "aa48041a-0ab0-4e6d-abdc-20f3f4b4fd36",
   "metadata": {},
   "outputs": [],
   "source": [
    "human_sccaf = np.load('results/default/Human/SCCAF_wo_sample.npz')\n",
    "kidney_sccaf = np.load('results/default/Kidney/SCCAF_wo_sample.npz')\n",
    "chen_sccaf = np.load('results/default/Chen/SCCAF_wo_sample.npz')\n",
    "turtle_sccaf = np.load('results/default/Turtle/SCCAF_wo_sample.npz')\n",
    "\n",
    "human_adclust = np.load('results/default/Human/ADClust_wo_sample.npz')\n",
    "kidney_adclust = np.load('results/default/Kidney/ADClust_wo_sample.npz')\n",
    "chen_adclust = np.load('results/default/Chen/ADClust_wo_sample.npz')\n",
    "turtle_adclust = np.load('results/default/Turtle/ADClust_wo_sample.npz')\n",
    "\n",
    "human_scace = np.load('results/default/Human/scAce_wo_sample.npz')\n",
    "kidney_scace = np.load('results/default/Kidney/scAce_wo_sample.npz')\n",
    "chen_scace = np.load('results/default/Chen/scAce_wo_sample.npz')\n",
    "turtle_scace = np.load('results/default/Turtle/scAce_wo_sample.npz')"
   ]
  },
  {
   "cell_type": "code",
   "execution_count": null,
   "id": "5f7f629c-32e8-4dfe-858a-fe128ef09608",
   "metadata": {},
   "outputs": [],
   "source": [
    "umap_sccaf, umap_adclust, umap_scace = [], [], []\n",
    "sccaf_data = [human_sccaf, kidney_sccaf, chen_sccaf, turtle_sccaf]\n",
    "adclust_data = [human_adclust, kidney_adclust, chen_adclust, turtle_adclust]\n",
    "scace_data = [human_scace, kidney_scace, chen_scace, turtle_scace]\n",
    "\n",
    "for data in sccaf_data:\n",
    "    adata = sc.AnnData(data['Embedding'])\n",
    "    sc.pp.neighbors(adata)\n",
    "    sc.tl.umap(adata, random_state=0)\n",
    "    umap_sccaf.append(np.array(adata.obsm['X_umap']))\n",
    "    \n",
    "for data in adclust_data:\n",
    "    adata = sc.AnnData(data['Embedding'][0])\n",
    "    sc.pp.neighbors(adata)\n",
    "    sc.tl.umap(adata, random_state=0)\n",
    "    umap_adclust.append(np.array(adata.obsm['X_umap']))\n",
    "    \n",
    "for data in scace_data:\n",
    "    adata = sc.AnnData(data['Embedding'][0])\n",
    "    sc.pp.neighbors(adata)\n",
    "    sc.tl.umap(adata, random_state=0)\n",
    "    umap_scace.append(np.array(adata.obsm['X_umap']))"
   ]
  },
  {
   "cell_type": "code",
   "execution_count": 10,
   "id": "be538992-e518-424c-815a-f4b4d1519a87",
   "metadata": {},
   "outputs": [],
   "source": [
    "umap_all = np.load(\"umap/umap_merge_init_others.npz\")\n",
    "umap_sccaf = umap_all['umap_sccaf']\n",
    "umap_adclust = umap_all['umap_adclust']\n",
    "umap_scace = umap_all['umap_scace']\n",
    "# np.savez(\"umap/umap_merge_init_others.npz\", umap_sccaf=umap_sccaf, umap_adclust=umap_adclust, umap_scace=umap_scace)"
   ]
  },
  {
   "cell_type": "code",
   "execution_count": 12,
   "id": "0187cf77-6d71-4fde-814b-5219fe3d244e",
   "metadata": {},
   "outputs": [],
   "source": [
    "fig = plt.figure(figsize=(15, 8))\n",
    "sub_figs = fig.subfigures(3, 1)\n",
    "axs = []\n",
    "\n",
    "for i, sub_fig in enumerate(sub_figs):   \n",
    "    axs.append(sub_fig.subplots(1, 4))\n",
    "    \n",
    "axs = np.array(axs)"
   ]
  },
  {
   "cell_type": "code",
   "execution_count": 13,
   "id": "2e0e0225-80ee-4294-be0f-99c7c59054e9",
   "metadata": {},
   "outputs": [
    {
     "name": "stdout",
     "output_type": "stream",
     "text": [
      "Method: SCCAF, ARI=0.54, NMI=0.77, k=16\n",
      "Method: SCCAF, ARI=0.37, NMI=0.7, k=33\n",
      "Method: SCCAF, ARI=0.6, NMI=0.77, k=28\n",
      "Method: SCCAF, ARI=0.39, NMI=0.74, k=26\n",
      "Method: ADClust, ARI=0.21, NMI=0.63, k=36\n",
      "Method: ADClust, ARI=0.23, NMI=0.66, k=48\n",
      "Method: ADClust, ARI=0.27, NMI=0.71, k=55\n",
      "Method: ADClust, ARI=0.21, NMI=0.65, k=51\n",
      "Method: scAce, ARI=0.33, NMI=0.69, k=27\n",
      "Method: scAce, ARI=0.28, NMI=0.66, k=46\n",
      "Method: scAce, ARI=0.33, NMI=0.71, k=44\n",
      "Method: scAce, ARI=0.23, NMI=0.66, k=44\n"
     ]
    }
   ],
   "source": [
    "plot_cluster(human_sccaf, 'SCCAF', 0, y_true_human, 'pred', axs[0][0])\n",
    "plot_cluster(kidney_sccaf, 'SCCAF', 1, y_true_kidney, 'pred', axs[0][1])\n",
    "plot_cluster(chen_sccaf, 'SCCAF', 2, y_true_2, 'pred', axs[0][2])\n",
    "plot_cluster(turtle_sccaf, 'SCCAF', 3, y_true_turtle, 'pred', axs[0][3])\n",
    "\n",
    "plot_cluster(human_adclust, 'ADClust', 0, y_true_human, 'pred', axs[1][0])\n",
    "plot_cluster(kidney_adclust, 'ADClust', 1, y_true_kidney, 'pred', axs[1][1])\n",
    "plot_cluster(chen_adclust, 'ADClust', 2, y_true_chen, 'pred', axs[1][2])\n",
    "plot_cluster(turtle_adclust, 'ADClust', 3, y_true_turtle, 'pred', axs[1][3])\n",
    "\n",
    "plot_cluster(human_scace, 'scAce', 0, y_true_human, 'pred', axs[2][0])\n",
    "plot_cluster(kidney_scace, 'scAce', 1, y_true_kidney, 'pred', axs[2][1])\n",
    "plot_cluster(chen_scace, 'scAce', 2, y_true_2, 'pred', axs[2][2])\n",
    "plot_cluster(turtle_scace, 'scAce', 3, y_true_turtle, 'pred', axs[2][3])"
   ]
  },
  {
   "cell_type": "code",
   "execution_count": 14,
   "id": "43b51233-9846-46bf-8798-6035b6afcced",
   "metadata": {},
   "outputs": [
    {
     "data": {
      "text/plain": [
       "<Figure size 1500x800 with 12 Axes>"
      ]
     },
     "execution_count": 14,
     "metadata": {},
     "output_type": "execute_result"
    }
   ],
   "source": [
    "fig"
   ]
  },
  {
   "cell_type": "code",
   "execution_count": 15,
   "id": "bc223fda-a8ea-47b0-afc0-107a9bc78bd7",
   "metadata": {},
   "outputs": [],
   "source": [
    "plt.savefig('Figures/FigureS7A.svg', dpi=300, format='svg', bbox_inches='tight')"
   ]
  },
  {
   "cell_type": "code",
   "execution_count": 16,
   "id": "40ff1572-8072-46f9-86f2-859c48ed26e2",
   "metadata": {},
   "outputs": [],
   "source": [
    "fig = plt.figure(figsize=(15, 8))\n",
    "methods = ['SCCAF', 'ADClust', 'scAce']\n",
    "\n",
    "sub_figs = fig.subfigures(3, 1)\n",
    "\n",
    "axs = []\n",
    "\n",
    "for i, sub_fig in enumerate(sub_figs):\n",
    "        \n",
    "    axs.append(sub_fig.subplots(1, 4))\n",
    "    \n",
    "axs = np.array(axs)"
   ]
  },
  {
   "cell_type": "code",
   "execution_count": 17,
   "id": "ad768823-659d-45b8-af09-e21ba90eb89b",
   "metadata": {},
   "outputs": [
    {
     "name": "stdout",
     "output_type": "stream",
     "text": [
      "Method: SCCAF, ARI=0.54, NMI=0.77, k=16\n",
      "Method: SCCAF, ARI=0.37, NMI=0.7, k=33\n",
      "Method: SCCAF, ARI=0.6, NMI=0.77, k=28\n",
      "Method: SCCAF, ARI=0.39, NMI=0.74, k=26\n",
      "Method: ADClust, ARI=0.21, NMI=0.63, k=36\n",
      "Method: ADClust, ARI=0.23, NMI=0.66, k=48\n",
      "Method: ADClust, ARI=0.27, NMI=0.71, k=55\n",
      "Method: ADClust, ARI=0.21, NMI=0.65, k=51\n",
      "Method: scAce, ARI=0.33, NMI=0.69, k=27\n",
      "Method: scAce, ARI=0.28, NMI=0.66, k=46\n",
      "Method: scAce, ARI=0.33, NMI=0.71, k=44\n",
      "Method: scAce, ARI=0.23, NMI=0.66, k=44\n"
     ]
    }
   ],
   "source": [
    "plot_cluster(human_sccaf, 'SCCAF', 0, y_true_human, 'true', axs[0][0])\n",
    "plot_cluster(kidney_sccaf, 'SCCAF', 1, y_true_kidney, 'true', axs[0][1])\n",
    "plot_cluster(chen_sccaf, 'SCCAF', 2, y_true_2, 'true', axs[0][2])\n",
    "plot_cluster(turtle_sccaf, 'SCCAF', 3, y_true_turtle, 'true', axs[0][3])\n",
    "\n",
    "plot_cluster(human_adclust, 'ADClust', 0, y_true_human, 'true', axs[1][0])\n",
    "plot_cluster(kidney_adclust, 'ADClust', 1, y_true_kidney, 'true', axs[1][1])\n",
    "plot_cluster(chen_adclust, 'ADClust', 2, y_true_chen, 'true', axs[1][2])\n",
    "plot_cluster(turtle_adclust, 'ADClust', 3, y_true_turtle, 'true', axs[1][3])\n",
    "\n",
    "plot_cluster(human_scace, 'scAce', 0, y_true_human, 'true', axs[2][0])\n",
    "plot_cluster(kidney_scace, 'scAce', 1, y_true_kidney, 'true', axs[2][1])\n",
    "plot_cluster(chen_scace, 'scAce', 2, y_true_2, 'true', axs[2][2])\n",
    "plot_cluster(turtle_scace, 'scAce', 3, y_true_turtle, 'true', axs[2][3])"
   ]
  },
  {
   "cell_type": "code",
   "execution_count": 18,
   "id": "b49c8f84-e563-475e-81bc-53db35169cc0",
   "metadata": {},
   "outputs": [
    {
     "data": {
      "text/plain": [
       "<Figure size 1500x800 with 12 Axes>"
      ]
     },
     "execution_count": 18,
     "metadata": {},
     "output_type": "execute_result"
    }
   ],
   "source": [
    "fig"
   ]
  },
  {
   "cell_type": "code",
   "execution_count": 19,
   "id": "59ee221b-b30f-470d-8386-2e4da57aaff0",
   "metadata": {},
   "outputs": [],
   "source": [
    "plt.savefig('Figures/FigureS7B.svg', dpi=300, format='svg', bbox_inches='tight')"
   ]
  },
  {
   "cell_type": "code",
   "execution_count": null,
   "id": "d839951d-3e6b-4d82-a3fe-ccc7c4fb4a1d",
   "metadata": {},
   "outputs": [],
   "source": []
  }
 ],
 "metadata": {
  "kernelspec": {
   "display_name": "Python 3",
   "language": "python",
   "name": "python3"
  },
  "language_info": {
   "codemirror_mode": {
    "name": "ipython",
    "version": 3
   },
   "file_extension": ".py",
   "mimetype": "text/x-python",
   "name": "python",
   "nbconvert_exporter": "python",
   "pygments_lexer": "ipython3",
   "version": "3.8.8"
  }
 },
 "nbformat": 4,
 "nbformat_minor": 5
}