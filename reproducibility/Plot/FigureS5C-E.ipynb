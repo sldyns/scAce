{
 "cells": [
  {
   "cell_type": "code",
   "execution_count": 1,
   "id": "e74f9f14-e10d-4b0c-b6e2-e6890ed80300",
   "metadata": {},
   "outputs": [],
   "source": [
    "import pandas as pd\n",
    "import scanpy as sc\n",
    "import numpy as np\n",
    "import h5py\n",
    "\n",
    "import matplotlib\n",
    "import matplotlib.pyplot as plt\n",
    "matplotlib.use('Agg')\n",
    "from matplotlib.pyplot import plot,savefig\n",
    "from sklearn import metrics\n",
    "\n",
    "import warnings\n",
    "warnings.filterwarnings(\"ignore\")\n",
    "from read_count import read_data\n",
    "\n",
    "import seaborn as sns\n",
    "from matplotlib.colors import LinearSegmentedColormap\n",
    "from sklearn import metrics\n",
    "from collections import Counter"
   ]
  },
  {
   "cell_type": "code",
   "execution_count": 16,
   "id": "d5d3eaa8-32ed-49c7-a402-e7e9fbfac27c",
   "metadata": {},
   "outputs": [],
   "source": [
    "sccaf = np.load('results/default/Adam/SCCAF_wo_sample.npz')\n",
    "scace = np.load('results/default/Adam/scAce_wo_sample.npz')\n",
    "adclust = np.load('results/default/Adam/ADClust_wo_sample.npz')"
   ]
  },
  {
   "cell_type": "code",
   "execution_count": 3,
   "id": "9e1c79b6-9a4c-4f58-b1be-5402c9dda368",
   "metadata": {},
   "outputs": [],
   "source": [
    "mat, obs, var, uns = read_data('dataset/Adam.h5', sparsify=False, skip_exprs=False)\n",
    "cell_name = np.array(obs[\"cell_type1\"])\n",
    "cell_type, cell_label = np.unique(cell_name, return_inverse=True)\n",
    "y_true = cell_label"
   ]
  },
  {
   "cell_type": "code",
   "execution_count": 4,
   "id": "7eece4d5-8f46-442d-bfa4-f99f96ca2abe",
   "metadata": {},
   "outputs": [],
   "source": [
    "def plot_merge(df, method_name, n, ax):\n",
    "    \n",
    "    '''\n",
    "      n: n-th interation of merging\n",
    "      \n",
    "    '''\n",
    "    \n",
    "    ax = plt.subplot(ax)\n",
    "    \n",
    "    if method_name == 'SCCAF':\n",
    "        if df['Clusters'].shape[0] == 3:\n",
    "            y_pred = np.array(df['Clusters'][1], dtype=int).squeeze()\n",
    "        else:\n",
    "            y_pred = np.array(df['Clusters'][n], dtype=int).squeeze()\n",
    "            \n",
    "    elif method_name == 'ADClust':\n",
    "            y_pred = np.array(df['Clusters_merge'][n], dtype=int).squeeze()\n",
    "            \n",
    "    else:\n",
    "        if n == 0:\n",
    "            y_pred = np.array(df['Clusters'][n], dtype=int).squeeze()\n",
    "        else:\n",
    "            y_pred = np.array(df['Clusters'][n][-1], dtype=int).squeeze()\n",
    "        \n",
    "    \n",
    "    c_mat = []\n",
    "    for i in range(len(np.unique(y_pred))):\n",
    "        idx = np.where(y_pred == i)\n",
    "        x = y_true[idx]\n",
    "        count_t = []\n",
    "        for m in range(len(np.unique(y_true))):\n",
    "            count_t.append(Counter(x)[m])\n",
    "\n",
    "        count_t = np.array(count_t).squeeze()\n",
    "        c_mat.append(count_t)\n",
    "\n",
    "    c_mat = pd.DataFrame(c_mat).T\n",
    "    \n",
    "    c_mat.columns = np.array(list(range(len(np.unique(y_pred))))) + 1\n",
    "    c_mat.index = np.array(list(range(len(np.unique(y_true))))) + 1\n",
    "    \n",
    "    sns.heatmap(c_mat, cmap=\"PuBu\", linewidths=0.5, linecolor=\"white\")\n",
    "    \n",
    "    label_y = ax.get_yticklabels()\n",
    "    plt.setp(label_y, rotation=0, horizontalalignment='right', family='Arial')\n",
    "    label_x = ax.get_xticklabels()\n",
    "    plt.setp(label_x, rotation=0)\n",
    "    ax.set_title('Iteration {}'.format(n+1), fontsize=15, family='Arial')"
   ]
  },
  {
   "cell_type": "markdown",
   "id": "506b712a-7130-4d2d-b96f-1d840f175ec9",
   "metadata": {},
   "source": [
    "# SCCAF"
   ]
  },
  {
   "cell_type": "code",
   "execution_count": 21,
   "id": "5ccf4647-6d9e-45a5-a6df-67fa7cf302de",
   "metadata": {},
   "outputs": [
    {
     "data": {
      "text/plain": [
       "array([ 0,  1,  2,  3,  4,  5,  6,  7,  8,  9, 10, 11, 12, 13, 14, 15, 16],\n",
       "      dtype=int64)"
      ]
     },
     "execution_count": 21,
     "metadata": {},
     "output_type": "execute_result"
    }
   ],
   "source": [
    "np.unique(sccaf['Clusters'][0])"
   ]
  },
  {
   "cell_type": "code",
   "execution_count": 22,
   "id": "7a3d5168-4a8f-403d-aa25-dbb51f7bd1ed",
   "metadata": {},
   "outputs": [
    {
     "data": {
      "text/plain": [
       "array([ 0,  1,  2,  3,  4,  5,  6,  7,  8,  9, 10, 11, 12, 13, 14, 15, 16])"
      ]
     },
     "execution_count": 22,
     "metadata": {},
     "output_type": "execute_result"
    }
   ],
   "source": [
    "np.unique(sccaf['Clusters_merge'].astype(int).squeeze())"
   ]
  },
  {
   "cell_type": "code",
   "execution_count": 6,
   "id": "41d4751b-9a81-41a1-ada6-73f893c1a3af",
   "metadata": {},
   "outputs": [],
   "source": [
    "plt.figure(figsize=(3.6, 2))\n",
    "plot_merge(sccaf, 'SCCAF', 0, 111)"
   ]
  },
  {
   "cell_type": "code",
   "execution_count": 7,
   "id": "16f00050-7201-4961-ad77-b12792d723a2",
   "metadata": {},
   "outputs": [],
   "source": [
    "plt.savefig('Figures/FigureS5D.svg', dpi=300, format='svg', bbox_inches='tight')"
   ]
  },
  {
   "cell_type": "markdown",
   "id": "46c7d72f-ce03-4279-aa19-86bf08802d18",
   "metadata": {},
   "source": [
    "# ADClust"
   ]
  },
  {
   "cell_type": "code",
   "execution_count": 8,
   "id": "91f79690-75f8-4ce2-a795-4278854778f2",
   "metadata": {},
   "outputs": [
    {
     "data": {
      "text/plain": [
       "(7, 3660)"
      ]
     },
     "execution_count": 8,
     "metadata": {},
     "output_type": "execute_result"
    }
   ],
   "source": [
    "adclust['Clusters_merge'].shape"
   ]
  },
  {
   "cell_type": "code",
   "execution_count": 9,
   "id": "126076d7-32da-49e3-b220-e2840173faa0",
   "metadata": {},
   "outputs": [],
   "source": [
    "plt.figure(figsize=(25, 2))\n",
    "plot_merge(adclust, 'ADClust', 0, 171)\n",
    "plot_merge(adclust, 'ADClust', 1, 172)\n",
    "plot_merge(adclust, 'ADClust', 2, 173)\n",
    "plot_merge(adclust, 'ADClust', 3, 174)\n",
    "plot_merge(adclust, 'ADClust', 4, 175)\n",
    "plot_merge(adclust, 'ADClust', 5, 176)\n",
    "plot_merge(adclust, 'ADClust', 6, 177)"
   ]
  },
  {
   "cell_type": "code",
   "execution_count": 10,
   "id": "d408797f-662d-44cd-a37f-d41e0c93252b",
   "metadata": {},
   "outputs": [],
   "source": [
    "plt.savefig('Figures/FigureS5C.svg', dpi=300, format='svg', bbox_inches='tight')"
   ]
  },
  {
   "cell_type": "markdown",
   "id": "68bb6aa4-4e13-45fa-a8c1-64abebc7f362",
   "metadata": {},
   "source": [
    "# scAce"
   ]
  },
  {
   "cell_type": "code",
   "execution_count": 11,
   "id": "1c36eff4-264f-4e3b-aad7-78cb942a98d3",
   "metadata": {},
   "outputs": [
    {
     "data": {
      "text/plain": [
       "(6,)"
      ]
     },
     "execution_count": 11,
     "metadata": {},
     "output_type": "execute_result"
    }
   ],
   "source": [
    "scace['Clusters'].shape"
   ]
  },
  {
   "cell_type": "code",
   "execution_count": 12,
   "id": "31cff190-158c-4410-a0ca-1a536b48be7d",
   "metadata": {},
   "outputs": [
    {
     "data": {
      "text/plain": [
       "array([ 0,  1,  2,  3,  4,  5,  6,  7,  8,  9, 10, 11, 12, 13, 14, 15, 16],\n",
       "      dtype=int64)"
      ]
     },
     "execution_count": 12,
     "metadata": {},
     "output_type": "execute_result"
    }
   ],
   "source": [
    "np.unique(scace['Clusters'][1][-1])"
   ]
  },
  {
   "cell_type": "code",
   "execution_count": 13,
   "id": "ab1ef4fc-9129-4d31-891e-aff789ab1de6",
   "metadata": {},
   "outputs": [],
   "source": [
    "plt.figure(figsize=(20, 2))\n",
    "plot_merge(scace, 'scAce', 0, 151)\n",
    "plot_merge(scace, 'scAce', 1, 152)\n",
    "plot_merge(scace, 'scAce', 2, 153)\n",
    "plot_merge(scace, 'scAce', 3, 154)\n",
    "plot_merge(scace, 'scAce', 4, 155)"
   ]
  },
  {
   "cell_type": "code",
   "execution_count": 14,
   "id": "5baf600b-7f88-49a0-b887-9f6475e5c92b",
   "metadata": {},
   "outputs": [],
   "source": [
    "plt.savefig('Figures/FigureS5E.svg', dpi=300, format='svg', bbox_inches='tight')"
   ]
  },
  {
   "cell_type": "code",
   "execution_count": null,
   "id": "adb19174-4eaf-4631-8061-385713269dc3",
   "metadata": {},
   "outputs": [],
   "source": []
  }
 ],
 "metadata": {
  "kernelspec": {
   "display_name": "Python 3",
   "language": "python",
   "name": "python3"
  },
  "language_info": {
   "codemirror_mode": {
    "name": "ipython",
    "version": 3
   },
   "file_extension": ".py",
   "mimetype": "text/x-python",
   "name": "python",
   "nbconvert_exporter": "python",
   "pygments_lexer": "ipython3",
   "version": "3.8.8"
  }
 },
 "nbformat": 4,
 "nbformat_minor": 5
}
