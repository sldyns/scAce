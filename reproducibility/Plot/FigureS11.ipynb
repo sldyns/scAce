{
 "cells": [
  {
   "cell_type": "code",
   "execution_count": 1,
   "id": "d6f2fa72-bed7-4390-a160-98ad45c7e038",
   "metadata": {},
   "outputs": [],
   "source": [
    "import pandas as pd\n",
    "import numpy as np\n",
    "\n",
    "import matplotlib\n",
    "import matplotlib.pyplot as plt\n",
    "matplotlib.use('Agg')\n",
    "from matplotlib.pyplot import plot,savefig\n",
    "\n",
    "from read_count import read_data"
   ]
  },
  {
   "cell_type": "markdown",
   "id": "94255bc1-5b1d-4b3d-aaa7-9cbc191a3c9d",
   "metadata": {},
   "source": [
    "# Time"
   ]
  },
  {
   "cell_type": "markdown",
   "id": "f107310a-245e-433b-8bb4-b7cf32435d52",
   "metadata": {},
   "source": [
    "## Human pancreas"
   ]
  },
  {
   "cell_type": "code",
   "execution_count": 2,
   "id": "3263aba6-44a0-4bfc-84df-030748e23cd0",
   "metadata": {},
   "outputs": [],
   "source": [
    "seurat = pd.read_csv('results/default/Human/Seurat_wo_sample.csv', header=0, index_col=0)\n",
    "cidr = pd.read_csv('results/default/Human/CIDR_wo_sample.csv', header=0, index_col=0)\n",
    "scd = np.load('results/default/Human/scDeepCluster_wo_sample.npz')\n",
    "desc = np.load('results/default/Human/DESC_wo_sample.npz')\n",
    "graphsc = np.load('results/default/Human/graphsc_wo_sample.npz')\n",
    "scgmaae = np.load('results/default/Human/scGMAAE_wo_sample.npz')\n",
    "scvi = np.load('results/default/Human/scVI_wo_sample.npz')\n",
    "sccaf = np.load('results/default/Human/SCCAF_wo_sample.npz')\n",
    "adclust = np.load('results/default/Human/ADClust_wo_sample.npz')\n",
    "scace = np.load('results/default/Human/scAce_wo_sample.npz')"
   ]
  },
  {
   "cell_type": "code",
   "execution_count": 3,
   "id": "efd65285-cecb-4d96-825e-4afbe0e5f4ec",
   "metadata": {},
   "outputs": [],
   "source": [
    "seurat_human_t = seurat['Time_use.3.'][0]\n",
    "cidr_human_t = cidr['Time_use.3.'][1]\n",
    "scd_human_t = scd['Time_use']\n",
    "desc_human_t = desc['Time_use']\n",
    "graphsc_human_t = graphsc['Time_use']\n",
    "scgmaae_human_t = scgmaae['Time_use']\n",
    "scvi_human_t = scvi['Time_use']\n",
    "sccaf_human_t = sccaf['Time_use']\n",
    "adclust_human_t = adclust['Time_use']\n",
    "scace_human_t = scace['Time']"
   ]
  },
  {
   "cell_type": "markdown",
   "id": "0e69ea52-b054-4820-b6b7-3a304b3d4469",
   "metadata": {},
   "source": [
    "## Human PBMC"
   ]
  },
  {
   "cell_type": "code",
   "execution_count": 4,
   "id": "9919ce6e-2a23-45e5-bbcc-0520be6e19f3",
   "metadata": {},
   "outputs": [],
   "source": [
    "seurat = pd.read_csv('results/default/PBMC/Seurat_wo_sample.csv', header=0, index_col=0)\n",
    "cidr = pd.read_csv('results/default/PBMC/CIDR_wo_sample.csv', header=0, index_col=0)\n",
    "scd = np.load('results/default/PBMC/scDeepCluster_wo_sample.npz')\n",
    "desc = np.load('results/default/PBMC/DESC_wo_sample.npz')\n",
    "graphsc = np.load('results/default/PBMC/graphsc_wo_sample.npz')\n",
    "scgmaae = np.load('results/default/PBMC/scGMAAE_wo_sample.npz')\n",
    "scvi = np.load('results/default/PBMC/scVI_wo_sample.npz')\n",
    "sccaf = np.load('results/default/PBMC/SCCAF_wo_sample.npz')\n",
    "adclust = np.load('results/default/PBMC/ADClust_wo_sample.npz')\n",
    "scace = np.load('results/default/PBMC/scAce_wo_sample.npz')"
   ]
  },
  {
   "cell_type": "code",
   "execution_count": 5,
   "id": "d80eac50-e01c-4c80-945a-9650fdc687c8",
   "metadata": {},
   "outputs": [],
   "source": [
    "seurat_pbmc_t = seurat['Time_use.3.'][0]\n",
    "cidr_pbmc_t = cidr['Time_use.3.'][1]\n",
    "scd_pbmc_t = scd['Time_use']\n",
    "desc_pbmc_t = desc['Time_use']\n",
    "graphsc_pbmc_t = graphsc['Time_use']\n",
    "scgmaae_pbmc_t = scgmaae['Time_use']\n",
    "scvi_pbmc_t = scvi['Time_use']\n",
    "sccaf_pbmc_t = sccaf['Time_use']\n",
    "adclust_pbmc_t = adclust['Time_use']\n",
    "scace_pbmc_t = scace['Time']"
   ]
  },
  {
   "cell_type": "markdown",
   "id": "cf090c48-f63f-4f6a-a6c1-79791d9cce7c",
   "metadata": {},
   "source": [
    "## Human kidney"
   ]
  },
  {
   "cell_type": "code",
   "execution_count": 6,
   "id": "3909931a-c307-4027-98e3-3453491056f9",
   "metadata": {},
   "outputs": [],
   "source": [
    "seurat = pd.read_csv('results/default/Kidney/Seurat_wo_sample.csv', header=0, index_col=0)\n",
    "cidr = pd.read_csv('results/default/Kidney/CIDR_wo_sample.csv', header=0, index_col=0)\n",
    "scd = np.load('results/default/Kidney/scDeepCluster_wo_sample.npz')\n",
    "desc = np.load('results/default/Kidney/DESC_wo_sample.npz')\n",
    "graphsc = np.load('results/default/Kidney/graphsc_wo_sample.npz')\n",
    "scgmaae = np.load('results/default/Kidney/scGMAAE_wo_sample.npz')\n",
    "scvi = np.load('results/default/Kidney/scVI_wo_sample.npz')\n",
    "sccaf = np.load('results/default/Kidney/SCCAF_wo_sample.npz')\n",
    "adclust = np.load('results/default/Kidney/ADClust_wo_sample.npz')\n",
    "scace = np.load('results/default/Kidney/scAce_wo_sample.npz')"
   ]
  },
  {
   "cell_type": "code",
   "execution_count": 7,
   "id": "4ab9ab61-7a6e-45c2-937f-1dc5d5181ee9",
   "metadata": {},
   "outputs": [],
   "source": [
    "seurat_kidney_t = seurat['Time_use.3.'][0]\n",
    "cidr_kidney_t = cidr['Time_use.3.'][1]\n",
    "scd_kidney_t = scd['Time_use']\n",
    "desc_kidney_t = desc['Time_use']\n",
    "graphsc_kidney_t = graphsc['Time_use']\n",
    "scgmaae_kidney_t = scgmaae['Time_use']\n",
    "scvi_kidney_t = scvi['Time_use']\n",
    "sccaf_kidney_t = sccaf['Time_use']\n",
    "adclust_kidney_t = adclust['Time_use']\n",
    "scace_kidney_t = scace['Time']"
   ]
  },
  {
   "cell_type": "markdown",
   "id": "698e819a-a022-44a3-9880-133bbd1acb1a",
   "metadata": {},
   "source": [
    "## Mouse ES"
   ]
  },
  {
   "cell_type": "code",
   "execution_count": 8,
   "id": "bbe9ed9a-4e77-46cc-9f4b-9e2918dc1789",
   "metadata": {},
   "outputs": [],
   "source": [
    "seurat = pd.read_csv('results/default/Klein/Seurat_wo_sample.csv', header=0, index_col=0)\n",
    "cidr = pd.read_csv('results/default/Klein/CIDR_wo_sample.csv', header=0, index_col=0)\n",
    "scd = np.load('results/default/Klein/scDeepCluster_wo_sample.npz')\n",
    "desc = np.load('results/default/Klein/DESC_wo_sample.npz')\n",
    "graphsc = np.load('results/default/Klein/graphsc_wo_sample.npz')\n",
    "scgmaae = np.load('results/default/Klein/scGMAAE_wo_sample.npz')\n",
    "scvi = np.load('results/default/Klein/scVI_wo_sample.npz')\n",
    "sccaf = np.load('results/default/Klein/SCCAF_wo_sample.npz')\n",
    "adclust = np.load('results/default/Klein/ADClust_wo_sample.npz')\n",
    "scace = np.load('results/default/Klein/scAce_wo_sample.npz')"
   ]
  },
  {
   "cell_type": "code",
   "execution_count": 9,
   "id": "35add156-0071-4913-8da1-6b50147ddb53",
   "metadata": {},
   "outputs": [],
   "source": [
    "seurat_klein_t = seurat['Time_use.3.'][0]\n",
    "cidr_klein_t = cidr['Time_use.3.'][1]\n",
    "scd_klein_t = scd['Time_use']\n",
    "desc_klein_t = desc['Time_use']\n",
    "graphsc_klein_t = graphsc['Time_use']\n",
    "scgmaae_klein_t = scgmaae['Time_use']\n",
    "scvi_klein_t = scvi['Time_use']\n",
    "sccaf_klein_t = sccaf['Time_use']\n",
    "adclust_klein_t = adclust['Time_use']\n",
    "scace_klein_t = scace['Time']"
   ]
  },
  {
   "cell_type": "markdown",
   "id": "2c778732-c559-41c5-8764-a87e5fc52157",
   "metadata": {},
   "source": [
    "## Mouse hypothalamus"
   ]
  },
  {
   "cell_type": "code",
   "execution_count": 10,
   "id": "97e036a9-b4ca-4920-a105-b53b5c83448f",
   "metadata": {},
   "outputs": [],
   "source": [
    "seurat = pd.read_csv('results/default/Chen/Seurat_wo_sample.csv', header=0, index_col=0)\n",
    "cidr = pd.read_csv('results/default/Chen/CIDR_wo_sample.csv', header=0, index_col=0)\n",
    "scd = np.load('results/default/Chen/scDeepCluster_wo_sample.npz')\n",
    "desc = np.load('results/default/Chen/DESC_wo_sample.npz')\n",
    "graphsc = np.load('results/default/Chen/graphsc_wo_sample.npz')\n",
    "scgmaae = np.load('results/default/Chen/scGMAAE_wo_sample.npz')\n",
    "scvi = np.load('results/default/Chen/scVI_wo_sample.npz')\n",
    "sccaf = np.load('results/default/Chen/SCCAF_wo_sample.npz')\n",
    "adclust = np.load('results/default/Chen/ADClust_wo_sample.npz')\n",
    "scace = np.load('results/default/Chen/scAce_wo_sample.npz')"
   ]
  },
  {
   "cell_type": "code",
   "execution_count": 11,
   "id": "06b9ba1d-8be5-47ff-bcf7-1c4a30f20c47",
   "metadata": {},
   "outputs": [],
   "source": [
    "seurat_chen_t = seurat['Time_use.3.'][0]\n",
    "cidr_chen_t = cidr['Time_use.3.'][1]\n",
    "scd_chen_t = scd['Time_use']\n",
    "desc_chen_t = desc['Time_use']\n",
    "graphsc_chen_t = graphsc['Time_use']\n",
    "scgmaae_chen_t = scgmaae['Time_use']\n",
    "scvi_chen_t = scvi['Time_use']\n",
    "sccaf_chen_t = sccaf['Time_use']\n",
    "adclust_chen_t = adclust['Time_use']\n",
    "scace_chen_t = scace['Time']"
   ]
  },
  {
   "cell_type": "markdown",
   "id": "0b975ca7-2237-4265-804d-154cc37b17b3",
   "metadata": {},
   "source": [
    "## Mouse kidney"
   ]
  },
  {
   "cell_type": "code",
   "execution_count": 12,
   "id": "304886d7-fa0d-4697-9b29-8390fdcb8fed",
   "metadata": {},
   "outputs": [],
   "source": [
    "seurat = pd.read_csv('results/default/Adam/Seurat_wo_sample.csv', header=0, index_col=0)\n",
    "cidr = pd.read_csv('results/default/Adam/CIDR_wo_sample.csv', header=0, index_col=0)\n",
    "scd = np.load('results/default/Adam/scDeepCluster_wo_sample.npz')\n",
    "desc = np.load('results/default/Adam/DESC_wo_sample.npz')\n",
    "graphsc = np.load('results/default/Adam/graphsc_wo_sample.npz')\n",
    "scgmaae = np.load('results/default/Adam/scGMAAE_wo_sample.npz')\n",
    "scvi = np.load('results/default/Adam/scVI_wo_sample.npz')\n",
    "sccaf = np.load('results/default/Adam/SCCAF_wo_sample.npz')\n",
    "adclust = np.load('results/default/Adam/ADClust_wo_sample.npz')\n",
    "scace = np.load('results/default/Adam/scAce_wo_sample.npz')"
   ]
  },
  {
   "cell_type": "code",
   "execution_count": 13,
   "id": "23dba059-f1fa-449e-9537-1112628b70de",
   "metadata": {},
   "outputs": [],
   "source": [
    "seurat_adam_t = seurat['Time_use.3.'][0]\n",
    "cidr_adam_t = cidr['Time_use.3.'][1]\n",
    "scd_adam_t = scd['Time_use']\n",
    "desc_adam_t = desc['Time_use']\n",
    "graphsc_adam_t = graphsc['Time_use']\n",
    "scgmaae_adam_t = scgmaae['Time_use']\n",
    "scvi_adam_t = scvi['Time_use']\n",
    "sccaf_adam_t = sccaf['Time_use']\n",
    "adclust_adam_t = adclust['Time_use']\n",
    "scace_adam_t = scace['Time']"
   ]
  },
  {
   "cell_type": "markdown",
   "id": "ffac6f99-35bf-4617-9274-6b3a6e296a5e",
   "metadata": {},
   "source": [
    "## Turtle brain"
   ]
  },
  {
   "cell_type": "code",
   "execution_count": 14,
   "id": "de62325a-c657-46eb-a043-68f58d7042f1",
   "metadata": {},
   "outputs": [],
   "source": [
    "seurat = pd.read_csv('results/default/turtle/Seurat_wo_sample.csv', header=0, index_col=0)\n",
    "cidr = pd.read_csv('results/default/turtle/CIDR_wo_sample.csv', header=0, index_col=0)\n",
    "scd = np.load('results/default/turtle/scDeepCluster_wo_sample.npz')\n",
    "desc = np.load('results/default/turtle/DESC_wo_sample.npz')\n",
    "graphsc = np.load('results/default/turtle/graphsc_wo_sample.npz')\n",
    "scgmaae = np.load('results/default/turtle/scGMAAE_wo_sample.npz')\n",
    "scvi = np.load('results/default/turtle/scVI_wo_sample.npz')\n",
    "sccaf = np.load('results/default/turtle/SCCAF_wo_sample.npz')\n",
    "adclust = np.load('results/default/turtle/ADClust_wo_sample.npz')\n",
    "scace = np.load('results/default/turtle/scAce_wo_sample.npz')"
   ]
  },
  {
   "cell_type": "code",
   "execution_count": 15,
   "id": "f0c1477c-4f21-4325-87f7-5b27a296f44d",
   "metadata": {},
   "outputs": [],
   "source": [
    "seurat_turtle_t = seurat['Time_use.3.'][0]\n",
    "cidr_turtle_t = cidr['Time_use.3.'][1]\n",
    "scd_turtle_t = scd['Time_use']\n",
    "desc_turtle_t = desc['Time_use']\n",
    "graphsc_turtle_t = graphsc['Time_use']\n",
    "scgmaae_turtle_t = scgmaae['Time_use']\n",
    "scvi_turtle_t = scvi['Time_use']\n",
    "sccaf_turtle_t = sccaf['Time_use']\n",
    "adclust_turtle_t = adclust['Time_use']\n",
    "scace_turtle_t = scace['Time']"
   ]
  },
  {
   "cell_type": "code",
   "execution_count": 16,
   "id": "db591e78-7bc4-4416-832b-6f58f2f4dd7b",
   "metadata": {},
   "outputs": [],
   "source": [
    "methods = ['Seurat', 'ADClust', 'SCCAF', 'scAce', 'scGMAAE', 'scVI', 'graph-sc', 'scDeepCluster', 'DESC', 'CIDR']\n",
    "\n",
    "datasets = ['Mouse ES', 'Human pancreas', 'Mouse kidney', 'Human PBMC', \n",
    "            'Human kidney', 'Mouse hypothalamus', 'Turtle brain']"
   ]
  },
  {
   "cell_type": "code",
   "execution_count": 17,
   "id": "15eb53d8-2d9e-4f8f-a58d-3e7a8f6606a7",
   "metadata": {},
   "outputs": [],
   "source": [
    "x_index = np.arange(10)"
   ]
  },
  {
   "cell_type": "code",
   "execution_count": 18,
   "id": "a09e63de-6863-4e4c-960e-e0d4b2e8ebca",
   "metadata": {},
   "outputs": [],
   "source": [
    "t_es = [seurat_klein_t, adclust_klein_t, sccaf_klein_t, scace_klein_t, scgmaae_klein_t, \n",
    "        scvi_klein_t, graphsc_klein_t, scd_klein_t, desc_klein_t, cidr_klein_t]\n",
    "\n",
    "t_hpa = [seurat_human_t, adclust_human_t, sccaf_human_t, scace_human_t, scgmaae_human_t, \n",
    "        scvi_human_t, graphsc_human_t, scd_human_t, desc_human_t, cidr_human_t]\n",
    "\n",
    "t_mk = [seurat_adam_t, adclust_adam_t, sccaf_adam_t, scace_adam_t, scgmaae_adam_t, \n",
    "        scvi_adam_t, graphsc_adam_t, scd_adam_t, desc_adam_t, cidr_adam_t]\n",
    "\n",
    "t_hpb = [seurat_pbmc_t, adclust_pbmc_t, sccaf_pbmc_t, scace_pbmc_t, scgmaae_pbmc_t, \n",
    "         scvi_pbmc_t, graphsc_pbmc_t, scd_pbmc_t, desc_pbmc_t, cidr_pbmc_t]\n",
    "\n",
    "t_hk = [seurat_kidney_t, adclust_kidney_t, sccaf_kidney_t, scace_kidney_t, scgmaae_kidney_t, \n",
    "        scvi_kidney_t, graphsc_kidney_t, scd_kidney_t, desc_kidney_t, cidr_kidney_t]\n",
    "\n",
    "t_mh = [seurat_chen_t, adclust_chen_t, sccaf_chen_t, scace_chen_t, scgmaae_chen_t, \n",
    "        scvi_chen_t, graphsc_chen_t, scd_chen_t, desc_chen_t, cidr_chen_t]\n",
    "\n",
    "t_tb = [seurat_turtle_t, adclust_turtle_t, sccaf_turtle_t, scace_turtle_t, scgmaae_turtle_t, \n",
    "        scvi_turtle_t, graphsc_turtle_t, scd_turtle_t, desc_turtle_t, cidr_turtle_t]"
   ]
  },
  {
   "cell_type": "code",
   "execution_count": 19,
   "id": "0406eaf1-d031-42dc-91be-1a5d59295b67",
   "metadata": {},
   "outputs": [],
   "source": [
    "data1 = list(zip(t_es, t_hpa, t_mk, t_hpb, t_hk, t_mh, t_tb))"
   ]
  },
  {
   "cell_type": "code",
   "execution_count": 20,
   "id": "2c26cfdd-9dd6-4e77-846c-51ba54994e8a",
   "metadata": {},
   "outputs": [],
   "source": [
    "t_df = pd.DataFrame(data1, columns=datasets, index=methods)"
   ]
  },
  {
   "cell_type": "code",
   "execution_count": 21,
   "id": "d76d8c3e-e6db-44e5-b9ca-f949d0e2113b",
   "metadata": {},
   "outputs": [],
   "source": [
    "styles = ['b-s','-*','r-^','g-D','m-X','y-p','c->']\n",
    "n, m = t_df.shape"
   ]
  },
  {
   "cell_type": "code",
   "execution_count": 22,
   "id": "3c5a3b62-3eff-46b5-bf29-0e29a6cdd1c3",
   "metadata": {},
   "outputs": [
    {
     "data": {
      "text/plain": [
       "Seurat             60.180714\n",
       "ADClust           118.774435\n",
       "SCCAF             511.687558\n",
       "scAce             534.260917\n",
       "scGMAAE           746.120856\n",
       "scVI              766.623465\n",
       "graph-sc          800.522343\n",
       "scDeepCluster     818.334884\n",
       "DESC              999.189468\n",
       "CIDR             3799.650143\n",
       "dtype: float64"
      ]
     },
     "execution_count": 22,
     "metadata": {},
     "output_type": "execute_result"
    }
   ],
   "source": [
    "t_df.mean(axis=1)"
   ]
  },
  {
   "cell_type": "code",
   "execution_count": 23,
   "id": "95e8deb2-2650-4ce2-8498-fac9a186bfd9",
   "metadata": {},
   "outputs": [],
   "source": [
    "plt.figure(figsize=(10, 6))\n",
    "\n",
    "plt.rcParams[\"font.family\"] = \"Arial\"\n",
    "plt.rcParams.update({'font.size': 22})\n",
    "plt.rc('legend', fontsize=15)\n",
    "\n",
    "\n",
    "for i in range(m):\n",
    "    y = t_df.iloc[:, i]\n",
    "    x = x_index\n",
    "    plt.plot(x, y, styles[i], markersize=8, label=datasets[i])\n",
    "\n",
    "plt.xticks(x, methods, rotation=30, family='Arial', fontsize=18, ha='right')\n",
    "plt.yticks(family='Arial', size=15)\n",
    "plt.legend(loc='upper left',framealpha=0.5)\n",
    "plt.ylabel(\"time / s\", family='Arial', size=20)\n",
    "plt.tight_layout()"
   ]
  },
  {
   "cell_type": "code",
   "execution_count": 24,
   "id": "7f4dcd1b-94a1-42bc-8205-541e3cb3d283",
   "metadata": {},
   "outputs": [],
   "source": [
    "plt.savefig('Figures/FigureS11A.svg', dpi=300, format='svg', bbox_inches='tight')"
   ]
  },
  {
   "cell_type": "markdown",
   "id": "1e3872fd-abe3-4592-9753-5b8bd8b32ee4",
   "metadata": {},
   "source": [
    "# Memory"
   ]
  },
  {
   "cell_type": "code",
   "execution_count": 25,
   "id": "2d34a8df-52a5-47e8-867b-6e9610e5c080",
   "metadata": {},
   "outputs": [],
   "source": [
    "methods = ['graph-sc', 'SCCAF', 'Seurat', 'DESC', 'scVI', 'scGMAAE', 'ADClust', 'scDeepCluster', 'scAce', 'CIDR']\n",
    "\n",
    "# CIDR SCCAF scGMAAE scVI Seurat ADClust scDeepCluster graph-sc DESC scAce"
   ]
  },
  {
   "cell_type": "code",
   "execution_count": 26,
   "id": "4d881625-ef9a-494e-bcad-9be3ae959ff1",
   "metadata": {},
   "outputs": [],
   "source": [
    "m_es = [1818.2, 1983.8, 3208, 3161.2, 5334.1, 5411.3, 5863.7, 6021.2, 6232.8, 7927.1]\n",
    "m_hpa = [1388.1, 1697.8, 2811.5, 2283.3, 4942, 5072.1, 5545.3, 5585.8, 5882.9, 7002.1]\n",
    "m_mk = [1477.6, 1693.6, 2086, 2092.7, 5528.5, 5313, 5887.6, 6108, 6311.6, 7847.7]\n",
    "m_hpb = [1281.8, 1680.6, 1970.4, 2394, 4940.6, 5169.1, 5719, 5690.1, 6099.3, 7681.6]\n",
    "m_hk = [1343.1, 2132.7, 3160.5, 4365.2, 5202.1, 5349.9, 6377.8, 6896.9, 6928.3, 13107.2]\n",
    "m_mh = [3514.3, 5069.1, 5168.5, 7413.8, 8751.7, 7585.3, 9221.4, 10129.2, 10435.9, 15667.2]\n",
    "m_tb = [5730.8, 8169.2, 8560, 11146.2, 5522.9, 9814.1, 13078.1, 14547.1, 15019.6, 34304]"
   ]
  },
  {
   "cell_type": "code",
   "execution_count": 27,
   "id": "73aac589-c6ef-4f08-a837-355aca77e321",
   "metadata": {},
   "outputs": [],
   "source": [
    "data2 = list(zip(m_es, m_hpa, m_mk, m_hpb, m_hk, m_mh, m_tb))\n",
    "t_df = pd.DataFrame(data2, columns=datasets, index=methods)"
   ]
  },
  {
   "cell_type": "code",
   "execution_count": 28,
   "id": "0d453bbe-7fdb-48f2-b464-ae5c8c858164",
   "metadata": {},
   "outputs": [
    {
     "data": {
      "text/plain": [
       "graph-sc          2364.842857\n",
       "SCCAF             3203.828571\n",
       "Seurat            3852.128571\n",
       "DESC              4693.771429\n",
       "scVI              5745.985714\n",
       "scGMAAE           6244.971429\n",
       "ADClust           7384.700000\n",
       "scDeepCluster     7854.042857\n",
       "scAce             8130.057143\n",
       "CIDR             13362.414286\n",
       "dtype: float64"
      ]
     },
     "execution_count": 28,
     "metadata": {},
     "output_type": "execute_result"
    }
   ],
   "source": [
    "t_df.mean(axis=1)"
   ]
  },
  {
   "cell_type": "code",
   "execution_count": 29,
   "id": "1836c8cb-95f5-4773-9c7c-96cf4dcedede",
   "metadata": {},
   "outputs": [],
   "source": [
    "plt.figure(figsize=(10, 6))\n",
    "\n",
    "plt.rcParams[\"font.family\"] = \"Arial\"\n",
    "plt.rcParams.update({'font.size': 22})\n",
    "plt.rc('legend', fontsize=15)\n",
    "\n",
    "for i in range(m):\n",
    "    y = t_df.iloc[:, i]\n",
    "    x = x_index\n",
    "    plt.plot(x, y, styles[i], markersize=8, label=datasets[i])\n",
    "\n",
    "plt.xticks(x, methods, rotation=30, family='Arial', fontsize=18, ha='right')\n",
    "plt.yticks(family='Arial', size=15)\n",
    "plt.legend(loc='upper left',framealpha=0.7)\n",
    "plt.ylabel(\"memory usage / MB\", family='Arial', size=20)\n",
    "plt.tight_layout()"
   ]
  },
  {
   "cell_type": "code",
   "execution_count": 30,
   "id": "af3a02a8-c7f1-483f-b214-606cd8ec3e82",
   "metadata": {},
   "outputs": [],
   "source": [
    "plt.savefig('Figures/FigureS11B.svg', dpi=300, format='svg', bbox_inches='tight')"
   ]
  },
  {
   "cell_type": "code",
   "execution_count": null,
   "id": "e3fea622-4054-41ae-9e19-d86356ac692a",
   "metadata": {},
   "outputs": [],
   "source": []
  }
 ],
 "metadata": {
  "kernelspec": {
   "display_name": "Python 3",
   "language": "python",
   "name": "python3"
  },
  "language_info": {
   "codemirror_mode": {
    "name": "ipython",
    "version": 3
   },
   "file_extension": ".py",
   "mimetype": "text/x-python",
   "name": "python",
   "nbconvert_exporter": "python",
   "pygments_lexer": "ipython3",
   "version": "3.8.8"
  }
 },
 "nbformat": 4,
 "nbformat_minor": 5
}
