{
 "cells": [
  {
   "cell_type": "code",
   "execution_count": 1,
   "id": "f9d1f285-d851-4f52-bd62-b4d4192853b6",
   "metadata": {},
   "outputs": [],
   "source": [
    "import pandas as pd\n",
    "import scanpy as sc\n",
    "import numpy as np\n",
    "import h5py\n",
    "\n",
    "import matplotlib\n",
    "import matplotlib.pyplot as plt\n",
    "matplotlib.use('Agg')\n",
    "from matplotlib.pyplot import plot,savefig\n",
    "from sklearn import metrics\n",
    "\n",
    "import warnings\n",
    "warnings.filterwarnings(\"ignore\")\n",
    "from read_count import read_data"
   ]
  },
  {
   "cell_type": "code",
   "execution_count": 2,
   "id": "8bc3549f-5255-49d8-b973-6a685046c441",
   "metadata": {},
   "outputs": [],
   "source": [
    "col = [\"#E64B35CC\", \"#0072B5CC\", \"#00A087CC\", \"#3C5488CC\", \"#F39B7FCC\", \"#F7DC05FF\", \"#FD7446E5\",\n",
    "       \"#8491B4CC\", \"#7E6148CC\", \"#B09C85CC\", \"#E18727CC\", \"#FFDC91E5\", \"#6A6599E5\", \"#9467BDB2\",\n",
    "       \"#FFFFFFFF\", \"#0000FFFF\", \"#FF0000FF\", \"#00FF00FF\", \"#000033FF\", \"#FF00B6FF\", \"#005300FF\", \"#FFD300FF\",\n",
    "       \"#009FFFFF\", \"#9A4D42FF\", \"#00FFBEFF\", \"#783FC1FF\", \"#1F9698FF\", \"#FFACFDFF\", \"#B1CC71FF\", \"#F1085CFF\",\n",
    "       \"#FE8F42FF\", \"#DD00FFFF\", \"#201A01FF\", \"#720055FF\", \"#766C95FF\", \"#02AD24FF\", \"#C8FF00FF\", \"#886C00FF\",\n",
    "       \"#FFB79FFF\", \"#858567FF\", \"#A10300FF\", \"#14F9FFFF\", \"#00479EFF\", \"#DC5E93FF\", \"#93D4FFFF\", \"#004CFFFF\"]"
   ]
  },
  {
   "cell_type": "code",
   "execution_count": 3,
   "id": "263f05ab-b2fc-4a8c-a740-fbb5a291021a",
   "metadata": {},
   "outputs": [],
   "source": [
    "def plot_cluster(df, data_name, phase, by, y_true, n, ax):\n",
    "    \n",
    "    \"\"\"\n",
    "        phase: 'split' or 'enhance'. If phase == 'split', using the results after splitting, else using the results after enhancement.\n",
    "        by: 'clusters' or 'labels'. If by == 'clusters', colored by cluster labels, else colored by true cell types.\n",
    "        n: n-th dataset in [Human pancreas, Human PBMC, Human kidney, Mouse ES, Mouse hypothalamus, Mouse kidney, Turtle brain]\n",
    "    \"\"\"\n",
    "    \n",
    "    if phase == 'split':\n",
    "        umap = umap_init_all[n]\n",
    "        y_pred = df['Clusters'][0]\n",
    "    \n",
    "    else :\n",
    "        umap = umap_last_all[n]\n",
    "        y_pred = df['Clusters'][1]\n",
    "    \n",
    "    y_pred = np.asarray(y_pred, dtype='int').squeeze()\n",
    "    K_pred = len(np.unique(y_pred))\n",
    "    \n",
    "    ari_pred = np.round(metrics.adjusted_rand_score(y_pred, y_true), 2)\n",
    "    nmi_pred = np.round(metrics.normalized_mutual_info_score(y_pred, y_true), 2)\n",
    "    \n",
    "    if by == 'clusters':\n",
    "        print('Datasets: {}_{}, ARI={}, NMI={}, k={}'.format(data_name, phase, ari_pred, nmi_pred, K_pred))\n",
    "        \n",
    "    adata = sc.AnnData(pd.DataFrame(np.random.rand(len(y_pred), 1)))\n",
    "    adata.obs['pred'] = y_pred\n",
    "    adata.obs['pred'] = adata.obs['pred'].astype(str).astype('category')\n",
    "    adata.obs['true'] = y_true\n",
    "    adata.obs['true'] = adata.obs['true'].astype(str).astype('category')\n",
    "\n",
    "    adata.obsm['X_umap'] = umap\n",
    "    \n",
    "    if by == 'clusters':\n",
    "        sc.pl.umap(adata, color=['pred'], ax=ax, show=False, legend_loc='None', size=8)\n",
    "        if phase == 'split':\n",
    "            ax.set_title('K={}'.format(K_pred), fontsize=15, family='Arial')\n",
    "        else:\n",
    "            ax.set_title('K={} ARI={}'.format(K_pred, ari_pred), fontsize=15, family='Arial')\n",
    "        ax.spines['right'].set_visible(False)\n",
    "        ax.spines['top'].set_visible(False)\n",
    "        \n",
    "    else:\n",
    "        sc.pl.umap(adata, color=['true'], ax=ax, show=False, legend_loc='None', palette=col, size=8)\n",
    "        ax.spines['right'].set_visible(False)\n",
    "        ax.spines['top'].set_visible(False)"
   ]
  },
  {
   "cell_type": "code",
   "execution_count": 5,
   "id": "d7704f69-f4dd-4273-b17e-177bf21e84e2",
   "metadata": {},
   "outputs": [],
   "source": [
    "data_mat = h5py.File('dataset/Human_p.h5')\n",
    "y_true_human = np.array(data_mat['Y'], dtype='int')\n",
    "data_mat.close()\n",
    "\n",
    "data_mat = h5py.File('dataset/Human_PBMC.h5')\n",
    "y_true_pbmc = np.array(data_mat['Y'], dtype='int')\n",
    "data_mat.close()\n",
    "\n",
    "data_mat = h5py.File('dataset/Human_k.h5')\n",
    "y_true_kidney = np.array(data_mat['Y'], dtype='int')\n",
    "data_mat.close()\n",
    "\n",
    "mat, obs, var, uns = read_data('dataset/Mouse_E.h5', sparsify=False, skip_exprs=False)\n",
    "x = np.array(mat.toarray())\n",
    "cell_name = np.array(obs[\"cell_type1\"])\n",
    "cell_type, y_true_klein = np.unique(cell_name, return_inverse=True)\n",
    "\n",
    "mat, obs, var, uns = read_data('dataset/Mouse_h.h5', sparsify=False, skip_exprs=False)\n",
    "x = np.array(mat.toarray())\n",
    "cell_name = np.array(obs[\"cell_type1\"])\n",
    "cell_type, y_true_chen_1 = np.unique(cell_name, return_inverse=True)\n",
    "\n",
    "adata = sc.AnnData(x)\n",
    "adata.obs['celltype'] = y_true_chen_1\n",
    "sc.pp.filter_genes(adata, min_cells=3)\n",
    "sc.pp.filter_cells(adata, min_genes=200)\n",
    "y_true_chen_2 = np.array(adata.obs['celltype']).squeeze()\n",
    "\n",
    "mat, obs, var, uns = read_data('dataset/Mouse_k.h5', sparsify=False, skip_exprs=False)\n",
    "x = np.array(mat.toarray())\n",
    "cell_name = np.array(obs[\"cell_type1\"])\n",
    "cell_type, y_true_adam = np.unique(cell_name, return_inverse=True)\n",
    "\n",
    "mat, obs, var, uns = read_data('dataset/Turtle_b.h5', sparsify=False, skip_exprs=False)\n",
    "x = np.array(mat.toarray())\n",
    "cell_name = np.array(obs[\"cell_type1\"])\n",
    "cell_type, y_true_turtle = np.unique(cell_name, return_inverse=True)"
   ]
  },
  {
   "cell_type": "code",
   "execution_count": 6,
   "id": "86f906be-0216-4de1-8336-6970a275ab4c",
   "metadata": {},
   "outputs": [],
   "source": [
    "fig = plt.figure(figsize=(22, 5))\n",
    "sub_figs = fig.subfigures(2, 1)\n",
    "axs = []\n",
    "\n",
    "for i, sub_fig in enumerate(sub_figs):\n",
    "    axs.append(sub_fig.subplots(1, 7))\n",
    "    \n",
    "axs = np.array(axs)"
   ]
  },
  {
   "cell_type": "markdown",
   "id": "48b06f8d-83d3-4e90-8ab1-11992a52fdb9",
   "metadata": {},
   "source": [
    "# Split"
   ]
  },
  {
   "cell_type": "code",
   "execution_count": 7,
   "id": "baa65223-89d9-46a9-bee5-402cdc31433f",
   "metadata": {},
   "outputs": [],
   "source": [
    "human_c = np.load('results/enhancement/scAce_enhance_CIDR_human.npz')\n",
    "pbmc_c = np.load('results/enhancement/scAce_enhance_CIDR_pbmc.npz')\n",
    "kidney_c = np.load('results/enhancement/scAce_enhance_CIDR_kidney.npz')\n",
    "klein_c = np.load('results/enhancement/scAce_enhance_CIDR_klein.npz')\n",
    "chen_c = np.load('results/enhancement/scAce_enhance_CIDR_chen.npz')\n",
    "adam_c = np.load('results/enhancement/scAce_enhance_CIDR_adam.npz')\n",
    "turtle_c = np.load('results/enhancement/scAce_enhance_CIDR_turtle.npz')"
   ]
  },
  {
   "cell_type": "code",
   "execution_count": null,
   "id": "0febc753-63a9-46df-ada5-f4e3ad869211",
   "metadata": {},
   "outputs": [],
   "source": [
    "datasets = [human_c, pbmc_c, kidney_c, klein_c, chen_c, adam_c, turtle_c]\n",
    "\n",
    "umap_init_all, umap_last_all = [], []\n",
    "for data in datasets:\n",
    "    adata_init = sc.AnnData(data['Embedding'][0])\n",
    "    sc.pp.neighbors(adata_init)\n",
    "    sc.tl.umap(adata_init, random_state=0)\n",
    "    umap_init_all.append(np.array(adata_init.obsm['X_umap']))\n",
    "    adata_last = sc.AnnData(data['Embedding'][1])\n",
    "    sc.pp.neighbors(adata_last)\n",
    "    sc.tl.umap(adata_last, random_state=0)\n",
    "    umap_last_all.append(np.array(adata_last.obsm['X_umap']))"
   ]
  },
  {
   "cell_type": "code",
   "execution_count": 9,
   "id": "6e492fbb-679c-4e07-9115-30e70820cafd",
   "metadata": {},
   "outputs": [],
   "source": [
    "umap_init_all = np.load(\"umap/umap_enhance_c_init.npz\")['UMAP']\n",
    "# np.savez(\"umap/umap_enhance_c_init.npz\", UMAP=umap_init_all)\n",
    "\n",
    "umap_last_all = np.load(\"umap/umap_enhance_c_last.npz\")['UMAP']\n",
    "# np.savez(\"umap/umap_enhance_c_last.npz\", UMAP=umap_last_all)"
   ]
  },
  {
   "cell_type": "code",
   "execution_count": 10,
   "id": "85e2d6b1-6c7d-4a38-8d1d-62a17b2756ce",
   "metadata": {},
   "outputs": [
    {
     "name": "stdout",
     "output_type": "stream",
     "text": [
      "Datasets: Human pancreas_split, ARI=0.56, NMI=0.65, k=5\n",
      "Datasets: Human PBMC_split, ARI=0.64, NMI=0.72, k=4\n",
      "Datasets: Human kidney_split, ARI=0.26, NMI=0.45, k=4\n",
      "Datasets: Mouse ES_split, ARI=0.68, NMI=0.66, k=10\n",
      "Datasets: Mouse kidney_split, ARI=0.36, NMI=0.43, k=7\n",
      "Datasets: Mouse hypothalamus_split, ARI=0.05, NMI=0.12, k=12\n",
      "Datasets: Turtle brain_split, ARI=0.48, NMI=0.63, k=4\n"
     ]
    }
   ],
   "source": [
    "plot_cluster(human_c, 'Human pancreas', 'split', 'clusters', y_true_human, 0, axs[0][0])\n",
    "plot_cluster(pbmc_c, 'Human PBMC', 'split', 'clusters', y_true_pbmc, 1, axs[0][1])\n",
    "plot_cluster(kidney_c, 'Human kidney', 'split', 'clusters', y_true_kidney, 2, axs[0][2])\n",
    "plot_cluster(klein_c, 'Mouse ES', 'split', 'clusters', y_true_klein, 3, axs[0][3])\n",
    "plot_cluster(chen_c, 'Mouse kidney', 'split', 'clusters', y_true_chen_2, 4, axs[0][4])\n",
    "plot_cluster(adam_c, 'Mouse hypothalamus', 'split', 'clusters', y_true_adam, 5, axs[0][5])\n",
    "plot_cluster(turtle_c, 'Turtle brain', 'split', 'clusters', y_true_turtle, 6, axs[0][6])"
   ]
  },
  {
   "cell_type": "code",
   "execution_count": 11,
   "id": "42aa6c8f-56fe-4ed7-967f-956fbb3dac2a",
   "metadata": {},
   "outputs": [],
   "source": [
    "plot_cluster(human_c, 'Human pancreas', 'split', 'labels', y_true_human, 0, axs[1][0])\n",
    "plot_cluster(pbmc_c, 'Human PBMC', 'split', 'labels', y_true_pbmc, 1, axs[1][1])\n",
    "plot_cluster(kidney_c, 'Human kidney', 'split', 'labels', y_true_kidney, 2, axs[1][2])\n",
    "plot_cluster(klein_c, 'Mouse ES', 'split', 'labels', y_true_klein, 3, axs[1][3])\n",
    "plot_cluster(chen_c, 'Mouse kidney', 'split', 'labels', y_true_chen_2, 4, axs[1][4])\n",
    "plot_cluster(adam_c, 'Mouse hypothalamus', 'split', 'labels', y_true_adam, 5, axs[1][5])\n",
    "plot_cluster(turtle_c, 'Turtle brain', 'split', 'labels', y_true_turtle, 6, axs[1][6])"
   ]
  },
  {
   "cell_type": "code",
   "execution_count": 12,
   "id": "b2d2d473-c3dd-4163-bb1e-41f72a7d3b0e",
   "metadata": {},
   "outputs": [
    {
     "data": {
      "text/plain": [
       "<Figure size 2200x500 with 14 Axes>"
      ]
     },
     "execution_count": 12,
     "metadata": {},
     "output_type": "execute_result"
    }
   ],
   "source": [
    "fig"
   ]
  },
  {
   "cell_type": "code",
   "execution_count": 13,
   "id": "3544149c-2106-4aa6-b4fc-65addbde3b0c",
   "metadata": {},
   "outputs": [],
   "source": [
    "plt.savefig('Figures/FigureS10A.svg', dpi=300, format='svg', bbox_inches='tight')"
   ]
  },
  {
   "cell_type": "markdown",
   "id": "c723f2ce-65ef-4957-a5ca-26b60549b4d9",
   "metadata": {},
   "source": [
    "# Enhance"
   ]
  },
  {
   "cell_type": "code",
   "execution_count": 14,
   "id": "321ecc28-cd98-43b1-8a92-d23603a5de52",
   "metadata": {},
   "outputs": [],
   "source": [
    "fig = plt.figure(figsize=(22, 5))\n",
    "sub_figs = fig.subfigures(2, 1)\n",
    "axs = []\n",
    "\n",
    "for i, sub_fig in enumerate(sub_figs):\n",
    "    axs.append(sub_fig.subplots(1, 7))\n",
    "\n",
    "axs = np.array(axs)"
   ]
  },
  {
   "cell_type": "code",
   "execution_count": 15,
   "id": "bb4f251a-9f67-4b7d-ac59-d4b03d521928",
   "metadata": {},
   "outputs": [
    {
     "name": "stdout",
     "output_type": "stream",
     "text": [
      "Datasets: Human pancreas_enhance, ARI=0.91, NMI=0.87, k=5\n",
      "Datasets: Human PBMC_enhance, ARI=0.67, NMI=0.74, k=4\n",
      "Datasets: Human kidney_enhance, ARI=0.38, NMI=0.54, k=4\n",
      "Datasets: Mouse ES_enhance, ARI=0.98, NMI=0.96, k=4\n",
      "Datasets: Mouse kidney_enhance, ARI=0.57, NMI=0.64, k=4\n",
      "Datasets: Mouse hypothalamus_enhance, ARI=0.23, NMI=0.48, k=4\n",
      "Datasets: Turtle brain_enhance, ARI=0.51, NMI=0.64, k=4\n"
     ]
    }
   ],
   "source": [
    "plot_cluster(human_c, 'Human pancreas', 'enhance', 'clusters', y_true_human, 0, axs[0][0])\n",
    "plot_cluster(pbmc_c, 'Human PBMC', 'enhance', 'clusters', y_true_pbmc, 1, axs[0][1])\n",
    "plot_cluster(kidney_c, 'Human kidney', 'enhance', 'clusters', y_true_kidney, 2, axs[0][2])\n",
    "plot_cluster(klein_c, 'Mouse ES', 'enhance', 'clusters', y_true_klein, 3, axs[0][3])\n",
    "plot_cluster(chen_c, 'Mouse kidney', 'enhance', 'clusters', y_true_chen_2, 4, axs[0][4])\n",
    "plot_cluster(adam_c, 'Mouse hypothalamus', 'enhance', 'clusters', y_true_adam, 5, axs[0][5])\n",
    "plot_cluster(turtle_c, 'Turtle brain', 'enhance', 'clusters', y_true_turtle, 6, axs[0][6])"
   ]
  },
  {
   "cell_type": "code",
   "execution_count": 16,
   "id": "3ae08ec7-82b0-49a2-ab2f-a86c32059a6f",
   "metadata": {},
   "outputs": [],
   "source": [
    "plot_cluster(human_c, 'Human pancreas', 'enhance', 'labels', y_true_human, 0, axs[1][0])\n",
    "plot_cluster(pbmc_c, 'Human PBMC', 'enhance', 'labels', y_true_pbmc, 1, axs[1][1])\n",
    "plot_cluster(kidney_c, 'Human kidney', 'enhance', 'labels', y_true_kidney, 2, axs[1][2])\n",
    "plot_cluster(klein_c, 'Mouse ES', 'enhance', 'labels', y_true_klein, 3, axs[1][3])\n",
    "plot_cluster(chen_c, 'Mouse kidney', 'enhance', 'labels', y_true_chen_2, 4, axs[1][4])\n",
    "plot_cluster(adam_c, 'Mouse hypothalamus', 'enhance', 'labels', y_true_adam, 5, axs[1][5])\n",
    "plot_cluster(turtle_c, 'Turtle brain', 'enhance', 'labels', y_true_turtle, 6, axs[1][6])"
   ]
  },
  {
   "cell_type": "code",
   "execution_count": 17,
   "id": "42797add-0511-496a-9d10-acf381aeed96",
   "metadata": {},
   "outputs": [
    {
     "data": {
      "text/plain": [
       "<Figure size 2200x500 with 14 Axes>"
      ]
     },
     "execution_count": 17,
     "metadata": {},
     "output_type": "execute_result"
    }
   ],
   "source": [
    "fig"
   ]
  },
  {
   "cell_type": "code",
   "execution_count": 18,
   "id": "7cd48f3a-ee8e-4627-99af-d4fbaf1ae19b",
   "metadata": {},
   "outputs": [],
   "source": [
    "plt.savefig('Figures/FigureS10B.svg', dpi=300, format='svg', bbox_inches='tight')"
   ]
  },
  {
   "cell_type": "code",
   "execution_count": null,
   "id": "80eb2bc2-d25f-4e5d-9acb-5860e8835f28",
   "metadata": {},
   "outputs": [],
   "source": []
  }
 ],
 "metadata": {
  "kernelspec": {
   "display_name": "Python 3",
   "language": "python",
   "name": "python3"
  },
  "language_info": {
   "codemirror_mode": {
    "name": "ipython",
    "version": 3
   },
   "file_extension": ".py",
   "mimetype": "text/x-python",
   "name": "python",
   "nbconvert_exporter": "python",
   "pygments_lexer": "ipython3",
   "version": "3.8.8"
  }
 },
 "nbformat": 4,
 "nbformat_minor": 5
}