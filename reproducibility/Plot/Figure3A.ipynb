{
 "cells": [
  {
   "cell_type": "code",
   "execution_count": 1,
   "id": "180a8b2f-e1b8-4287-bc66-ad7739038fe5",
   "metadata": {},
   "outputs": [],
   "source": [
    "import scanpy as sc\n",
    "import pandas as pd\n",
    "import numpy as np\n",
    "import matplotlib\n",
    "import matplotlib.pyplot as plt\n",
    "matplotlib.use('Agg')\n",
    "from matplotlib.pyplot import plot,savefig\n",
    "from sklearn import metrics\n",
    "import seaborn as sns"
   ]
  },
  {
   "cell_type": "code",
   "execution_count": 2,
   "id": "03bfd3d1-a7ce-47bf-95e5-43e27cf9bebf",
   "metadata": {},
   "outputs": [],
   "source": [
    "seurat = []\n",
    "seurat.append(pd.read_csv('results/default/Human/Seurat_wo_sample.csv', header=0, index_col=0))\n",
    "seurat.append(pd.read_csv('results/default/PBMC/Seurat_wo_sample.csv', header=0, index_col=0))\n",
    "seurat.append(pd.read_csv('results/default/Kidney/Seurat_wo_sample.csv', header=0, index_col=0))\n",
    "seurat.append(pd.read_csv('results/default/Klein/Seurat_wo_sample.csv', header=0, index_col=0))\n",
    "seurat.append(pd.read_csv('results/default/Chen/Seurat_wo_sample.csv', header=0, index_col=0))\n",
    "seurat.append(pd.read_csv('results/default/Adam/Seurat_wo_sample.csv', header=0, index_col=0))\n",
    "seurat.append(pd.read_csv('results/default/Turtle/Seurat_wo_sample.csv', header=0, index_col=0))\n",
    "\n",
    "cidr = []\n",
    "cidr.append(pd.read_csv('results/default/Human/CIDR_wo_sample.csv', header=0, index_col=0))\n",
    "cidr.append(pd.read_csv('results/default/PBMC/CIDR_wo_sample.csv', header=0, index_col=0))\n",
    "cidr.append(pd.read_csv('results/default/Kidney/CIDR_wo_sample.csv', header=0, index_col=0))\n",
    "cidr.append(pd.read_csv('results/default/Klein/CIDR_wo_sample.csv', header=0, index_col=0))\n",
    "cidr.append(pd.read_csv('results/default/Chen/CIDR_wo_sample.csv', header=0, index_col=0))\n",
    "cidr.append(pd.read_csv('results/default/Adam/CIDR_wo_sample.csv', header=0, index_col=0))\n",
    "cidr.append(pd.read_csv('results/default/Turtle/CIDR_wo_sample.csv', header=0, index_col=0))\n",
    "\n",
    "scd = []\n",
    "scd.append(np.load('results/default/Human/scDeepCluster_wo_sample.npz'))\n",
    "scd.append(np.load('results/default/PBMC/scDeepCluster_wo_sample.npz'))\n",
    "scd.append(np.load('results/default/Kidney/scDeepCluster_wo_sample.npz'))\n",
    "scd.append(np.load('results/default/Klein/scDeepCluster_wo_sample.npz'))\n",
    "scd.append(np.load('results/default/Chen/scDeepCluster_wo_sample.npz'))\n",
    "scd.append(np.load('results/default/Adam/scDeepCluster_wo_sample.npz'))\n",
    "scd.append(np.load('results/default/Turtle/scDeepCluster_wo_sample.npz'))\n",
    "\n",
    "desc = []\n",
    "desc.append(np.load('results/default/Human/DESC_wo_sample.npz'))\n",
    "desc.append(np.load('results/default/PBMC/DESC_wo_sample.npz'))\n",
    "desc.append(np.load('results/default/Kidney/DESC_wo_sample.npz'))\n",
    "desc.append(np.load('results/default/Klein/DESC_wo_sample.npz'))\n",
    "desc.append(np.load('results/default/Chen/DESC_wo_sample.npz'))\n",
    "desc.append(np.load('results/default/Adam/DESC_wo_sample.npz'))\n",
    "desc.append(np.load('results/default/Turtle/DESC_wo_sample.npz'))\n",
    "\n",
    "graphsc = []\n",
    "graphsc.append(np.load('results/default/Human/graphsc_wo_sample.npz'))\n",
    "graphsc.append(np.load('results/default/PBMC/graphsc_wo_sample.npz'))\n",
    "graphsc.append(np.load('results/default/Kidney/graphsc_wo_sample.npz'))\n",
    "graphsc.append(np.load('results/default/Klein/graphsc_wo_sample.npz'))\n",
    "graphsc.append(np.load('results/default/Chen/graphsc_wo_sample.npz'))\n",
    "graphsc.append(np.load('results/default/Adam/graphsc_wo_sample.npz'))\n",
    "graphsc.append(np.load('results/default/Turtle/graphsc_wo_sample.npz'))\n",
    "\n",
    "sccaf = []\n",
    "sccaf.append(np.load('results/default/Human/SCCAF_wo_sample.npz'))\n",
    "sccaf.append(np.load('results/default/PBMC/SCCAF_wo_sample.npz'))\n",
    "sccaf.append(np.load('results/default/Kidney/SCCAF_wo_sample.npz'))\n",
    "sccaf.append(np.load('results/default/Klein/SCCAF_wo_sample.npz'))\n",
    "sccaf.append(np.load('results/default/Chen/SCCAF_wo_sample.npz'))\n",
    "sccaf.append(np.load('results/default/Adam/SCCAF_wo_sample.npz'))\n",
    "sccaf.append(np.load('results/default/Turtle/SCCAF_wo_sample.npz'))\n",
    "\n",
    "adclust = []\n",
    "adclust.append(np.load('results/default/Human/ADClust_wo_sample.npz'))\n",
    "adclust.append(np.load('results/default/PBMC/ADClust_wo_sample.npz'))\n",
    "adclust.append(np.load('results/default/Kidney/ADClust_wo_sample.npz'))\n",
    "adclust.append(np.load('results/default/Klein/ADClust_wo_sample.npz'))\n",
    "adclust.append(np.load('results/default/Chen/ADClust_wo_sample.npz'))\n",
    "adclust.append(np.load('results/default/Adam/ADClust_wo_sample.npz'))\n",
    "adclust.append(np.load('results/default/Turtle/ADClust_wo_sample.npz'))\n",
    "\n",
    "scvi = []\n",
    "scvi.append(np.load('results/default/Human/scVI_wo_sample.npz'))\n",
    "scvi.append(np.load('results/default/PBMC/scVI_wo_sample.npz'))\n",
    "scvi.append(np.load('results/default/Kidney/scVI_wo_sample.npz'))\n",
    "scvi.append(np.load('results/default/Klein/scVI_wo_sample.npz'))\n",
    "scvi.append(np.load('results/default/Chen/scVI_wo_sample.npz'))\n",
    "scvi.append(np.load('results/default/Adam/scVI_wo_sample.npz'))\n",
    "scvi.append(np.load('results/default/Turtle/scVI_wo_sample.npz'))\n",
    "\n",
    "scgmaae = []\n",
    "scgmaae.append(np.load('results/default/Human/scGMAAE_wo_sample.npz'))\n",
    "scgmaae.append(np.load('results/default/PBMC/scGMAAE_wo_sample.npz'))\n",
    "scgmaae.append(np.load('results/default/Kidney/scGMAAE_wo_sample.npz'))\n",
    "scgmaae.append(np.load('results/default/Klein/scGMAAE_wo_sample.npz'))\n",
    "scgmaae.append(np.load('results/default/Chen/scGMAAE_wo_sample.npz'))\n",
    "scgmaae.append(np.load('results/default/Adam/scGMAAE_wo_sample.npz'))\n",
    "scgmaae.append(np.load('results/default/Turtle/scGMAAE_wo_sample.npz'))\n",
    "\n",
    "scace = []\n",
    "scace.append(np.load('results/default/Human/scAce_wo_sample.npz'))\n",
    "scace.append(np.load('results/default/PBMC/scAce_wo_sample.npz'))\n",
    "scace.append(np.load('results/default/Kidney/scAce_wo_sample.npz'))\n",
    "scace.append(np.load('results/default/Klein/scAce_wo_sample.npz'))\n",
    "scace.append(np.load('results/default/Chen/scAce_wo_sample.npz'))\n",
    "scace.append(np.load('results/default/Adam/scAce_wo_sample.npz'))\n",
    "scace.append(np.load('results/default/Turtle/scAce_wo_sample.npz'))"
   ]
  },
  {
   "cell_type": "code",
   "execution_count": 3,
   "id": "4f8cb4d6-2914-404f-a302-aef7e43298c6",
   "metadata": {},
   "outputs": [],
   "source": [
    "labels = 'CIDR', 'SCCAF', 'Seurat', 'scGMAAE', 'scDeepCluster', 'scVI', 'ADClust', 'DESC', 'graph-sc', 'scAce'\n",
    "datasets = 'Human pancreas', 'Human PBMC', 'Human kidney', 'Mouse ES', 'Mouse hypothalamus', 'Mouse kidney', 'Turtle brain'"
   ]
  },
  {
   "cell_type": "code",
   "execution_count": 4,
   "id": "e2719d54-30ff-4d7e-a17d-2020ff1fbb4c",
   "metadata": {},
   "outputs": [],
   "source": [
    "def plot_heatmap(metric, ax):\n",
    "    \n",
    "    \"\"\"\n",
    "        metric: 'ARI' or 'NMI'\n",
    "    \"\"\"\n",
    "    \n",
    "    ax = plt.subplot(ax)\n",
    "    \n",
    "    metric_all = pd.DataFrame()\n",
    "    for i in range(len(datasets)):\n",
    "\n",
    "        metric_seurat = np.float32(seurat[i][metric][1])\n",
    "        metric_cidr = np.float32(cidr[i][metric][1])\n",
    "        metric_scd = np.float32(scd[i][metric])\n",
    "        metric_desc = np.float32(desc[i][metric])\n",
    "        metric_scvi = np.float32(scvi[i][metric])\n",
    "        metric_scgmaae = np.float32(scgmaae[i][metric])\n",
    "        metric_graphsc = np.float32(graphsc[i][metric])\n",
    "        metric_sccaf = np.float32(sccaf[i][metric])\n",
    "        metric_adclust = np.float32(adclust[i][metric])\n",
    "        metric_scace = np.float32(scace[i][metric])\n",
    "\n",
    "        metric_i = [metric_cidr, metric_sccaf, metric_seurat, metric_scgmaae, metric_scd, metric_scvi, metric_adclust, metric_desc, metric_graphsc, metric_scace]\n",
    "        metric_all[datasets[i]] = metric_i\n",
    "\n",
    "    metric_all.index = labels\n",
    "    sns.heatmap(metric_all.T, cmap=\"GnBu\", linewidths=0.5, linecolor=\"white\")\n",
    "    plt.xticks(family='Arial')\n",
    "    plt.yticks(family='Arial')\n",
    "    ax.set_title(metric, fontsize=12, family='Arial')\n",
    "    print(metric, metric_all.T)"
   ]
  },
  {
   "cell_type": "code",
   "execution_count": 5,
   "id": "72f15b96-176a-404f-b4ca-69c80f7962b2",
   "metadata": {},
   "outputs": [
    {
     "name": "stdout",
     "output_type": "stream",
     "text": [
      "ARI                         CIDR   SCCAF    Seurat   scGMAAE  scDeepCluster  \\\n",
      "Human pancreas      0.555879  0.5378  0.566009  0.473942        0.57345   \n",
      "Human PBMC          0.641399  0.6379  0.585110  0.596242        0.78709   \n",
      "Human kidney        0.260648  0.3679  0.400447  0.572164        0.48028   \n",
      "Mouse ES            0.683336  0.8229  0.516420  0.783298        0.49484   \n",
      "Mouse hypothalamus  0.357766  0.6010  0.884946  0.488482        0.60879   \n",
      "Mouse kidney        0.052661  0.5630  0.643229  0.675913        0.62795   \n",
      "Turtle brain        0.476260  0.3878  0.562095  0.482943        0.70010   \n",
      "\n",
      "                      scVI   ADClust    DESC  graph-sc    scAce  \n",
      "Human pancreas      0.7049  0.791016  0.5731    0.7056  0.89683  \n",
      "Human PBMC          0.5151  0.414550  0.6349    0.6676  0.81158  \n",
      "Human kidney        0.5058  0.458880  0.5525    0.6762  0.64745  \n",
      "Mouse ES            0.6247  0.729961  0.9002    0.7784  0.89847  \n",
      "Mouse hypothalamus  0.5716  0.781831  0.6624    0.4015  0.84446  \n",
      "Mouse kidney        0.6660  0.466131  0.6361    0.5977  0.93110  \n",
      "Turtle brain        0.5013  0.615755  0.6809    0.5141  0.74454  \n"
     ]
    }
   ],
   "source": [
    "plt.figure(figsize=(5, 2))\n",
    "plot_heatmap('ARI', 111)"
   ]
  },
  {
   "cell_type": "code",
   "execution_count": 6,
   "id": "19fc6868-3495-49b4-91ca-6a858f899497",
   "metadata": {},
   "outputs": [],
   "source": [
    "plt.savefig('Figures/Figure3A_ARI.svg', dpi=300, format='svg', bbox_inches='tight')"
   ]
  },
  {
   "cell_type": "code",
   "execution_count": 7,
   "id": "1cb756b7-2bf7-4636-996d-369d0db80d8b",
   "metadata": {},
   "outputs": [
    {
     "name": "stdout",
     "output_type": "stream",
     "text": [
      "NMI                         CIDR   SCCAF    Seurat   scGMAAE  scDeepCluster  \\\n",
      "Human pancreas      0.597836  0.7652  0.682942  0.583984        0.74203   \n",
      "Human PBMC          0.613228  0.7262  0.654853  0.669710        0.79445   \n",
      "Human kidney        0.363245  0.7041  0.570926  0.647895        0.65580   \n",
      "Mouse ES            0.588489  0.8579  0.582398  0.734055        0.62892   \n",
      "Mouse hypothalamus  0.366758  0.7746  0.760391  0.685710        0.74110   \n",
      "Mouse kidney        0.115800  0.7448  0.701045  0.750475        0.73318   \n",
      "Turtle brain        0.470086  0.7354  0.671298  0.675221        0.75751   \n",
      "\n",
      "                      scVI   ADClust    DESC  graph-sc    scAce  \n",
      "Human pancreas      0.8322  0.763781  0.5731    0.8214  0.87773  \n",
      "Human PBMC          0.6698  0.625203  0.6349    0.7421  0.81949  \n",
      "Human kidney        0.7242  0.642895  0.5525    0.7882  0.76523  \n",
      "Mouse ES            0.7429  0.693817  0.9002    0.7601  0.90283  \n",
      "Mouse hypothalamus  0.7538  0.775420  0.6624    0.7262  0.79168  \n",
      "Mouse kidney        0.7980  0.604233  0.6361    0.7134  0.91024  \n",
      "Turtle brain        0.7521  0.729407  0.6809    0.7246  0.72513  \n"
     ]
    }
   ],
   "source": [
    "plt.figure(figsize=(5, 2))\n",
    "plot_heatmap('NMI', 111)"
   ]
  },
  {
   "cell_type": "code",
   "execution_count": 8,
   "id": "e453f5a7-cad7-4200-b0b7-f2066aa4869b",
   "metadata": {},
   "outputs": [],
   "source": [
    "plt.savefig('Figures/Figure3A_NMI.svg', dpi=300, format='svg', bbox_inches='tight')"
   ]
  },
  {
   "cell_type": "code",
   "execution_count": null,
   "id": "4436abc9-9368-4ecc-9f2d-30ec8979b645",
   "metadata": {},
   "outputs": [],
   "source": []
  }
 ],
 "metadata": {
  "kernelspec": {
   "display_name": "Python 3",
   "language": "python",
   "name": "python3"
  },
  "language_info": {
   "codemirror_mode": {
    "name": "ipython",
    "version": 3
   },
   "file_extension": ".py",
   "mimetype": "text/x-python",
   "name": "python",
   "nbconvert_exporter": "python",
   "pygments_lexer": "ipython3",
   "version": "3.8.8"
  }
 },
 "nbformat": 4,
 "nbformat_minor": 5
}
