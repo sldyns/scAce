{
 "cells": [
  {
   "cell_type": "code",
   "execution_count": 1,
   "id": "fefbb8ba-d9da-43bc-b389-14eaf4ca0620",
   "metadata": {},
   "outputs": [],
   "source": [
    "import scanpy as sc\n",
    "import pandas as pd\n",
    "import numpy as np\n",
    "import matplotlib\n",
    "import matplotlib.pyplot as plt\n",
    "matplotlib.use('Agg')\n",
    "from matplotlib.pyplot import plot,savefig, MultipleLocator\n",
    "from sklearn import metrics"
   ]
  },
  {
   "cell_type": "code",
   "execution_count": 2,
   "id": "4da3c8db-c168-4272-93b2-41dedec5ded1",
   "metadata": {},
   "outputs": [],
   "source": [
    "seurat = []\n",
    "seurat.append(pd.read_csv('results/default/Human/Seurat_with_sample.csv', header=0, index_col=0))\n",
    "seurat.append(pd.read_csv('results/default/PBMC/Seurat_with_sample.csv', header=0, index_col=0))\n",
    "seurat.append(pd.read_csv('results/default/Kidney/Seurat_with_sample.csv', header=0, index_col=0))\n",
    "seurat.append(pd.read_csv('results/default/Klein/Seurat_with_sample.csv', header=0, index_col=0))\n",
    "seurat.append(pd.read_csv('results/default/Chen/Seurat_with_sample.csv', header=0, index_col=0))\n",
    "seurat.append(pd.read_csv('results/default/Adam/Seurat_with_sample.csv', header=0, index_col=0))\n",
    "seurat.append(pd.read_csv('results/default/Turtle/Seurat_with_sample.csv', header=0, index_col=0))"
   ]
  },
  {
   "cell_type": "code",
   "execution_count": 3,
   "id": "cb48ff02-13fe-4ac5-89cc-58dc46b1e3d6",
   "metadata": {},
   "outputs": [],
   "source": [
    "cidr = []\n",
    "cidr.append(pd.read_csv('results/default/Human/CIDR_with_sample.csv', header=0, index_col=0))\n",
    "cidr.append(pd.read_csv('results/default/PBMC/CIDR_with_sample.csv', header=0, index_col=0))\n",
    "cidr.append(pd.read_csv('results/default/Kidney/CIDR_with_sample.csv', header=0, index_col=0))\n",
    "cidr.append(pd.read_csv('results/default/Klein/CIDR_with_sample.csv', header=0, index_col=0))\n",
    "cidr.append(pd.read_csv('results/default/Chen/CIDR_with_sample.csv', header=0, index_col=0))\n",
    "cidr.append(pd.read_csv('results/default/Adam/CIDR_with_sample.csv', header=0, index_col=0))\n",
    "cidr.append(pd.read_csv('results/default/Turtle/CIDR_with_sample.csv', header=0, index_col=0))"
   ]
  },
  {
   "cell_type": "code",
   "execution_count": 4,
   "id": "7ac12176-34c8-4307-82f5-ec2aad6494d7",
   "metadata": {},
   "outputs": [],
   "source": [
    "scd = []\n",
    "scd.append(np.load('results/default/Human/scDeepCluster_with_sample.npz'))\n",
    "scd.append(np.load('results/default/PBMC/scDeepCluster_with_sample.npz'))\n",
    "scd.append(np.load('results/default/Kidney/scDeepCluster_with_sample.npz'))\n",
    "scd.append(np.load('results/default/Klein/scDeepCluster_with_sample.npz'))\n",
    "scd.append(np.load('results/default/Chen/scDeepCluster_with_sample.npz'))\n",
    "scd.append(np.load('results/default/Adam/scDeepCluster_with_sample.npz'))\n",
    "scd.append(np.load('results/default/Turtle/scDeepCluster_with_sample.npz'))"
   ]
  },
  {
   "cell_type": "code",
   "execution_count": 5,
   "id": "10c9c581-deae-4ce4-9c9e-6a0612e41624",
   "metadata": {},
   "outputs": [],
   "source": [
    "desc = []\n",
    "desc.append(np.load('results/default/Human/DESC_with_sample.npz'))\n",
    "desc.append(np.load('results/default/PBMC/DESC_with_sample.npz'))\n",
    "desc.append(np.load('results/default/Kidney/DESC_with_sample.npz'))\n",
    "desc.append(np.load('results/default/Klein/DESC_with_sample.npz'))\n",
    "desc.append(np.load('results/default/Chen/DESC_with_sample.npz'))\n",
    "desc.append(np.load('results/default/Adam/DESC_with_sample.npz'))\n",
    "desc.append(np.load('results/default/Turtle/DESC_with_sample.npz'))"
   ]
  },
  {
   "cell_type": "code",
   "execution_count": 6,
   "id": "8f1f7f69-0f36-4db1-bc62-5aa3592ecc3f",
   "metadata": {},
   "outputs": [],
   "source": [
    "graphsc = []\n",
    "graphsc.append(np.load('results/default/Human/graphsc_with_sample.npz'))\n",
    "graphsc.append(np.load('results/default/PBMC/graphsc_with_sample.npz'))\n",
    "graphsc.append(np.load('results/default/Kidney/graphsc_with_sample.npz'))\n",
    "graphsc.append(np.load('results/default/Klein/graphsc_with_sample.npz'))\n",
    "graphsc.append(np.load('results/default/Chen/graphsc_with_sample.npz'))\n",
    "graphsc.append(np.load('results/default/Adam/graphsc_with_sample.npz'))\n",
    "graphsc.append(np.load('results/default/Turtle/graphsc_with_sample.npz'))"
   ]
  },
  {
   "cell_type": "code",
   "execution_count": 7,
   "id": "499db6f5-6b2e-4492-aa44-b00657624552",
   "metadata": {},
   "outputs": [],
   "source": [
    "sccaf = []\n",
    "sccaf.append(np.load('results/default/Human/SCCAF_with_sample.npz'))\n",
    "sccaf.append(np.load('results/default/PBMC/SCCAF_with_sample.npz'))\n",
    "sccaf.append(np.load('results/default/Kidney/SCCAF_with_sample.npz'))\n",
    "sccaf.append(np.load('results/default/Klein/SCCAF_with_sample.npz'))\n",
    "sccaf.append(np.load('results/default/Chen/SCCAF_with_sample.npz'))\n",
    "sccaf.append(np.load('results/default/Adam/SCCAF_with_sample.npz'))\n",
    "sccaf.append(np.load('results/default/Turtle/SCCAF_with_sample.npz'))"
   ]
  },
  {
   "cell_type": "code",
   "execution_count": 8,
   "id": "23bf4606-02fa-4051-99b6-99a53dee426f",
   "metadata": {},
   "outputs": [],
   "source": [
    "adclust = []\n",
    "adclust.append(np.load('results/default/Human/ADClust_with_sample.npz'))\n",
    "adclust.append(np.load('results/default/PBMC/ADClust_with_sample.npz'))\n",
    "adclust.append(np.load('results/default/Kidney/ADClust_with_sample.npz'))\n",
    "adclust.append(np.load('results/default/Klein/ADClust_with_sample.npz'))\n",
    "adclust.append(np.load('results/default/Chen/ADClust_with_sample.npz'))\n",
    "adclust.append(np.load('results/default/Adam/ADClust_with_sample.npz'))\n",
    "adclust.append(np.load('results/default/Turtle/ADClust_with_sample.npz'))"
   ]
  },
  {
   "cell_type": "code",
   "execution_count": 9,
   "id": "5d71a24d-cf44-4998-b8a9-aac6b7d2e878",
   "metadata": {},
   "outputs": [],
   "source": [
    "scvi = []\n",
    "scvi.append(np.load('results/default/Human/scVI_with_sample.npz'))\n",
    "scvi.append(np.load('results/default/PBMC/scVI_with_sample.npz'))\n",
    "scvi.append(np.load('results/default/Kidney/scVI_with_sample.npz'))\n",
    "scvi.append(np.load('results/default/Klein/scVI_with_sample.npz'))\n",
    "scvi.append(np.load('results/default/Chen/scVI_with_sample.npz'))\n",
    "scvi.append(np.load('results/default/Adam/scVI_with_sample.npz'))\n",
    "scvi.append(np.load('results/default/Turtle/scVI_with_sample.npz'))"
   ]
  },
  {
   "cell_type": "code",
   "execution_count": 10,
   "id": "34c66ecf-06e6-4261-8225-42f0efd1973b",
   "metadata": {},
   "outputs": [],
   "source": [
    "scgmaae = []\n",
    "scgmaae.append(np.load('results/default/Human/scGMAAE_with_sample.npz'))\n",
    "scgmaae.append(np.load('results/default/PBMC/scGMAAE_with_sample.npz'))\n",
    "scgmaae.append(np.load('results/default/Kidney/scGMAAE_with_sample.npz'))\n",
    "scgmaae.append(np.load('results/default/Klein/scGMAAE_with_sample.npz'))\n",
    "scgmaae.append(np.load('results/default/Chen/scGMAAE_with_sample.npz'))\n",
    "scgmaae.append(np.load('results/default/Adam/scGMAAE_with_sample.npz'))\n",
    "scgmaae.append(np.load('results/default/Turtle/scGMAAE_with_sample.npz'))"
   ]
  },
  {
   "cell_type": "code",
   "execution_count": 11,
   "id": "e68d5951-6c15-4c0e-9a02-3aa8ab343f76",
   "metadata": {},
   "outputs": [],
   "source": [
    "scace = []\n",
    "scace.append(np.load('results/default/Human/scAce_with_sample.npz'))\n",
    "scace.append(np.load('results/default/PBMC/scAce_with_sample.npz'))\n",
    "scace.append(np.load('results/default/Kidney/scAce_with_sample.npz'))\n",
    "scace.append(np.load('results/default/Klein/scAce_with_sample.npz'))\n",
    "scace.append(np.load('results/default/Chen/scAce_with_sample.npz'))\n",
    "scace.append(np.load('results/default/Adam/scAce_with_sample.npz'))\n",
    "scace.append(np.load('results/default/Turtle/scAce_with_sample.npz'))"
   ]
  },
  {
   "cell_type": "code",
   "execution_count": 12,
   "id": "0d163e5b-074f-4d1f-83d7-94fc97567df8",
   "metadata": {},
   "outputs": [],
   "source": [
    "labels = 'CIDR', 'SCCAF', 'scGMAAE', 'scVI', 'Seurat', 'ADClust', 'scDeepCluster', 'graph-sc', 'DESC', 'scAce'\n",
    "\n",
    "c_list = ['green', 'gray', 'mediumblue', 'red', 'lightgreen', 'darkorchid', 'gold', 'hotpink', 'goldenrod', 'royalblue']"
   ]
  },
  {
   "cell_type": "code",
   "execution_count": 13,
   "id": "a302c049-b54c-4173-9372-35c2e8739a3c",
   "metadata": {},
   "outputs": [],
   "source": [
    "def plot_boxplot(metric, n, ax):\n",
    "    \n",
    "    \"\"\"\n",
    "        metric: 'ARI' or 'NMI'\n",
    "        n: n-th dataset in [Human pancreas, Human PBMC, Human kidney, Mouse ES, Mouse hypothalamus, Mouse kidney, Turtle brain]\n",
    "    \"\"\"\n",
    "    \n",
    "    ax = plt.subplot(ax)\n",
    "    \n",
    "    m_seurat = np.array(seurat[n][metric][0:10])\n",
    "    m_cidr = np.array(cidr[n][metric][0:10])\n",
    "    m_scd = np.array(scd[n][metric])\n",
    "    m_desc = np.array(desc[n][metric])\n",
    "    m_graphsc = np.array(graphsc[n][metric])\n",
    "    m_sccaf = np.array(sccaf[n][metric])\n",
    "    m_adclust = np.array(adclust[n][metric])\n",
    "    m_scvi = np.array(scvi[n][metric])\n",
    "    m_scgmaae = np.array(scgmaae[n][metric])\n",
    "    m_scace = np.array(scace[n][metric])\n",
    "    \n",
    "    f = plt.boxplot([m_cidr, m_sccaf, m_scgmaae, m_scvi, m_seurat, m_adclust, m_scd, m_graphsc, m_desc, m_scace], \n",
    "               labels=labels, showcaps=False, patch_artist=True, flierprops={'marker':\".\", 'color':'black'}, \n",
    "               medianprops = {'color':'black'})\n",
    "    \n",
    "    for box, c in zip(f['boxes'], c_list):\n",
    "        box.set(color=c, linewidth=2, alpha=0.7)\n",
    "        \n",
    "    y = MultipleLocator(0.2)\n",
    "    ax.yaxis.set_major_locator(y)\n",
    "    plt.ylim(0, 1)\n",
    "    plt.xticks(fontsize=18, rotation=60, family='Arial', ha='right')\n",
    "    plt.tick_params(labelsize=18)\n",
    "    plt.grid(axis=\"y\")"
   ]
  },
  {
   "cell_type": "markdown",
   "id": "21c818db-dba8-4f57-803e-6ff5ed6acadb",
   "metadata": {},
   "source": [
    "# Article"
   ]
  },
  {
   "cell_type": "code",
   "execution_count": 14,
   "id": "a4404ba3-cb71-4a41-bc65-e407d4c3f21a",
   "metadata": {},
   "outputs": [],
   "source": [
    "plt.figure(figsize=(25, 3))\n",
    "plot_boxplot('ARI', 0, 141)\n",
    "plot_boxplot('ARI', 1, 142)\n",
    "plot_boxplot('ARI', 3, 143)\n",
    "plot_boxplot('ARI', 5, 144)"
   ]
  },
  {
   "cell_type": "code",
   "execution_count": 15,
   "id": "fbc31a9b-80d8-4e76-9b6e-9090a0938c52",
   "metadata": {},
   "outputs": [],
   "source": [
    "plt.savefig('Figures/Figure4A_ARI.svg', dpi=300, format='svg', bbox_inches='tight')"
   ]
  },
  {
   "cell_type": "code",
   "execution_count": 16,
   "id": "4df51406-3abd-4255-a1ae-61da97c09f9c",
   "metadata": {},
   "outputs": [],
   "source": [
    "plt.figure(figsize=(25, 3))\n",
    "plot_boxplot('NMI', 0, 141)\n",
    "plot_boxplot('NMI', 1, 142)\n",
    "plot_boxplot('NMI', 3, 143)\n",
    "plot_boxplot('NMI', 5, 144)"
   ]
  },
  {
   "cell_type": "code",
   "execution_count": 17,
   "id": "8fcd0e2d-d1e3-4c89-b6b4-abbf33d93f4c",
   "metadata": {},
   "outputs": [],
   "source": [
    "plt.savefig('Figures/Figure4A_NMI.svg', dpi=300, format='svg', bbox_inches='tight')"
   ]
  },
  {
   "cell_type": "markdown",
   "id": "8a66779e-6a31-4306-bffb-560ad3305a9d",
   "metadata": {},
   "source": [
    "# Supplementary"
   ]
  },
  {
   "cell_type": "code",
   "execution_count": 18,
   "id": "dfea97cd-ceb3-487b-badc-f2eb514c37f0",
   "metadata": {},
   "outputs": [],
   "source": [
    "plt.figure(figsize=(20, 3))\n",
    "plot_boxplot('ARI', 2, 131)\n",
    "plot_boxplot('ARI', 4, 132)\n",
    "plot_boxplot('ARI', 6, 133)"
   ]
  },
  {
   "cell_type": "code",
   "execution_count": 19,
   "id": "77b88732-5da9-4908-875f-d9de2abf7353",
   "metadata": {},
   "outputs": [],
   "source": [
    "plt.savefig('Figures/FigureS3A.svg', dpi=300, format='svg', bbox_inches='tight')"
   ]
  },
  {
   "cell_type": "code",
   "execution_count": 20,
   "id": "1e899cbe-636d-4344-94b6-ece861e027fd",
   "metadata": {},
   "outputs": [],
   "source": [
    "plt.figure(figsize=(20, 3))\n",
    "plot_boxplot('NMI', 2, 131)\n",
    "plot_boxplot('NMI', 4, 132)\n",
    "plot_boxplot('NMI', 6, 133)"
   ]
  },
  {
   "cell_type": "code",
   "execution_count": 21,
   "id": "86c86b60-3074-470a-acb8-8f55efac6a90",
   "metadata": {},
   "outputs": [],
   "source": [
    "plt.savefig('Figures/FigureS3B.svg', dpi=300, format='svg', bbox_inches='tight')"
   ]
  },
  {
   "cell_type": "code",
   "execution_count": null,
   "id": "c01c16c5-10b5-4e25-8769-7c2993ea653e",
   "metadata": {},
   "outputs": [],
   "source": []
  }
 ],
 "metadata": {
  "kernelspec": {
   "display_name": "Python 3",
   "language": "python",
   "name": "python3"
  },
  "language_info": {
   "codemirror_mode": {
    "name": "ipython",
    "version": 3
   },
   "file_extension": ".py",
   "mimetype": "text/x-python",
   "name": "python",
   "nbconvert_exporter": "python",
   "pygments_lexer": "ipython3",
   "version": "3.8.8"
  }
 },
 "nbformat": 4,
 "nbformat_minor": 5
}
