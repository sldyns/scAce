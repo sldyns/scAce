{
 "cells": [
  {
   "cell_type": "code",
   "execution_count": 1,
   "id": "fefbb8ba-d9da-43bc-b389-14eaf4ca0620",
   "metadata": {},
   "outputs": [],
   "source": [
    "import scanpy as sc\n",
    "import pandas as pd\n",
    "import numpy as np\n",
    "import matplotlib\n",
    "import matplotlib.pyplot as plt\n",
    "matplotlib.use('Agg')\n",
    "from matplotlib.pyplot import plot,savefig\n",
    "from sklearn import metrics\n",
    "import seaborn as sns"
   ]
  },
  {
   "cell_type": "code",
   "execution_count": 2,
   "id": "4da3c8db-c168-4272-93b2-41dedec5ded1",
   "metadata": {},
   "outputs": [],
   "source": [
    "seurat = []\n",
    "seurat.append(pd.read_csv('results/default/Human/Seurat_with_sample.csv', header=0, index_col=0))\n",
    "seurat.append(pd.read_csv('results/default/PBMC/Seurat_with_sample.csv', header=0, index_col=0))\n",
    "seurat.append(pd.read_csv('results/default/Kidney/Seurat_with_sample.csv', header=0, index_col=0))\n",
    "seurat.append(pd.read_csv('results/default/Klein/Seurat_with_sample.csv', header=0, index_col=0))\n",
    "seurat.append(pd.read_csv('results/default/Chen/Seurat_with_sample.csv', header=0, index_col=0))\n",
    "seurat.append(pd.read_csv('results/default/Adam/Seurat_with_sample.csv', header=0, index_col=0))\n",
    "seurat.append(pd.read_csv('results/default/Turtle/Seurat_with_sample.csv', header=0, index_col=0))"
   ]
  },
  {
   "cell_type": "code",
   "execution_count": 3,
   "id": "cb48ff02-13fe-4ac5-89cc-58dc46b1e3d6",
   "metadata": {},
   "outputs": [],
   "source": [
    "cidr = []\n",
    "cidr.append(pd.read_csv('results/default/Human/CIDR_with_sample.csv', header=0, index_col=0))\n",
    "cidr.append(pd.read_csv('results/default/PBMC/CIDR_with_sample.csv', header=0, index_col=0))\n",
    "cidr.append(pd.read_csv('results/default/Kidney/CIDR_with_sample.csv', header=0, index_col=0))\n",
    "cidr.append(pd.read_csv('results/default/Klein/CIDR_with_sample.csv', header=0, index_col=0))\n",
    "cidr.append(pd.read_csv('results/default/Chen/CIDR_with_sample.csv', header=0, index_col=0))\n",
    "cidr.append(pd.read_csv('results/default/Adam/CIDR_with_sample.csv', header=0, index_col=0))\n",
    "cidr.append(pd.read_csv('results/default/Turtle/CIDR_with_sample.csv', header=0, index_col=0))"
   ]
  },
  {
   "cell_type": "code",
   "execution_count": 4,
   "id": "dbd86d40-7fa1-4a65-aee8-9541572ec01b",
   "metadata": {},
   "outputs": [],
   "source": [
    "scd = []\n",
    "scd.append(np.load('results/default/Human/scDeepCluster_with_sample.npz'))\n",
    "scd.append(np.load('results/default/PBMC/scDeepCluster_with_sample.npz'))\n",
    "scd.append(np.load('results/default/Kidney/scDeepCluster_with_sample.npz'))\n",
    "scd.append(np.load('results/default/Klein/scDeepCluster_with_sample.npz'))\n",
    "scd.append(np.load('results/default/Chen/scDeepCluster_with_sample.npz'))\n",
    "scd.append(np.load('results/default/Adam/scDeepCluster_with_sample.npz'))\n",
    "scd.append(np.load('results/default/Turtle/scDeepCluster_with_sample.npz'))"
   ]
  },
  {
   "cell_type": "code",
   "execution_count": 5,
   "id": "7ac12176-34c8-4307-82f5-ec2aad6494d7",
   "metadata": {},
   "outputs": [],
   "source": [
    "desc = []\n",
    "desc.append(np.load('results/default/Human/DESC_with_sample.npz'))\n",
    "desc.append(np.load('results/default/PBMC/DESC_with_sample.npz'))\n",
    "desc.append(np.load('results/default/Kidney/DESC_with_sample.npz'))\n",
    "desc.append(np.load('results/default/Klein/DESC_with_sample.npz'))\n",
    "desc.append(np.load('results/default/Chen/DESC_with_sample.npz'))\n",
    "desc.append(np.load('results/default/Adam/DESC_with_sample.npz'))\n",
    "desc.append(np.load('results/default/Turtle/DESC_with_sample.npz'))"
   ]
  },
  {
   "cell_type": "code",
   "execution_count": 6,
   "id": "10c9c581-deae-4ce4-9c9e-6a0612e41624",
   "metadata": {},
   "outputs": [],
   "source": [
    "graphsc = []\n",
    "graphsc.append(np.load('results/default/Human/graphsc_with_sample.npz'))\n",
    "graphsc.append(np.load('results/default/PBMC/graphsc_with_sample.npz'))\n",
    "graphsc.append(np.load('results/default/Kidney/graphsc_with_sample.npz'))\n",
    "graphsc.append(np.load('results/default/Klein/graphsc_with_sample.npz'))\n",
    "graphsc.append(np.load('results/default/Chen/graphsc_with_sample.npz'))\n",
    "graphsc.append(np.load('results/default/Adam/graphsc_with_sample.npz'))\n",
    "graphsc.append(np.load('results/default/Turtle/graphsc_with_sample.npz'))"
   ]
  },
  {
   "cell_type": "code",
   "execution_count": 7,
   "id": "8f1f7f69-0f36-4db1-bc62-5aa3592ecc3f",
   "metadata": {},
   "outputs": [],
   "source": [
    "sccaf = []\n",
    "sccaf.append(np.load('results/default/Human/SCCAF_with_sample.npz'))\n",
    "sccaf.append(np.load('results/default/PBMC/SCCAF_with_sample.npz'))\n",
    "sccaf.append(np.load('results/default/Kidney/SCCAF_with_sample.npz'))\n",
    "sccaf.append(np.load('results/default/Klein/SCCAF_with_sample.npz'))\n",
    "sccaf.append(np.load('results/default/Chen/SCCAF_with_sample.npz'))\n",
    "sccaf.append(np.load('results/default/Adam/SCCAF_with_sample.npz'))\n",
    "sccaf.append(np.load('results/default/Turtle/SCCAF_with_sample.npz'))"
   ]
  },
  {
   "cell_type": "code",
   "execution_count": 8,
   "id": "499db6f5-6b2e-4492-aa44-b00657624552",
   "metadata": {},
   "outputs": [],
   "source": [
    "adclust = []\n",
    "adclust.append(np.load('results/default/Human/ADClust_with_sample.npz'))\n",
    "adclust.append(np.load('results/default/PBMC/ADClust_with_sample.npz'))\n",
    "adclust.append(np.load('results/default/Kidney/ADClust_with_sample.npz'))\n",
    "adclust.append(np.load('results/default/Klein/ADClust_with_sample.npz'))\n",
    "adclust.append(np.load('results/default/Chen/ADClust_with_sample.npz'))\n",
    "adclust.append(np.load('results/default/Adam/ADClust_with_sample.npz'))\n",
    "adclust.append(np.load('results/default/Turtle/ADClust_with_sample.npz'))"
   ]
  },
  {
   "cell_type": "code",
   "execution_count": 9,
   "id": "23bf4606-02fa-4051-99b6-99a53dee426f",
   "metadata": {},
   "outputs": [],
   "source": [
    "scvi = []\n",
    "scvi.append(np.load('results/default/Human/scVI_with_sample.npz'))\n",
    "scvi.append(np.load('results/default/PBMC/scVI_with_sample.npz'))\n",
    "scvi.append(np.load('results/default/Kidney/scVI_with_sample.npz'))\n",
    "scvi.append(np.load('results/default/Klein/scVI_with_sample.npz'))\n",
    "scvi.append(np.load('results/default/Chen/scVI_with_sample.npz'))\n",
    "scvi.append(np.load('results/default/Adam/scVI_with_sample.npz'))\n",
    "scvi.append(np.load('results/default/Turtle/scVI_with_sample.npz'))"
   ]
  },
  {
   "cell_type": "code",
   "execution_count": 10,
   "id": "1cbfe25b-a243-4455-941a-3747096c3fda",
   "metadata": {},
   "outputs": [],
   "source": [
    "scgmaae = []\n",
    "scgmaae.append(np.load('results/default/Human/scGMAAE_with_sample.npz'))\n",
    "scgmaae.append(np.load('results/default/PBMC/scGMAAE_with_sample.npz'))\n",
    "scgmaae.append(np.load('results/default/Kidney/scGMAAE_with_sample.npz'))\n",
    "scgmaae.append(np.load('results/default/Klein/scGMAAE_with_sample.npz'))\n",
    "scgmaae.append(np.load('results/default/Chen/scGMAAE_with_sample.npz'))\n",
    "scgmaae.append(np.load('results/default/Adam/scGMAAE_with_sample.npz'))\n",
    "scgmaae.append(np.load('results/default/Turtle/scGMAAE_with_sample.npz'))"
   ]
  },
  {
   "cell_type": "code",
   "execution_count": 11,
   "id": "e68d5951-6c15-4c0e-9a02-3aa8ab343f76",
   "metadata": {},
   "outputs": [],
   "source": [
    "scace = []\n",
    "scace.append(np.load('results/default/Human/scAce_with_sample.npz'))\n",
    "scace.append(np.load('results/default/PBMC/scAce_with_sample.npz'))\n",
    "scace.append(np.load('results/default/Kidney/scAce_with_sample.npz'))\n",
    "scace.append(np.load('results/default/Klein/scAce_with_sample.npz'))\n",
    "scace.append(np.load('results/default/Chen/scAce_with_sample.npz'))\n",
    "scace.append(np.load('results/default/Adam/scAce_with_sample.npz'))\n",
    "scace.append(np.load('results/default/Turtle/scAce_with_sample.npz'))"
   ]
  },
  {
   "cell_type": "code",
   "execution_count": 12,
   "id": "0d163e5b-074f-4d1f-83d7-94fc97567df8",
   "metadata": {},
   "outputs": [],
   "source": [
    "labels = 'CIDR', 'SCCAF', 'Seurat', 'scGMAAE', 'scDeepCluster', 'scVI', 'ADClust', 'DESC', 'graph-sc', 'scAce'\n",
    "datasets = 'Human pancreas', 'Human PBMC', 'Human kidney', 'Mouse ES', 'Mouse hypothalamus', 'Mouse kidney', 'Turtle brain'"
   ]
  },
  {
   "cell_type": "code",
   "execution_count": 13,
   "id": "a302c049-b54c-4173-9372-35c2e8739a3c",
   "metadata": {},
   "outputs": [],
   "source": [
    "def plot_heatmap(metric, ax):\n",
    "    \n",
    "    \"\"\"\n",
    "        metric: 'ARI' or 'NMI'\n",
    "    \"\"\"\n",
    "    \n",
    "    ax = plt.subplot(ax)\n",
    "    \n",
    "    metric_all = pd.DataFrame()\n",
    "    for i in range(len(datasets)):\n",
    "\n",
    "        metric_seurat = np.mean(seurat[i][metric])\n",
    "        metric_cidr = np.mean(cidr[i][metric])\n",
    "        metric_scd = np.mean(scd[i][metric])\n",
    "        metric_desc = np.mean(desc[i][metric])\n",
    "        metric_scvi = np.mean(scvi[i][metric])\n",
    "        metric_scgmaae = np.mean(scgmaae[i][metric])\n",
    "        metric_graphsc = np.mean(graphsc[i][metric])\n",
    "        metric_sccaf = np.mean(sccaf[i][metric])\n",
    "        metric_adclust = np.mean(adclust[i][metric])\n",
    "        metric_scace = np.mean(scace[i][metric])\n",
    "\n",
    "        metric_i = [metric_cidr, metric_sccaf, metric_seurat, metric_scgmaae, metric_scd, metric_scvi, metric_adclust, metric_desc, metric_graphsc, metric_scace]\n",
    "        metric_all[datasets[i]] = metric_i\n",
    "\n",
    "    metric_all.index = labels\n",
    "    sns.heatmap(metric_all.T, cmap=\"GnBu\", linewidths=0.5, linecolor=\"white\")\n",
    "    plt.xticks(family='Arial')\n",
    "    plt.yticks(family='Arial')\n",
    "    ax.set_title(metric, fontsize=12, family='Arial')\n",
    "    print(metric, metric_all.T)"
   ]
  },
  {
   "cell_type": "code",
   "execution_count": 14,
   "id": "559ef3dc-5888-43ce-a7cd-c2e493d546be",
   "metadata": {},
   "outputs": [
    {
     "name": "stdout",
     "output_type": "stream",
     "text": [
      "ARI                         CIDR    SCCAF    Seurat   scGMAAE  scDeepCluster  \\\n",
      "Human pancreas      0.535505  0.53726  0.576339  0.701495       0.614124   \n",
      "Human PBMC          0.614580  0.64386  0.556544  0.578409       0.703324   \n",
      "Human kidney        0.290313  0.40684  0.406360  0.458155       0.512460   \n",
      "Mouse ES            0.693683  0.75831  0.508388  0.634375       0.490182   \n",
      "Mouse hypothalamus  0.336185  0.56059  0.862321  0.613674       0.583726   \n",
      "Mouse kidney        0.035346  0.57043  0.632303  0.569465       0.712576   \n",
      "Turtle brain        0.470193  0.38258  0.549864  0.602298       0.586762   \n",
      "\n",
      "                       scVI  ADClust     DESC  graph-sc     scAce  \n",
      "Human pancreas      0.65576  0.87154  0.62651   0.71160  0.925768  \n",
      "Human PBMC          0.51899  0.41825  0.60346   0.66503  0.789425  \n",
      "Human kidney        0.51857  0.42260  0.52622   0.65605  0.592464  \n",
      "Mouse ES            0.61208  0.82103  0.79485   0.78513  0.878988  \n",
      "Mouse hypothalamus  0.56224  0.78906  0.63587   0.45647  0.647738  \n",
      "Mouse kidney        0.67048  0.42554  0.62898   0.62662  0.851523  \n",
      "Turtle brain        0.67048  0.61426  0.71783   0.68246  0.610438  \n"
     ]
    }
   ],
   "source": [
    "plt.figure(figsize=(5, 2))\n",
    "plot_heatmap('ARI', 111)"
   ]
  },
  {
   "cell_type": "code",
   "execution_count": 15,
   "id": "0a2b891f-7c39-4769-b466-257bf1ddd6dc",
   "metadata": {},
   "outputs": [],
   "source": [
    "plt.savefig('Figures/Figure4B_ARI.svg', dpi=300, format='svg', bbox_inches='tight')"
   ]
  },
  {
   "cell_type": "code",
   "execution_count": 16,
   "id": "a80a30c8-797e-42ec-b603-c6817ecc1553",
   "metadata": {},
   "outputs": [
    {
     "name": "stdout",
     "output_type": "stream",
     "text": [
      "NMI                         CIDR    SCCAF    Seurat   scGMAAE  scDeepCluster  \\\n",
      "Human pancreas      0.581117  0.76289  0.691560  0.748282       0.759137   \n",
      "Human PBMC          0.594049  0.73423  0.655746  0.659467       0.749169   \n",
      "Human kidney        0.400281  0.70928  0.571281  0.590560       0.641803   \n",
      "Mouse ES            0.600170  0.82982  0.578260  0.661591       0.605962   \n",
      "Mouse hypothalamus  0.294471  0.76647  0.760447  0.706671       0.726120   \n",
      "Mouse kidney        0.085737  0.74696  0.694316  0.676544       0.783952   \n",
      "Turtle brain        0.467299  0.73131  0.667529  0.666925       0.729000   \n",
      "\n",
      "                       scVI  ADClust     DESC  graph-sc     scAce  \n",
      "Human pancreas      0.81518  0.84458  0.80862   0.82319  0.894270  \n",
      "Human PBMC          0.66529  0.63102  0.72014   0.74253  0.807783  \n",
      "Human kidney        0.73440  0.54700  0.74708   0.77039  0.731513  \n",
      "Mouse ES            0.73726  0.83152  0.84112   0.76905  0.891960  \n",
      "Mouse hypothalamus  0.75286  0.78826  0.78888   0.73085  0.731481  \n",
      "Mouse kidney        0.79396  0.59136  0.78644   0.74583  0.871491  \n",
      "Turtle brain        0.79396  0.73892  0.83171   0.76054  0.669835  \n"
     ]
    }
   ],
   "source": [
    "plt.figure(figsize=(5, 2))\n",
    "plot_heatmap('NMI', 111)"
   ]
  },
  {
   "cell_type": "code",
   "execution_count": 17,
   "id": "1da2355a-0fff-42a7-b36c-e6b528ebd511",
   "metadata": {},
   "outputs": [],
   "source": [
    "plt.savefig('Figures/Figure4B_NMI.svg', dpi=300, format='svg', bbox_inches='tight')"
   ]
  },
  {
   "cell_type": "code",
   "execution_count": null,
   "id": "b0bf4466-46bb-4338-8d36-df5518403b72",
   "metadata": {},
   "outputs": [],
   "source": []
  }
 ],
 "metadata": {
  "kernelspec": {
   "display_name": "Python 3",
   "language": "python",
   "name": "python3"
  },
  "language_info": {
   "codemirror_mode": {
    "name": "ipython",
    "version": 3
   },
   "file_extension": ".py",
   "mimetype": "text/x-python",
   "name": "python",
   "nbconvert_exporter": "python",
   "pygments_lexer": "ipython3",
   "version": "3.8.8"
  }
 },
 "nbformat": 4,
 "nbformat_minor": 5
}
