{
 "cells": [
  {
   "cell_type": "code",
   "execution_count": 1,
   "id": "cec16c66-36d4-4a49-a43e-963295123881",
   "metadata": {},
   "outputs": [],
   "source": [
    "import pandas as pd\n",
    "import scanpy as sc\n",
    "import numpy as np\n",
    "import h5py\n",
    "\n",
    "import matplotlib\n",
    "import matplotlib.pyplot as plt\n",
    "matplotlib.use('Agg')\n",
    "from matplotlib.pyplot import plot,savefig\n",
    "from sklearn import metrics\n",
    "\n",
    "import warnings\n",
    "warnings.filterwarnings(\"ignore\")\n",
    "from read_count import read_data\n",
    "\n",
    "import seaborn as sns\n",
    "from matplotlib.colors import LinearSegmentedColormap\n",
    "from sklearn import metrics"
   ]
  },
  {
   "cell_type": "code",
   "execution_count": 2,
   "id": "5005c78a-e688-4104-9531-7345dee4369f",
   "metadata": {},
   "outputs": [],
   "source": [
    "col = [\"#E64B35CC\", \"#0072B5CC\", \"#00A087CC\", \"#3C5488CC\", \"#F39B7FCC\", \"#F7DC05FF\", \"#FD7446E5\",\n",
    "       \"#8491B4CC\", \"#7E6148CC\", \"#B09C85CC\", \"#E18727CC\", \"#FFDC91E5\", \"#6A6599E5\", \"#9467BDB2\",\n",
    "       \"#FFFFFFFF\", \"#0000FFFF\", \"#FF0000FF\", \"#00FF00FF\", \"#000033FF\", \"#FF00B6FF\", \"#005300FF\", \"#FFD300FF\",\n",
    "       \"#009FFFFF\", \"#9A4D42FF\", \"#00FFBEFF\", \"#783FC1FF\", \"#1F9698FF\", \"#FFACFDFF\", \"#B1CC71FF\", \"#F1085CFF\",\n",
    "       \"#FE8F42FF\", \"#DD00FFFF\", \"#201A01FF\", \"#720055FF\", \"#766C95FF\", \"#02AD24FF\", \"#C8FF00FF\", \"#886C00FF\",\n",
    "       \"#FFB79FFF\", \"#858567FF\", \"#A10300FF\", \"#14F9FFFF\", \"#00479EFF\", \"#DC5E93FF\", \"#93D4FFFF\", \"#004CFFFF\"]"
   ]
  },
  {
   "cell_type": "code",
   "execution_count": 3,
   "id": "976f5593-687d-4d6d-bc37-3c3ae2bfdd8d",
   "metadata": {},
   "outputs": [],
   "source": [
    "data_mat = h5py.File('dataset/Human_p.h5')\n",
    "y_true_human = np.array(data_mat['Y'], dtype='int')\n",
    "data_mat.close()\n",
    "\n",
    "data_mat = h5py.File('dataset/Human_.h5')\n",
    "y_true_pbmc = np.array(data_mat['Y'], dtype='int')\n",
    "data_mat.close()\n",
    "\n",
    "data_mat = h5py.File('dataset/Human_k.h5')\n",
    "y_true_kidney = np.array(data_mat['Y'], dtype='int')\n",
    "data_mat.close()\n",
    "\n",
    "mat, obs, var, uns = read_data('dataset/Mouse_E.h5', sparsify=False, skip_exprs=False)\n",
    "x = np.array(mat.toarray())\n",
    "cell_name = np.array(obs[\"cell_type1\"])\n",
    "cell_type, y_true_klein = np.unique(cell_name, return_inverse=True)\n",
    "\n",
    "mat, obs, var, uns = read_data('dataset/Mouse_h.h5', sparsify=False, skip_exprs=False)\n",
    "x = np.array(mat.toarray())\n",
    "cell_name = np.array(obs[\"cell_type1\"])\n",
    "cell_type, y_true_chen_1 = np.unique(cell_name, return_inverse=True)\n",
    "\n",
    "adata = sc.AnnData(x)\n",
    "adata.obs['celltype'] = y_true_chen_1\n",
    "sc.pp.filter_genes(adata, min_cells=3)\n",
    "sc.pp.filter_cells(adata, min_genes=200)\n",
    "y_true_chen_2 = np.array(adata.obs['celltype']).squeeze()\n",
    "\n",
    "mat, obs, var, uns = read_data('dataset/Mouse_k.h5', sparsify=False, skip_exprs=False)\n",
    "x = np.array(mat.toarray())\n",
    "cell_name = np.array(obs[\"cell_type1\"])\n",
    "cell_type, y_true_adam = np.unique(cell_name, return_inverse=True)\n",
    "\n",
    "mat, obs, var, uns = read_data('dataset/Turtle_b.h5', sparsify=False, skip_exprs=False)\n",
    "x = np.array(mat.toarray())\n",
    "cell_name = np.array(obs[\"cell_type1\"])\n",
    "cell_type, y_true_turtle = np.unique(cell_name, return_inverse=True)"
   ]
  },
  {
   "cell_type": "code",
   "execution_count": 4,
   "id": "d17d39c1-487b-4e37-bd24-17f04c4c440b",
   "metadata": {},
   "outputs": [],
   "source": [
    "adam = np.load('results/scace_init/scace_init_adam.npz')\n",
    "chen = np.load('results/scace_init/scace_init_chen.npz')\n",
    "human = np.load('results/scace_init/scace_init_human.npz')\n",
    "kidney = np.load('results/scace_init/scace_init_kidney.npz')\n",
    "klein = np.load('results/scace_init/scace_init_klein.npz')\n",
    "pbmc = np.load('results/scace_init/scace_init_pbmc.npz')\n",
    "turtle = np.load('results/scace_init/scace_init_turtle.npz')"
   ]
  },
  {
   "cell_type": "markdown",
   "id": "23bb7f10-4b45-4791-8664-f3d64152bfa9",
   "metadata": {},
   "source": [
    "# UMAP"
   ]
  },
  {
   "cell_type": "code",
   "execution_count": 5,
   "id": "2d2849f0-0045-42d3-b0a6-5e2e4b5df23b",
   "metadata": {},
   "outputs": [],
   "source": [
    "fig = plt.figure(figsize=(22, 5))\n",
    "sub_figs = fig.subfigures(2, 1)\n",
    "axs = []\n",
    "\n",
    "for i, sub_fig in enumerate(sub_figs):\n",
    "    axs.append(sub_fig.subplots(1, 7))\n",
    "    \n",
    "axs = np.array(axs)"
   ]
  },
  {
   "cell_type": "code",
   "execution_count": 6,
   "id": "168255c8-789f-48e4-b216-6db94b15aedd",
   "metadata": {},
   "outputs": [],
   "source": [
    "def plot_cluster(df, n, data_name, y_true, by, ax):\n",
    "    \n",
    "    \"\"\"\n",
    "        by: 'pred' or 'true'. If by == 'pred', colored by cluster labels, else colored by true cell types.\n",
    "        n: n-th dataset in [Mouse kidney, Mouse hypothalamus, Human pancreas, Human kidney, Mouse ES, Human PBMC, Turtle brain]\n",
    "    \"\"\"\n",
    "    \n",
    "    umap = umap_all[n]\n",
    "    y_pred = df['Clusters']\n",
    "    \n",
    "    K = len(np.unique(y_pred))\n",
    "    \n",
    "    y_pred = np.asarray(y_pred, dtype='int').squeeze()\n",
    "    \n",
    "    if by == 'pred':\n",
    "        ari = np.round(metrics.adjusted_rand_score(y_pred, y_true), 2)\n",
    "        nmi = np.round(metrics.normalized_mutual_info_score(y_pred, y_true), 2)\n",
    "        print('Dataset: {}, ARI={}, NMI={}, k={}'.format(data_name, ari, nmi, K))\n",
    "        \n",
    "    adata = sc.AnnData(pd.DataFrame(np.random.rand(len(y_pred), 1)))\n",
    "    adata.obs['pred'] = y_pred\n",
    "    adata.obs['pred'] = adata.obs['pred'].astype(int).astype('category')\n",
    "    adata.obs['true'] = y_true\n",
    "    adata.obs['true'] = adata.obs['true'].astype(int).astype('category')\n",
    "\n",
    "    adata.obsm['X_umap'] = umap\n",
    "\n",
    "    if by == 'pred':\n",
    "        sc.pl.umap(adata, color=['pred'], ax=ax, show=False, legend_loc='None', size=8)\n",
    "        ax.set_title('K={} ARI={}'.format(K, ari), fontsize=17, family='Arial')\n",
    "        ax.spines['right'].set_visible(False)\n",
    "        ax.spines['top'].set_visible(False)\n",
    "        \n",
    "    else:\n",
    "        sc.pl.umap(adata, color=['true'], ax=ax, show=False, legend_loc='None', size=8, palette=col)\n",
    "#         ax.set_title('K={}'.format(len(np.unique(y_true))), fontsize=17, family='Arial')\n",
    "        ax.spines['right'].set_visible(False)\n",
    "        ax.spines['top'].set_visible(False)\n",
    "        ax.set_xticks([])"
   ]
  },
  {
   "cell_type": "code",
   "execution_count": 7,
   "id": "7908f8c6-8974-4b88-9561-814d0be11b17",
   "metadata": {},
   "outputs": [],
   "source": [
    "datasets = [adam, chen, human, kidney, klein, pbmc, turtle]"
   ]
  },
  {
   "cell_type": "code",
   "execution_count": 8,
   "id": "603b5dd6-79db-4ae3-b962-dbdb2872dc2f",
   "metadata": {},
   "outputs": [
    {
     "name": "stdout",
     "output_type": "stream",
     "text": [
      "0\n",
      "1\n",
      "2\n",
      "3\n",
      "4\n",
      "5\n",
      "6\n"
     ]
    }
   ],
   "source": [
    "embedding = []\n",
    "for data in datasets:\n",
    "    embedding.append(data['Embedding'])\n",
    "    \n",
    "umap_all = []\n",
    "for i in range(len(embedding)):\n",
    "    print(i)\n",
    "    adata = sc.AnnData(embedding[i])\n",
    "    sc.pp.neighbors(adata)\n",
    "    sc.tl.umap(adata, random_state=0)\n",
    "    umap_all.append(np.array(adata.obsm['X_umap']))"
   ]
  },
  {
   "cell_type": "code",
   "execution_count": 7,
   "id": "91fdbe47-2d2c-45e3-943f-a03da4f006f7",
   "metadata": {},
   "outputs": [],
   "source": [
    "umap_all = np.load(\"umap/umap_scace_changer.npz\")['UMAP']\n",
    "# np.savez(\"umap/umap_scace_changer.npz\", UMAP=umap_all)"
   ]
  },
  {
   "cell_type": "code",
   "execution_count": 8,
   "id": "a07017bd-7dbf-447c-aca0-f0e18afa50de",
   "metadata": {},
   "outputs": [
    {
     "name": "stdout",
     "output_type": "stream",
     "text": [
      "Dataset: Human pancreas, ARI=0.56, NMI=0.78, k=14\n",
      "Dataset: Human PBMC, ARI=0.77, NMI=0.79, k=8\n",
      "Dataset: Human kidney, ARI=0.62, NMI=0.75, k=11\n",
      "Dataset: Mouse ES, ARI=0.98, NMI=0.96, k=4\n",
      "Dataset: Mouse hypothalamus, ARI=0.33, NMI=0.71, k=46\n",
      "Dataset: Human pancreas, ARI=0.91, NMI=0.89, k=8\n",
      "Dataset: Turtle brain, ARI=0.6, NMI=0.78, k=14\n"
     ]
    }
   ],
   "source": [
    "plot_cluster(human, 2, 'Human pancreas', y_true_human, 'pred', axs[0][0])\n",
    "plot_cluster(human, 2, 'Human pancreas', y_true_human, 'true', axs[1][0])\n",
    "\n",
    "plot_cluster(pbmc, 5, 'Human PBMC', y_true_pbmc, 'pred', axs[0][1])\n",
    "plot_cluster(pbmc, 5, 'Human PBMC', y_true_pbmc, 'true', axs[1][1])\n",
    "\n",
    "plot_cluster(kidney, 3, 'Human kidney', y_true_kidney, 'pred', axs[0][2])\n",
    "plot_cluster(kidney, 3, 'Human kidney', y_true_kidney, 'true', axs[1][2])\n",
    "\n",
    "plot_cluster(klein, 4, 'Mouse ES', y_true_klein, 'pred', axs[0][3])\n",
    "plot_cluster(klein, 4, 'Mouse ES', y_true_klein, 'true', axs[1][3])\n",
    "\n",
    "plot_cluster(chen, 1, 'Mouse hypothalamus', y_true_chen, 'pred', axs[0][4])\n",
    "plot_cluster(chen, 1, 'Mouse hypothalamus', y_true_chen, 'true', axs[1][4])\n",
    "\n",
    "plot_cluster(adam, 0, 'Mouse kidney', y_true_adam, 'pred', axs[0][5])\n",
    "plot_cluster(adam, 0, 'Mouse kidney', y_true_adam, 'true', axs[1][5])\n",
    "\n",
    "plot_cluster(turtle, 6, 'Turtle brain', y_true_turtle, 'pred', axs[0][6])\n",
    "plot_cluster(turtle, 6, 'Turtle brain', y_true_turtle, 'true', axs[1][6])"
   ]
  },
  {
   "cell_type": "code",
   "execution_count": 9,
   "id": "32c5e0fa-add8-44a8-aae3-fdb565a75577",
   "metadata": {},
   "outputs": [
    {
     "data": {
      "text/plain": [
       "<Figure size 2200x500 with 14 Axes>"
      ]
     },
     "execution_count": 9,
     "metadata": {},
     "output_type": "execute_result"
    }
   ],
   "source": [
    "fig"
   ]
  },
  {
   "cell_type": "code",
   "execution_count": 10,
   "id": "3634ffeb-8686-42c6-89be-57bb5f513cc3",
   "metadata": {},
   "outputs": [],
   "source": [
    "plt.savefig('Figures/FigureS4B.svg', dpi=300, format='svg', bbox_inches='tight')"
   ]
  },
  {
   "cell_type": "markdown",
   "id": "ee8c7e2a-4e85-4208-b2c0-766c9f7aede6",
   "metadata": {},
   "source": [
    "# Metric"
   ]
  },
  {
   "cell_type": "code",
   "execution_count": 11,
   "id": "a42ab341-5978-4f3e-a315-84962af734c8",
   "metadata": {},
   "outputs": [],
   "source": [
    "adam_ari_init = np.round(metrics.adjusted_rand_score(adam['Clusters'], y_true_adam), 2)\n",
    "adam_nmi_init = np.round(metrics.normalized_mutual_info_score(adam['Clusters'], y_true_adam), 2)\n",
    "\n",
    "chen_ari_init = np.round(metrics.adjusted_rand_score(chen['Clusters'], y_true_chen), 2)\n",
    "chen_nmi_init = np.round(metrics.normalized_mutual_info_score(chen['Clusters'], y_true_chen), 2)\n",
    "\n",
    "human_ari_init = np.round(metrics.adjusted_rand_score(human['Clusters'], y_true_human), 2)\n",
    "human_nmi_init = np.round(metrics.normalized_mutual_info_score(human['Clusters'], y_true_human), 2)\n",
    "\n",
    "kidney_ari_init = np.round(metrics.adjusted_rand_score(kidney['Clusters'], y_true_kidney), 2)\n",
    "kidney_nmi_init = np.round(metrics.normalized_mutual_info_score(kidney['Clusters'], y_true_kidney), 2)\n",
    "\n",
    "klein_ari_init = np.round(metrics.adjusted_rand_score(klein['Clusters'], y_true_klein), 2)\n",
    "klein_nmi_init = np.round(metrics.normalized_mutual_info_score(klein['Clusters'], y_true_klein), 2)\n",
    "\n",
    "pbmc_ari_init = np.round(metrics.adjusted_rand_score(pbmc['Clusters'], y_true_pbmc), 2)\n",
    "pbmc_nmi_init = np.round(metrics.normalized_mutual_info_score(pbmc['Clusters'], y_true_pbmc), 2)\n",
    "\n",
    "turtle_ari_init = np.round(metrics.adjusted_rand_score(turtle['Clusters'], y_true_turtle), 2)\n",
    "turtle_nmi_init = np.round(metrics.normalized_mutual_info_score(turtle['Clusters'], y_true_turtle), 2)"
   ]
  },
  {
   "cell_type": "code",
   "execution_count": 12,
   "id": "ad15327c-78d2-4002-83c9-71bdc9808478",
   "metadata": {},
   "outputs": [],
   "source": [
    "adam = np.load('results/default/Adam/scAce_wo_sample.npz')\n",
    "chen = np.load('results/default/Chen/scAce_wo_sample.npz')\n",
    "human = np.load('results/default/Human/scAce_wo_sample.npz')\n",
    "kidney = np.load('results/default/Kidney/scAce_wo_sample.npz')\n",
    "klein = np.load('results/default/Klein/scAce_wo_sample.npz')\n",
    "pbmc = np.load('results/default/PBMC/scAce_wo_sample.npz')\n",
    "turtle = np.load('results/default/Turtle/scAce_wo_sample.npz')"
   ]
  },
  {
   "cell_type": "code",
   "execution_count": 13,
   "id": "15b1b43e-0528-4dcb-978e-1084ca65b8ec",
   "metadata": {},
   "outputs": [],
   "source": [
    "adam_ari_last = adam['ARI']\n",
    "adam_nmi_last = adam['NMI']\n",
    "\n",
    "chen_ari_last = chen['ARI']\n",
    "chen_nmi_last = chen['NMI']\n",
    "\n",
    "human_ari_last = human['ARI']\n",
    "human_nmi_last = human['NMI']\n",
    "\n",
    "kidney_ari_last = kidney['ARI']\n",
    "kidney_nmi_last = kidney['NMI']\n",
    "\n",
    "klein_ari_last = klein['ARI']\n",
    "klein_nmi_last = klein['NMI']\n",
    "\n",
    "pbmc_ari_last = pbmc['ARI']\n",
    "pbmc_nmi_last = pbmc['NMI']\n",
    "\n",
    "turtle_ari_last = turtle['ARI']\n",
    "turtle_nmi_last = turtle['NMI']"
   ]
  },
  {
   "cell_type": "code",
   "execution_count": 14,
   "id": "9cf03e6c-adae-4623-aaca-0fd00d18f97d",
   "metadata": {},
   "outputs": [],
   "source": [
    "init_ari = [human_ari_init, pbmc_ari_init, kidney_ari_init, \n",
    "            klein_ari_init, chen_ari_init, adam_ari_init, turtle_ari_init]\n",
    "init_nmi = [human_nmi_init, pbmc_nmi_init, kidney_nmi_init, \n",
    "            klein_nmi_init, chen_nmi_init, adam_nmi_init, turtle_nmi_init]\n",
    "last_ari = [human_ari_last, pbmc_ari_last, kidney_ari_last, \n",
    "             klein_ari_last, chen_ari_last, adam_ari_last, turtle_ari_last]\n",
    "last_nmi = [human_nmi_last, pbmc_nmi_last, kidney_nmi_last, \n",
    "             klein_nmi_last, chen_nmi_last, adam_nmi_last, turtle_nmi_last]"
   ]
  },
  {
   "cell_type": "code",
   "execution_count": 15,
   "id": "17305156-4a2a-46e5-afbf-b0b23fb18c06",
   "metadata": {},
   "outputs": [],
   "source": [
    "def plot_metric_merge(metric, ax):\n",
    "    \n",
    "    \"\"\"\n",
    "        metric: 'ARI' or 'NMI'\n",
    "    \"\"\"\n",
    "    \n",
    "    ax = plt.subplot(ax)\n",
    "    \n",
    "    plt.ylim(0, 1)\n",
    "    \n",
    "    bar_width = 0.35\n",
    "    index = np.arange(7)\n",
    "\n",
    "    if metric == 'ARI':\n",
    "        plt.bar(index, init_ari, bar_width, alpha=1, color='#FB8930')\n",
    "        plt.bar(index+bar_width, last_ari, bar_width, alpha=1, color='#5C89A0')\n",
    "        \n",
    "    else:\n",
    "        plt.bar(index, init_nmi, bar_width, alpha=1, color='#FB8930')\n",
    "        plt.bar(index+bar_width, last_nmi, bar_width, alpha=1, color='#5C89A0')\n",
    "        \n",
    "    x_labels = ['Human pancreas', 'Human PBMC', 'Human kidney', 'Mouse ES', \n",
    "                'Mouse hypothalamus', 'Mouse kidney', 'Turtle brain']\n",
    "    plt.xticks(index, x_labels, fontsize=13, rotation=40, family='Arial', ha='right')\n",
    "    plt.ylabel(metric, fontsize=17, family='Arial')"
   ]
  },
  {
   "cell_type": "code",
   "execution_count": 16,
   "id": "a539fdd2-08e5-4274-9a92-0503fb875698",
   "metadata": {},
   "outputs": [],
   "source": [
    "plt.figure(figsize=(15, 4))\n",
    "plot_metric_merge('ARI', 121)\n",
    "plot_metric_merge('NMI', 122)"
   ]
  },
  {
   "cell_type": "code",
   "execution_count": 17,
   "id": "c95f3f55-dc1c-42ad-8e64-6e375b3dc8a8",
   "metadata": {},
   "outputs": [],
   "source": [
    "plt.savefig('Figures/FigureS4A.svg', dpi=300, format='svg', bbox_inches='tight')"
   ]
  },
  {
   "cell_type": "code",
   "execution_count": null,
   "id": "bc637347-183b-4a0b-9402-535f53df7430",
   "metadata": {},
   "outputs": [],
   "source": []
  }
 ],
 "metadata": {
  "kernelspec": {
   "display_name": "Python 3",
   "language": "python",
   "name": "python3"
  },
  "language_info": {
   "codemirror_mode": {
    "name": "ipython",
    "version": 3
   },
   "file_extension": ".py",
   "mimetype": "text/x-python",
   "name": "python",
   "nbconvert_exporter": "python",
   "pygments_lexer": "ipython3",
   "version": "3.8.8"
  }
 },
 "nbformat": 4,
 "nbformat_minor": 5
}