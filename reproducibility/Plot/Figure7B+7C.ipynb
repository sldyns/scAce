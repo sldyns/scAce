{
 "cells": [
  {
   "cell_type": "code",
   "execution_count": 1,
   "id": "f9d1f285-d851-4f52-bd62-b4d4192853b6",
   "metadata": {},
   "outputs": [],
   "source": [
    "import pandas as pd\n",
    "import scanpy as sc\n",
    "import numpy as np\n",
    "import h5py\n",
    "\n",
    "import matplotlib\n",
    "import matplotlib.pyplot as plt\n",
    "matplotlib.use('Agg')\n",
    "from matplotlib.pyplot import plot,savefig\n",
    "from sklearn import metrics\n",
    "\n",
    "import warnings\n",
    "warnings.filterwarnings(\"ignore\")\n",
    "from read_count import read_data"
   ]
  },
  {
   "cell_type": "code",
   "execution_count": 2,
   "id": "3df7c0d0-b7fe-4b99-8367-21b76f423c8e",
   "metadata": {},
   "outputs": [],
   "source": [
    "col = [\"#E64B35CC\", \"#0072B5CC\", \"#00A087CC\", \"#3C5488CC\", \"#F39B7FCC\", \"#F7DC05FF\", \"#FD7446E5\",\n",
    "       \"#8491B4CC\", \"#7E6148CC\", \"#B09C85CC\", \"#E18727CC\", \"#FFDC91E5\", \"#6A6599E5\", \"#9467BDB2\",\n",
    "       \"#FFFFFFFF\", \"#0000FFFF\", \"#FF0000FF\", \"#00FF00FF\", \"#000033FF\", \"#FF00B6FF\", \"#005300FF\", \"#FFD300FF\",\n",
    "       \"#009FFFFF\", \"#9A4D42FF\", \"#00FFBEFF\", \"#783FC1FF\", \"#1F9698FF\", \"#FFACFDFF\", \"#B1CC71FF\", \"#F1085CFF\",\n",
    "       \"#FE8F42FF\", \"#DD00FFFF\", \"#201A01FF\", \"#720055FF\", \"#766C95FF\", \"#02AD24FF\", \"#C8FF00FF\", \"#886C00FF\",\n",
    "       \"#FFB79FFF\", \"#858567FF\", \"#A10300FF\", \"#14F9FFFF\", \"#00479EFF\", \"#DC5E93FF\", \"#93D4FFFF\", \"#004CFFFF\"]"
   ]
  },
  {
   "cell_type": "code",
   "execution_count": 3,
   "id": "263f05ab-b2fc-4a8c-a740-fbb5a291021a",
   "metadata": {},
   "outputs": [],
   "source": [
    "def plot_cluster(df, data_name, phase, by, y_true, n, ax):\n",
    "    \n",
    "    \"\"\"\n",
    "        phase: 'split' or 'enhance'. If phase == 'split', using the results after splitting, else using the results after enhancement.\n",
    "        by: 'clusters' or 'labels'. If by == 'clusters', colored by cluster labels, else colored by true cell types.\n",
    "        n: n-th dataset in [Human pancreas, Human PBMC, Human kidney, Mouse ES, Mouse hypothalamus, Mouse kidney, Turtle brain]\n",
    "    \"\"\"\n",
    "    \n",
    "    if phase == 'split':\n",
    "        umap = umap_init_all[n]\n",
    "        y_pred = df['Clusters'][0]\n",
    "    \n",
    "    else :\n",
    "        umap = umap_last_all[n]\n",
    "        y_pred = df['Clusters'][1]\n",
    "    \n",
    "    y_pred = np.asarray(y_pred, dtype='int').squeeze()\n",
    "    K_pred = len(np.unique(y_pred))\n",
    "    \n",
    "    ari_pred = np.round(metrics.adjusted_rand_score(y_pred, y_true), 2)\n",
    "    nmi_pred = np.round(metrics.normalized_mutual_info_score(y_pred, y_true), 2)\n",
    "    \n",
    "    if by == 'clusters':\n",
    "        print('Datasets: {}_{}, ARI={}, NMI={}, k={}'.format(data_name, phase, ari_pred, nmi_pred, K_pred))\n",
    "        \n",
    "    adata = sc.AnnData(pd.DataFrame(np.random.rand(len(y_pred), 1)))\n",
    "    adata.obs['pred'] = y_pred\n",
    "    adata.obs['pred'] = adata.obs['pred'].astype(str).astype('category')\n",
    "    adata.obs['true'] = y_true\n",
    "    adata.obs['true'] = adata.obs['true'].astype(str).astype('category')\n",
    "\n",
    "    adata.obsm['X_umap'] = umap\n",
    "    \n",
    "    if by == 'clusters':\n",
    "        sc.pl.umap(adata, color=['pred'], ax=ax, show=False, legend_loc='None', size=8)\n",
    "        if phase == 'split':\n",
    "            ax.set_title('K={}'.format(K_pred), fontsize=15, family='Arial')\n",
    "        else:\n",
    "            ax.set_title('K={} ARI={}'.format(K_pred, ari_pred), fontsize=15, family='Arial')\n",
    "        ax.spines['right'].set_visible(False)\n",
    "        ax.spines['top'].set_visible(False)\n",
    "        \n",
    "    else:\n",
    "        sc.pl.umap(adata, color=['true'], ax=ax, show=False, legend_loc='None', palette=col, size=8)\n",
    "        ax.spines['right'].set_visible(False)\n",
    "        ax.spines['top'].set_visible(False)"
   ]
  },
  {
   "cell_type": "code",
   "execution_count": 4,
   "id": "d7704f69-f4dd-4273-b17e-177bf21e84e2",
   "metadata": {},
   "outputs": [],
   "source": [
    "data_mat = h5py.File('dataset/Human_p.h5')\n",
    "y_true_human = np.array(data_mat['Y'], dtype='int')\n",
    "data_mat.close()\n",
    "\n",
    "data_mat = h5py.File('dataset/Human_.h5')\n",
    "y_true_pbmc = np.array(data_mat['Y'], dtype='int')\n",
    "data_mat.close()\n",
    "\n",
    "data_mat = h5py.File('dataset/Human_k.h5')\n",
    "y_true_kidney = np.array(data_mat['Y'], dtype='int')\n",
    "data_mat.close()\n",
    "\n",
    "mat, obs, var, uns = read_data('dataset/Mouse_E.h5', sparsify=False, skip_exprs=False)\n",
    "x = np.array(mat.toarray())\n",
    "cell_name = np.array(obs[\"cell_type1\"])\n",
    "cell_type, y_true_klein = np.unique(cell_name, return_inverse=True)\n",
    "\n",
    "mat, obs, var, uns = read_data('dataset/Mouse_h.h5', sparsify=False, skip_exprs=False)\n",
    "x = np.array(mat.toarray())\n",
    "cell_name = np.array(obs[\"cell_type1\"])\n",
    "cell_type, y_true_chen_1 = np.unique(cell_name, return_inverse=True)\n",
    "\n",
    "adata = sc.AnnData(x)\n",
    "adata.obs['celltype'] = y_true_chen_1\n",
    "sc.pp.filter_genes(adata, min_cells=3)\n",
    "sc.pp.filter_cells(adata, min_genes=200)\n",
    "y_true_chen_2 = np.array(adata.obs['celltype']).squeeze()\n",
    "\n",
    "mat, obs, var, uns = read_data('dataset/Mouse_k.h5', sparsify=False, skip_exprs=False)\n",
    "x = np.array(mat.toarray())\n",
    "cell_name = np.array(obs[\"cell_type1\"])\n",
    "cell_type, y_true_adam = np.unique(cell_name, return_inverse=True)\n",
    "\n",
    "mat, obs, var, uns = read_data('dataset/Turtle_b.h5', sparsify=False, skip_exprs=False)\n",
    "x = np.array(mat.toarray())\n",
    "cell_name = np.array(obs[\"cell_type1\"])\n",
    "cell_type, y_true_turtle = np.unique(cell_name, return_inverse=True)"
   ]
  },
  {
   "cell_type": "code",
   "execution_count": 5,
   "id": "86f906be-0216-4de1-8336-6970a275ab4c",
   "metadata": {},
   "outputs": [],
   "source": [
    "fig = plt.figure(figsize=(22, 5))\n",
    "sub_figs = fig.subfigures(2, 1)\n",
    "axs = []\n",
    "\n",
    "for i, sub_fig in enumerate(sub_figs):\n",
    "    axs.append(sub_fig.subplots(1, 7))\n",
    "    \n",
    "axs = np.array(axs)"
   ]
  },
  {
   "cell_type": "markdown",
   "id": "48b06f8d-83d3-4e90-8ab1-11992a52fdb9",
   "metadata": {},
   "source": [
    "# Split"
   ]
  },
  {
   "cell_type": "code",
   "execution_count": 6,
   "id": "b6044f7c-cabf-4ecb-ba05-c017ac065688",
   "metadata": {},
   "outputs": [],
   "source": [
    "human_s = np.load('results/enhancement/scAce_enhance_Seurat_human.npz')\n",
    "pbmc_s = np.load('results/enhancement/scAce_enhance_Seurat_pbmc.npz')\n",
    "kidney_s = np.load('results/enhancement/scAce_enhance_Seurat_kidney.npz')\n",
    "klein_s = np.load('results/enhancement/scAce_enhance_Seurat_klein.npz')\n",
    "chen_s = np.load('results/enhancement/scAce_enhance_Seurat_chen.npz')\n",
    "adam_s = np.load('results/enhancement/scAce_enhance_Seurat_adam.npz')\n",
    "turtle_s = np.load('results/enhancement/scAce_enhance_Seurat_turtle.npz')"
   ]
  },
  {
   "cell_type": "code",
   "execution_count": 9,
   "id": "5e543229-71f7-4471-bf4a-130a79edb983",
   "metadata": {},
   "outputs": [],
   "source": [
    "datasets = [human_s, pbmc_s, kidney_s, klein_s, chen_s, adam_s, turtle_s]"
   ]
  },
  {
   "cell_type": "code",
   "execution_count": 11,
   "id": "ea5b158d-183b-4aa6-a995-cf3afddf9875",
   "metadata": {},
   "outputs": [],
   "source": [
    "umap_init_all, umap_last_all = [], []\n",
    "for data in datasets:\n",
    "    adata_init = sc.AnnData(data['Embedding'][0])\n",
    "    sc.pp.neighbors(adata_init)\n",
    "    sc.tl.umap(adata_init, random_state=0)\n",
    "    umap_init_all.append(np.array(adata_init.obsm['X_umap']))\n",
    "    adata_last = sc.AnnData(data['Embedding'][1])\n",
    "    sc.pp.neighbors(adata_last)\n",
    "    sc.tl.umap(adata_last, random_state=0)\n",
    "    umap_last_all.append(np.array(adata_last.obsm['X_umap']))"
   ]
  },
  {
   "cell_type": "code",
   "execution_count": 7,
   "id": "94e3319e-d9cd-4b85-bad0-0159cb03db8a",
   "metadata": {},
   "outputs": [],
   "source": [
    "umap_init_all = np.load(\"umap/umap_enhance_s_init.npz\")['UMAP']\n",
    "# np.savez(\"umap/umap_enhance_init.npz\", UMAP=umap_init_all)\n",
    "\n",
    "umap_last_all = np.load(\"umap/umap_enhance_s_last.npz\")['UMAP']\n",
    "# np.savez(\"umap/umap_enhance_last.npz\", UMAP=umap_last_all)"
   ]
  },
  {
   "cell_type": "code",
   "execution_count": 8,
   "id": "bf27373a-715e-4381-9968-a3e85473a8d4",
   "metadata": {},
   "outputs": [
    {
     "name": "stdout",
     "output_type": "stream",
     "text": [
      "Datasets: Human pancreas_split, ARI=0.57, NMI=0.79, k=18\n",
      "Datasets: Human PBMC_split, ARI=0.59, NMI=0.72, k=13\n",
      "Datasets: Human kidney_split, ARI=0.4, NMI=0.66, k=24\n",
      "Datasets: Mouse ES_split, ARI=0.52, NMI=0.73, k=14\n",
      "Datasets: Mouse kidney_split, ARI=0.88, NMI=0.8, k=19\n",
      "Datasets: Mouse hypothalamus_split, ARI=0.64, NMI=0.78, k=14\n",
      "Datasets: Turtle brain_split, ARI=0.56, NMI=0.74, k=20\n"
     ]
    }
   ],
   "source": [
    "plot_cluster(human_s, 'Human pancreas', 'split', 'clusters', y_true_human, 0, axs[0][0])\n",
    "plot_cluster(pbmc_s, 'Human PBMC', 'split', 'clusters', y_true_pbmc, 1, axs[0][1])\n",
    "plot_cluster(kidney_s, 'Human kidney', 'split', 'clusters', y_true_kidney, 2, axs[0][2])\n",
    "plot_cluster(klein_s, 'Mouse ES', 'split', 'clusters', y_true_klein, 3, axs[0][3])\n",
    "plot_cluster(chen_s, 'Mouse kidney', 'split', 'clusters', y_true_chen_2, 4, axs[0][4])\n",
    "plot_cluster(adam_s, 'Mouse hypothalamus', 'split', 'clusters', y_true_adam, 5, axs[0][5])\n",
    "plot_cluster(turtle_s, 'Turtle brain', 'split', 'clusters', y_true_turtle, 6, axs[0][6])"
   ]
  },
  {
   "cell_type": "code",
   "execution_count": 9,
   "id": "5ed82d38-4565-48eb-bfe2-a87a9a5e8203",
   "metadata": {},
   "outputs": [
    {
     "data": {
      "text/plain": [
       "<Figure size 2200x500 with 14 Axes>"
      ]
     },
     "execution_count": 9,
     "metadata": {},
     "output_type": "execute_result"
    }
   ],
   "source": [
    "fig"
   ]
  },
  {
   "cell_type": "code",
   "execution_count": 10,
   "id": "ec049544-ee53-4122-80af-b4ee5bdd1dea",
   "metadata": {},
   "outputs": [],
   "source": [
    "plot_cluster(human_s, 'Human pancreas', 'split', 'labels', y_true_human, 0, axs[1][0])\n",
    "plot_cluster(pbmc_s, 'Human PBMC', 'split', 'labels', y_true_pbmc, 1, axs[1][1])\n",
    "plot_cluster(kidney_s, 'Human kidney', 'split', 'labels', y_true_kidney, 2, axs[1][2])\n",
    "plot_cluster(klein_s, 'Mouse ES', 'split', 'labels', y_true_klein, 3, axs[1][3])\n",
    "plot_cluster(chen_s, 'Mouse kidney', 'split', 'labels', y_true_chen_2, 4, axs[1][4])\n",
    "plot_cluster(adam_s, 'Mouse hypothalamus', 'split', 'labels', y_true_adam, 5, axs[1][5])\n",
    "plot_cluster(turtle_s, 'Turtle brain', 'split', 'labels', y_true_turtle, 6, axs[1][6])"
   ]
  },
  {
   "cell_type": "code",
   "execution_count": 11,
   "id": "9365d09f-c2d5-43cc-8e0d-2da9db9c1a8a",
   "metadata": {},
   "outputs": [
    {
     "data": {
      "text/plain": [
       "<Figure size 2200x500 with 14 Axes>"
      ]
     },
     "execution_count": 11,
     "metadata": {},
     "output_type": "execute_result"
    }
   ],
   "source": [
    "fig"
   ]
  },
  {
   "cell_type": "code",
   "execution_count": 12,
   "id": "3544149c-2106-4aa6-b4fc-65addbde3b0c",
   "metadata": {},
   "outputs": [],
   "source": [
    "plt.savefig('Figures/Figure7B.svg', dpi=300, format='svg', bbox_inches='tight')"
   ]
  },
  {
   "cell_type": "markdown",
   "id": "c723f2ce-65ef-4957-a5ca-26b60549b4d9",
   "metadata": {},
   "source": [
    "# Enhance"
   ]
  },
  {
   "cell_type": "code",
   "execution_count": 13,
   "id": "321ecc28-cd98-43b1-8a92-d23603a5de52",
   "metadata": {},
   "outputs": [],
   "source": [
    "fig = plt.figure(figsize=(22, 5))\n",
    "sub_figs = fig.subfigures(2, 1)\n",
    "axs = []\n",
    "\n",
    "for i, sub_fig in enumerate(sub_figs):\n",
    "    axs.append(sub_fig.subplots(1, 7))\n",
    "\n",
    "axs = np.array(axs)"
   ]
  },
  {
   "cell_type": "code",
   "execution_count": 14,
   "id": "33f1a746-e2f4-4082-98b2-f532374584cb",
   "metadata": {},
   "outputs": [
    {
     "name": "stdout",
     "output_type": "stream",
     "text": [
      "Datasets: Human pancreas_enhance, ARI=0.9, NMI=0.88, k=5\n",
      "Datasets: Human PBMC_enhance, ARI=0.81, NMI=0.81, k=8\n",
      "Datasets: Human kidney_enhance, ARI=0.53, NMI=0.72, k=12\n",
      "Datasets: Mouse ES_enhance, ARI=0.91, NMI=0.92, k=5\n",
      "Datasets: Mouse kidney_enhance, ARI=0.79, NMI=0.79, k=8\n",
      "Datasets: Mouse hypothalamus_enhance, ARI=0.9, NMI=0.89, k=8\n",
      "Datasets: Turtle brain_enhance, ARI=0.72, NMI=0.72, k=5\n"
     ]
    }
   ],
   "source": [
    "plot_cluster(human_s, 'Human pancreas', 'enhance', 'clusters', y_true_human, 0, axs[0][0])\n",
    "plot_cluster(pbmc_s, 'Human PBMC', 'enhance', 'clusters', y_true_pbmc, 1, axs[0][1])\n",
    "plot_cluster(kidney_s, 'Human kidney', 'enhance', 'clusters', y_true_kidney, 2, axs[0][2])\n",
    "plot_cluster(klein_s, 'Mouse ES', 'enhance', 'clusters', y_true_klein, 3, axs[0][3])\n",
    "plot_cluster(chen_s, 'Mouse kidney', 'enhance', 'clusters', y_true_chen_2, 4, axs[0][4])\n",
    "plot_cluster(adam_s, 'Mouse hypothalamus', 'enhance', 'clusters', y_true_adam, 5, axs[0][5])\n",
    "plot_cluster(turtle_s, 'Turtle brain', 'enhance', 'clusters', y_true_turtle, 6, axs[0][6])"
   ]
  },
  {
   "cell_type": "code",
   "execution_count": 15,
   "id": "6e30878b-c9c8-45d7-9845-b92977cb6fc7",
   "metadata": {},
   "outputs": [],
   "source": [
    "plot_cluster(human_s, 'Human pancreas', 'enhance', 'labels', y_true_human, 0, axs[1][0])\n",
    "plot_cluster(pbmc_s, 'Human PBMC', 'enhance', 'labels', y_true_pbmc, 1, axs[1][1])\n",
    "plot_cluster(kidney_s, 'Human kidney', 'enhance', 'labels', y_true_kidney, 2, axs[1][2])\n",
    "plot_cluster(klein_s, 'Mouse ES', 'enhance', 'labels', y_true_klein, 3, axs[1][3])\n",
    "plot_cluster(chen_s, 'Mouse kidney', 'enhance', 'labels', y_true_chen_2, 4, axs[1][4])\n",
    "plot_cluster(adam_s, 'Mouse hypothalamus', 'enhance', 'labels', y_true_adam, 5, axs[1][5])\n",
    "plot_cluster(turtle_s, 'Turtle brain', 'enhance', 'labels', y_true_turtle, 6, axs[1][6])"
   ]
  },
  {
   "cell_type": "code",
   "execution_count": 16,
   "id": "42797add-0511-496a-9d10-acf381aeed96",
   "metadata": {},
   "outputs": [
    {
     "data": {
      "text/plain": [
       "<Figure size 2200x500 with 14 Axes>"
      ]
     },
     "execution_count": 16,
     "metadata": {},
     "output_type": "execute_result"
    }
   ],
   "source": [
    "fig"
   ]
  },
  {
   "cell_type": "code",
   "execution_count": 17,
   "id": "7cd48f3a-ee8e-4627-99af-d4fbaf1ae19b",
   "metadata": {},
   "outputs": [],
   "source": [
    "plt.savefig('Figures/Figure7C.svg', dpi=300, format='svg', bbox_inches='tight')"
   ]
  },
  {
   "cell_type": "code",
   "execution_count": null,
   "id": "80eb2bc2-d25f-4e5d-9acb-5860e8835f28",
   "metadata": {},
   "outputs": [],
   "source": []
  }
 ],
 "metadata": {
  "kernelspec": {
   "display_name": "Python 3",
   "language": "python",
   "name": "python3"
  },
  "language_info": {
   "codemirror_mode": {
    "name": "ipython",
    "version": 3
   },
   "file_extension": ".py",
   "mimetype": "text/x-python",
   "name": "python",
   "nbconvert_exporter": "python",
   "pygments_lexer": "ipython3",
   "version": "3.8.8"
  }
 },
 "nbformat": 4,
 "nbformat_minor": 5
}