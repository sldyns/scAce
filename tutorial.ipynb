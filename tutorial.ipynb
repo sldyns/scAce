{
 "cells": [
  {
   "cell_type": "markdown",
   "id": "4a6af6ef-5ae5-4404-93ce-f857079e9c45",
   "metadata": {},
   "source": [
    "## Load required packages"
   ]
  },
  {
   "cell_type": "code",
   "execution_count": 1,
   "id": "de3284a7-a6a2-4e80-863e-b5f2260dd16c",
   "metadata": {},
   "outputs": [],
   "source": [
    "import h5py\n",
    "import numpy as np\n",
    "import scanpy as sc\n",
    "import torch\n",
    "import random\n",
    "\n",
    "from scace import run_scace"
   ]
  },
  {
   "cell_type": "markdown",
   "id": "2a6e1711-a278-4bad-8f32-f7a108923cb7",
   "metadata": {},
   "source": [
    "## Set seed"
   ]
  },
  {
   "cell_type": "code",
   "execution_count": 2,
   "id": "22220318-6e7c-4567-886b-06e228ba6067",
   "metadata": {},
   "outputs": [],
   "source": [
    "seed = 666\n",
    "np.random.seed(seed)\n",
    "random.seed(seed)\n",
    "torch.manual_seed(seed)\n",
    "torch.cuda.manual_seed(seed)\n",
    "torch.cuda.manual_seed_all(seed)"
   ]
  },
  {
   "cell_type": "markdown",
   "id": "b35bab70-8a81-46d1-9452-4fc7a8a5ff84",
   "metadata": {},
   "source": [
    "## Read data"
   ]
  },
  {
   "cell_type": "code",
   "execution_count": 3,
   "id": "4dd2fc16-538a-4ad8-96ba-ad4720699c18",
   "metadata": {},
   "outputs": [
    {
     "name": "stderr",
     "output_type": "stream",
     "text": [
      "/tmp/ipykernel_6091/3057746641.py:7: FutureWarning: X.dtype being converted to np.float32 from int64. In the next version of anndata (0.9) conversion will not be automatic. Pass dtype explicitly to avoid this warning. Pass `AnnData(X, dtype=X.dtype, ...)` to get the future behavour.\n",
      "  adata = sc.AnnData(x)\n"
     ]
    }
   ],
   "source": [
    "# This data could be downloaded from https://drive.google.com/drive/folders/1c33An3HNdJQhazoy_ky9E-lCc3a4y7fl\n",
    "\n",
    "data_mat = h5py.File('Sim.h5')\n",
    "x, y = np.array(data_mat['X']), np.array(data_mat['Y'])\n",
    "data_mat.close()\n",
    "\n",
    "adata = sc.AnnData(x)\n",
    "adata.obs['celltype'] = y"
   ]
  },
  {
   "cell_type": "markdown",
   "id": "ddca476f-9c28-4658-87d9-51b20b9a79ad",
   "metadata": {},
   "source": [
    "## Perform data pre-processing"
   ]
  },
  {
   "cell_type": "code",
   "execution_count": 4,
   "id": "a1f7691e-b86d-404a-a946-ecf1080692a9",
   "metadata": {},
   "outputs": [],
   "source": [
    "sc.pp.filter_genes(adata, min_cells=3)\n",
    "sc.pp.filter_cells(adata, min_genes=200)\n",
    "adata.raw = adata.copy()\n",
    "\n",
    "sc.pp.normalize_per_cell(adata)\n",
    "adata.obs['scale_factor'] = adata.obs.n_counts / adata.obs.n_counts.mean()\n",
    "\n",
    "sc.pp.log1p(adata)\n",
    "sc.pp.scale(adata)"
   ]
  },
  {
   "cell_type": "code",
   "execution_count": 5,
   "id": "6fbee8f1-5001-4f4e-b74e-6407a616b80f",
   "metadata": {},
   "outputs": [
    {
     "data": {
      "text/plain": [
       "AnnData object with n_obs × n_vars = 1150 × 12305\n",
       "    obs: 'celltype', 'n_genes', 'n_counts', 'scale_factor'\n",
       "    var: 'n_cells', 'mean', 'std'\n",
       "    uns: 'log1p'"
      ]
     },
     "execution_count": 5,
     "metadata": {},
     "output_type": "execute_result"
    }
   ],
   "source": [
    "adata"
   ]
  },
  {
   "cell_type": "markdown",
   "id": "f2681c36-5291-41b6-9900-6d68514f7d00",
   "metadata": {},
   "source": [
    "## Run scAce"
   ]
  },
  {
   "cell_type": "markdown",
   "id": "20c4f0b6-1907-458b-a8db-df5eed353e54",
   "metadata": {},
   "source": [
    "In default mode, function `run_scace` would return an AnnData object with embedding and clustering result stored in `adata.obsm['scace_emb']` and `adata.obs['scace_cluster']`"
   ]
  },
  {
   "cell_type": "code",
   "execution_count": 6,
   "id": "4b35c0be-e950-4a61-bfaa-645a283088d4",
   "metadata": {},
   "outputs": [],
   "source": [
    "# adata = run_scace(adata)"
   ]
  },
  {
   "cell_type": "markdown",
   "id": "9f899136-463a-4370-bef5-81cfd52a639f",
   "metadata": {},
   "source": [
    "If return_all is True, function `run_scace` would print and return all temporate results:\n",
    "\n",
    "- K: Final number of clusters.\n",
    "- pred_all: All temporary clustering results.\n",
    "- emb_all: All temporary embedding.\n"
   ]
  },
  {
   "cell_type": "code",
   "execution_count": 7,
   "id": "6d747efb-4e95-4dd8-ba1c-9f96ccadf997",
   "metadata": {},
   "outputs": [],
   "source": [
    "# adata, K, pred_all, emb_all, run_time = run_scace(adata, return_all=True)"
   ]
  },
  {
   "cell_type": "markdown",
   "id": "8ac85e53-545a-431b-bb80-afbb166fd181",
   "metadata": {},
   "source": [
    "If the key of grount truth cell type (i.e. `cl_type`) is also provided, ARI and NMI will also be returned."
   ]
  },
  {
   "cell_type": "code",
   "execution_count": 8,
   "id": "e904dfda-0a80-4743-8beb-ee28d6e1513e",
   "metadata": {
    "tags": []
   },
   "outputs": [
    {
     "name": "stdout",
     "output_type": "stream",
     "text": [
      "Start pre-training! Total epochs is 200.\n"
     ]
    },
    {
     "name": "stderr",
     "output_type": "stream",
     "text": [
      "Pre-training::   0%|▍                                                                                        | 1/200 [00:00<01:50,  1.80epoch/s]"
     ]
    },
    {
     "name": "stdout",
     "output_type": "stream",
     "text": [
      "Pre-training epoch [1/200]. Average ZINB loss:0.5733, kld loss:8.0231, total loss:0.5813\n"
     ]
    },
    {
     "name": "stderr",
     "output_type": "stream",
     "text": [
      "Pre-training::   1%|▉                                                                                        | 2/200 [00:00<01:11,  2.78epoch/s]"
     ]
    },
    {
     "name": "stdout",
     "output_type": "stream",
     "text": [
      "Pre-training epoch [2/200]. Average ZINB loss:0.5179, kld loss:6.6668, total loss:0.5246\n"
     ]
    },
    {
     "name": "stderr",
     "output_type": "stream",
     "text": [
      "Pre-training::   2%|█▎                                                                                       | 3/200 [00:00<00:57,  3.41epoch/s]"
     ]
    },
    {
     "name": "stdout",
     "output_type": "stream",
     "text": [
      "Pre-training epoch [3/200]. Average ZINB loss:0.4736, kld loss:7.4299, total loss:0.4810\n"
     ]
    },
    {
     "name": "stderr",
     "output_type": "stream",
     "text": [
      "Pre-training::   2%|█▊                                                                                       | 4/200 [00:01<01:13,  2.65epoch/s]"
     ]
    },
    {
     "name": "stdout",
     "output_type": "stream",
     "text": [
      "Pre-training epoch [4/200]. Average ZINB loss:0.4355, kld loss:9.7420, total loss:0.4452\n"
     ]
    },
    {
     "name": "stderr",
     "output_type": "stream",
     "text": [
      "Pre-training::   2%|██▏                                                                                      | 5/200 [00:01<01:14,  2.61epoch/s]"
     ]
    },
    {
     "name": "stdout",
     "output_type": "stream",
     "text": [
      "Pre-training epoch [5/200]. Average ZINB loss:0.4035, kld loss:13.3643, total loss:0.4169\n"
     ]
    },
    {
     "name": "stderr",
     "output_type": "stream",
     "text": [
      "Pre-training::   4%|███                                                                                      | 7/200 [00:02<00:52,  3.66epoch/s]"
     ]
    },
    {
     "name": "stdout",
     "output_type": "stream",
     "text": [
      "Pre-training epoch [6/200]. Average ZINB loss:0.3833, kld loss:15.9713, total loss:0.3992\n",
      "Pre-training epoch [7/200]. Average ZINB loss:0.3699, kld loss:15.8208, total loss:0.3857\n"
     ]
    },
    {
     "name": "stderr",
     "output_type": "stream",
     "text": [
      "Pre-training::   4%|███▌                                                                                     | 8/200 [00:02<00:46,  4.10epoch/s]"
     ]
    },
    {
     "name": "stdout",
     "output_type": "stream",
     "text": [
      "Pre-training epoch [8/200]. Average ZINB loss:0.3625, kld loss:13.6596, total loss:0.3761\n"
     ]
    },
    {
     "name": "stderr",
     "output_type": "stream",
     "text": [
      "Pre-training::   4%|████                                                                                     | 9/200 [00:02<00:46,  4.14epoch/s]"
     ]
    },
    {
     "name": "stdout",
     "output_type": "stream",
     "text": [
      "Pre-training epoch [9/200]. Average ZINB loss:0.3565, kld loss:12.0930, total loss:0.3686\n"
     ]
    },
    {
     "name": "stderr",
     "output_type": "stream",
     "text": [
      "Pre-training::   5%|████▍                                                                                   | 10/200 [00:02<00:46,  4.07epoch/s]"
     ]
    },
    {
     "name": "stdout",
     "output_type": "stream",
     "text": [
      "Pre-training epoch [10/200]. Average ZINB loss:0.3520, kld loss:11.4435, total loss:0.3635\n"
     ]
    },
    {
     "name": "stderr",
     "output_type": "stream",
     "text": [
      "Pre-training::   6%|████▊                                                                                   | 11/200 [00:03<00:51,  3.66epoch/s]"
     ]
    },
    {
     "name": "stdout",
     "output_type": "stream",
     "text": [
      "Pre-training epoch [11/200]. Average ZINB loss:0.3467, kld loss:11.5786, total loss:0.3583\n"
     ]
    },
    {
     "name": "stderr",
     "output_type": "stream",
     "text": [
      "Pre-training::   6%|█████▎                                                                                  | 12/200 [00:03<00:57,  3.28epoch/s]"
     ]
    },
    {
     "name": "stdout",
     "output_type": "stream",
     "text": [
      "Pre-training epoch [12/200]. Average ZINB loss:0.3430, kld loss:11.8685, total loss:0.3549\n"
     ]
    },
    {
     "name": "stderr",
     "output_type": "stream",
     "text": [
      "Pre-training::   6%|█████▋                                                                                  | 13/200 [00:04<01:10,  2.66epoch/s]"
     ]
    },
    {
     "name": "stdout",
     "output_type": "stream",
     "text": [
      "Pre-training epoch [13/200]. Average ZINB loss:0.3401, kld loss:11.8069, total loss:0.3519\n"
     ]
    },
    {
     "name": "stderr",
     "output_type": "stream",
     "text": [
      "Pre-training::   8%|██████▌                                                                                 | 15/200 [00:04<00:53,  3.48epoch/s]"
     ]
    },
    {
     "name": "stdout",
     "output_type": "stream",
     "text": [
      "Pre-training epoch [14/200]. Average ZINB loss:0.3380, kld loss:11.4198, total loss:0.3494\n",
      "Pre-training epoch [15/200]. Average ZINB loss:0.3352, kld loss:11.1584, total loss:0.3464\n"
     ]
    },
    {
     "name": "stderr",
     "output_type": "stream",
     "text": [
      "Pre-training::   8%|███████▍                                                                                | 17/200 [00:04<00:41,  4.41epoch/s]"
     ]
    },
    {
     "name": "stdout",
     "output_type": "stream",
     "text": [
      "Pre-training epoch [16/200]. Average ZINB loss:0.3336, kld loss:10.9405, total loss:0.3445\n",
      "Pre-training epoch [17/200]. Average ZINB loss:0.3315, kld loss:10.9457, total loss:0.3425\n"
     ]
    },
    {
     "name": "stderr",
     "output_type": "stream",
     "text": [
      "Pre-training::  10%|████████▎                                                                               | 19/200 [00:05<00:38,  4.68epoch/s]"
     ]
    },
    {
     "name": "stdout",
     "output_type": "stream",
     "text": [
      "Pre-training epoch [18/200]. Average ZINB loss:0.3297, kld loss:10.9750, total loss:0.3406\n",
      "Pre-training epoch [19/200]. Average ZINB loss:0.3284, kld loss:10.5979, total loss:0.3390\n"
     ]
    },
    {
     "name": "stderr",
     "output_type": "stream",
     "text": [
      "Pre-training::  10%|████████▊                                                                               | 20/200 [00:05<00:44,  4.04epoch/s]"
     ]
    },
    {
     "name": "stdout",
     "output_type": "stream",
     "text": [
      "Pre-training epoch [20/200]. Average ZINB loss:0.3277, kld loss:10.1819, total loss:0.3378\n"
     ]
    },
    {
     "name": "stderr",
     "output_type": "stream",
     "text": [
      "Pre-training::  10%|█████████▏                                                                              | 21/200 [00:05<00:46,  3.81epoch/s]"
     ]
    },
    {
     "name": "stdout",
     "output_type": "stream",
     "text": [
      "Pre-training epoch [21/200]. Average ZINB loss:0.3261, kld loss:10.2093, total loss:0.3363\n"
     ]
    },
    {
     "name": "stderr",
     "output_type": "stream",
     "text": [
      "Pre-training::  12%|██████████                                                                              | 23/200 [00:06<00:40,  4.33epoch/s]"
     ]
    },
    {
     "name": "stdout",
     "output_type": "stream",
     "text": [
      "Pre-training epoch [22/200]. Average ZINB loss:0.3259, kld loss:10.1210, total loss:0.3360\n",
      "Pre-training epoch [23/200]. Average ZINB loss:0.3242, kld loss:9.9041, total loss:0.3341\n"
     ]
    },
    {
     "name": "stderr",
     "output_type": "stream",
     "text": [
      "Pre-training::  12%|██████████▌                                                                             | 24/200 [00:06<00:43,  4.02epoch/s]"
     ]
    },
    {
     "name": "stdout",
     "output_type": "stream",
     "text": [
      "Pre-training epoch [24/200]. Average ZINB loss:0.3241, kld loss:9.6301, total loss:0.3337\n"
     ]
    },
    {
     "name": "stderr",
     "output_type": "stream",
     "text": [
      "Pre-training::  12%|███████████                                                                             | 25/200 [00:06<00:43,  4.02epoch/s]"
     ]
    },
    {
     "name": "stdout",
     "output_type": "stream",
     "text": [
      "Pre-training epoch [25/200]. Average ZINB loss:0.3232, kld loss:9.6549, total loss:0.3328\n"
     ]
    },
    {
     "name": "stderr",
     "output_type": "stream",
     "text": [
      "Pre-training::  14%|███████████▉                                                                            | 27/200 [00:07<00:34,  4.96epoch/s]"
     ]
    },
    {
     "name": "stdout",
     "output_type": "stream",
     "text": [
      "Pre-training epoch [26/200]. Average ZINB loss:0.3231, kld loss:9.6683, total loss:0.3328\n",
      "Pre-training epoch [27/200]. Average ZINB loss:0.3211, kld loss:9.3786, total loss:0.3305\n"
     ]
    },
    {
     "name": "stderr",
     "output_type": "stream",
     "text": [
      "Pre-training::  14%|████████████▊                                                                           | 29/200 [00:07<00:28,  6.04epoch/s]"
     ]
    },
    {
     "name": "stdout",
     "output_type": "stream",
     "text": [
      "Pre-training epoch [28/200]. Average ZINB loss:0.3212, kld loss:9.1402, total loss:0.3303\n",
      "Pre-training epoch [29/200]. Average ZINB loss:0.3203, kld loss:8.9409, total loss:0.3292\n"
     ]
    },
    {
     "name": "stderr",
     "output_type": "stream",
     "text": [
      "Pre-training::  15%|█████████████▏                                                                          | 30/200 [00:07<00:29,  5.70epoch/s]"
     ]
    },
    {
     "name": "stdout",
     "output_type": "stream",
     "text": [
      "Pre-training epoch [30/200]. Average ZINB loss:0.3203, kld loss:8.9904, total loss:0.3292\n"
     ]
    },
    {
     "name": "stderr",
     "output_type": "stream",
     "text": [
      "Pre-training::  16%|█████████████▋                                                                          | 31/200 [00:07<00:32,  5.24epoch/s]"
     ]
    },
    {
     "name": "stdout",
     "output_type": "stream",
     "text": [
      "Pre-training epoch [31/200]. Average ZINB loss:0.3196, kld loss:8.9882, total loss:0.3286\n"
     ]
    },
    {
     "name": "stderr",
     "output_type": "stream",
     "text": [
      "Pre-training::  16%|██████████████                                                                          | 32/200 [00:08<00:36,  4.63epoch/s]"
     ]
    },
    {
     "name": "stdout",
     "output_type": "stream",
     "text": [
      "Pre-training epoch [32/200]. Average ZINB loss:0.3194, kld loss:8.8761, total loss:0.3283\n"
     ]
    },
    {
     "name": "stderr",
     "output_type": "stream",
     "text": [
      "Pre-training::  17%|██████████████▉                                                                         | 34/200 [00:08<00:38,  4.32epoch/s]"
     ]
    },
    {
     "name": "stdout",
     "output_type": "stream",
     "text": [
      "Pre-training epoch [33/200]. Average ZINB loss:0.3190, kld loss:8.6779, total loss:0.3277\n",
      "Pre-training epoch [34/200]. Average ZINB loss:0.3180, kld loss:8.7563, total loss:0.3268\n"
     ]
    },
    {
     "name": "stderr",
     "output_type": "stream",
     "text": [
      "Pre-training::  18%|███████████████▍                                                                        | 35/200 [00:08<00:32,  5.01epoch/s]"
     ]
    },
    {
     "name": "stdout",
     "output_type": "stream",
     "text": [
      "Pre-training epoch [35/200]. Average ZINB loss:0.3181, kld loss:8.8074, total loss:0.3270\n"
     ]
    },
    {
     "name": "stderr",
     "output_type": "stream",
     "text": [
      "Pre-training::  18%|███████████████▊                                                                        | 36/200 [00:09<00:34,  4.71epoch/s]"
     ]
    },
    {
     "name": "stdout",
     "output_type": "stream",
     "text": [
      "Pre-training epoch [36/200]. Average ZINB loss:0.3171, kld loss:8.5001, total loss:0.3256\n"
     ]
    },
    {
     "name": "stderr",
     "output_type": "stream",
     "text": [
      "Pre-training::  19%|████████████████▋                                                                       | 38/200 [00:09<00:38,  4.24epoch/s]"
     ]
    },
    {
     "name": "stdout",
     "output_type": "stream",
     "text": [
      "Pre-training epoch [37/200]. Average ZINB loss:0.3170, kld loss:8.2714, total loss:0.3253\n",
      "Pre-training epoch [38/200]. Average ZINB loss:0.3159, kld loss:8.3449, total loss:0.3242\n"
     ]
    },
    {
     "name": "stderr",
     "output_type": "stream",
     "text": [
      "Pre-training::  20%|█████████████████▏                                                                      | 39/200 [00:09<00:33,  4.77epoch/s]"
     ]
    },
    {
     "name": "stdout",
     "output_type": "stream",
     "text": [
      "Pre-training epoch [39/200]. Average ZINB loss:0.3161, kld loss:8.5014, total loss:0.3246\n"
     ]
    },
    {
     "name": "stderr",
     "output_type": "stream",
     "text": [
      "Pre-training::  20%|█████████████████▌                                                                      | 40/200 [00:10<00:43,  3.71epoch/s]"
     ]
    },
    {
     "name": "stdout",
     "output_type": "stream",
     "text": [
      "Pre-training epoch [40/200]. Average ZINB loss:0.3156, kld loss:8.3012, total loss:0.3239\n"
     ]
    },
    {
     "name": "stderr",
     "output_type": "stream",
     "text": [
      "Pre-training::  20%|██████████████████                                                                      | 41/200 [00:10<00:53,  2.97epoch/s]"
     ]
    },
    {
     "name": "stdout",
     "output_type": "stream",
     "text": [
      "Pre-training epoch [41/200]. Average ZINB loss:0.3153, kld loss:8.1473, total loss:0.3235\n"
     ]
    },
    {
     "name": "stderr",
     "output_type": "stream",
     "text": [
      "Pre-training::  21%|██████████████████▍                                                                     | 42/200 [00:11<00:55,  2.85epoch/s]"
     ]
    },
    {
     "name": "stdout",
     "output_type": "stream",
     "text": [
      "Pre-training epoch [42/200]. Average ZINB loss:0.3154, kld loss:8.0555, total loss:0.3235\n"
     ]
    },
    {
     "name": "stderr",
     "output_type": "stream",
     "text": [
      "Pre-training::  22%|██████████████████▉                                                                     | 43/200 [00:11<00:56,  2.80epoch/s]"
     ]
    },
    {
     "name": "stdout",
     "output_type": "stream",
     "text": [
      "Pre-training epoch [43/200]. Average ZINB loss:0.3148, kld loss:8.0734, total loss:0.3229\n"
     ]
    },
    {
     "name": "stderr",
     "output_type": "stream",
     "text": [
      "Pre-training::  22%|███████████████████▎                                                                    | 44/200 [00:11<00:52,  2.97epoch/s]"
     ]
    },
    {
     "name": "stdout",
     "output_type": "stream",
     "text": [
      "Pre-training epoch [44/200]. Average ZINB loss:0.3142, kld loss:8.1997, total loss:0.3224\n"
     ]
    },
    {
     "name": "stderr",
     "output_type": "stream",
     "text": [
      "Pre-training::  22%|███████████████████▊                                                                    | 45/200 [00:12<00:49,  3.13epoch/s]"
     ]
    },
    {
     "name": "stdout",
     "output_type": "stream",
     "text": [
      "Pre-training epoch [45/200]. Average ZINB loss:0.3147, kld loss:8.2163, total loss:0.3229\n"
     ]
    },
    {
     "name": "stderr",
     "output_type": "stream",
     "text": [
      "Pre-training::  23%|████████████████████▏                                                                   | 46/200 [00:12<00:50,  3.07epoch/s]"
     ]
    },
    {
     "name": "stdout",
     "output_type": "stream",
     "text": [
      "Pre-training epoch [46/200]. Average ZINB loss:0.3140, kld loss:8.1265, total loss:0.3221\n"
     ]
    },
    {
     "name": "stderr",
     "output_type": "stream",
     "text": [
      "Pre-training::  24%|████████████████████▋                                                                   | 47/200 [00:12<00:44,  3.42epoch/s]"
     ]
    },
    {
     "name": "stdout",
     "output_type": "stream",
     "text": [
      "Pre-training epoch [47/200]. Average ZINB loss:0.3129, kld loss:8.0021, total loss:0.3209\n"
     ]
    },
    {
     "name": "stderr",
     "output_type": "stream",
     "text": [
      "Pre-training::  24%|█████████████████████                                                                   | 48/200 [00:12<00:46,  3.28epoch/s]"
     ]
    },
    {
     "name": "stdout",
     "output_type": "stream",
     "text": [
      "Pre-training epoch [48/200]. Average ZINB loss:0.3133, kld loss:8.1598, total loss:0.3215\n"
     ]
    },
    {
     "name": "stderr",
     "output_type": "stream",
     "text": [
      "Pre-training::  24%|█████████████████████▌                                                                  | 49/200 [00:13<00:42,  3.54epoch/s]"
     ]
    },
    {
     "name": "stdout",
     "output_type": "stream",
     "text": [
      "Pre-training epoch [49/200]. Average ZINB loss:0.3132, kld loss:7.9934, total loss:0.3212\n"
     ]
    },
    {
     "name": "stderr",
     "output_type": "stream",
     "text": [
      "Pre-training::  26%|██████████████████████▍                                                                 | 51/200 [00:13<00:35,  4.14epoch/s]"
     ]
    },
    {
     "name": "stdout",
     "output_type": "stream",
     "text": [
      "Pre-training epoch [50/200]. Average ZINB loss:0.3125, kld loss:7.7893, total loss:0.3203\n",
      "Pre-training epoch [51/200]. Average ZINB loss:0.3127, kld loss:7.7838, total loss:0.3205\n"
     ]
    },
    {
     "name": "stderr",
     "output_type": "stream",
     "text": [
      "Pre-training::  26%|███████████████████████▎                                                                | 53/200 [00:14<00:35,  4.10epoch/s]"
     ]
    },
    {
     "name": "stdout",
     "output_type": "stream",
     "text": [
      "Pre-training epoch [52/200]. Average ZINB loss:0.3111, kld loss:7.8781, total loss:0.3189\n",
      "Pre-training epoch [53/200]. Average ZINB loss:0.3117, kld loss:7.9281, total loss:0.3196\n"
     ]
    },
    {
     "name": "stderr",
     "output_type": "stream",
     "text": [
      "Pre-training::  27%|███████████████████████▊                                                                | 54/200 [00:14<00:32,  4.46epoch/s]"
     ]
    },
    {
     "name": "stdout",
     "output_type": "stream",
     "text": [
      "Pre-training epoch [54/200]. Average ZINB loss:0.3112, kld loss:7.7601, total loss:0.3190\n"
     ]
    },
    {
     "name": "stderr",
     "output_type": "stream",
     "text": [
      "Pre-training::  28%|████████████████████████▏                                                               | 55/200 [00:14<00:42,  3.39epoch/s]"
     ]
    },
    {
     "name": "stdout",
     "output_type": "stream",
     "text": [
      "Pre-training epoch [55/200]. Average ZINB loss:0.3112, kld loss:7.8591, total loss:0.3190\n"
     ]
    },
    {
     "name": "stderr",
     "output_type": "stream",
     "text": [
      "Pre-training::  28%|████████████████████████▋                                                               | 56/200 [00:15<00:41,  3.45epoch/s]"
     ]
    },
    {
     "name": "stdout",
     "output_type": "stream",
     "text": [
      "Pre-training epoch [56/200]. Average ZINB loss:0.3113, kld loss:7.7037, total loss:0.3191\n"
     ]
    },
    {
     "name": "stderr",
     "output_type": "stream",
     "text": [
      "Pre-training::  28%|█████████████████████████                                                               | 57/200 [00:15<00:41,  3.44epoch/s]"
     ]
    },
    {
     "name": "stdout",
     "output_type": "stream",
     "text": [
      "Pre-training epoch [57/200]. Average ZINB loss:0.3108, kld loss:7.6866, total loss:0.3184\n"
     ]
    },
    {
     "name": "stderr",
     "output_type": "stream",
     "text": [
      "Pre-training::  29%|█████████████████████████▌                                                              | 58/200 [00:15<00:40,  3.48epoch/s]"
     ]
    },
    {
     "name": "stdout",
     "output_type": "stream",
     "text": [
      "Pre-training epoch [58/200]. Average ZINB loss:0.3101, kld loss:7.7175, total loss:0.3178\n"
     ]
    },
    {
     "name": "stderr",
     "output_type": "stream",
     "text": [
      "Pre-training::  30%|█████████████████████████▉                                                              | 59/200 [00:15<00:41,  3.40epoch/s]"
     ]
    },
    {
     "name": "stdout",
     "output_type": "stream",
     "text": [
      "Pre-training epoch [59/200]. Average ZINB loss:0.3111, kld loss:7.6146, total loss:0.3188\n"
     ]
    },
    {
     "name": "stderr",
     "output_type": "stream",
     "text": [
      "Pre-training::  30%|██████████████████████████▍                                                             | 60/200 [00:16<00:43,  3.18epoch/s]"
     ]
    },
    {
     "name": "stdout",
     "output_type": "stream",
     "text": [
      "Pre-training epoch [60/200]. Average ZINB loss:0.3100, kld loss:7.5473, total loss:0.3175\n"
     ]
    },
    {
     "name": "stderr",
     "output_type": "stream",
     "text": [
      "Pre-training::  30%|██████████████████████████▊                                                             | 61/200 [00:16<00:43,  3.23epoch/s]"
     ]
    },
    {
     "name": "stdout",
     "output_type": "stream",
     "text": [
      "Pre-training epoch [61/200]. Average ZINB loss:0.3098, kld loss:7.6651, total loss:0.3175\n"
     ]
    },
    {
     "name": "stderr",
     "output_type": "stream",
     "text": [
      "Pre-training::  31%|███████████████████████████▎                                                            | 62/200 [00:16<00:41,  3.31epoch/s]"
     ]
    },
    {
     "name": "stdout",
     "output_type": "stream",
     "text": [
      "Pre-training epoch [62/200]. Average ZINB loss:0.3098, kld loss:7.4353, total loss:0.3173\n"
     ]
    },
    {
     "name": "stderr",
     "output_type": "stream",
     "text": [
      "Pre-training::  32%|████████████████████████████▏                                                           | 64/200 [00:17<00:35,  3.83epoch/s]"
     ]
    },
    {
     "name": "stdout",
     "output_type": "stream",
     "text": [
      "Pre-training epoch [63/200]. Average ZINB loss:0.3102, kld loss:7.4651, total loss:0.3176\n",
      "Pre-training epoch [64/200]. Average ZINB loss:0.3087, kld loss:7.7333, total loss:0.3164\n"
     ]
    },
    {
     "name": "stderr",
     "output_type": "stream",
     "text": [
      "Pre-training::  32%|████████████████████████████▌                                                           | 65/200 [00:17<00:34,  3.88epoch/s]"
     ]
    },
    {
     "name": "stdout",
     "output_type": "stream",
     "text": [
      "Pre-training epoch [65/200]. Average ZINB loss:0.3094, kld loss:7.6760, total loss:0.3170\n"
     ]
    },
    {
     "name": "stderr",
     "output_type": "stream",
     "text": [
      "Pre-training::  33%|█████████████████████████████                                                           | 66/200 [00:17<00:41,  3.20epoch/s]"
     ]
    },
    {
     "name": "stdout",
     "output_type": "stream",
     "text": [
      "Pre-training epoch [66/200]. Average ZINB loss:0.3090, kld loss:7.5263, total loss:0.3165\n"
     ]
    },
    {
     "name": "stderr",
     "output_type": "stream",
     "text": [
      "Pre-training::  34%|█████████████████████████████▍                                                          | 67/200 [00:18<00:51,  2.57epoch/s]"
     ]
    },
    {
     "name": "stdout",
     "output_type": "stream",
     "text": [
      "Pre-training epoch [67/200]. Average ZINB loss:0.3088, kld loss:7.6126, total loss:0.3164\n"
     ]
    },
    {
     "name": "stderr",
     "output_type": "stream",
     "text": [
      "Pre-training::  34%|█████████████████████████████▉                                                          | 68/200 [00:19<00:55,  2.37epoch/s]"
     ]
    },
    {
     "name": "stdout",
     "output_type": "stream",
     "text": [
      "Pre-training epoch [68/200]. Average ZINB loss:0.3082, kld loss:7.6131, total loss:0.3158\n"
     ]
    },
    {
     "name": "stderr",
     "output_type": "stream",
     "text": [
      "Pre-training::  34%|██████████████████████████████▎                                                         | 69/200 [00:19<00:54,  2.41epoch/s]"
     ]
    },
    {
     "name": "stdout",
     "output_type": "stream",
     "text": [
      "Pre-training epoch [69/200]. Average ZINB loss:0.3089, kld loss:7.4583, total loss:0.3163\n"
     ]
    },
    {
     "name": "stderr",
     "output_type": "stream",
     "text": [
      "Pre-training::  35%|██████████████████████████████▊                                                         | 70/200 [00:19<00:49,  2.62epoch/s]"
     ]
    },
    {
     "name": "stdout",
     "output_type": "stream",
     "text": [
      "Pre-training epoch [70/200]. Average ZINB loss:0.3083, kld loss:7.4006, total loss:0.3157\n"
     ]
    },
    {
     "name": "stderr",
     "output_type": "stream",
     "text": [
      "Pre-training::  36%|███████████████████████████████▏                                                        | 71/200 [00:19<00:42,  3.01epoch/s]"
     ]
    },
    {
     "name": "stdout",
     "output_type": "stream",
     "text": [
      "Pre-training epoch [71/200]. Average ZINB loss:0.3076, kld loss:7.4499, total loss:0.3150\n"
     ]
    },
    {
     "name": "stderr",
     "output_type": "stream",
     "text": [
      "Pre-training::  36%|███████████████████████████████▋                                                        | 72/200 [00:20<00:38,  3.33epoch/s]"
     ]
    },
    {
     "name": "stdout",
     "output_type": "stream",
     "text": [
      "Pre-training epoch [72/200]. Average ZINB loss:0.3084, kld loss:7.2288, total loss:0.3156\n"
     ]
    },
    {
     "name": "stderr",
     "output_type": "stream",
     "text": [
      "Pre-training::  36%|████████████████████████████████                                                        | 73/200 [00:20<00:36,  3.52epoch/s]"
     ]
    },
    {
     "name": "stdout",
     "output_type": "stream",
     "text": [
      "Pre-training epoch [73/200]. Average ZINB loss:0.3078, kld loss:7.3489, total loss:0.3151\n"
     ]
    },
    {
     "name": "stderr",
     "output_type": "stream",
     "text": [
      "Pre-training::  37%|████████████████████████████████▌                                                       | 74/200 [00:20<00:38,  3.28epoch/s]"
     ]
    },
    {
     "name": "stdout",
     "output_type": "stream",
     "text": [
      "Pre-training epoch [74/200]. Average ZINB loss:0.3086, kld loss:7.4587, total loss:0.3161\n"
     ]
    },
    {
     "name": "stderr",
     "output_type": "stream",
     "text": [
      "Pre-training::  38%|█████████████████████████████████                                                       | 75/200 [00:21<00:34,  3.64epoch/s]"
     ]
    },
    {
     "name": "stdout",
     "output_type": "stream",
     "text": [
      "Pre-training epoch [75/200]. Average ZINB loss:0.3082, kld loss:7.3227, total loss:0.3156\n"
     ]
    },
    {
     "name": "stderr",
     "output_type": "stream",
     "text": [
      "Pre-training::  38%|█████████████████████████████████▍                                                      | 76/200 [00:21<00:32,  3.80epoch/s]"
     ]
    },
    {
     "name": "stdout",
     "output_type": "stream",
     "text": [
      "Pre-training epoch [76/200]. Average ZINB loss:0.3078, kld loss:7.3750, total loss:0.3151\n"
     ]
    },
    {
     "name": "stderr",
     "output_type": "stream",
     "text": [
      "Pre-training::  38%|█████████████████████████████████▉                                                      | 77/200 [00:21<00:32,  3.79epoch/s]"
     ]
    },
    {
     "name": "stdout",
     "output_type": "stream",
     "text": [
      "Pre-training epoch [77/200]. Average ZINB loss:0.3077, kld loss:7.4437, total loss:0.3152\n"
     ]
    },
    {
     "name": "stderr",
     "output_type": "stream",
     "text": [
      "Pre-training::  39%|██████████████████████████████████▎                                                     | 78/200 [00:21<00:36,  3.31epoch/s]"
     ]
    },
    {
     "name": "stdout",
     "output_type": "stream",
     "text": [
      "Pre-training epoch [78/200]. Average ZINB loss:0.3074, kld loss:7.3359, total loss:0.3147\n"
     ]
    },
    {
     "name": "stderr",
     "output_type": "stream",
     "text": [
      "Pre-training::  40%|██████████████████████████████████▊                                                     | 79/200 [00:22<00:37,  3.27epoch/s]"
     ]
    },
    {
     "name": "stdout",
     "output_type": "stream",
     "text": [
      "Pre-training epoch [79/200]. Average ZINB loss:0.3071, kld loss:7.2991, total loss:0.3144\n"
     ]
    },
    {
     "name": "stderr",
     "output_type": "stream",
     "text": [
      "Pre-training::  40%|███████████████████████████████████▏                                                    | 80/200 [00:22<00:34,  3.43epoch/s]"
     ]
    },
    {
     "name": "stdout",
     "output_type": "stream",
     "text": [
      "Pre-training epoch [80/200]. Average ZINB loss:0.3074, kld loss:7.2772, total loss:0.3147\n"
     ]
    },
    {
     "name": "stderr",
     "output_type": "stream",
     "text": [
      "Pre-training::  40%|███████████████████████████████████▋                                                    | 81/200 [00:22<00:33,  3.54epoch/s]"
     ]
    },
    {
     "name": "stdout",
     "output_type": "stream",
     "text": [
      "Pre-training epoch [81/200]. Average ZINB loss:0.3064, kld loss:7.2751, total loss:0.3136\n"
     ]
    },
    {
     "name": "stderr",
     "output_type": "stream",
     "text": [
      "Pre-training::  41%|████████████████████████████████████                                                    | 82/200 [00:23<00:36,  3.27epoch/s]"
     ]
    },
    {
     "name": "stdout",
     "output_type": "stream",
     "text": [
      "Pre-training epoch [82/200]. Average ZINB loss:0.3071, kld loss:7.4067, total loss:0.3145\n"
     ]
    },
    {
     "name": "stderr",
     "output_type": "stream",
     "text": [
      "Pre-training::  42%|████████████████████████████████████▌                                                   | 83/200 [00:23<00:37,  3.09epoch/s]"
     ]
    },
    {
     "name": "stdout",
     "output_type": "stream",
     "text": [
      "Pre-training epoch [83/200]. Average ZINB loss:0.3060, kld loss:7.2808, total loss:0.3133\n"
     ]
    },
    {
     "name": "stderr",
     "output_type": "stream",
     "text": [
      "Pre-training::  42%|████████████████████████████████████▉                                                   | 84/200 [00:23<00:44,  2.61epoch/s]"
     ]
    },
    {
     "name": "stdout",
     "output_type": "stream",
     "text": [
      "Pre-training epoch [84/200]. Average ZINB loss:0.3067, kld loss:7.2001, total loss:0.3139\n"
     ]
    },
    {
     "name": "stderr",
     "output_type": "stream",
     "text": [
      "Pre-training::  42%|█████████████████████████████████████▍                                                  | 85/200 [00:24<00:44,  2.61epoch/s]"
     ]
    },
    {
     "name": "stdout",
     "output_type": "stream",
     "text": [
      "Pre-training epoch [85/200]. Average ZINB loss:0.3067, kld loss:7.2974, total loss:0.3140\n"
     ]
    },
    {
     "name": "stderr",
     "output_type": "stream",
     "text": [
      "Pre-training::  43%|█████████████████████████████████████▊                                                  | 86/200 [00:24<00:39,  2.92epoch/s]"
     ]
    },
    {
     "name": "stdout",
     "output_type": "stream",
     "text": [
      "Pre-training epoch [86/200]. Average ZINB loss:0.3067, kld loss:7.3728, total loss:0.3140\n"
     ]
    },
    {
     "name": "stderr",
     "output_type": "stream",
     "text": [
      "Pre-training::  44%|██████████████████████████████████████▎                                                 | 87/200 [00:24<00:38,  2.94epoch/s]"
     ]
    },
    {
     "name": "stdout",
     "output_type": "stream",
     "text": [
      "Pre-training epoch [87/200]. Average ZINB loss:0.3056, kld loss:7.3094, total loss:0.3129\n"
     ]
    },
    {
     "name": "stderr",
     "output_type": "stream",
     "text": [
      "Pre-training::  44%|██████████████████████████████████████▋                                                 | 88/200 [00:25<00:42,  2.65epoch/s]"
     ]
    },
    {
     "name": "stdout",
     "output_type": "stream",
     "text": [
      "Pre-training epoch [88/200]. Average ZINB loss:0.3060, kld loss:7.2036, total loss:0.3132\n"
     ]
    },
    {
     "name": "stderr",
     "output_type": "stream",
     "text": [
      "Pre-training::  44%|███████████████████████████████████████▏                                                | 89/200 [00:25<00:37,  2.94epoch/s]"
     ]
    },
    {
     "name": "stdout",
     "output_type": "stream",
     "text": [
      "Pre-training epoch [89/200]. Average ZINB loss:0.3065, kld loss:7.1997, total loss:0.3137\n"
     ]
    },
    {
     "name": "stderr",
     "output_type": "stream",
     "text": [
      "Pre-training::  45%|███████████████████████████████████████▌                                                | 90/200 [00:25<00:33,  3.29epoch/s]"
     ]
    },
    {
     "name": "stdout",
     "output_type": "stream",
     "text": [
      "Pre-training epoch [90/200]. Average ZINB loss:0.3065, kld loss:7.0995, total loss:0.3136\n"
     ]
    },
    {
     "name": "stderr",
     "output_type": "stream",
     "text": [
      "Pre-training::  46%|████████████████████████████████████████                                                | 91/200 [00:26<00:30,  3.54epoch/s]"
     ]
    },
    {
     "name": "stdout",
     "output_type": "stream",
     "text": [
      "Pre-training epoch [91/200]. Average ZINB loss:0.3059, kld loss:7.0834, total loss:0.3130\n"
     ]
    },
    {
     "name": "stderr",
     "output_type": "stream",
     "text": [
      "Pre-training::  46%|████████████████████████████████████████▍                                               | 92/200 [00:26<00:29,  3.64epoch/s]"
     ]
    },
    {
     "name": "stdout",
     "output_type": "stream",
     "text": [
      "Pre-training epoch [92/200]. Average ZINB loss:0.3061, kld loss:7.1903, total loss:0.3133\n"
     ]
    },
    {
     "name": "stderr",
     "output_type": "stream",
     "text": [
      "Pre-training::  46%|████████████████████████████████████████▉                                               | 93/200 [00:26<00:29,  3.58epoch/s]"
     ]
    },
    {
     "name": "stdout",
     "output_type": "stream",
     "text": [
      "Pre-training epoch [93/200]. Average ZINB loss:0.3052, kld loss:7.2068, total loss:0.3124\n"
     ]
    },
    {
     "name": "stderr",
     "output_type": "stream",
     "text": [
      "Pre-training::  47%|█████████████████████████████████████████▎                                              | 94/200 [00:26<00:30,  3.46epoch/s]"
     ]
    },
    {
     "name": "stdout",
     "output_type": "stream",
     "text": [
      "Pre-training epoch [94/200]. Average ZINB loss:0.3057, kld loss:7.2523, total loss:0.3129\n"
     ]
    },
    {
     "name": "stderr",
     "output_type": "stream",
     "text": [
      "Pre-training::  48%|█████████████████████████████████████████▊                                              | 95/200 [00:27<00:29,  3.51epoch/s]"
     ]
    },
    {
     "name": "stdout",
     "output_type": "stream",
     "text": [
      "Pre-training epoch [95/200]. Average ZINB loss:0.3056, kld loss:7.2695, total loss:0.3129\n"
     ]
    },
    {
     "name": "stderr",
     "output_type": "stream",
     "text": [
      "Pre-training::  48%|██████████████████████████████████████████▋                                             | 97/200 [00:27<00:24,  4.13epoch/s]"
     ]
    },
    {
     "name": "stdout",
     "output_type": "stream",
     "text": [
      "Pre-training epoch [96/200]. Average ZINB loss:0.3051, kld loss:7.1360, total loss:0.3122\n",
      "Pre-training epoch [97/200]. Average ZINB loss:0.3055, kld loss:7.0773, total loss:0.3126\n"
     ]
    },
    {
     "name": "stderr",
     "output_type": "stream",
     "text": [
      "Pre-training::  49%|███████████████████████████████████████████                                             | 98/200 [00:27<00:21,  4.72epoch/s]"
     ]
    },
    {
     "name": "stdout",
     "output_type": "stream",
     "text": [
      "Pre-training epoch [98/200]. Average ZINB loss:0.3053, kld loss:7.0841, total loss:0.3124\n"
     ]
    },
    {
     "name": "stderr",
     "output_type": "stream",
     "text": [
      "Pre-training::  50%|███████████████████████████████████████████▌                                            | 99/200 [00:28<00:25,  3.91epoch/s]"
     ]
    },
    {
     "name": "stdout",
     "output_type": "stream",
     "text": [
      "Pre-training epoch [99/200]. Average ZINB loss:0.3051, kld loss:7.0499, total loss:0.3121\n"
     ]
    },
    {
     "name": "stderr",
     "output_type": "stream",
     "text": [
      "Pre-training::  50%|███████████████████████████████████████████▌                                           | 100/200 [00:28<00:28,  3.48epoch/s]"
     ]
    },
    {
     "name": "stdout",
     "output_type": "stream",
     "text": [
      "Pre-training epoch [100/200]. Average ZINB loss:0.3049, kld loss:7.1331, total loss:0.3120\n"
     ]
    },
    {
     "name": "stderr",
     "output_type": "stream",
     "text": [
      "Pre-training::  50%|███████████████████████████████████████████▉                                           | 101/200 [00:28<00:29,  3.31epoch/s]"
     ]
    },
    {
     "name": "stdout",
     "output_type": "stream",
     "text": [
      "Pre-training epoch [101/200]. Average ZINB loss:0.3044, kld loss:7.1727, total loss:0.3116\n"
     ]
    },
    {
     "name": "stderr",
     "output_type": "stream",
     "text": [
      "Pre-training::  51%|████████████████████████████████████████████▎                                          | 102/200 [00:29<00:28,  3.47epoch/s]"
     ]
    },
    {
     "name": "stdout",
     "output_type": "stream",
     "text": [
      "Pre-training epoch [102/200]. Average ZINB loss:0.3052, kld loss:7.0946, total loss:0.3123\n"
     ]
    },
    {
     "name": "stderr",
     "output_type": "stream",
     "text": [
      "Pre-training::  52%|████████████████████████████████████████████▊                                          | 103/200 [00:29<00:27,  3.57epoch/s]"
     ]
    },
    {
     "name": "stdout",
     "output_type": "stream",
     "text": [
      "Pre-training epoch [103/200]. Average ZINB loss:0.3046, kld loss:7.0423, total loss:0.3117\n"
     ]
    },
    {
     "name": "stderr",
     "output_type": "stream",
     "text": [
      "Pre-training::  52%|█████████████████████████████████████████████▋                                         | 105/200 [00:29<00:23,  4.04epoch/s]"
     ]
    },
    {
     "name": "stdout",
     "output_type": "stream",
     "text": [
      "Pre-training epoch [104/200]. Average ZINB loss:0.3045, kld loss:7.0261, total loss:0.3116\n",
      "Pre-training epoch [105/200]. Average ZINB loss:0.3047, kld loss:7.0295, total loss:0.3117\n"
     ]
    },
    {
     "name": "stderr",
     "output_type": "stream",
     "text": [
      "Pre-training::  54%|██████████████████████████████████████████████▌                                        | 107/200 [00:30<00:17,  5.24epoch/s]"
     ]
    },
    {
     "name": "stdout",
     "output_type": "stream",
     "text": [
      "Pre-training epoch [106/200]. Average ZINB loss:0.3044, kld loss:7.0616, total loss:0.3115\n",
      "Pre-training epoch [107/200]. Average ZINB loss:0.3040, kld loss:6.9029, total loss:0.3109\n"
     ]
    },
    {
     "name": "stderr",
     "output_type": "stream",
     "text": [
      "Pre-training::  54%|██████████████████████████████████████████████▉                                        | 108/200 [00:30<00:18,  4.97epoch/s]"
     ]
    },
    {
     "name": "stdout",
     "output_type": "stream",
     "text": [
      "Pre-training epoch [108/200]. Average ZINB loss:0.3049, kld loss:7.0505, total loss:0.3120\n"
     ]
    },
    {
     "name": "stderr",
     "output_type": "stream",
     "text": [
      "Pre-training::  55%|███████████████████████████████████████████████▊                                       | 110/200 [00:30<00:19,  4.59epoch/s]"
     ]
    },
    {
     "name": "stdout",
     "output_type": "stream",
     "text": [
      "Pre-training epoch [109/200]. Average ZINB loss:0.3042, kld loss:7.2348, total loss:0.3114\n",
      "Pre-training epoch [110/200]. Average ZINB loss:0.3038, kld loss:7.2367, total loss:0.3110\n"
     ]
    },
    {
     "name": "stderr",
     "output_type": "stream",
     "text": [
      "Pre-training::  56%|████████████████████████████████████████████████▋                                      | 112/200 [00:31<00:17,  5.01epoch/s]"
     ]
    },
    {
     "name": "stdout",
     "output_type": "stream",
     "text": [
      "Pre-training epoch [111/200]. Average ZINB loss:0.3048, kld loss:7.1424, total loss:0.3120\n",
      "Pre-training epoch [112/200]. Average ZINB loss:0.3036, kld loss:7.0299, total loss:0.3106\n"
     ]
    },
    {
     "name": "stderr",
     "output_type": "stream",
     "text": [
      "Pre-training::  56%|█████████████████████████████████████████████████▏                                     | 113/200 [00:31<00:16,  5.40epoch/s]"
     ]
    },
    {
     "name": "stdout",
     "output_type": "stream",
     "text": [
      "Pre-training epoch [113/200]. Average ZINB loss:0.3039, kld loss:7.0435, total loss:0.3109\n"
     ]
    },
    {
     "name": "stderr",
     "output_type": "stream",
     "text": [
      "Pre-training::  57%|█████████████████████████████████████████████████▌                                     | 114/200 [00:31<00:20,  4.24epoch/s]"
     ]
    },
    {
     "name": "stdout",
     "output_type": "stream",
     "text": [
      "Pre-training epoch [114/200]. Average ZINB loss:0.3034, kld loss:7.0299, total loss:0.3104\n"
     ]
    },
    {
     "name": "stderr",
     "output_type": "stream",
     "text": [
      "Pre-training::  58%|██████████████████████████████████████████████████▍                                    | 116/200 [00:32<00:18,  4.58epoch/s]"
     ]
    },
    {
     "name": "stdout",
     "output_type": "stream",
     "text": [
      "Pre-training epoch [115/200]. Average ZINB loss:0.3040, kld loss:7.0521, total loss:0.3110\n",
      "Pre-training epoch [116/200]. Average ZINB loss:0.3037, kld loss:7.0699, total loss:0.3107\n"
     ]
    },
    {
     "name": "stderr",
     "output_type": "stream",
     "text": [
      "Pre-training::  58%|██████████████████████████████████████████████████▉                                    | 117/200 [00:32<00:16,  5.01epoch/s]"
     ]
    },
    {
     "name": "stdout",
     "output_type": "stream",
     "text": [
      "Pre-training epoch [117/200]. Average ZINB loss:0.3040, kld loss:7.0776, total loss:0.3110\n"
     ]
    },
    {
     "name": "stderr",
     "output_type": "stream",
     "text": [
      "Pre-training::  59%|███████████████████████████████████████████████████▎                                   | 118/200 [00:32<00:16,  4.86epoch/s]"
     ]
    },
    {
     "name": "stdout",
     "output_type": "stream",
     "text": [
      "Pre-training epoch [118/200]. Average ZINB loss:0.3039, kld loss:7.1999, total loss:0.3111\n"
     ]
    },
    {
     "name": "stderr",
     "output_type": "stream",
     "text": [
      "Pre-training::  60%|███████████████████████████████████████████████████▊                                   | 119/200 [00:32<00:19,  4.06epoch/s]"
     ]
    },
    {
     "name": "stdout",
     "output_type": "stream",
     "text": [
      "Pre-training epoch [119/200]. Average ZINB loss:0.3034, kld loss:7.0363, total loss:0.3104\n"
     ]
    },
    {
     "name": "stderr",
     "output_type": "stream",
     "text": [
      "Pre-training::  60%|████████████████████████████████████████████████████▋                                  | 121/200 [00:33<00:19,  3.95epoch/s]"
     ]
    },
    {
     "name": "stdout",
     "output_type": "stream",
     "text": [
      "Pre-training epoch [120/200]. Average ZINB loss:0.3031, kld loss:6.9833, total loss:0.3101\n",
      "Pre-training epoch [121/200]. Average ZINB loss:0.3033, kld loss:7.0847, total loss:0.3104\n"
     ]
    },
    {
     "name": "stderr",
     "output_type": "stream",
     "text": [
      "Pre-training::  61%|█████████████████████████████████████████████████████                                  | 122/200 [00:33<00:16,  4.61epoch/s]"
     ]
    },
    {
     "name": "stdout",
     "output_type": "stream",
     "text": [
      "Pre-training epoch [122/200]. Average ZINB loss:0.3030, kld loss:7.0371, total loss:0.3100\n"
     ]
    },
    {
     "name": "stderr",
     "output_type": "stream",
     "text": [
      "Pre-training::  62%|█████████████████████████████████████████████████████▉                                 | 124/200 [00:33<00:16,  4.73epoch/s]"
     ]
    },
    {
     "name": "stdout",
     "output_type": "stream",
     "text": [
      "Pre-training epoch [123/200]. Average ZINB loss:0.3032, kld loss:7.0113, total loss:0.3102\n",
      "Pre-training epoch [124/200]. Average ZINB loss:0.3027, kld loss:6.9878, total loss:0.3097\n"
     ]
    },
    {
     "name": "stderr",
     "output_type": "stream",
     "text": [
      "Pre-training::  62%|██████████████████████████████████████████████████████▍                                | 125/200 [00:34<00:18,  4.05epoch/s]"
     ]
    },
    {
     "name": "stdout",
     "output_type": "stream",
     "text": [
      "Pre-training epoch [125/200]. Average ZINB loss:0.3033, kld loss:6.9457, total loss:0.3103\n"
     ]
    },
    {
     "name": "stderr",
     "output_type": "stream",
     "text": [
      "Pre-training::  63%|██████████████████████████████████████████████████████▊                                | 126/200 [00:34<00:22,  3.29epoch/s]"
     ]
    },
    {
     "name": "stdout",
     "output_type": "stream",
     "text": [
      "Pre-training epoch [126/200]. Average ZINB loss:0.3028, kld loss:6.9848, total loss:0.3098\n"
     ]
    },
    {
     "name": "stderr",
     "output_type": "stream",
     "text": [
      "Pre-training::  64%|███████████████████████████████████████████████████████▋                               | 128/200 [00:35<00:19,  3.68epoch/s]"
     ]
    },
    {
     "name": "stdout",
     "output_type": "stream",
     "text": [
      "Pre-training epoch [127/200]. Average ZINB loss:0.3032, kld loss:7.0104, total loss:0.3102\n",
      "Pre-training epoch [128/200]. Average ZINB loss:0.3026, kld loss:6.9924, total loss:0.3096\n"
     ]
    },
    {
     "name": "stderr",
     "output_type": "stream",
     "text": [
      "Pre-training::  65%|████████████████████████████████████████████████████████▌                              | 130/200 [00:35<00:14,  4.88epoch/s]"
     ]
    },
    {
     "name": "stdout",
     "output_type": "stream",
     "text": [
      "Pre-training epoch [129/200]. Average ZINB loss:0.3028, kld loss:7.1175, total loss:0.3100\n",
      "Pre-training epoch [130/200]. Average ZINB loss:0.3023, kld loss:7.1084, total loss:0.3094\n"
     ]
    },
    {
     "name": "stderr",
     "output_type": "stream",
     "text": [
      "Pre-training::  66%|█████████████████████████████████████████████████████████▍                             | 132/200 [00:35<00:12,  5.33epoch/s]"
     ]
    },
    {
     "name": "stdout",
     "output_type": "stream",
     "text": [
      "Pre-training epoch [131/200]. Average ZINB loss:0.3024, kld loss:7.0709, total loss:0.3094\n",
      "Pre-training epoch [132/200]. Average ZINB loss:0.3020, kld loss:7.0019, total loss:0.3090\n"
     ]
    },
    {
     "name": "stderr",
     "output_type": "stream",
     "text": [
      "Pre-training::  67%|██████████████████████████████████████████████████████████▎                            | 134/200 [00:36<00:10,  6.21epoch/s]"
     ]
    },
    {
     "name": "stdout",
     "output_type": "stream",
     "text": [
      "Pre-training epoch [133/200]. Average ZINB loss:0.3022, kld loss:7.0522, total loss:0.3092\n",
      "Pre-training epoch [134/200]. Average ZINB loss:0.3024, kld loss:7.0818, total loss:0.3095\n"
     ]
    },
    {
     "name": "stderr",
     "output_type": "stream",
     "text": [
      "Pre-training::  68%|███████████████████████████████████████████████████████████▏                           | 136/200 [00:36<00:09,  6.54epoch/s]"
     ]
    },
    {
     "name": "stdout",
     "output_type": "stream",
     "text": [
      "Pre-training epoch [135/200]. Average ZINB loss:0.3018, kld loss:7.0247, total loss:0.3088\n",
      "Pre-training epoch [136/200]. Average ZINB loss:0.3023, kld loss:7.0982, total loss:0.3094\n"
     ]
    },
    {
     "name": "stderr",
     "output_type": "stream",
     "text": [
      "Pre-training::  69%|████████████████████████████████████████████████████████████                           | 138/200 [00:36<00:08,  6.96epoch/s]"
     ]
    },
    {
     "name": "stdout",
     "output_type": "stream",
     "text": [
      "Pre-training epoch [137/200]. Average ZINB loss:0.3021, kld loss:7.0143, total loss:0.3091\n",
      "Pre-training epoch [138/200]. Average ZINB loss:0.3026, kld loss:7.0001, total loss:0.3096\n"
     ]
    },
    {
     "name": "stderr",
     "output_type": "stream",
     "text": [
      "Pre-training::  70%|████████████████████████████████████████████████████████████▉                          | 140/200 [00:37<00:09,  6.36epoch/s]"
     ]
    },
    {
     "name": "stdout",
     "output_type": "stream",
     "text": [
      "Pre-training epoch [139/200]. Average ZINB loss:0.3021, kld loss:6.9778, total loss:0.3090\n",
      "Pre-training epoch [140/200]. Average ZINB loss:0.3023, kld loss:6.9820, total loss:0.3093\n"
     ]
    },
    {
     "name": "stderr",
     "output_type": "stream",
     "text": [
      "Pre-training::  71%|█████████████████████████████████████████████████████████████▊                         | 142/200 [00:37<00:13,  4.44epoch/s]"
     ]
    },
    {
     "name": "stdout",
     "output_type": "stream",
     "text": [
      "Pre-training epoch [141/200]. Average ZINB loss:0.3020, kld loss:7.0098, total loss:0.3090\n",
      "Pre-training epoch [142/200]. Average ZINB loss:0.3014, kld loss:7.0428, total loss:0.3085\n"
     ]
    },
    {
     "name": "stderr",
     "output_type": "stream",
     "text": [
      "Pre-training::  72%|██████████████████████████████████████████████████████████████▋                        | 144/200 [00:38<00:11,  5.03epoch/s]"
     ]
    },
    {
     "name": "stdout",
     "output_type": "stream",
     "text": [
      "Pre-training epoch [143/200]. Average ZINB loss:0.3018, kld loss:6.9536, total loss:0.3088\n",
      "Pre-training epoch [144/200]. Average ZINB loss:0.3025, kld loss:6.9004, total loss:0.3094\n"
     ]
    },
    {
     "name": "stderr",
     "output_type": "stream",
     "text": [
      "Pre-training::  73%|███████████████████████████████████████████████████████████████▌                       | 146/200 [00:38<00:10,  5.39epoch/s]"
     ]
    },
    {
     "name": "stdout",
     "output_type": "stream",
     "text": [
      "Pre-training epoch [145/200]. Average ZINB loss:0.3012, kld loss:6.9801, total loss:0.3082\n",
      "Pre-training epoch [146/200]. Average ZINB loss:0.3017, kld loss:7.0643, total loss:0.3088\n"
     ]
    },
    {
     "name": "stderr",
     "output_type": "stream",
     "text": [
      "Pre-training::  74%|████████████████████████████████████████████████████████████████▍                      | 148/200 [00:38<00:09,  5.60epoch/s]"
     ]
    },
    {
     "name": "stdout",
     "output_type": "stream",
     "text": [
      "Pre-training epoch [147/200]. Average ZINB loss:0.3013, kld loss:7.1781, total loss:0.3085\n",
      "Pre-training epoch [148/200]. Average ZINB loss:0.3010, kld loss:7.1692, total loss:0.3082\n"
     ]
    },
    {
     "name": "stderr",
     "output_type": "stream",
     "text": [
      "Pre-training::  74%|████████████████████████████████████████████████████████████████▊                      | 149/200 [00:38<00:08,  5.96epoch/s]"
     ]
    },
    {
     "name": "stdout",
     "output_type": "stream",
     "text": [
      "Pre-training epoch [149/200]. Average ZINB loss:0.3005, kld loss:7.1158, total loss:0.3076\n"
     ]
    },
    {
     "name": "stderr",
     "output_type": "stream",
     "text": [
      "Pre-training::  75%|█████████████████████████████████████████████████████████████████▎                     | 150/200 [00:39<00:09,  5.03epoch/s]"
     ]
    },
    {
     "name": "stdout",
     "output_type": "stream",
     "text": [
      "Pre-training epoch [150/200]. Average ZINB loss:0.3009, kld loss:7.1748, total loss:0.3081\n"
     ]
    },
    {
     "name": "stderr",
     "output_type": "stream",
     "text": [
      "Pre-training::  76%|██████████████████████████████████████████████████████████████████                     | 152/200 [00:39<00:10,  4.62epoch/s]"
     ]
    },
    {
     "name": "stdout",
     "output_type": "stream",
     "text": [
      "Pre-training epoch [151/200]. Average ZINB loss:0.3017, kld loss:7.1672, total loss:0.3089\n",
      "Pre-training epoch [152/200]. Average ZINB loss:0.3012, kld loss:7.1307, total loss:0.3084\n"
     ]
    },
    {
     "name": "stderr",
     "output_type": "stream",
     "text": [
      "Pre-training::  76%|██████████████████████████████████████████████████████████████████▌                    | 153/200 [00:39<00:09,  5.05epoch/s]"
     ]
    },
    {
     "name": "stdout",
     "output_type": "stream",
     "text": [
      "Pre-training epoch [153/200]. Average ZINB loss:0.3006, kld loss:7.0310, total loss:0.3077\n"
     ]
    },
    {
     "name": "stderr",
     "output_type": "stream",
     "text": [
      "Pre-training::  77%|██████████████████████████████████████████████████████████████████▉                    | 154/200 [00:39<00:09,  5.00epoch/s]"
     ]
    },
    {
     "name": "stdout",
     "output_type": "stream",
     "text": [
      "Pre-training epoch [154/200]. Average ZINB loss:0.3005, kld loss:7.0668, total loss:0.3076\n"
     ]
    },
    {
     "name": "stderr",
     "output_type": "stream",
     "text": [
      "Pre-training::  78%|███████████████████████████████████████████████████████████████████▍                   | 155/200 [00:40<00:10,  4.29epoch/s]"
     ]
    },
    {
     "name": "stdout",
     "output_type": "stream",
     "text": [
      "Pre-training epoch [155/200]. Average ZINB loss:0.3007, kld loss:7.0818, total loss:0.3078\n"
     ]
    },
    {
     "name": "stderr",
     "output_type": "stream",
     "text": [
      "Pre-training::  78%|███████████████████████████████████████████████████████████████████▊                   | 156/200 [00:40<00:10,  4.22epoch/s]"
     ]
    },
    {
     "name": "stdout",
     "output_type": "stream",
     "text": [
      "Pre-training epoch [156/200]. Average ZINB loss:0.3012, kld loss:7.1482, total loss:0.3083\n"
     ]
    },
    {
     "name": "stderr",
     "output_type": "stream",
     "text": [
      "Pre-training::  78%|████████████████████████████████████████████████████████████████████▎                  | 157/200 [00:40<00:10,  3.96epoch/s]"
     ]
    },
    {
     "name": "stdout",
     "output_type": "stream",
     "text": [
      "Pre-training epoch [157/200]. Average ZINB loss:0.3004, kld loss:7.1457, total loss:0.3075\n"
     ]
    },
    {
     "name": "stderr",
     "output_type": "stream",
     "text": [
      "Pre-training::  79%|████████████████████████████████████████████████████████████████████▋                  | 158/200 [00:41<00:11,  3.76epoch/s]"
     ]
    },
    {
     "name": "stdout",
     "output_type": "stream",
     "text": [
      "Pre-training epoch [158/200]. Average ZINB loss:0.3006, kld loss:7.0946, total loss:0.3077\n"
     ]
    },
    {
     "name": "stderr",
     "output_type": "stream",
     "text": [
      "Pre-training::  80%|█████████████████████████████████████████████████████████████████████▏                 | 159/200 [00:41<00:10,  3.74epoch/s]"
     ]
    },
    {
     "name": "stdout",
     "output_type": "stream",
     "text": [
      "Pre-training epoch [159/200]. Average ZINB loss:0.3005, kld loss:7.1233, total loss:0.3076\n"
     ]
    },
    {
     "name": "stderr",
     "output_type": "stream",
     "text": [
      "Pre-training::  80%|█████████████████████████████████████████████████████████████████████▌                 | 160/200 [00:41<00:09,  4.03epoch/s]"
     ]
    },
    {
     "name": "stdout",
     "output_type": "stream",
     "text": [
      "Pre-training epoch [160/200]. Average ZINB loss:0.2999, kld loss:7.1907, total loss:0.3071\n"
     ]
    },
    {
     "name": "stderr",
     "output_type": "stream",
     "text": [
      "Pre-training::  80%|██████████████████████████████████████████████████████████████████████                 | 161/200 [00:41<00:10,  3.81epoch/s]"
     ]
    },
    {
     "name": "stdout",
     "output_type": "stream",
     "text": [
      "Pre-training epoch [161/200]. Average ZINB loss:0.3003, kld loss:7.2494, total loss:0.3076\n"
     ]
    },
    {
     "name": "stderr",
     "output_type": "stream",
     "text": [
      "Pre-training::  81%|██████████████████████████████████████████████████████████████████████▍                | 162/200 [00:42<00:10,  3.66epoch/s]"
     ]
    },
    {
     "name": "stdout",
     "output_type": "stream",
     "text": [
      "Pre-training epoch [162/200]. Average ZINB loss:0.3009, kld loss:7.1869, total loss:0.3081\n"
     ]
    },
    {
     "name": "stderr",
     "output_type": "stream",
     "text": [
      "Pre-training::  82%|██████████████████████████████████████████████████████████████████████▉                | 163/200 [00:42<00:09,  3.93epoch/s]"
     ]
    },
    {
     "name": "stdout",
     "output_type": "stream",
     "text": [
      "Pre-training epoch [163/200]. Average ZINB loss:0.2999, kld loss:7.1460, total loss:0.3070\n"
     ]
    },
    {
     "name": "stderr",
     "output_type": "stream",
     "text": [
      "Pre-training::  82%|███████████████████████████████████████████████████████████████████████▎               | 164/200 [00:42<00:08,  4.02epoch/s]"
     ]
    },
    {
     "name": "stdout",
     "output_type": "stream",
     "text": [
      "Pre-training epoch [164/200]. Average ZINB loss:0.3003, kld loss:7.0930, total loss:0.3074\n"
     ]
    },
    {
     "name": "stderr",
     "output_type": "stream",
     "text": [
      "Pre-training::  82%|███████████████████████████████████████████████████████████████████████▊               | 165/200 [00:42<00:09,  3.57epoch/s]"
     ]
    },
    {
     "name": "stdout",
     "output_type": "stream",
     "text": [
      "Pre-training epoch [165/200]. Average ZINB loss:0.2998, kld loss:7.1807, total loss:0.3070\n"
     ]
    },
    {
     "name": "stderr",
     "output_type": "stream",
     "text": [
      "Pre-training::  83%|████████████████████████████████████████████████████████████████████████▏              | 166/200 [00:43<00:10,  3.26epoch/s]"
     ]
    },
    {
     "name": "stdout",
     "output_type": "stream",
     "text": [
      "Pre-training epoch [166/200]. Average ZINB loss:0.2998, kld loss:7.3034, total loss:0.3071\n"
     ]
    },
    {
     "name": "stderr",
     "output_type": "stream",
     "text": [
      "Pre-training::  84%|█████████████████████████████████████████████████████████████████████████              | 168/200 [00:43<00:08,  3.82epoch/s]"
     ]
    },
    {
     "name": "stdout",
     "output_type": "stream",
     "text": [
      "Pre-training epoch [167/200]. Average ZINB loss:0.2997, kld loss:7.3108, total loss:0.3070\n",
      "Pre-training epoch [168/200]. Average ZINB loss:0.3002, kld loss:7.3133, total loss:0.3076\n"
     ]
    },
    {
     "name": "stderr",
     "output_type": "stream",
     "text": [
      "Pre-training::  85%|█████████████████████████████████████████████████████████████████████████▉             | 170/200 [00:44<00:05,  5.20epoch/s]"
     ]
    },
    {
     "name": "stdout",
     "output_type": "stream",
     "text": [
      "Pre-training epoch [169/200]. Average ZINB loss:0.2994, kld loss:7.2857, total loss:0.3067\n",
      "Pre-training epoch [170/200]. Average ZINB loss:0.3002, kld loss:7.3639, total loss:0.3075\n"
     ]
    },
    {
     "name": "stderr",
     "output_type": "stream",
     "text": [
      "Pre-training::  86%|██████████████████████████████████████████████████████████████████████████▊            | 172/200 [00:44<00:04,  6.26epoch/s]"
     ]
    },
    {
     "name": "stdout",
     "output_type": "stream",
     "text": [
      "Pre-training epoch [171/200]. Average ZINB loss:0.2997, kld loss:7.2282, total loss:0.3069\n",
      "Pre-training epoch [172/200]. Average ZINB loss:0.2996, kld loss:7.2921, total loss:0.3069\n"
     ]
    },
    {
     "name": "stderr",
     "output_type": "stream",
     "text": [
      "Pre-training::  87%|███████████████████████████████████████████████████████████████████████████▋           | 174/200 [00:44<00:04,  5.31epoch/s]"
     ]
    },
    {
     "name": "stdout",
     "output_type": "stream",
     "text": [
      "Pre-training epoch [173/200]. Average ZINB loss:0.2999, kld loss:7.3223, total loss:0.3072\n",
      "Pre-training epoch [174/200]. Average ZINB loss:0.2989, kld loss:7.2283, total loss:0.3062\n"
     ]
    },
    {
     "name": "stderr",
     "output_type": "stream",
     "text": [
      "Pre-training::  88%|████████████████████████████████████████████████████████████████████████████▏          | 175/200 [00:45<00:05,  4.22epoch/s]"
     ]
    },
    {
     "name": "stdout",
     "output_type": "stream",
     "text": [
      "Pre-training epoch [175/200]. Average ZINB loss:0.3000, kld loss:7.3920, total loss:0.3074\n"
     ]
    },
    {
     "name": "stderr",
     "output_type": "stream",
     "text": [
      "Pre-training::  88%|████████████████████████████████████████████████████████████████████████████▌          | 176/200 [00:45<00:06,  3.80epoch/s]"
     ]
    },
    {
     "name": "stdout",
     "output_type": "stream",
     "text": [
      "Pre-training epoch [176/200]. Average ZINB loss:0.2988, kld loss:7.4044, total loss:0.3062\n"
     ]
    },
    {
     "name": "stderr",
     "output_type": "stream",
     "text": [
      "Pre-training::  88%|████████████████████████████████████████████████████████████████████████████▉          | 177/200 [00:45<00:06,  3.70epoch/s]"
     ]
    },
    {
     "name": "stdout",
     "output_type": "stream",
     "text": [
      "Pre-training epoch [177/200]. Average ZINB loss:0.2996, kld loss:7.4545, total loss:0.3071\n"
     ]
    },
    {
     "name": "stderr",
     "output_type": "stream",
     "text": [
      "Pre-training::  89%|█████████████████████████████████████████████████████████████████████████████▍         | 178/200 [00:46<00:07,  3.09epoch/s]"
     ]
    },
    {
     "name": "stdout",
     "output_type": "stream",
     "text": [
      "Pre-training epoch [178/200]. Average ZINB loss:0.2990, kld loss:7.4764, total loss:0.3065\n"
     ]
    },
    {
     "name": "stderr",
     "output_type": "stream",
     "text": [
      "Pre-training::  90%|█████████████████████████████████████████████████████████████████████████████▊         | 179/200 [00:46<00:07,  2.93epoch/s]"
     ]
    },
    {
     "name": "stdout",
     "output_type": "stream",
     "text": [
      "Pre-training epoch [179/200]. Average ZINB loss:0.2996, kld loss:7.5108, total loss:0.3071\n"
     ]
    },
    {
     "name": "stderr",
     "output_type": "stream",
     "text": [
      "Pre-training::  90%|██████████████████████████████████████████████████████████████████████████████▎        | 180/200 [00:46<00:06,  3.08epoch/s]"
     ]
    },
    {
     "name": "stdout",
     "output_type": "stream",
     "text": [
      "Pre-training epoch [180/200]. Average ZINB loss:0.2992, kld loss:7.4192, total loss:0.3066\n"
     ]
    },
    {
     "name": "stderr",
     "output_type": "stream",
     "text": [
      "Pre-training::  91%|███████████████████████████████████████████████████████████████████████████████▏       | 182/200 [00:47<00:05,  3.60epoch/s]"
     ]
    },
    {
     "name": "stdout",
     "output_type": "stream",
     "text": [
      "Pre-training epoch [181/200]. Average ZINB loss:0.2988, kld loss:7.3491, total loss:0.3061\n",
      "Pre-training epoch [182/200]. Average ZINB loss:0.2993, kld loss:7.4088, total loss:0.3067\n"
     ]
    },
    {
     "name": "stderr",
     "output_type": "stream",
     "text": [
      "Pre-training::  92%|███████████████████████████████████████████████████████████████████████████████▌       | 183/200 [00:47<00:04,  3.68epoch/s]"
     ]
    },
    {
     "name": "stdout",
     "output_type": "stream",
     "text": [
      "Pre-training epoch [183/200]. Average ZINB loss:0.2993, kld loss:7.4309, total loss:0.3068\n"
     ]
    },
    {
     "name": "stderr",
     "output_type": "stream",
     "text": [
      "Pre-training::  92%|████████████████████████████████████████████████████████████████████████████████       | 184/200 [00:47<00:04,  3.90epoch/s]"
     ]
    },
    {
     "name": "stdout",
     "output_type": "stream",
     "text": [
      "Pre-training epoch [184/200]. Average ZINB loss:0.2991, kld loss:7.4514, total loss:0.3066\n"
     ]
    },
    {
     "name": "stderr",
     "output_type": "stream",
     "text": [
      "Pre-training::  92%|████████████████████████████████████████████████████████████████████████████████▍      | 185/200 [00:48<00:04,  3.61epoch/s]"
     ]
    },
    {
     "name": "stdout",
     "output_type": "stream",
     "text": [
      "Pre-training epoch [185/200]. Average ZINB loss:0.2990, kld loss:7.4663, total loss:0.3065\n"
     ]
    },
    {
     "name": "stderr",
     "output_type": "stream",
     "text": [
      "Pre-training::  93%|████████████████████████████████████████████████████████████████████████████████▉      | 186/200 [00:48<00:04,  2.89epoch/s]"
     ]
    },
    {
     "name": "stdout",
     "output_type": "stream",
     "text": [
      "Pre-training epoch [186/200]. Average ZINB loss:0.2983, kld loss:7.5220, total loss:0.3058\n"
     ]
    },
    {
     "name": "stderr",
     "output_type": "stream",
     "text": [
      "Pre-training::  94%|█████████████████████████████████████████████████████████████████████████████████▎     | 187/200 [00:49<00:05,  2.51epoch/s]"
     ]
    },
    {
     "name": "stdout",
     "output_type": "stream",
     "text": [
      "Pre-training epoch [187/200]. Average ZINB loss:0.2988, kld loss:7.6487, total loss:0.3064\n"
     ]
    },
    {
     "name": "stderr",
     "output_type": "stream",
     "text": [
      "Pre-training::  94%|█████████████████████████████████████████████████████████████████████████████████▊     | 188/200 [00:49<00:04,  2.77epoch/s]"
     ]
    },
    {
     "name": "stdout",
     "output_type": "stream",
     "text": [
      "Pre-training epoch [188/200]. Average ZINB loss:0.2981, kld loss:7.6235, total loss:0.3057\n"
     ]
    },
    {
     "name": "stderr",
     "output_type": "stream",
     "text": [
      "Pre-training::  94%|██████████████████████████████████████████████████████████████████████████████████▏    | 189/200 [00:49<00:03,  3.13epoch/s]"
     ]
    },
    {
     "name": "stdout",
     "output_type": "stream",
     "text": [
      "Pre-training epoch [189/200]. Average ZINB loss:0.2984, kld loss:7.5464, total loss:0.3059\n"
     ]
    },
    {
     "name": "stderr",
     "output_type": "stream",
     "text": [
      "Pre-training::  96%|███████████████████████████████████████████████████████████████████████████████████    | 191/200 [00:50<00:02,  3.87epoch/s]"
     ]
    },
    {
     "name": "stdout",
     "output_type": "stream",
     "text": [
      "Pre-training epoch [190/200]. Average ZINB loss:0.2980, kld loss:7.5490, total loss:0.3056\n",
      "Pre-training epoch [191/200]. Average ZINB loss:0.2985, kld loss:7.6333, total loss:0.3062\n"
     ]
    },
    {
     "name": "stderr",
     "output_type": "stream",
     "text": [
      "Pre-training::  96%|███████████████████████████████████████████████████████████████████████████████████▌   | 192/200 [00:50<00:02,  3.20epoch/s]"
     ]
    },
    {
     "name": "stdout",
     "output_type": "stream",
     "text": [
      "Pre-training epoch [192/200]. Average ZINB loss:0.2986, kld loss:7.6770, total loss:0.3062\n"
     ]
    },
    {
     "name": "stderr",
     "output_type": "stream",
     "text": [
      "Pre-training::  96%|███████████████████████████████████████████████████████████████████████████████████▉   | 193/200 [00:50<00:02,  2.71epoch/s]"
     ]
    },
    {
     "name": "stdout",
     "output_type": "stream",
     "text": [
      "Pre-training epoch [193/200]. Average ZINB loss:0.2981, kld loss:7.6605, total loss:0.3058\n"
     ]
    },
    {
     "name": "stderr",
     "output_type": "stream",
     "text": [
      "Pre-training::  97%|████████████████████████████████████████████████████████████████████████████████████▍  | 194/200 [00:51<00:02,  2.80epoch/s]"
     ]
    },
    {
     "name": "stdout",
     "output_type": "stream",
     "text": [
      "Pre-training epoch [194/200]. Average ZINB loss:0.2977, kld loss:7.5407, total loss:0.3052\n"
     ]
    },
    {
     "name": "stderr",
     "output_type": "stream",
     "text": [
      "Pre-training::  98%|████████████████████████████████████████████████████████████████████████████████████▊  | 195/200 [00:51<00:01,  3.17epoch/s]"
     ]
    },
    {
     "name": "stdout",
     "output_type": "stream",
     "text": [
      "Pre-training epoch [195/200]. Average ZINB loss:0.2984, kld loss:7.6147, total loss:0.3060\n"
     ]
    },
    {
     "name": "stderr",
     "output_type": "stream",
     "text": [
      "Pre-training::  98%|█████████████████████████████████████████████████████████████████████████████████████▎ | 196/200 [00:52<00:01,  2.74epoch/s]"
     ]
    },
    {
     "name": "stdout",
     "output_type": "stream",
     "text": [
      "Pre-training epoch [196/200]. Average ZINB loss:0.2983, kld loss:7.6670, total loss:0.3060\n"
     ]
    },
    {
     "name": "stderr",
     "output_type": "stream",
     "text": [
      "Pre-training::  98%|█████████████████████████████████████████████████████████████████████████████████████▋ | 197/200 [00:52<00:01,  2.72epoch/s]"
     ]
    },
    {
     "name": "stdout",
     "output_type": "stream",
     "text": [
      "Pre-training epoch [197/200]. Average ZINB loss:0.2986, kld loss:7.7066, total loss:0.3063\n"
     ]
    },
    {
     "name": "stderr",
     "output_type": "stream",
     "text": [
      "Pre-training::  99%|██████████████████████████████████████████████████████████████████████████████████████▏| 198/200 [00:52<00:00,  2.88epoch/s]"
     ]
    },
    {
     "name": "stdout",
     "output_type": "stream",
     "text": [
      "Pre-training epoch [198/200]. Average ZINB loss:0.2981, kld loss:7.7331, total loss:0.3058\n"
     ]
    },
    {
     "name": "stderr",
     "output_type": "stream",
     "text": [
      "Pre-training:: 100%|██████████████████████████████████████████████████████████████████████████████████████▌| 199/200 [00:53<00:00,  2.75epoch/s]"
     ]
    },
    {
     "name": "stdout",
     "output_type": "stream",
     "text": [
      "Pre-training epoch [199/200]. Average ZINB loss:0.2974, kld loss:7.6922, total loss:0.3051\n"
     ]
    },
    {
     "name": "stderr",
     "output_type": "stream",
     "text": [
      "Pre-training:: 100%|███████████████████████████████████████████████████████████████████████████████████████| 200/200 [00:53<00:00,  3.74epoch/s]"
     ]
    },
    {
     "name": "stdout",
     "output_type": "stream",
     "text": [
      "Pre-training epoch [200/200]. Average ZINB loss:0.2975, kld loss:7.7158, total loss:0.3052\n",
      "Finish pre-training!\n",
      "Perform initial clustering through Leiden with resolution = 2\n"
     ]
    },
    {
     "name": "stderr",
     "output_type": "stream",
     "text": [
      "\n",
      "2023-04-23 13:17:07.186343: I tensorflow/core/platform/cpu_feature_guard.cc:193] This TensorFlow binary is optimized with oneAPI Deep Neural Network Library (oneDNN) to use the following CPU instructions in performance-critical operations:  AVX2 AVX512F AVX512_VNNI FMA\n",
      "To enable them in other operations, rebuild TensorFlow with the appropriate compiler flags.\n",
      "2023-04-23 13:17:08.062128: I tensorflow/core/util/port.cc:104] oneDNN custom operations are on. You may see slightly different numerical results due to floating-point round-off errors from different computation orders. To turn them off, set the environment variable `TF_ENABLE_ONEDNN_OPTS=0`.\n",
      "2023-04-23 13:17:15.411662: W tensorflow/compiler/xla/stream_executor/platform/default/dso_loader.cc:64] Could not load dynamic library 'libnvinfer.so.7'; dlerror: libnvinfer.so.7: cannot open shared object file: No such file or directory; LD_LIBRARY_PATH: /home/software/cuda/lib64:/home/tea_lihongwei/anaconda3/lib:\n",
      "2023-04-23 13:17:15.417596: W tensorflow/compiler/xla/stream_executor/platform/default/dso_loader.cc:64] Could not load dynamic library 'libnvinfer_plugin.so.7'; dlerror: libnvinfer_plugin.so.7: cannot open shared object file: No such file or directory; LD_LIBRARY_PATH: /home/software/cuda/lib64:/home/tea_lihongwei/anaconda3/lib:\n",
      "2023-04-23 13:17:15.417613: W tensorflow/compiler/tf2tensorrt/utils/py_utils.cc:38] TF-TRT Warning: Cannot dlopen some TensorRT libraries. If you would like to use Nvidia GPU with TensorRT, please make sure the missing libraries mentioned above are installed properly.\n"
     ]
    },
    {
     "name": "stdout",
     "output_type": "stream",
     "text": [
      "Finish initial clustering! Number of initial clusters is 17\n",
      "Initial Clustering: NMI= 0.6331, ARI= 0.2544\n",
      "Start training! Total epochs is 500.\n"
     ]
    },
    {
     "name": "stderr",
     "output_type": "stream",
     "text": [
      "Training::   0%|                                                                                                     | 0/500 [00:00<?, ?epoch/s]"
     ]
    },
    {
     "name": "stdout",
     "output_type": "stream",
     "text": [
      "Train epoch [1/500]. ZINB loss:0.2976, kld loss:8.4611, cluster loss:0.3959, total loss:0.7781\n"
     ]
    },
    {
     "name": "stderr",
     "output_type": "stream",
     "text": [
      "Training::   0%|▏                                                                                            | 1/500 [00:00<05:42,  1.46epoch/s]"
     ]
    },
    {
     "name": "stdout",
     "output_type": "stream",
     "text": [
      "Clustering   1: NMI= 0.6349, ARI= 0.2505, Delta=0.1426\n",
      "Train epoch [2/500]. ZINB loss:0.2977, kld loss:10.3575, cluster loss:0.4235, total loss:0.8248\n"
     ]
    },
    {
     "name": "stderr",
     "output_type": "stream",
     "text": [
      "Training::   0%|▎                                                                                            | 2/500 [00:01<05:55,  1.40epoch/s]"
     ]
    },
    {
     "name": "stdout",
     "output_type": "stream",
     "text": [
      "Clustering   2: NMI= 0.6377, ARI= 0.2563, Delta=0.0817\n",
      "Reach tolerance threshold. Perform cluster merging.\n",
      "-----------------iter: 1-----------------\n",
      "n_clusters: 16\n",
      "count_true: 120\n",
      "count: 85\n",
      "-----------------iter: 2-----------------\n",
      "n_clusters: 15\n",
      "count_true: 105\n",
      "count: 77\n",
      "-----------------iter: 3-----------------\n",
      "n_clusters: 14\n",
      "count_true: 91\n",
      "count: 70\n",
      "-----------------iter: 4-----------------\n",
      "n_clusters: 13\n",
      "count_true: 78\n",
      "count: 62\n",
      "-----------------iter: 5-----------------\n",
      "n_clusters: 12\n",
      "count_true: 66\n",
      "count: 54\n",
      "-----------------iter: 6-----------------\n",
      "n_clusters: 11\n",
      "count_true: 55\n",
      "count: 46\n",
      "-----------------iter: 7-----------------\n",
      "n_clusters: 10\n",
      "count_true: 45\n",
      "count: 39\n",
      "-----------------iter: 8-----------------\n",
      "n_clusters: 9\n",
      "count_true: 36\n",
      "count: 33\n",
      "-----------------iter: 9-----------------\n",
      "n_clusters: 8\n",
      "count_true: 28\n",
      "count: 26\n",
      "-----------------iter: 10-----------------\n",
      "n_clusters: 7\n",
      "count_true: 21\n",
      "count: 20\n",
      "-----------------iter: 11-----------------\n",
      "n_clusters: 6\n",
      "count_true: 15\n",
      "count: 15\n",
      "Reach count!\n",
      "Train epoch [3/500]. ZINB loss:0.2977, kld loss:12.7244, cluster loss:0.5121, total loss:0.9370\n"
     ]
    },
    {
     "name": "stderr",
     "output_type": "stream",
     "text": [
      "Training::   1%|▌                                                                                            | 3/500 [00:02<06:36,  1.25epoch/s]"
     ]
    },
    {
     "name": "stdout",
     "output_type": "stream",
     "text": [
      "Clustering   3: NMI= 0.8704, ARI= 0.6968, Delta=0.0478\n",
      "Train epoch [4/500]. ZINB loss:0.2976, kld loss:16.3607, cluster loss:0.4773, total loss:0.9385\n"
     ]
    },
    {
     "name": "stderr",
     "output_type": "stream",
     "text": [
      "Training::   1%|▋                                                                                            | 4/500 [00:03<06:24,  1.29epoch/s]"
     ]
    },
    {
     "name": "stdout",
     "output_type": "stream",
     "text": [
      "Clustering   4: NMI= 0.8756, ARI= 0.7087, Delta=0.5678\n",
      "Reach tolerance threshold. Perform cluster merging.\n",
      "-----------------iter: 1-----------------\n",
      "n_clusters: 5\n",
      "count_true: 10\n",
      "count: 10\n",
      "Reach count!\n",
      "Train epoch [5/500]. ZINB loss:0.2969, kld loss:19.0193, cluster loss:0.4285, total loss:0.9156\n"
     ]
    },
    {
     "name": "stderr",
     "output_type": "stream",
     "text": [
      "Training::   1%|▉                                                                                            | 5/500 [00:03<06:00,  1.37epoch/s]"
     ]
    },
    {
     "name": "stdout",
     "output_type": "stream",
     "text": [
      "Clustering   5: NMI= 0.9922, ARI= 0.9953, Delta=0.0122\n",
      "Train epoch [6/500]. ZINB loss:0.2961, kld loss:22.2173, cluster loss:0.3868, total loss:0.9050\n"
     ]
    },
    {
     "name": "stderr",
     "output_type": "stream",
     "text": [
      "Training::   1%|█                                                                                            | 6/500 [00:04<05:35,  1.47epoch/s]"
     ]
    },
    {
     "name": "stdout",
     "output_type": "stream",
     "text": [
      "Clustering   6: NMI= 1.0000, ARI= 1.0000, Delta=0.2922\n",
      "Reach tolerance threshold. Perform cluster merging.\n",
      "-----------------iter: 1-----------------\n",
      "n_clusters: 5\n",
      "count_true: 10\n",
      "count: 10\n",
      "Reach count!\n",
      "Stop merging clusters! Continue updating several rounds.\n",
      "Train epoch [7/500]. ZINB loss:0.2958, kld loss:24.0903, cluster loss:0.3606, total loss:0.8973\n"
     ]
    },
    {
     "name": "stderr",
     "output_type": "stream",
     "text": [
      "Training::   1%|█▎                                                                                           | 7/500 [00:05<05:52,  1.40epoch/s]"
     ]
    },
    {
     "name": "stdout",
     "output_type": "stream",
     "text": [
      "Clustering   7: NMI= 1.0000, ARI= 1.0000, Delta=0.0017\n",
      "Reach tolerance threshold. Stopping training.\n",
      "Total time: 101.26904726028442 seconds\n"
     ]
    },
    {
     "name": "stderr",
     "output_type": "stream",
     "text": [
      "\n"
     ]
    }
   ],
   "source": [
    "adata, nmi, ari, K, pred_all, emb_all, run_time = run_scace(adata, cl_type='celltype', return_all=True)"
   ]
  },
  {
   "cell_type": "code",
   "execution_count": 9,
   "id": "209ae2fb-f12c-4c8d-8e0d-06efcf142284",
   "metadata": {},
   "outputs": [
    {
     "name": "stdout",
     "output_type": "stream",
     "text": [
      "ARI = 1.0, NMI = 1.0\n"
     ]
    }
   ],
   "source": [
    "print(\"ARI = {}, NMI = {}\".format(ari, nmi))"
   ]
  },
  {
   "cell_type": "markdown",
   "id": "a3dcfb30-8f1a-497b-af48-80cb49607e69",
   "metadata": {},
   "source": [
    "## Visualization"
   ]
  },
  {
   "cell_type": "markdown",
   "id": "c8d9707d-7116-4845-950f-1edf3a792758",
   "metadata": {},
   "source": [
    "### Show final clustering results"
   ]
  },
  {
   "cell_type": "code",
   "execution_count": 10,
   "id": "5f5adba8-8302-4d17-b69b-847f0a1458ca",
   "metadata": {},
   "outputs": [],
   "source": [
    "# Use embedding `scace_emb` to perfrom U-map\n",
    "sc.pp.neighbors(adata, use_rep='scace_emb')\n",
    "sc.tl.umap(adata)"
   ]
  },
  {
   "cell_type": "code",
   "execution_count": 11,
   "id": "bdae8cae-de94-4850-939a-a168cb66b92c",
   "metadata": {},
   "outputs": [
    {
     "data": {
      "image/png": "[encoded data removed]",
      "text/plain": [
       "<Figure size 1455.6x480 with 2 Axes>"
      ]
     },
     "metadata": {},
     "output_type": "display_data"
    }
   ],
   "source": [
    "adata.obs['celltype'] = adata.obs['celltype'].astype(int).astype('category')\n",
    "adata.obs['scace_cluster'] = adata.obs['scace_cluster'].astype(int).astype('category')\n",
    "sc.pl.umap(adata, color=['scace_cluster', 'celltype'])"
   ]
  },
  {
   "cell_type": "markdown",
   "id": "3a013601-4ba0-4c08-a12d-5f1d98a3dbfb",
   "metadata": {},
   "source": [
    "### Show initial clustering results"
   ]
  },
  {
   "cell_type": "code",
   "execution_count": 12,
   "id": "6f11c1d9-b5de-4edf-89ed-2752e468094a",
   "metadata": {},
   "outputs": [],
   "source": [
    "# emb_all[0] is the embedding after pre-training\n",
    "# pred_all[0] is the initial clustering result after pre-training\n",
    "\n",
    "adata_tmp = sc.AnnData(emb_all[0])\n",
    "adata_tmp.obs['celltype'] = adata.obs['celltype']\n",
    "adata_tmp.obs['scace_cluster'] = pred_all[0]\n",
    "adata_tmp.obs['scace_cluster'] = adata_tmp.obs['scace_cluster'].astype(int).astype('category')"
   ]
  },
  {
   "cell_type": "code",
   "execution_count": 13,
   "id": "8537767d-2024-4e57-8075-b688d5f07ec1",
   "metadata": {},
   "outputs": [
    {
     "data": {
      "image/png": "[encoded data removed]",
      "text/plain": [
       "<Figure size 1455.6x480 with 2 Axes>"
      ]
     },
     "metadata": {},
     "output_type": "display_data"
    }
   ],
   "source": [
    "sc.pp.neighbors(adata_tmp)\n",
    "sc.tl.umap(adata_tmp)\n",
    "sc.pl.umap(adata_tmp, color=['scace_cluster', 'celltype'])"
   ]
  },
  {
   "cell_type": "markdown",
   "id": "5d210d6c-fd65-465a-9e39-8f5b9be801a3",
   "metadata": {},
   "source": [
    "### Show clustering results before and after cluster merging"
   ]
  },
  {
   "cell_type": "markdown",
   "id": "3f0cafaa-b15f-484f-ad2e-51f74124c20e",
   "metadata": {},
   "source": [
    "For the first time"
   ]
  },
  {
   "cell_type": "code",
   "execution_count": 14,
   "id": "16433e0c-84df-4337-8d34-53b5c0d63a98",
   "metadata": {},
   "outputs": [],
   "source": [
    "# emb_all[1] is the embedding of the first cluster merging.\n",
    "# pred_all[1] is the all clustering results from the first cluster merging, where\n",
    "# pred_all[1][0] is the clustering result before cluster merging, and\n",
    "# pred_all[1][0] is the clustering result after cluster merging.\n",
    "\n",
    "adata_tmp = sc.AnnData(emb_all[1])\n",
    "adata_tmp.obs['celltype'] = adata.obs['celltype']\n",
    "adata_tmp.obs['scace_before'], adata_tmp.obs['scace_after'] = pred_all[1][0], pred_all[1][-1]\n",
    "adata_tmp.obs['scace_before'] = adata_tmp.obs['scace_before'].astype(int).astype('category')\n",
    "adata_tmp.obs['scace_after'] = adata_tmp.obs['scace_after'].astype(int).astype('category')"
   ]
  },
  {
   "cell_type": "code",
   "execution_count": 15,
   "id": "80a703ff-b5b5-4a6d-835e-f79fa14a9e4d",
   "metadata": {},
   "outputs": [
    {
     "data": {
      "image/png": "[encoded data removed]",
      "text/plain": [
       "<Figure size 2183.4x480 with 3 Axes>"
      ]
     },
     "metadata": {},
     "output_type": "display_data"
    }
   ],
   "source": [
    "sc.pp.neighbors(adata_tmp)\n",
    "sc.tl.umap(adata_tmp)\n",
    "sc.pl.umap(adata_tmp, color=['scace_before', 'scace_after', 'celltype'])"
   ]
  },
  {
   "cell_type": "markdown",
   "id": "95c3df83-b46e-4310-9539-814537a1051b",
   "metadata": {},
   "source": [
    "For the final time"
   ]
  },
  {
   "cell_type": "code",
   "execution_count": 16,
   "id": "dcc635aa-0104-4100-b00d-b131983075a6",
   "metadata": {},
   "outputs": [],
   "source": [
    "adata_tmp = sc.AnnData(emb_all[-2])\n",
    "adata_tmp.obs['celltype'] = adata.obs['celltype']\n",
    "adata_tmp.obs['scace_before'], adata_tmp.obs['scace_after'] = pred_all[2][0], pred_all[2][-1]\n",
    "adata_tmp.obs['scace_before'] = adata_tmp.obs['scace_before'].astype(int).astype('category')\n",
    "adata_tmp.obs['scace_after'] = adata_tmp.obs['scace_after'].astype(int).astype('category')"
   ]
  },
  {
   "cell_type": "code",
   "execution_count": 17,
   "id": "4f3698fe-e561-4c4f-9390-d825ffcfba53",
   "metadata": {},
   "outputs": [
    {
     "data": {
      "image/png": "[encoded data removed]",
      "text/plain": [
       "<Figure size 2183.4x480 with 3 Axes>"
      ]
     },
     "metadata": {},
     "output_type": "display_data"
    }
   ],
   "source": [
    "sc.pp.neighbors(adata_tmp)\n",
    "sc.tl.umap(adata_tmp)\n",
    "sc.pl.umap(adata_tmp, color=['scace_before', 'scace_after', 'celltype'])"
   ]
  },
  {
   "cell_type": "code",
   "execution_count": null,
   "id": "f492cf36-c2b0-42f9-9348-70a53efc47c0",
   "metadata": {},
   "outputs": [],
   "source": []
  }
 ],
 "metadata": {
  "kernelspec": {
   "display_name": "Python 3 (ipykernel)",
   "language": "python",
   "name": "python3"
  },
  "language_info": {
   "codemirror_mode": {
    "name": "ipython",
    "version": 3
   },
   "file_extension": ".py",
   "mimetype": "text/x-python",
   "name": "python",
   "nbconvert_exporter": "python",
   "pygments_lexer": "ipython3",
   "version": "3.8.16"
  }
 },
 "nbformat": 4,
 "nbformat_minor": 5
}
